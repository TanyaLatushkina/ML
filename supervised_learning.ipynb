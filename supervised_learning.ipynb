{
 "cells": [
  {
   "cell_type": "markdown",
   "metadata": {
    "toc": true
   },
   "source": [
    "<h1>Содержание<span class=\"tocSkip\"></span></h1>\n",
    "<div class=\"toc\"><ul class=\"toc-item\"><li><span><a href=\"#Подготовка-данных\" data-toc-modified-id=\"Подготовка-данных-1\"><span class=\"toc-item-num\">1&nbsp;&nbsp;</span>Подготовка данных</a></span><ul class=\"toc-item\"><li><span><a href=\"#Удаляем-лишние-столбцы\" data-toc-modified-id=\"Удаляем-лишние-столбцы-1.1\"><span class=\"toc-item-num\">1.1&nbsp;&nbsp;</span>Удаляем лишние столбцы</a></span></li><li><span><a href=\"#Меняем-название-колонок\" data-toc-modified-id=\"Меняем-название-колонок-1.2\"><span class=\"toc-item-num\">1.2&nbsp;&nbsp;</span>Меняем название колонок</a></span></li><li><span><a href=\"#Уберем-пропуска-в-данных\" data-toc-modified-id=\"Уберем-пропуска-в-данных-1.3\"><span class=\"toc-item-num\">1.3&nbsp;&nbsp;</span>Уберем пропуска в данных</a></span></li></ul></li><li><span><a href=\"#Исследование-задачи\" data-toc-modified-id=\"Исследование-задачи-2\"><span class=\"toc-item-num\">2&nbsp;&nbsp;</span>Исследование задачи</a></span><ul class=\"toc-item\"><li><span><a href=\"#Разделим-выборку-на-обучающую,-валидационную-и-тестовую\" data-toc-modified-id=\"Разделим-выборку-на-обучающую,-валидационную-и-тестовую-2.1\"><span class=\"toc-item-num\">2.1&nbsp;&nbsp;</span>Разделим выборку на обучающую, валидационную и тестовую</a></span></li><li><span><a href=\"#Делаем-кодирование-признаков-OHE\" data-toc-modified-id=\"Делаем-кодирование-признаков-OHE-2.2\"><span class=\"toc-item-num\">2.2&nbsp;&nbsp;</span>Делаем кодирование признаков OHE</a></span></li><li><span><a href=\"#Масштабируем-числовые-признаки\" data-toc-modified-id=\"Масштабируем-числовые-признаки-2.3\"><span class=\"toc-item-num\">2.3&nbsp;&nbsp;</span>Масштабируем числовые признаки</a></span></li><li><span><a href=\"#Изучим-баланс-классов\" data-toc-modified-id=\"Изучим-баланс-классов-2.4\"><span class=\"toc-item-num\">2.4&nbsp;&nbsp;</span>Изучим баланс классов</a></span></li><li><span><a href=\"#Изучены-модели-без-учёта-дисбаланса\" data-toc-modified-id=\"Изучены-модели-без-учёта-дисбаланса-2.5\"><span class=\"toc-item-num\">2.5&nbsp;&nbsp;</span>Изучены модели без учёта дисбаланса</a></span><ul class=\"toc-item\"><li><span><a href=\"#Модель-Decision-Tree\" data-toc-modified-id=\"Модель-Decision-Tree-2.5.1\"><span class=\"toc-item-num\">2.5.1&nbsp;&nbsp;</span>Модель Decision Tree</a></span></li><li><span><a href=\"#Модель-Logistic-Regression\" data-toc-modified-id=\"Модель-Logistic-Regression-2.5.2\"><span class=\"toc-item-num\">2.5.2&nbsp;&nbsp;</span>Модель Logistic Regression</a></span></li><li><span><a href=\"#Модель-Random-Forest\" data-toc-modified-id=\"Модель-Random-Forest-2.5.3\"><span class=\"toc-item-num\">2.5.3&nbsp;&nbsp;</span>Модель Random Forest</a></span></li></ul></li></ul></li><li><span><a href=\"#Борьба-с-дисбалансом\" data-toc-modified-id=\"Борьба-с-дисбалансом-3\"><span class=\"toc-item-num\">3&nbsp;&nbsp;</span>Борьба с дисбалансом</a></span><ul class=\"toc-item\"><li><span><a href=\"#Взвешивание-классов\" data-toc-modified-id=\"Взвешивание-классов-3.1\"><span class=\"toc-item-num\">3.1&nbsp;&nbsp;</span>Взвешивание классов</a></span><ul class=\"toc-item\"><li><span><a href=\"#Decision-Tree\" data-toc-modified-id=\"Decision-Tree-3.1.1\"><span class=\"toc-item-num\">3.1.1&nbsp;&nbsp;</span>Decision Tree</a></span></li><li><span><a href=\"#Logistic-Regression\" data-toc-modified-id=\"Logistic-Regression-3.1.2\"><span class=\"toc-item-num\">3.1.2&nbsp;&nbsp;</span>Logistic Regression</a></span></li><li><span><a href=\"#Random-Forest\" data-toc-modified-id=\"Random-Forest-3.1.3\"><span class=\"toc-item-num\">3.1.3&nbsp;&nbsp;</span>Random Forest</a></span></li></ul></li><li><span><a href=\"#Увеличим-выборку\" data-toc-modified-id=\"Увеличим-выборку-3.2\"><span class=\"toc-item-num\">3.2&nbsp;&nbsp;</span>Увеличим выборку</a></span><ul class=\"toc-item\"><li><span><a href=\"#Decision-Tree\" data-toc-modified-id=\"Decision-Tree-3.2.1\"><span class=\"toc-item-num\">3.2.1&nbsp;&nbsp;</span>Decision Tree</a></span></li><li><span><a href=\"#Logistic-Regression\" data-toc-modified-id=\"Logistic-Regression-3.2.2\"><span class=\"toc-item-num\">3.2.2&nbsp;&nbsp;</span>Logistic Regression</a></span></li><li><span><a href=\"#Random-Forest\" data-toc-modified-id=\"Random-Forest-3.2.3\"><span class=\"toc-item-num\">3.2.3&nbsp;&nbsp;</span>Random Forest</a></span></li></ul></li><li><span><a href=\"#Уменьшаем-выборку-(downsample)\" data-toc-modified-id=\"Уменьшаем-выборку-(downsample)-3.3\"><span class=\"toc-item-num\">3.3&nbsp;&nbsp;</span>Уменьшаем выборку (downsample)</a></span><ul class=\"toc-item\"><li><span><a href=\"#Decision-Tree\" data-toc-modified-id=\"Decision-Tree-3.3.1\"><span class=\"toc-item-num\">3.3.1&nbsp;&nbsp;</span>Decision Tree</a></span></li><li><span><a href=\"#Logistic-Regression\" data-toc-modified-id=\"Logistic-Regression-3.3.2\"><span class=\"toc-item-num\">3.3.2&nbsp;&nbsp;</span>Logistic Regression</a></span></li><li><span><a href=\"#Модель-Random-Forest\" data-toc-modified-id=\"Модель-Random-Forest-3.3.3\"><span class=\"toc-item-num\">3.3.3&nbsp;&nbsp;</span>Модель Random Forest</a></span></li></ul></li><li><span><a href=\"#Соберем-все-параметры-F1-вместе\" data-toc-modified-id=\"Соберем-все-параметры-F1-вместе-3.4\"><span class=\"toc-item-num\">3.4&nbsp;&nbsp;</span>Соберем все параметры F1 вместе</a></span></li></ul></li><li><span><a href=\"#Тестирование-модели\" data-toc-modified-id=\"Тестирование-модели-4\"><span class=\"toc-item-num\">4&nbsp;&nbsp;</span>Тестирование модели</a></span></li><li><span><a href=\"#Вывод\" data-toc-modified-id=\"Вывод-5\"><span class=\"toc-item-num\">5&nbsp;&nbsp;</span>Вывод</a></span></li></ul></div>"
   ]
  },
  {
   "cell_type": "markdown",
   "metadata": {},
   "source": [
    "# Отток клиентов"
   ]
  },
  {
   "cell_type": "markdown",
   "metadata": {},
   "source": [
    "Из «Бета-Банка» стали уходить клиенты. Каждый месяц. Немного, но заметно. Банковские маркетологи посчитали: сохранять текущих клиентов дешевле, чем привлекать новых.\n",
    "\n",
    "Нужно спрогнозировать, уйдёт клиент из банка в ближайшее время или нет. Вам предоставлены исторические данные о поведении клиентов и расторжении договоров с банком. \n",
    "\n",
    "Постройте модель с предельно большим значением *F1*-меры. Чтобы сдать проект успешно, нужно довести метрику до 0.59. Проверьте *F1*-меру на тестовой выборке самостоятельно.\n",
    "\n",
    "Дополнительно измеряйте *AUC-ROC*, сравнивайте её значение с *F1*-мерой.\n",
    "\n",
    "Источник данных: [https://www.kaggle.com/barelydedicated/bank-customer-churn-modeling](https://www.kaggle.com/barelydedicated/bank-customer-churn-modeling)"
   ]
  },
  {
   "cell_type": "code",
   "execution_count": 1,
   "metadata": {},
   "outputs": [],
   "source": [
    "import pandas as pd\n",
    "from sklearn.model_selection import train_test_split\n",
    "from sklearn.tree import DecisionTreeClassifier\n",
    "from sklearn.ensemble import RandomForestClassifier\n",
    "from sklearn.linear_model import LogisticRegression\n",
    "from sklearn.preprocessing import StandardScaler, OneHotEncoder\n",
    "from sklearn.metrics import f1_score, roc_auc_score, roc_curve\n",
    "from sklearn.utils import shuffle\n",
    "import matplotlib.pyplot as plt\n",
    "import sklearn as skl\n",
    "#from ydata_profiling import ProfileReport\n",
    "import warnings\n",
    "warnings.simplefilter(\"ignore\")"
   ]
  },
  {
   "cell_type": "markdown",
   "metadata": {},
   "source": [
    "## Подготовка данных"
   ]
  },
  {
   "cell_type": "code",
   "execution_count": 2,
   "metadata": {},
   "outputs": [],
   "source": [
    "data = pd.read_csv('/Users/tanya/Documents/DS/Projects/supervised_learning/ML/Churn.csv')"
   ]
  },
  {
   "cell_type": "code",
   "execution_count": 3,
   "metadata": {},
   "outputs": [
    {
     "data": {
      "text/html": [
       "<div>\n",
       "<style scoped>\n",
       "    .dataframe tbody tr th:only-of-type {\n",
       "        vertical-align: middle;\n",
       "    }\n",
       "\n",
       "    .dataframe tbody tr th {\n",
       "        vertical-align: top;\n",
       "    }\n",
       "\n",
       "    .dataframe thead th {\n",
       "        text-align: right;\n",
       "    }\n",
       "</style>\n",
       "<table border=\"1\" class=\"dataframe\">\n",
       "  <thead>\n",
       "    <tr style=\"text-align: right;\">\n",
       "      <th></th>\n",
       "      <th>RowNumber</th>\n",
       "      <th>CustomerId</th>\n",
       "      <th>Surname</th>\n",
       "      <th>CreditScore</th>\n",
       "      <th>Geography</th>\n",
       "      <th>Gender</th>\n",
       "      <th>Age</th>\n",
       "      <th>Tenure</th>\n",
       "      <th>Balance</th>\n",
       "      <th>NumOfProducts</th>\n",
       "      <th>HasCrCard</th>\n",
       "      <th>IsActiveMember</th>\n",
       "      <th>EstimatedSalary</th>\n",
       "      <th>Exited</th>\n",
       "    </tr>\n",
       "  </thead>\n",
       "  <tbody>\n",
       "    <tr>\n",
       "      <th>0</th>\n",
       "      <td>1</td>\n",
       "      <td>15634602</td>\n",
       "      <td>Hargrave</td>\n",
       "      <td>619</td>\n",
       "      <td>France</td>\n",
       "      <td>Female</td>\n",
       "      <td>42</td>\n",
       "      <td>2.0</td>\n",
       "      <td>0.00</td>\n",
       "      <td>1</td>\n",
       "      <td>1</td>\n",
       "      <td>1</td>\n",
       "      <td>101348.88</td>\n",
       "      <td>1</td>\n",
       "    </tr>\n",
       "    <tr>\n",
       "      <th>1</th>\n",
       "      <td>2</td>\n",
       "      <td>15647311</td>\n",
       "      <td>Hill</td>\n",
       "      <td>608</td>\n",
       "      <td>Spain</td>\n",
       "      <td>Female</td>\n",
       "      <td>41</td>\n",
       "      <td>1.0</td>\n",
       "      <td>83807.86</td>\n",
       "      <td>1</td>\n",
       "      <td>0</td>\n",
       "      <td>1</td>\n",
       "      <td>112542.58</td>\n",
       "      <td>0</td>\n",
       "    </tr>\n",
       "    <tr>\n",
       "      <th>2</th>\n",
       "      <td>3</td>\n",
       "      <td>15619304</td>\n",
       "      <td>Onio</td>\n",
       "      <td>502</td>\n",
       "      <td>France</td>\n",
       "      <td>Female</td>\n",
       "      <td>42</td>\n",
       "      <td>8.0</td>\n",
       "      <td>159660.80</td>\n",
       "      <td>3</td>\n",
       "      <td>1</td>\n",
       "      <td>0</td>\n",
       "      <td>113931.57</td>\n",
       "      <td>1</td>\n",
       "    </tr>\n",
       "    <tr>\n",
       "      <th>3</th>\n",
       "      <td>4</td>\n",
       "      <td>15701354</td>\n",
       "      <td>Boni</td>\n",
       "      <td>699</td>\n",
       "      <td>France</td>\n",
       "      <td>Female</td>\n",
       "      <td>39</td>\n",
       "      <td>1.0</td>\n",
       "      <td>0.00</td>\n",
       "      <td>2</td>\n",
       "      <td>0</td>\n",
       "      <td>0</td>\n",
       "      <td>93826.63</td>\n",
       "      <td>0</td>\n",
       "    </tr>\n",
       "    <tr>\n",
       "      <th>4</th>\n",
       "      <td>5</td>\n",
       "      <td>15737888</td>\n",
       "      <td>Mitchell</td>\n",
       "      <td>850</td>\n",
       "      <td>Spain</td>\n",
       "      <td>Female</td>\n",
       "      <td>43</td>\n",
       "      <td>2.0</td>\n",
       "      <td>125510.82</td>\n",
       "      <td>1</td>\n",
       "      <td>1</td>\n",
       "      <td>1</td>\n",
       "      <td>79084.10</td>\n",
       "      <td>0</td>\n",
       "    </tr>\n",
       "    <tr>\n",
       "      <th>5</th>\n",
       "      <td>6</td>\n",
       "      <td>15574012</td>\n",
       "      <td>Chu</td>\n",
       "      <td>645</td>\n",
       "      <td>Spain</td>\n",
       "      <td>Male</td>\n",
       "      <td>44</td>\n",
       "      <td>8.0</td>\n",
       "      <td>113755.78</td>\n",
       "      <td>2</td>\n",
       "      <td>1</td>\n",
       "      <td>0</td>\n",
       "      <td>149756.71</td>\n",
       "      <td>1</td>\n",
       "    </tr>\n",
       "    <tr>\n",
       "      <th>6</th>\n",
       "      <td>7</td>\n",
       "      <td>15592531</td>\n",
       "      <td>Bartlett</td>\n",
       "      <td>822</td>\n",
       "      <td>France</td>\n",
       "      <td>Male</td>\n",
       "      <td>50</td>\n",
       "      <td>7.0</td>\n",
       "      <td>0.00</td>\n",
       "      <td>2</td>\n",
       "      <td>1</td>\n",
       "      <td>1</td>\n",
       "      <td>10062.80</td>\n",
       "      <td>0</td>\n",
       "    </tr>\n",
       "    <tr>\n",
       "      <th>7</th>\n",
       "      <td>8</td>\n",
       "      <td>15656148</td>\n",
       "      <td>Obinna</td>\n",
       "      <td>376</td>\n",
       "      <td>Germany</td>\n",
       "      <td>Female</td>\n",
       "      <td>29</td>\n",
       "      <td>4.0</td>\n",
       "      <td>115046.74</td>\n",
       "      <td>4</td>\n",
       "      <td>1</td>\n",
       "      <td>0</td>\n",
       "      <td>119346.88</td>\n",
       "      <td>1</td>\n",
       "    </tr>\n",
       "    <tr>\n",
       "      <th>8</th>\n",
       "      <td>9</td>\n",
       "      <td>15792365</td>\n",
       "      <td>He</td>\n",
       "      <td>501</td>\n",
       "      <td>France</td>\n",
       "      <td>Male</td>\n",
       "      <td>44</td>\n",
       "      <td>4.0</td>\n",
       "      <td>142051.07</td>\n",
       "      <td>2</td>\n",
       "      <td>0</td>\n",
       "      <td>1</td>\n",
       "      <td>74940.50</td>\n",
       "      <td>0</td>\n",
       "    </tr>\n",
       "    <tr>\n",
       "      <th>9</th>\n",
       "      <td>10</td>\n",
       "      <td>15592389</td>\n",
       "      <td>H?</td>\n",
       "      <td>684</td>\n",
       "      <td>France</td>\n",
       "      <td>Male</td>\n",
       "      <td>27</td>\n",
       "      <td>2.0</td>\n",
       "      <td>134603.88</td>\n",
       "      <td>1</td>\n",
       "      <td>1</td>\n",
       "      <td>1</td>\n",
       "      <td>71725.73</td>\n",
       "      <td>0</td>\n",
       "    </tr>\n",
       "  </tbody>\n",
       "</table>\n",
       "</div>"
      ],
      "text/plain": [
       "   RowNumber  CustomerId   Surname  CreditScore Geography  Gender  Age  \\\n",
       "0          1    15634602  Hargrave          619    France  Female   42   \n",
       "1          2    15647311      Hill          608     Spain  Female   41   \n",
       "2          3    15619304      Onio          502    France  Female   42   \n",
       "3          4    15701354      Boni          699    France  Female   39   \n",
       "4          5    15737888  Mitchell          850     Spain  Female   43   \n",
       "5          6    15574012       Chu          645     Spain    Male   44   \n",
       "6          7    15592531  Bartlett          822    France    Male   50   \n",
       "7          8    15656148    Obinna          376   Germany  Female   29   \n",
       "8          9    15792365        He          501    France    Male   44   \n",
       "9         10    15592389        H?          684    France    Male   27   \n",
       "\n",
       "   Tenure    Balance  NumOfProducts  HasCrCard  IsActiveMember  \\\n",
       "0     2.0       0.00              1          1               1   \n",
       "1     1.0   83807.86              1          0               1   \n",
       "2     8.0  159660.80              3          1               0   \n",
       "3     1.0       0.00              2          0               0   \n",
       "4     2.0  125510.82              1          1               1   \n",
       "5     8.0  113755.78              2          1               0   \n",
       "6     7.0       0.00              2          1               1   \n",
       "7     4.0  115046.74              4          1               0   \n",
       "8     4.0  142051.07              2          0               1   \n",
       "9     2.0  134603.88              1          1               1   \n",
       "\n",
       "   EstimatedSalary  Exited  \n",
       "0        101348.88       1  \n",
       "1        112542.58       0  \n",
       "2        113931.57       1  \n",
       "3         93826.63       0  \n",
       "4         79084.10       0  \n",
       "5        149756.71       1  \n",
       "6         10062.80       0  \n",
       "7        119346.88       1  \n",
       "8         74940.50       0  \n",
       "9         71725.73       0  "
      ]
     },
     "execution_count": 3,
     "metadata": {},
     "output_type": "execute_result"
    }
   ],
   "source": [
    "# посмотрим на первые 10 срок датафрейма\n",
    "data.head(10)"
   ]
  },
  {
   "cell_type": "code",
   "execution_count": 4,
   "metadata": {},
   "outputs": [],
   "source": [
    "# создадим копию датафрейма\n",
    "temp = data.copy()"
   ]
  },
  {
   "cell_type": "code",
   "execution_count": 5,
   "metadata": {},
   "outputs": [
    {
     "name": "stdout",
     "output_type": "stream",
     "text": [
      "<class 'pandas.core.frame.DataFrame'>\n",
      "RangeIndex: 10000 entries, 0 to 9999\n",
      "Data columns (total 14 columns):\n",
      " #   Column           Non-Null Count  Dtype  \n",
      "---  ------           --------------  -----  \n",
      " 0   RowNumber        10000 non-null  int64  \n",
      " 1   CustomerId       10000 non-null  int64  \n",
      " 2   Surname          10000 non-null  object \n",
      " 3   CreditScore      10000 non-null  int64  \n",
      " 4   Geography        10000 non-null  object \n",
      " 5   Gender           10000 non-null  object \n",
      " 6   Age              10000 non-null  int64  \n",
      " 7   Tenure           9091 non-null   float64\n",
      " 8   Balance          10000 non-null  float64\n",
      " 9   NumOfProducts    10000 non-null  int64  \n",
      " 10  HasCrCard        10000 non-null  int64  \n",
      " 11  IsActiveMember   10000 non-null  int64  \n",
      " 12  EstimatedSalary  10000 non-null  float64\n",
      " 13  Exited           10000 non-null  int64  \n",
      "dtypes: float64(3), int64(8), object(3)\n",
      "memory usage: 1.1+ MB\n"
     ]
    }
   ],
   "source": [
    "# изучим общую информацию\n",
    "data.info()"
   ]
  },
  {
   "cell_type": "code",
   "execution_count": 6,
   "metadata": {
    "scrolled": true
   },
   "outputs": [
    {
     "data": {
      "text/html": [
       "<div>\n",
       "<style scoped>\n",
       "    .dataframe tbody tr th:only-of-type {\n",
       "        vertical-align: middle;\n",
       "    }\n",
       "\n",
       "    .dataframe tbody tr th {\n",
       "        vertical-align: top;\n",
       "    }\n",
       "\n",
       "    .dataframe thead th {\n",
       "        text-align: right;\n",
       "    }\n",
       "</style>\n",
       "<table border=\"1\" class=\"dataframe\">\n",
       "  <thead>\n",
       "    <tr style=\"text-align: right;\">\n",
       "      <th></th>\n",
       "      <th>RowNumber</th>\n",
       "      <th>CustomerId</th>\n",
       "      <th>Surname</th>\n",
       "      <th>CreditScore</th>\n",
       "      <th>Geography</th>\n",
       "      <th>Gender</th>\n",
       "      <th>Age</th>\n",
       "      <th>Tenure</th>\n",
       "      <th>Balance</th>\n",
       "      <th>NumOfProducts</th>\n",
       "      <th>HasCrCard</th>\n",
       "      <th>IsActiveMember</th>\n",
       "      <th>EstimatedSalary</th>\n",
       "      <th>Exited</th>\n",
       "    </tr>\n",
       "  </thead>\n",
       "  <tbody>\n",
       "    <tr>\n",
       "      <th>30</th>\n",
       "      <td>31</td>\n",
       "      <td>15589475</td>\n",
       "      <td>Azikiwe</td>\n",
       "      <td>591</td>\n",
       "      <td>Spain</td>\n",
       "      <td>Female</td>\n",
       "      <td>39</td>\n",
       "      <td>NaN</td>\n",
       "      <td>0.00</td>\n",
       "      <td>3</td>\n",
       "      <td>1</td>\n",
       "      <td>0</td>\n",
       "      <td>140469.38</td>\n",
       "      <td>1</td>\n",
       "    </tr>\n",
       "    <tr>\n",
       "      <th>48</th>\n",
       "      <td>49</td>\n",
       "      <td>15766205</td>\n",
       "      <td>Yin</td>\n",
       "      <td>550</td>\n",
       "      <td>Germany</td>\n",
       "      <td>Male</td>\n",
       "      <td>38</td>\n",
       "      <td>NaN</td>\n",
       "      <td>103391.38</td>\n",
       "      <td>1</td>\n",
       "      <td>0</td>\n",
       "      <td>1</td>\n",
       "      <td>90878.13</td>\n",
       "      <td>0</td>\n",
       "    </tr>\n",
       "    <tr>\n",
       "      <th>51</th>\n",
       "      <td>52</td>\n",
       "      <td>15768193</td>\n",
       "      <td>Trevisani</td>\n",
       "      <td>585</td>\n",
       "      <td>Germany</td>\n",
       "      <td>Male</td>\n",
       "      <td>36</td>\n",
       "      <td>NaN</td>\n",
       "      <td>146050.97</td>\n",
       "      <td>2</td>\n",
       "      <td>0</td>\n",
       "      <td>0</td>\n",
       "      <td>86424.57</td>\n",
       "      <td>0</td>\n",
       "    </tr>\n",
       "    <tr>\n",
       "      <th>53</th>\n",
       "      <td>54</td>\n",
       "      <td>15702298</td>\n",
       "      <td>Parkhill</td>\n",
       "      <td>655</td>\n",
       "      <td>Germany</td>\n",
       "      <td>Male</td>\n",
       "      <td>41</td>\n",
       "      <td>NaN</td>\n",
       "      <td>125561.97</td>\n",
       "      <td>1</td>\n",
       "      <td>0</td>\n",
       "      <td>0</td>\n",
       "      <td>164040.94</td>\n",
       "      <td>1</td>\n",
       "    </tr>\n",
       "    <tr>\n",
       "      <th>60</th>\n",
       "      <td>61</td>\n",
       "      <td>15651280</td>\n",
       "      <td>Hunter</td>\n",
       "      <td>742</td>\n",
       "      <td>Germany</td>\n",
       "      <td>Male</td>\n",
       "      <td>35</td>\n",
       "      <td>NaN</td>\n",
       "      <td>136857.00</td>\n",
       "      <td>1</td>\n",
       "      <td>0</td>\n",
       "      <td>0</td>\n",
       "      <td>84509.57</td>\n",
       "      <td>0</td>\n",
       "    </tr>\n",
       "    <tr>\n",
       "      <th>...</th>\n",
       "      <td>...</td>\n",
       "      <td>...</td>\n",
       "      <td>...</td>\n",
       "      <td>...</td>\n",
       "      <td>...</td>\n",
       "      <td>...</td>\n",
       "      <td>...</td>\n",
       "      <td>...</td>\n",
       "      <td>...</td>\n",
       "      <td>...</td>\n",
       "      <td>...</td>\n",
       "      <td>...</td>\n",
       "      <td>...</td>\n",
       "      <td>...</td>\n",
       "    </tr>\n",
       "    <tr>\n",
       "      <th>9944</th>\n",
       "      <td>9945</td>\n",
       "      <td>15703923</td>\n",
       "      <td>Cameron</td>\n",
       "      <td>744</td>\n",
       "      <td>Germany</td>\n",
       "      <td>Male</td>\n",
       "      <td>41</td>\n",
       "      <td>NaN</td>\n",
       "      <td>190409.34</td>\n",
       "      <td>2</td>\n",
       "      <td>1</td>\n",
       "      <td>1</td>\n",
       "      <td>138361.48</td>\n",
       "      <td>0</td>\n",
       "    </tr>\n",
       "    <tr>\n",
       "      <th>9956</th>\n",
       "      <td>9957</td>\n",
       "      <td>15707861</td>\n",
       "      <td>Nucci</td>\n",
       "      <td>520</td>\n",
       "      <td>France</td>\n",
       "      <td>Female</td>\n",
       "      <td>46</td>\n",
       "      <td>NaN</td>\n",
       "      <td>85216.61</td>\n",
       "      <td>1</td>\n",
       "      <td>1</td>\n",
       "      <td>0</td>\n",
       "      <td>117369.52</td>\n",
       "      <td>1</td>\n",
       "    </tr>\n",
       "    <tr>\n",
       "      <th>9964</th>\n",
       "      <td>9965</td>\n",
       "      <td>15642785</td>\n",
       "      <td>Douglas</td>\n",
       "      <td>479</td>\n",
       "      <td>France</td>\n",
       "      <td>Male</td>\n",
       "      <td>34</td>\n",
       "      <td>NaN</td>\n",
       "      <td>117593.48</td>\n",
       "      <td>2</td>\n",
       "      <td>0</td>\n",
       "      <td>0</td>\n",
       "      <td>113308.29</td>\n",
       "      <td>0</td>\n",
       "    </tr>\n",
       "    <tr>\n",
       "      <th>9985</th>\n",
       "      <td>9986</td>\n",
       "      <td>15586914</td>\n",
       "      <td>Nepean</td>\n",
       "      <td>659</td>\n",
       "      <td>France</td>\n",
       "      <td>Male</td>\n",
       "      <td>36</td>\n",
       "      <td>NaN</td>\n",
       "      <td>123841.49</td>\n",
       "      <td>2</td>\n",
       "      <td>1</td>\n",
       "      <td>0</td>\n",
       "      <td>96833.00</td>\n",
       "      <td>0</td>\n",
       "    </tr>\n",
       "    <tr>\n",
       "      <th>9999</th>\n",
       "      <td>10000</td>\n",
       "      <td>15628319</td>\n",
       "      <td>Walker</td>\n",
       "      <td>792</td>\n",
       "      <td>France</td>\n",
       "      <td>Female</td>\n",
       "      <td>28</td>\n",
       "      <td>NaN</td>\n",
       "      <td>130142.79</td>\n",
       "      <td>1</td>\n",
       "      <td>1</td>\n",
       "      <td>0</td>\n",
       "      <td>38190.78</td>\n",
       "      <td>0</td>\n",
       "    </tr>\n",
       "  </tbody>\n",
       "</table>\n",
       "<p>909 rows × 14 columns</p>\n",
       "</div>"
      ],
      "text/plain": [
       "      RowNumber  CustomerId    Surname  CreditScore Geography  Gender  Age  \\\n",
       "30           31    15589475    Azikiwe          591     Spain  Female   39   \n",
       "48           49    15766205        Yin          550   Germany    Male   38   \n",
       "51           52    15768193  Trevisani          585   Germany    Male   36   \n",
       "53           54    15702298   Parkhill          655   Germany    Male   41   \n",
       "60           61    15651280     Hunter          742   Germany    Male   35   \n",
       "...         ...         ...        ...          ...       ...     ...  ...   \n",
       "9944       9945    15703923    Cameron          744   Germany    Male   41   \n",
       "9956       9957    15707861      Nucci          520    France  Female   46   \n",
       "9964       9965    15642785    Douglas          479    France    Male   34   \n",
       "9985       9986    15586914     Nepean          659    France    Male   36   \n",
       "9999      10000    15628319     Walker          792    France  Female   28   \n",
       "\n",
       "      Tenure    Balance  NumOfProducts  HasCrCard  IsActiveMember  \\\n",
       "30       NaN       0.00              3          1               0   \n",
       "48       NaN  103391.38              1          0               1   \n",
       "51       NaN  146050.97              2          0               0   \n",
       "53       NaN  125561.97              1          0               0   \n",
       "60       NaN  136857.00              1          0               0   \n",
       "...      ...        ...            ...        ...             ...   \n",
       "9944     NaN  190409.34              2          1               1   \n",
       "9956     NaN   85216.61              1          1               0   \n",
       "9964     NaN  117593.48              2          0               0   \n",
       "9985     NaN  123841.49              2          1               0   \n",
       "9999     NaN  130142.79              1          1               0   \n",
       "\n",
       "      EstimatedSalary  Exited  \n",
       "30          140469.38       1  \n",
       "48           90878.13       0  \n",
       "51           86424.57       0  \n",
       "53          164040.94       1  \n",
       "60           84509.57       0  \n",
       "...               ...     ...  \n",
       "9944        138361.48       0  \n",
       "9956        117369.52       1  \n",
       "9964        113308.29       0  \n",
       "9985         96833.00       0  \n",
       "9999         38190.78       0  \n",
       "\n",
       "[909 rows x 14 columns]"
      ]
     },
     "execution_count": 6,
     "metadata": {},
     "output_type": "execute_result"
    }
   ],
   "source": [
    "# изучим строки с пропусками\n",
    "data[data['Tenure'].isna()]"
   ]
  },
  {
   "cell_type": "code",
   "execution_count": 7,
   "metadata": {},
   "outputs": [
    {
     "data": {
      "text/html": [
       "<div>\n",
       "<style scoped>\n",
       "    .dataframe tbody tr th:only-of-type {\n",
       "        vertical-align: middle;\n",
       "    }\n",
       "\n",
       "    .dataframe tbody tr th {\n",
       "        vertical-align: top;\n",
       "    }\n",
       "\n",
       "    .dataframe thead th {\n",
       "        text-align: right;\n",
       "    }\n",
       "</style>\n",
       "<table border=\"1\" class=\"dataframe\">\n",
       "  <thead>\n",
       "    <tr style=\"text-align: right;\">\n",
       "      <th></th>\n",
       "      <th>RowNumber</th>\n",
       "      <th>CustomerId</th>\n",
       "      <th>CreditScore</th>\n",
       "      <th>Age</th>\n",
       "      <th>Tenure</th>\n",
       "      <th>Balance</th>\n",
       "      <th>NumOfProducts</th>\n",
       "      <th>HasCrCard</th>\n",
       "      <th>IsActiveMember</th>\n",
       "      <th>EstimatedSalary</th>\n",
       "      <th>Exited</th>\n",
       "    </tr>\n",
       "  </thead>\n",
       "  <tbody>\n",
       "    <tr>\n",
       "      <th>count</th>\n",
       "      <td>10000.00000</td>\n",
       "      <td>1.000000e+04</td>\n",
       "      <td>10000.000000</td>\n",
       "      <td>10000.000000</td>\n",
       "      <td>9091.000000</td>\n",
       "      <td>10000.000000</td>\n",
       "      <td>10000.000000</td>\n",
       "      <td>10000.00000</td>\n",
       "      <td>10000.000000</td>\n",
       "      <td>10000.000000</td>\n",
       "      <td>10000.000000</td>\n",
       "    </tr>\n",
       "    <tr>\n",
       "      <th>mean</th>\n",
       "      <td>5000.50000</td>\n",
       "      <td>1.569094e+07</td>\n",
       "      <td>650.528800</td>\n",
       "      <td>38.921800</td>\n",
       "      <td>4.997690</td>\n",
       "      <td>76485.889288</td>\n",
       "      <td>1.530200</td>\n",
       "      <td>0.70550</td>\n",
       "      <td>0.515100</td>\n",
       "      <td>100090.239881</td>\n",
       "      <td>0.203700</td>\n",
       "    </tr>\n",
       "    <tr>\n",
       "      <th>std</th>\n",
       "      <td>2886.89568</td>\n",
       "      <td>7.193619e+04</td>\n",
       "      <td>96.653299</td>\n",
       "      <td>10.487806</td>\n",
       "      <td>2.894723</td>\n",
       "      <td>62397.405202</td>\n",
       "      <td>0.581654</td>\n",
       "      <td>0.45584</td>\n",
       "      <td>0.499797</td>\n",
       "      <td>57510.492818</td>\n",
       "      <td>0.402769</td>\n",
       "    </tr>\n",
       "    <tr>\n",
       "      <th>min</th>\n",
       "      <td>1.00000</td>\n",
       "      <td>1.556570e+07</td>\n",
       "      <td>350.000000</td>\n",
       "      <td>18.000000</td>\n",
       "      <td>0.000000</td>\n",
       "      <td>0.000000</td>\n",
       "      <td>1.000000</td>\n",
       "      <td>0.00000</td>\n",
       "      <td>0.000000</td>\n",
       "      <td>11.580000</td>\n",
       "      <td>0.000000</td>\n",
       "    </tr>\n",
       "    <tr>\n",
       "      <th>25%</th>\n",
       "      <td>2500.75000</td>\n",
       "      <td>1.562853e+07</td>\n",
       "      <td>584.000000</td>\n",
       "      <td>32.000000</td>\n",
       "      <td>2.000000</td>\n",
       "      <td>0.000000</td>\n",
       "      <td>1.000000</td>\n",
       "      <td>0.00000</td>\n",
       "      <td>0.000000</td>\n",
       "      <td>51002.110000</td>\n",
       "      <td>0.000000</td>\n",
       "    </tr>\n",
       "    <tr>\n",
       "      <th>50%</th>\n",
       "      <td>5000.50000</td>\n",
       "      <td>1.569074e+07</td>\n",
       "      <td>652.000000</td>\n",
       "      <td>37.000000</td>\n",
       "      <td>5.000000</td>\n",
       "      <td>97198.540000</td>\n",
       "      <td>1.000000</td>\n",
       "      <td>1.00000</td>\n",
       "      <td>1.000000</td>\n",
       "      <td>100193.915000</td>\n",
       "      <td>0.000000</td>\n",
       "    </tr>\n",
       "    <tr>\n",
       "      <th>75%</th>\n",
       "      <td>7500.25000</td>\n",
       "      <td>1.575323e+07</td>\n",
       "      <td>718.000000</td>\n",
       "      <td>44.000000</td>\n",
       "      <td>7.000000</td>\n",
       "      <td>127644.240000</td>\n",
       "      <td>2.000000</td>\n",
       "      <td>1.00000</td>\n",
       "      <td>1.000000</td>\n",
       "      <td>149388.247500</td>\n",
       "      <td>0.000000</td>\n",
       "    </tr>\n",
       "    <tr>\n",
       "      <th>max</th>\n",
       "      <td>10000.00000</td>\n",
       "      <td>1.581569e+07</td>\n",
       "      <td>850.000000</td>\n",
       "      <td>92.000000</td>\n",
       "      <td>10.000000</td>\n",
       "      <td>250898.090000</td>\n",
       "      <td>4.000000</td>\n",
       "      <td>1.00000</td>\n",
       "      <td>1.000000</td>\n",
       "      <td>199992.480000</td>\n",
       "      <td>1.000000</td>\n",
       "    </tr>\n",
       "  </tbody>\n",
       "</table>\n",
       "</div>"
      ],
      "text/plain": [
       "         RowNumber    CustomerId   CreditScore           Age       Tenure  \\\n",
       "count  10000.00000  1.000000e+04  10000.000000  10000.000000  9091.000000   \n",
       "mean    5000.50000  1.569094e+07    650.528800     38.921800     4.997690   \n",
       "std     2886.89568  7.193619e+04     96.653299     10.487806     2.894723   \n",
       "min        1.00000  1.556570e+07    350.000000     18.000000     0.000000   \n",
       "25%     2500.75000  1.562853e+07    584.000000     32.000000     2.000000   \n",
       "50%     5000.50000  1.569074e+07    652.000000     37.000000     5.000000   \n",
       "75%     7500.25000  1.575323e+07    718.000000     44.000000     7.000000   \n",
       "max    10000.00000  1.581569e+07    850.000000     92.000000    10.000000   \n",
       "\n",
       "             Balance  NumOfProducts    HasCrCard  IsActiveMember  \\\n",
       "count   10000.000000   10000.000000  10000.00000    10000.000000   \n",
       "mean    76485.889288       1.530200      0.70550        0.515100   \n",
       "std     62397.405202       0.581654      0.45584        0.499797   \n",
       "min         0.000000       1.000000      0.00000        0.000000   \n",
       "25%         0.000000       1.000000      0.00000        0.000000   \n",
       "50%     97198.540000       1.000000      1.00000        1.000000   \n",
       "75%    127644.240000       2.000000      1.00000        1.000000   \n",
       "max    250898.090000       4.000000      1.00000        1.000000   \n",
       "\n",
       "       EstimatedSalary        Exited  \n",
       "count     10000.000000  10000.000000  \n",
       "mean     100090.239881      0.203700  \n",
       "std       57510.492818      0.402769  \n",
       "min          11.580000      0.000000  \n",
       "25%       51002.110000      0.000000  \n",
       "50%      100193.915000      0.000000  \n",
       "75%      149388.247500      0.000000  \n",
       "max      199992.480000      1.000000  "
      ]
     },
     "execution_count": 7,
     "metadata": {},
     "output_type": "execute_result"
    }
   ],
   "source": [
    "data.describe()"
   ]
  },
  {
   "cell_type": "markdown",
   "metadata": {},
   "source": [
    "### Удаляем лишние столбцы"
   ]
  },
  {
   "cell_type": "markdown",
   "metadata": {},
   "source": [
    "Удалим столбец Surname, он нам не нужен для предсказания оттока. Это личный параметр, который не оказывает влияние на целевой признак. У нас есть ID клиента для идентифткации. \n",
    "\n",
    "Удалим столбец RowNumber. RowNumber дублирует индекс.\n",
    "\n",
    "Удалим столбец CustomerId. id клиентов нам не интересны."
   ]
  },
  {
   "cell_type": "code",
   "execution_count": 8,
   "metadata": {},
   "outputs": [],
   "source": [
    "# удаляем столбцы\n",
    "data = data.drop(['Surname', 'RowNumber', 'CustomerId'], axis=1)"
   ]
  },
  {
   "cell_type": "code",
   "execution_count": 9,
   "metadata": {},
   "outputs": [
    {
     "data": {
      "text/html": [
       "<div>\n",
       "<style scoped>\n",
       "    .dataframe tbody tr th:only-of-type {\n",
       "        vertical-align: middle;\n",
       "    }\n",
       "\n",
       "    .dataframe tbody tr th {\n",
       "        vertical-align: top;\n",
       "    }\n",
       "\n",
       "    .dataframe thead th {\n",
       "        text-align: right;\n",
       "    }\n",
       "</style>\n",
       "<table border=\"1\" class=\"dataframe\">\n",
       "  <thead>\n",
       "    <tr style=\"text-align: right;\">\n",
       "      <th></th>\n",
       "      <th>CreditScore</th>\n",
       "      <th>Geography</th>\n",
       "      <th>Gender</th>\n",
       "      <th>Age</th>\n",
       "      <th>Tenure</th>\n",
       "      <th>Balance</th>\n",
       "      <th>NumOfProducts</th>\n",
       "      <th>HasCrCard</th>\n",
       "      <th>IsActiveMember</th>\n",
       "      <th>EstimatedSalary</th>\n",
       "      <th>Exited</th>\n",
       "    </tr>\n",
       "  </thead>\n",
       "  <tbody>\n",
       "    <tr>\n",
       "      <th>0</th>\n",
       "      <td>619</td>\n",
       "      <td>France</td>\n",
       "      <td>Female</td>\n",
       "      <td>42</td>\n",
       "      <td>2.0</td>\n",
       "      <td>0.00</td>\n",
       "      <td>1</td>\n",
       "      <td>1</td>\n",
       "      <td>1</td>\n",
       "      <td>101348.88</td>\n",
       "      <td>1</td>\n",
       "    </tr>\n",
       "    <tr>\n",
       "      <th>1</th>\n",
       "      <td>608</td>\n",
       "      <td>Spain</td>\n",
       "      <td>Female</td>\n",
       "      <td>41</td>\n",
       "      <td>1.0</td>\n",
       "      <td>83807.86</td>\n",
       "      <td>1</td>\n",
       "      <td>0</td>\n",
       "      <td>1</td>\n",
       "      <td>112542.58</td>\n",
       "      <td>0</td>\n",
       "    </tr>\n",
       "    <tr>\n",
       "      <th>2</th>\n",
       "      <td>502</td>\n",
       "      <td>France</td>\n",
       "      <td>Female</td>\n",
       "      <td>42</td>\n",
       "      <td>8.0</td>\n",
       "      <td>159660.80</td>\n",
       "      <td>3</td>\n",
       "      <td>1</td>\n",
       "      <td>0</td>\n",
       "      <td>113931.57</td>\n",
       "      <td>1</td>\n",
       "    </tr>\n",
       "    <tr>\n",
       "      <th>3</th>\n",
       "      <td>699</td>\n",
       "      <td>France</td>\n",
       "      <td>Female</td>\n",
       "      <td>39</td>\n",
       "      <td>1.0</td>\n",
       "      <td>0.00</td>\n",
       "      <td>2</td>\n",
       "      <td>0</td>\n",
       "      <td>0</td>\n",
       "      <td>93826.63</td>\n",
       "      <td>0</td>\n",
       "    </tr>\n",
       "    <tr>\n",
       "      <th>4</th>\n",
       "      <td>850</td>\n",
       "      <td>Spain</td>\n",
       "      <td>Female</td>\n",
       "      <td>43</td>\n",
       "      <td>2.0</td>\n",
       "      <td>125510.82</td>\n",
       "      <td>1</td>\n",
       "      <td>1</td>\n",
       "      <td>1</td>\n",
       "      <td>79084.10</td>\n",
       "      <td>0</td>\n",
       "    </tr>\n",
       "  </tbody>\n",
       "</table>\n",
       "</div>"
      ],
      "text/plain": [
       "   CreditScore Geography  Gender  Age  Tenure    Balance  NumOfProducts  \\\n",
       "0          619    France  Female   42     2.0       0.00              1   \n",
       "1          608     Spain  Female   41     1.0   83807.86              1   \n",
       "2          502    France  Female   42     8.0  159660.80              3   \n",
       "3          699    France  Female   39     1.0       0.00              2   \n",
       "4          850     Spain  Female   43     2.0  125510.82              1   \n",
       "\n",
       "   HasCrCard  IsActiveMember  EstimatedSalary  Exited  \n",
       "0          1               1        101348.88       1  \n",
       "1          0               1        112542.58       0  \n",
       "2          1               0        113931.57       1  \n",
       "3          0               0         93826.63       0  \n",
       "4          1               1         79084.10       0  "
      ]
     },
     "execution_count": 9,
     "metadata": {},
     "output_type": "execute_result"
    }
   ],
   "source": [
    "data.head()"
   ]
  },
  {
   "cell_type": "code",
   "execution_count": 10,
   "metadata": {},
   "outputs": [],
   "source": [
    "# проверим, что мы не потеряли данные\n",
    "#print(temp.shape)\n",
    "#print(data.shape)"
   ]
  },
  {
   "cell_type": "markdown",
   "metadata": {},
   "source": [
    "### Меняем название колонок"
   ]
  },
  {
   "cell_type": "markdown",
   "metadata": {},
   "source": [
    "Переименуем колонки для лучшей читабельности"
   ]
  },
  {
   "cell_type": "code",
   "execution_count": 11,
   "metadata": {},
   "outputs": [],
   "source": [
    "data = data.rename(columns={'CreditScore': 'credit_score',\\\n",
    "                            'Age': 'age',\n",
    "                            'Tenure': 'tenure', 'Balance': 'balance', \n",
    "                            'NumOfProducts': 'num_of_products', 'HasCrCard': 'has_cr_card',\n",
    "                            'IsActiveMember': 'is_active_member', \n",
    "                            'EstimatedSalary': 'estimated_salary', 'Exited': 'exited',\n",
    "                            'Geography': 'geography', \n",
    "                            'Gender': 'gender'})"
   ]
  },
  {
   "cell_type": "code",
   "execution_count": 12,
   "metadata": {},
   "outputs": [
    {
     "data": {
      "text/html": [
       "<div>\n",
       "<style scoped>\n",
       "    .dataframe tbody tr th:only-of-type {\n",
       "        vertical-align: middle;\n",
       "    }\n",
       "\n",
       "    .dataframe tbody tr th {\n",
       "        vertical-align: top;\n",
       "    }\n",
       "\n",
       "    .dataframe thead th {\n",
       "        text-align: right;\n",
       "    }\n",
       "</style>\n",
       "<table border=\"1\" class=\"dataframe\">\n",
       "  <thead>\n",
       "    <tr style=\"text-align: right;\">\n",
       "      <th></th>\n",
       "      <th>credit_score</th>\n",
       "      <th>geography</th>\n",
       "      <th>gender</th>\n",
       "      <th>age</th>\n",
       "      <th>tenure</th>\n",
       "      <th>balance</th>\n",
       "      <th>num_of_products</th>\n",
       "      <th>has_cr_card</th>\n",
       "      <th>is_active_member</th>\n",
       "      <th>estimated_salary</th>\n",
       "      <th>exited</th>\n",
       "    </tr>\n",
       "  </thead>\n",
       "  <tbody>\n",
       "    <tr>\n",
       "      <th>0</th>\n",
       "      <td>619</td>\n",
       "      <td>France</td>\n",
       "      <td>Female</td>\n",
       "      <td>42</td>\n",
       "      <td>2.0</td>\n",
       "      <td>0.00</td>\n",
       "      <td>1</td>\n",
       "      <td>1</td>\n",
       "      <td>1</td>\n",
       "      <td>101348.88</td>\n",
       "      <td>1</td>\n",
       "    </tr>\n",
       "    <tr>\n",
       "      <th>1</th>\n",
       "      <td>608</td>\n",
       "      <td>Spain</td>\n",
       "      <td>Female</td>\n",
       "      <td>41</td>\n",
       "      <td>1.0</td>\n",
       "      <td>83807.86</td>\n",
       "      <td>1</td>\n",
       "      <td>0</td>\n",
       "      <td>1</td>\n",
       "      <td>112542.58</td>\n",
       "      <td>0</td>\n",
       "    </tr>\n",
       "    <tr>\n",
       "      <th>2</th>\n",
       "      <td>502</td>\n",
       "      <td>France</td>\n",
       "      <td>Female</td>\n",
       "      <td>42</td>\n",
       "      <td>8.0</td>\n",
       "      <td>159660.80</td>\n",
       "      <td>3</td>\n",
       "      <td>1</td>\n",
       "      <td>0</td>\n",
       "      <td>113931.57</td>\n",
       "      <td>1</td>\n",
       "    </tr>\n",
       "    <tr>\n",
       "      <th>3</th>\n",
       "      <td>699</td>\n",
       "      <td>France</td>\n",
       "      <td>Female</td>\n",
       "      <td>39</td>\n",
       "      <td>1.0</td>\n",
       "      <td>0.00</td>\n",
       "      <td>2</td>\n",
       "      <td>0</td>\n",
       "      <td>0</td>\n",
       "      <td>93826.63</td>\n",
       "      <td>0</td>\n",
       "    </tr>\n",
       "    <tr>\n",
       "      <th>4</th>\n",
       "      <td>850</td>\n",
       "      <td>Spain</td>\n",
       "      <td>Female</td>\n",
       "      <td>43</td>\n",
       "      <td>2.0</td>\n",
       "      <td>125510.82</td>\n",
       "      <td>1</td>\n",
       "      <td>1</td>\n",
       "      <td>1</td>\n",
       "      <td>79084.10</td>\n",
       "      <td>0</td>\n",
       "    </tr>\n",
       "  </tbody>\n",
       "</table>\n",
       "</div>"
      ],
      "text/plain": [
       "   credit_score geography  gender  age  tenure    balance  num_of_products  \\\n",
       "0           619    France  Female   42     2.0       0.00                1   \n",
       "1           608     Spain  Female   41     1.0   83807.86                1   \n",
       "2           502    France  Female   42     8.0  159660.80                3   \n",
       "3           699    France  Female   39     1.0       0.00                2   \n",
       "4           850     Spain  Female   43     2.0  125510.82                1   \n",
       "\n",
       "   has_cr_card  is_active_member  estimated_salary  exited  \n",
       "0            1                 1         101348.88       1  \n",
       "1            0                 1         112542.58       0  \n",
       "2            1                 0         113931.57       1  \n",
       "3            0                 0          93826.63       0  \n",
       "4            1                 1          79084.10       0  "
      ]
     },
     "execution_count": 12,
     "metadata": {},
     "output_type": "execute_result"
    }
   ],
   "source": [
    "data.head()"
   ]
  },
  {
   "cell_type": "markdown",
   "metadata": {},
   "source": [
    "### Уберем пропуска в данных"
   ]
  },
  {
   "cell_type": "markdown",
   "metadata": {},
   "source": [
    "В столбце tenure есть пустые значения. Заменим их среднем по возрасту."
   ]
  },
  {
   "cell_type": "code",
   "execution_count": 13,
   "metadata": {},
   "outputs": [],
   "source": [
    "for n in data['age'].unique():\n",
    "    data.loc[(data['age'] == n) & (data['tenure'].isna()), 'tenure'] = \\\n",
    "    data.loc[(data['age'] == n), 'tenure'].median()"
   ]
  },
  {
   "cell_type": "code",
   "execution_count": 14,
   "metadata": {},
   "outputs": [
    {
     "data": {
      "text/plain": [
       "0"
      ]
     },
     "execution_count": 14,
     "metadata": {},
     "output_type": "execute_result"
    }
   ],
   "source": [
    "data['tenure'].isna().sum()"
   ]
  },
  {
   "cell_type": "code",
   "execution_count": 15,
   "metadata": {},
   "outputs": [
    {
     "data": {
      "text/plain": [
       "count    9091.000000\n",
       "mean        4.997690\n",
       "std         2.894723\n",
       "min         0.000000\n",
       "25%         2.000000\n",
       "50%         5.000000\n",
       "75%         7.000000\n",
       "max        10.000000\n",
       "Name: Tenure, dtype: float64"
      ]
     },
     "execution_count": 15,
     "metadata": {},
     "output_type": "execute_result"
    }
   ],
   "source": [
    "temp['Tenure'].describe()"
   ]
  },
  {
   "cell_type": "code",
   "execution_count": 16,
   "metadata": {},
   "outputs": [
    {
     "data": {
      "text/plain": [
       "count    10000.000000\n",
       "mean         4.995800\n",
       "std          2.762118\n",
       "min          0.000000\n",
       "25%          3.000000\n",
       "50%          5.000000\n",
       "75%          7.000000\n",
       "max         10.000000\n",
       "Name: tenure, dtype: float64"
      ]
     },
     "execution_count": 16,
     "metadata": {},
     "output_type": "execute_result"
    }
   ],
   "source": [
    "data['tenure'].describe()"
   ]
  },
  {
   "cell_type": "code",
   "execution_count": 17,
   "metadata": {},
   "outputs": [
    {
     "name": "stdout",
     "output_type": "stream",
     "text": [
      "10000\n",
      "10000\n"
     ]
    }
   ],
   "source": [
    "# проверяем что мы не потеряли данные\n",
    "print(data.shape[0])\n",
    "print(temp.shape[0])"
   ]
  },
  {
   "cell_type": "markdown",
   "metadata": {},
   "source": [
    "__Вывод:__ В процессе подготовки данных нами были:\n",
    "* Удалины лишние колонки\n",
    "\n",
    "* Сделано кодирование признаков методом ОНЕ\n",
    "\n",
    "* Пропуска в данных были заменены на подходящие значения\n",
    "\n",
    "Всего в данных 1000 строк и 13 столбцов."
   ]
  },
  {
   "cell_type": "markdown",
   "metadata": {},
   "source": [
    "## Исследование задачи"
   ]
  },
  {
   "cell_type": "markdown",
   "metadata": {},
   "source": [
    "### Разделим выборку на обучающую, валидационную и тестовую"
   ]
  },
  {
   "cell_type": "code",
   "execution_count": 18,
   "metadata": {},
   "outputs": [],
   "source": [
    "features = data.drop(['exited'], axis=1)\n",
    "#features"
   ]
  },
  {
   "cell_type": "code",
   "execution_count": 19,
   "metadata": {},
   "outputs": [],
   "source": [
    "target = data['exited']\n",
    "#target"
   ]
  },
  {
   "cell_type": "code",
   "execution_count": 20,
   "metadata": {},
   "outputs": [],
   "source": [
    "RANDOM_STATE = 12345"
   ]
  },
  {
   "cell_type": "code",
   "execution_count": 21,
   "metadata": {},
   "outputs": [],
   "source": [
    "features_train, features_valid, target_train, target_valid = \\\n",
    "                      train_test_split(features, target, test_size=0.4, \n",
    "                      random_state=RANDOM_STATE, stratify=target)"
   ]
  },
  {
   "cell_type": "code",
   "execution_count": 22,
   "metadata": {},
   "outputs": [],
   "source": [
    "features_valid, features_test, target_valid, target_test = \\\n",
    "          train_test_split(features_valid, target_valid, train_size=0.5, \n",
    "                           random_state=RANDOM_STATE, stratify=target_valid)"
   ]
  },
  {
   "cell_type": "code",
   "execution_count": 23,
   "metadata": {},
   "outputs": [
    {
     "name": "stdout",
     "output_type": "stream",
     "text": [
      "Тренировочные признаки: 6000\n",
      "Целевой признак тренировочный: 6000\n",
      "Валидационные признаки: 2000\n",
      "Целевой признак валидационнный: 2000\n",
      "Тестовые признаки: 2000\n",
      "Целевой признак тестовый: 2000\n"
     ]
    }
   ],
   "source": [
    "print('Тренировочные признаки:',features_train.shape[0]) \n",
    "print('Целевой признак тренировочный:', target_train.shape[0])\n",
    "print('Валидационные признаки:', features_valid.shape[0])\n",
    "print('Целевой признак валидационнный:', target_valid.shape[0])\n",
    "print('Тестовые признаки:', features_test.shape[0])\n",
    "print('Целевой признак тестовый:', target_test.shape[0])"
   ]
  },
  {
   "cell_type": "code",
   "execution_count": 24,
   "metadata": {},
   "outputs": [],
   "source": [
    "# создадим копию выборок признаков\n",
    "temp_features_train = features_train.copy()\n",
    "temp_features_valid = features_valid.copy()\n",
    "temp_features_test = features_test.copy()"
   ]
  },
  {
   "cell_type": "markdown",
   "metadata": {},
   "source": [
    "### Делаем кодирование признаков OHE"
   ]
  },
  {
   "cell_type": "markdown",
   "metadata": {},
   "source": [
    "Применяем метод One Hot Encoding для кодирования признаков"
   ]
  },
  {
   "cell_type": "code",
   "execution_count": 25,
   "metadata": {},
   "outputs": [],
   "source": [
    "ohe_features_train = features_train.select_dtypes(include='object').columns.to_list()\n",
    "# ohe_features_train"
   ]
  },
  {
   "cell_type": "code",
   "execution_count": 26,
   "metadata": {},
   "outputs": [
    {
     "data": {
      "text/plain": [
       "OneHotEncoder(drop='first', sparse=False)"
      ]
     },
     "execution_count": 26,
     "metadata": {},
     "output_type": "execute_result"
    }
   ],
   "source": [
    "# обучаем на тренировочной выборке\n",
    "encoder_ohe = OneHotEncoder(drop='first', handle_unknown='error', sparse=False)\n",
    "encoder_ohe.fit(features_train[ohe_features_train])"
   ]
  },
  {
   "cell_type": "code",
   "execution_count": 27,
   "metadata": {},
   "outputs": [
    {
     "data": {
      "text/plain": [
       "'0.24.1'"
      ]
     },
     "execution_count": 27,
     "metadata": {},
     "output_type": "execute_result"
    }
   ],
   "source": [
    "skl.__version__"
   ]
  },
  {
   "cell_type": "code",
   "execution_count": 28,
   "metadata": {},
   "outputs": [
    {
     "data": {
      "text/html": [
       "<div>\n",
       "<style scoped>\n",
       "    .dataframe tbody tr th:only-of-type {\n",
       "        vertical-align: middle;\n",
       "    }\n",
       "\n",
       "    .dataframe tbody tr th {\n",
       "        vertical-align: top;\n",
       "    }\n",
       "\n",
       "    .dataframe thead th {\n",
       "        text-align: right;\n",
       "    }\n",
       "</style>\n",
       "<table border=\"1\" class=\"dataframe\">\n",
       "  <thead>\n",
       "    <tr style=\"text-align: right;\">\n",
       "      <th></th>\n",
       "      <th>credit_score</th>\n",
       "      <th>age</th>\n",
       "      <th>tenure</th>\n",
       "      <th>balance</th>\n",
       "      <th>num_of_products</th>\n",
       "      <th>has_cr_card</th>\n",
       "      <th>is_active_member</th>\n",
       "      <th>estimated_salary</th>\n",
       "      <th>x0_Germany</th>\n",
       "      <th>x0_Spain</th>\n",
       "      <th>x1_Male</th>\n",
       "    </tr>\n",
       "  </thead>\n",
       "  <tbody>\n",
       "    <tr>\n",
       "      <th>2837</th>\n",
       "      <td>549</td>\n",
       "      <td>49</td>\n",
       "      <td>6.0</td>\n",
       "      <td>124829.16</td>\n",
       "      <td>1</td>\n",
       "      <td>0</td>\n",
       "      <td>1</td>\n",
       "      <td>93551.36</td>\n",
       "      <td>1.0</td>\n",
       "      <td>0.0</td>\n",
       "      <td>0.0</td>\n",
       "    </tr>\n",
       "    <tr>\n",
       "      <th>9925</th>\n",
       "      <td>694</td>\n",
       "      <td>38</td>\n",
       "      <td>5.0</td>\n",
       "      <td>195926.39</td>\n",
       "      <td>1</td>\n",
       "      <td>1</td>\n",
       "      <td>1</td>\n",
       "      <td>85522.84</td>\n",
       "      <td>0.0</td>\n",
       "      <td>0.0</td>\n",
       "      <td>0.0</td>\n",
       "    </tr>\n",
       "    <tr>\n",
       "      <th>8746</th>\n",
       "      <td>660</td>\n",
       "      <td>34</td>\n",
       "      <td>8.0</td>\n",
       "      <td>106486.66</td>\n",
       "      <td>2</td>\n",
       "      <td>0</td>\n",
       "      <td>1</td>\n",
       "      <td>182262.66</td>\n",
       "      <td>0.0</td>\n",
       "      <td>0.0</td>\n",
       "      <td>1.0</td>\n",
       "    </tr>\n",
       "    <tr>\n",
       "      <th>660</th>\n",
       "      <td>632</td>\n",
       "      <td>41</td>\n",
       "      <td>5.0</td>\n",
       "      <td>81877.38</td>\n",
       "      <td>1</td>\n",
       "      <td>1</td>\n",
       "      <td>1</td>\n",
       "      <td>33642.21</td>\n",
       "      <td>1.0</td>\n",
       "      <td>0.0</td>\n",
       "      <td>0.0</td>\n",
       "    </tr>\n",
       "    <tr>\n",
       "      <th>3610</th>\n",
       "      <td>580</td>\n",
       "      <td>56</td>\n",
       "      <td>1.0</td>\n",
       "      <td>131368.30</td>\n",
       "      <td>1</td>\n",
       "      <td>1</td>\n",
       "      <td>0</td>\n",
       "      <td>106918.67</td>\n",
       "      <td>0.0</td>\n",
       "      <td>0.0</td>\n",
       "      <td>0.0</td>\n",
       "    </tr>\n",
       "  </tbody>\n",
       "</table>\n",
       "</div>"
      ],
      "text/plain": [
       "      credit_score  age  tenure    balance  num_of_products  has_cr_card  \\\n",
       "2837           549   49     6.0  124829.16                1            0   \n",
       "9925           694   38     5.0  195926.39                1            1   \n",
       "8746           660   34     8.0  106486.66                2            0   \n",
       "660            632   41     5.0   81877.38                1            1   \n",
       "3610           580   56     1.0  131368.30                1            1   \n",
       "\n",
       "      is_active_member  estimated_salary  x0_Germany  x0_Spain  x1_Male  \n",
       "2837                 1          93551.36         1.0       0.0      0.0  \n",
       "9925                 1          85522.84         0.0       0.0      0.0  \n",
       "8746                 1         182262.66         0.0       0.0      1.0  \n",
       "660                  1          33642.21         1.0       0.0      0.0  \n",
       "3610                 0         106918.67         0.0       0.0      0.0  "
      ]
     },
     "execution_count": 28,
     "metadata": {},
     "output_type": "execute_result"
    }
   ],
   "source": [
    "# применяем на тренировочной выборке\n",
    "features_train[encoder_ohe.get_feature_names()] = \\\n",
    "encoder_ohe.transform(features_train[ohe_features_train])\n",
    "features_train = features_train.drop(ohe_features_train, axis=1)\n",
    "features_train.head()"
   ]
  },
  {
   "cell_type": "code",
   "execution_count": 29,
   "metadata": {},
   "outputs": [
    {
     "data": {
      "text/html": [
       "<div>\n",
       "<style scoped>\n",
       "    .dataframe tbody tr th:only-of-type {\n",
       "        vertical-align: middle;\n",
       "    }\n",
       "\n",
       "    .dataframe tbody tr th {\n",
       "        vertical-align: top;\n",
       "    }\n",
       "\n",
       "    .dataframe thead th {\n",
       "        text-align: right;\n",
       "    }\n",
       "</style>\n",
       "<table border=\"1\" class=\"dataframe\">\n",
       "  <thead>\n",
       "    <tr style=\"text-align: right;\">\n",
       "      <th></th>\n",
       "      <th>credit_score</th>\n",
       "      <th>age</th>\n",
       "      <th>tenure</th>\n",
       "      <th>balance</th>\n",
       "      <th>num_of_products</th>\n",
       "      <th>has_cr_card</th>\n",
       "      <th>is_active_member</th>\n",
       "      <th>estimated_salary</th>\n",
       "      <th>x0_Germany</th>\n",
       "      <th>x0_Spain</th>\n",
       "      <th>x1_Male</th>\n",
       "    </tr>\n",
       "  </thead>\n",
       "  <tbody>\n",
       "    <tr>\n",
       "      <th>2837</th>\n",
       "      <td>549</td>\n",
       "      <td>49</td>\n",
       "      <td>6.0</td>\n",
       "      <td>124829.16</td>\n",
       "      <td>1</td>\n",
       "      <td>0</td>\n",
       "      <td>1</td>\n",
       "      <td>93551.36</td>\n",
       "      <td>1.0</td>\n",
       "      <td>0.0</td>\n",
       "      <td>0.0</td>\n",
       "    </tr>\n",
       "    <tr>\n",
       "      <th>9925</th>\n",
       "      <td>694</td>\n",
       "      <td>38</td>\n",
       "      <td>5.0</td>\n",
       "      <td>195926.39</td>\n",
       "      <td>1</td>\n",
       "      <td>1</td>\n",
       "      <td>1</td>\n",
       "      <td>85522.84</td>\n",
       "      <td>0.0</td>\n",
       "      <td>0.0</td>\n",
       "      <td>0.0</td>\n",
       "    </tr>\n",
       "    <tr>\n",
       "      <th>8746</th>\n",
       "      <td>660</td>\n",
       "      <td>34</td>\n",
       "      <td>8.0</td>\n",
       "      <td>106486.66</td>\n",
       "      <td>2</td>\n",
       "      <td>0</td>\n",
       "      <td>1</td>\n",
       "      <td>182262.66</td>\n",
       "      <td>0.0</td>\n",
       "      <td>0.0</td>\n",
       "      <td>1.0</td>\n",
       "    </tr>\n",
       "    <tr>\n",
       "      <th>660</th>\n",
       "      <td>632</td>\n",
       "      <td>41</td>\n",
       "      <td>5.0</td>\n",
       "      <td>81877.38</td>\n",
       "      <td>1</td>\n",
       "      <td>1</td>\n",
       "      <td>1</td>\n",
       "      <td>33642.21</td>\n",
       "      <td>1.0</td>\n",
       "      <td>0.0</td>\n",
       "      <td>0.0</td>\n",
       "    </tr>\n",
       "    <tr>\n",
       "      <th>3610</th>\n",
       "      <td>580</td>\n",
       "      <td>56</td>\n",
       "      <td>1.0</td>\n",
       "      <td>131368.30</td>\n",
       "      <td>1</td>\n",
       "      <td>1</td>\n",
       "      <td>0</td>\n",
       "      <td>106918.67</td>\n",
       "      <td>0.0</td>\n",
       "      <td>0.0</td>\n",
       "      <td>0.0</td>\n",
       "    </tr>\n",
       "  </tbody>\n",
       "</table>\n",
       "</div>"
      ],
      "text/plain": [
       "      credit_score  age  tenure    balance  num_of_products  has_cr_card  \\\n",
       "2837           549   49     6.0  124829.16                1            0   \n",
       "9925           694   38     5.0  195926.39                1            1   \n",
       "8746           660   34     8.0  106486.66                2            0   \n",
       "660            632   41     5.0   81877.38                1            1   \n",
       "3610           580   56     1.0  131368.30                1            1   \n",
       "\n",
       "      is_active_member  estimated_salary  x0_Germany  x0_Spain  x1_Male  \n",
       "2837                 1          93551.36         1.0       0.0      0.0  \n",
       "9925                 1          85522.84         0.0       0.0      0.0  \n",
       "8746                 1         182262.66         0.0       0.0      1.0  \n",
       "660                  1          33642.21         1.0       0.0      0.0  \n",
       "3610                 0         106918.67         0.0       0.0      0.0  "
      ]
     },
     "execution_count": 29,
     "metadata": {},
     "output_type": "execute_result"
    }
   ],
   "source": [
    "features_train.head()"
   ]
  },
  {
   "cell_type": "code",
   "execution_count": 30,
   "metadata": {},
   "outputs": [],
   "source": [
    "# применяем на валидационной выборка\n",
    "ohe_features_valid = features_valid.select_dtypes(include='object').columns.to_list()\n",
    "features_valid[encoder_ohe.get_feature_names()] = \\\n",
    "encoder_ohe.transform(features_valid[ohe_features_valid])\n",
    "features_valid = features_valid.drop(ohe_features_valid, axis=1)\n",
    "#features_valid.head()"
   ]
  },
  {
   "cell_type": "code",
   "execution_count": 31,
   "metadata": {},
   "outputs": [],
   "source": [
    "# применяем на тестовой выборке\n",
    "ohe_features_test = features_test.select_dtypes(include='object').columns.to_list()\n",
    "features_test[encoder_ohe.get_feature_names()] = \\\n",
    "encoder_ohe.transform(features_test[ohe_features_test])\n",
    "features_test = features_test.drop(ohe_features_test, axis=1)\n",
    "#features_test.head()"
   ]
  },
  {
   "cell_type": "markdown",
   "metadata": {},
   "source": [
    "### Масштабируем числовые признаки"
   ]
  },
  {
   "cell_type": "markdown",
   "metadata": {},
   "source": [
    "Сделаем масштабирование числовых признаков метолом StandartScaler"
   ]
  },
  {
   "cell_type": "code",
   "execution_count": 32,
   "metadata": {},
   "outputs": [],
   "source": [
    "scaler = StandardScaler()"
   ]
  },
  {
   "cell_type": "code",
   "execution_count": 33,
   "metadata": {},
   "outputs": [],
   "source": [
    "scaler_numeric = ['credit_score', 'age', 'tenure', 'balance', 'num_of_products',\\\n",
    "                 'estimated_salary']"
   ]
  },
  {
   "cell_type": "code",
   "execution_count": 34,
   "metadata": {},
   "outputs": [
    {
     "data": {
      "text/plain": [
       "StandardScaler()"
      ]
     },
     "execution_count": 34,
     "metadata": {},
     "output_type": "execute_result"
    }
   ],
   "source": [
    "# обучаем на тренировочной выборке\n",
    "scaler.fit(features_train[scaler_numeric])"
   ]
  },
  {
   "cell_type": "code",
   "execution_count": 35,
   "metadata": {},
   "outputs": [
    {
     "data": {
      "text/html": [
       "<div>\n",
       "<style scoped>\n",
       "    .dataframe tbody tr th:only-of-type {\n",
       "        vertical-align: middle;\n",
       "    }\n",
       "\n",
       "    .dataframe tbody tr th {\n",
       "        vertical-align: top;\n",
       "    }\n",
       "\n",
       "    .dataframe thead th {\n",
       "        text-align: right;\n",
       "    }\n",
       "</style>\n",
       "<table border=\"1\" class=\"dataframe\">\n",
       "  <thead>\n",
       "    <tr style=\"text-align: right;\">\n",
       "      <th></th>\n",
       "      <th>credit_score</th>\n",
       "      <th>age</th>\n",
       "      <th>tenure</th>\n",
       "      <th>balance</th>\n",
       "      <th>num_of_products</th>\n",
       "      <th>has_cr_card</th>\n",
       "      <th>is_active_member</th>\n",
       "      <th>estimated_salary</th>\n",
       "      <th>x0_Germany</th>\n",
       "      <th>x0_Spain</th>\n",
       "      <th>x1_Male</th>\n",
       "    </tr>\n",
       "  </thead>\n",
       "  <tbody>\n",
       "    <tr>\n",
       "      <th>2837</th>\n",
       "      <td>-1.040434</td>\n",
       "      <td>0.953312</td>\n",
       "      <td>0.360653</td>\n",
       "      <td>0.774657</td>\n",
       "      <td>-0.914708</td>\n",
       "      <td>0</td>\n",
       "      <td>1</td>\n",
       "      <td>-0.119110</td>\n",
       "      <td>1.0</td>\n",
       "      <td>0.0</td>\n",
       "      <td>0.0</td>\n",
       "    </tr>\n",
       "    <tr>\n",
       "      <th>9925</th>\n",
       "      <td>0.454006</td>\n",
       "      <td>-0.095244</td>\n",
       "      <td>-0.002420</td>\n",
       "      <td>1.910540</td>\n",
       "      <td>-0.914708</td>\n",
       "      <td>1</td>\n",
       "      <td>1</td>\n",
       "      <td>-0.258658</td>\n",
       "      <td>0.0</td>\n",
       "      <td>0.0</td>\n",
       "      <td>0.0</td>\n",
       "    </tr>\n",
       "    <tr>\n",
       "      <th>8746</th>\n",
       "      <td>0.103585</td>\n",
       "      <td>-0.476537</td>\n",
       "      <td>1.086801</td>\n",
       "      <td>0.481608</td>\n",
       "      <td>0.820981</td>\n",
       "      <td>0</td>\n",
       "      <td>1</td>\n",
       "      <td>1.422836</td>\n",
       "      <td>0.0</td>\n",
       "      <td>0.0</td>\n",
       "      <td>1.0</td>\n",
       "    </tr>\n",
       "    <tr>\n",
       "      <th>660</th>\n",
       "      <td>-0.184996</td>\n",
       "      <td>0.190726</td>\n",
       "      <td>-0.002420</td>\n",
       "      <td>0.088439</td>\n",
       "      <td>-0.914708</td>\n",
       "      <td>1</td>\n",
       "      <td>1</td>\n",
       "      <td>-1.160427</td>\n",
       "      <td>1.0</td>\n",
       "      <td>0.0</td>\n",
       "      <td>0.0</td>\n",
       "    </tr>\n",
       "    <tr>\n",
       "      <th>3610</th>\n",
       "      <td>-0.720933</td>\n",
       "      <td>1.620574</td>\n",
       "      <td>-1.454715</td>\n",
       "      <td>0.879129</td>\n",
       "      <td>-0.914708</td>\n",
       "      <td>1</td>\n",
       "      <td>0</td>\n",
       "      <td>0.113236</td>\n",
       "      <td>0.0</td>\n",
       "      <td>0.0</td>\n",
       "      <td>0.0</td>\n",
       "    </tr>\n",
       "  </tbody>\n",
       "</table>\n",
       "</div>"
      ],
      "text/plain": [
       "      credit_score       age    tenure   balance  num_of_products  \\\n",
       "2837     -1.040434  0.953312  0.360653  0.774657        -0.914708   \n",
       "9925      0.454006 -0.095244 -0.002420  1.910540        -0.914708   \n",
       "8746      0.103585 -0.476537  1.086801  0.481608         0.820981   \n",
       "660      -0.184996  0.190726 -0.002420  0.088439        -0.914708   \n",
       "3610     -0.720933  1.620574 -1.454715  0.879129        -0.914708   \n",
       "\n",
       "      has_cr_card  is_active_member  estimated_salary  x0_Germany  x0_Spain  \\\n",
       "2837            0                 1         -0.119110         1.0       0.0   \n",
       "9925            1                 1         -0.258658         0.0       0.0   \n",
       "8746            0                 1          1.422836         0.0       0.0   \n",
       "660             1                 1         -1.160427         1.0       0.0   \n",
       "3610            1                 0          0.113236         0.0       0.0   \n",
       "\n",
       "      x1_Male  \n",
       "2837      0.0  \n",
       "9925      0.0  \n",
       "8746      1.0  \n",
       "660       0.0  \n",
       "3610      0.0  "
      ]
     },
     "execution_count": 35,
     "metadata": {},
     "output_type": "execute_result"
    }
   ],
   "source": [
    "features_train[scaler_numeric] = scaler.transform(features_train[scaler_numeric])\n",
    "features_train.head()"
   ]
  },
  {
   "cell_type": "code",
   "execution_count": 36,
   "metadata": {},
   "outputs": [],
   "source": [
    "features_valid[scaler_numeric] = scaler.transform(features_valid[scaler_numeric])\n",
    "#features_valid.head()"
   ]
  },
  {
   "cell_type": "code",
   "execution_count": 37,
   "metadata": {},
   "outputs": [],
   "source": [
    "features_test[scaler_numeric] = scaler.transform(features_test[scaler_numeric])\n",
    "#features_test.head()"
   ]
  },
  {
   "cell_type": "code",
   "execution_count": 38,
   "metadata": {},
   "outputs": [
    {
     "name": "stdout",
     "output_type": "stream",
     "text": [
      "6000 6000\n",
      "2000 2000\n",
      "2000 2000\n"
     ]
    }
   ],
   "source": [
    "print(temp_features_train.shape[0], features_train.shape[0])\n",
    "print(temp_features_valid.shape[0], features_valid.shape[0])\n",
    "print(temp_features_test.shape[0], features_test.shape[0])"
   ]
  },
  {
   "cell_type": "markdown",
   "metadata": {},
   "source": [
    "### Изучим баланс классов"
   ]
  },
  {
   "cell_type": "markdown",
   "metadata": {},
   "source": [
    "Изучим баланс классов"
   ]
  },
  {
   "cell_type": "code",
   "execution_count": 39,
   "metadata": {},
   "outputs": [],
   "source": [
    "targer_class = data['exited'].value_counts(normalize=True)"
   ]
  },
  {
   "cell_type": "code",
   "execution_count": 40,
   "metadata": {},
   "outputs": [
    {
     "data": {
      "image/png": "[encoded data removed]",
      "text/plain": [
       "<Figure size 1200x500 with 1 Axes>"
      ]
     },
     "metadata": {},
     "output_type": "display_data"
    }
   ],
   "source": [
    "plt.figure(figsize=(12, 5))\n",
    "labels = ['Класс 0', 'Класс 1']\n",
    "plt.pie(targer_class, labels=labels)\n",
    "plt.legend()\n",
    "plt.title(\"Баланс классов\")\n",
    "plt.show()"
   ]
  },
  {
   "cell_type": "markdown",
   "metadata": {},
   "source": [
    "__Вывод:__ Пробладает класс 0. Класс 0 в 4 раза больше, чем класса 1."
   ]
  },
  {
   "cell_type": "markdown",
   "metadata": {},
   "source": [
    "### Изучены модели без учёта дисбаланса"
   ]
  },
  {
   "cell_type": "markdown",
   "metadata": {},
   "source": [
    "#### Модель Decision Tree"
   ]
  },
  {
   "cell_type": "code",
   "execution_count": 41,
   "metadata": {},
   "outputs": [
    {
     "name": "stdout",
     "output_type": "stream",
     "text": [
      "F1: 0.5924855491329479 Максимальная глубина 7\n",
      "ROC-AUC: 0.7051626083850626\n"
     ]
    }
   ],
   "source": [
    "best_model = None\n",
    "best_depth = 0\n",
    "best_result = 0\n",
    "for depth in range(1, 15):\n",
    "    clf = DecisionTreeClassifier(random_state=RANDOM_STATE, max_depth=depth)\n",
    "    clf.fit(features_train, target_train)\n",
    "    predictions_valid = clf.predict(features_valid)\n",
    "    result = f1_score(target_valid, predictions_valid)\n",
    "    if result > best_result:\n",
    "        best_model = clf\n",
    "        best_depth = depth\n",
    "        best_result = result\n",
    "print('F1:', best_result, 'Максимальная глубина', best_depth) \n",
    "\n",
    "probabilities_valid = clf.predict_proba(features_valid)\n",
    "probabilities_one_valid = probabilities_valid[:, 1]\n",
    "print(\"ROC-AUC:\", roc_auc_score(target_valid, probabilities_one_valid))"
   ]
  },
  {
   "cell_type": "markdown",
   "metadata": {},
   "source": [
    "#### Модель Logistic Regression"
   ]
  },
  {
   "cell_type": "code",
   "execution_count": 42,
   "metadata": {},
   "outputs": [
    {
     "name": "stdout",
     "output_type": "stream",
     "text": [
      "F1: 0.3076923076923077\n",
      "ROC-AUC: 0.7874806015370971\n"
     ]
    }
   ],
   "source": [
    "clf = LogisticRegression(random_state=RANDOM_STATE, solver='liblinear')\n",
    "clf.fit(features_train, target_train)\n",
    "predictions_valid = clf.predict(features_valid)\n",
    "print('F1:', f1_score(target_valid, predictions_valid)) \n",
    "\n",
    "probabilities_valid = clf.predict_proba(features_valid)\n",
    "probabilities_one_valid = probabilities_valid[:, 1]\n",
    "print(\"ROC-AUC:\", roc_auc_score(target_valid, probabilities_one_valid))"
   ]
  },
  {
   "cell_type": "markdown",
   "metadata": {},
   "source": [
    "#### Модель Random Forest"
   ]
  },
  {
   "cell_type": "code",
   "execution_count": 43,
   "metadata": {},
   "outputs": [
    {
     "name": "stdout",
     "output_type": "stream",
     "text": [
      "F1: 0.6190476190476191 Максимальная глубина: 12 Кол-во дерервьев: 20\n",
      "ROC-AUC: 0.8681712791900681\n"
     ]
    }
   ],
   "source": [
    "best_model = None\n",
    "best_depth = 0\n",
    "best_est = 0\n",
    "best_result = 0\n",
    "for est in range(10, 101, 10):\n",
    "    for depth in range(1, 15):\n",
    "        clf = RandomForestClassifier(random_state=RANDOM_STATE, max_depth=depth, \\\n",
    "                                     n_estimators=est)\n",
    "        clf.fit(features_train, target_train)\n",
    "        predictions_valid = clf.predict(features_valid)\n",
    "        result = f1_score(target_valid, predictions_valid)\n",
    "        if result > best_result:\n",
    "            best_model = clf\n",
    "            best_depth = depth\n",
    "            best_est = est\n",
    "            best_result = result\n",
    "print('F1:', best_result, 'Максимальная глубина:', best_depth, \\\n",
    "      'Кол-во дерервьев:', best_est) \n",
    "\n",
    "probabilities_valid = clf.predict_proba(features_valid)\n",
    "probabilities_one_valid = probabilities_valid[:, 1]\n",
    "print(\"ROC-AUC:\", roc_auc_score(target_valid, probabilities_one_valid))"
   ]
  },
  {
   "cell_type": "markdown",
   "metadata": {},
   "source": [
    "__Вывод:__ Наблюдается дисбаланс в классах. Класс 0 преобладает в данных. Класс 0 в 4 раза больше, чем класса 1. \n",
    "\n",
    "Лучше всего показала себя модель Random Forest Classifier (F1: 0.61, макс. глубина: 12, кол-во дерервьев: 20, ROC-AUC: 0.87)"
   ]
  },
  {
   "cell_type": "markdown",
   "metadata": {},
   "source": [
    "## Борьба с дисбалансом"
   ]
  },
  {
   "cell_type": "markdown",
   "metadata": {},
   "source": [
    "### Взвешивание классов"
   ]
  },
  {
   "cell_type": "markdown",
   "metadata": {},
   "source": [
    "#### Decision Tree"
   ]
  },
  {
   "cell_type": "code",
   "execution_count": 44,
   "metadata": {},
   "outputs": [
    {
     "name": "stdout",
     "output_type": "stream",
     "text": [
      "F1: 0.575925925925926 Максимальная глубина 6\n",
      "ROC-AUC: 0.714938048083555\n"
     ]
    }
   ],
   "source": [
    "best_model = None\n",
    "best_depth = 0\n",
    "best_result = 0\n",
    "for depth in range(1, 15):\n",
    "    clf = DecisionTreeClassifier(random_state=RANDOM_STATE, max_depth=depth, \\\n",
    "                                 class_weight='balanced')\n",
    "    clf.fit(features_train, target_train)\n",
    "    predictions_valid = clf.predict(features_valid)\n",
    "    result = f1_score(target_valid, predictions_valid)\n",
    "    if result > best_result:\n",
    "        best_model = clf\n",
    "        best_depth = depth\n",
    "        best_result = result\n",
    "print('F1:', best_result, 'Максимальная глубина', best_depth) \n",
    "\n",
    "probabilities_valid = clf.predict_proba(features_valid)\n",
    "probabilities_one_valid = probabilities_valid[:, 1]\n",
    "print(\"ROC-AUC:\", roc_auc_score(target_valid, probabilities_one_valid))"
   ]
  },
  {
   "cell_type": "markdown",
   "metadata": {},
   "source": [
    "#### Logistic Regression"
   ]
  },
  {
   "cell_type": "code",
   "execution_count": 45,
   "metadata": {},
   "outputs": [
    {
     "name": "stdout",
     "output_type": "stream",
     "text": [
      "F1: 0.5299295774647889\n",
      "ROC-AUC: 0.7937419942851512\n"
     ]
    }
   ],
   "source": [
    "clf = LogisticRegression(random_state=RANDOM_STATE, solver='liblinear',\\\n",
    "                             class_weight='balanced')\n",
    "clf.fit(features_train, target_train)\n",
    "predictions_valid = clf.predict(features_valid)\n",
    "result = f1_score(target_valid, predictions_valid)\n",
    "print('F1:', result) \n",
    "\n",
    "probabilities_valid = clf.predict_proba(features_valid)\n",
    "probabilities_one_valid = probabilities_valid[:, 1]\n",
    "print(\"ROC-AUC:\", roc_auc_score(target_valid, probabilities_one_valid))"
   ]
  },
  {
   "cell_type": "markdown",
   "metadata": {},
   "source": [
    "#### Random Forest"
   ]
  },
  {
   "cell_type": "code",
   "execution_count": 46,
   "metadata": {},
   "outputs": [
    {
     "name": "stdout",
     "output_type": "stream",
     "text": [
      "F1: 0.6466346153846153 Максимальная глубина: 10 Кол-во дерервьев: 30\n",
      "ROC-AUC: 0.8621308133806287\n"
     ]
    }
   ],
   "source": [
    "# замерим время работы кода\n",
    "#%%time\n",
    "best_model = None\n",
    "best_depth = 0\n",
    "best_est = 0\n",
    "best_result = 0\n",
    "for est in range(10, 101, 10):\n",
    "    for depth in range(1, 15):\n",
    "        clf = RandomForestClassifier(random_state=RANDOM_STATE, max_depth=depth, \\\n",
    "                                     n_estimators=est, class_weight='balanced')\n",
    "        clf.fit(features_train, target_train)\n",
    "        predictions_valid = clf.predict(features_valid)\n",
    "        result = f1_score(target_valid, predictions_valid)\n",
    "        if result > best_result:\n",
    "            best_model = clf\n",
    "            best_depth = depth\n",
    "            best_est = est\n",
    "            best_result = result\n",
    "print('F1:', best_result, 'Максимальная глубина:', best_depth, \\\n",
    "      'Кол-во дерервьев:', best_est) \n",
    "\n",
    "\n",
    "probabilities_valid = clf.predict_proba(features_valid)\n",
    "probabilities_one_valid = probabilities_valid[:, 1]\n",
    "print(\"ROC-AUC:\", roc_auc_score(target_valid, probabilities_one_valid))"
   ]
  },
  {
   "cell_type": "markdown",
   "metadata": {},
   "source": [
    "__Вывод:__ Лучше всего себя показала модель Random Forest Classifier (F1: 0.65, Макс. глубина: 10, кол-во дерервьев: 30, ROC-AUC: 0.86)"
   ]
  },
  {
   "cell_type": "markdown",
   "metadata": {},
   "source": [
    "### Увеличим выборку"
   ]
  },
  {
   "cell_type": "markdown",
   "metadata": {},
   "source": [
    "Увеличим выборку (upsample)"
   ]
  },
  {
   "cell_type": "code",
   "execution_count": 47,
   "metadata": {},
   "outputs": [],
   "source": [
    "def upsample(features, target, repeat):\n",
    "    features_zeros = features[target == 0]\n",
    "    features_ones = features[target == 1]\n",
    "    target_zeros = target[target == 0]\n",
    "    target_ones = target[target == 1]\n",
    "\n",
    "    features_upsample = pd.concat(([features_zeros] + [features_ones]) * repeat)\n",
    "    target_upsample = pd.concat(([target_zeros] + [target_ones]) * repeat)\n",
    "    \n",
    "    features_upsample, target_upsample = shuffle(\n",
    "        features_upsample, target_upsample, random_state=12345)\n",
    "    \n",
    "    return features_upsample, target_upsample"
   ]
  },
  {
   "cell_type": "code",
   "execution_count": 48,
   "metadata": {},
   "outputs": [
    {
     "name": "stdout",
     "output_type": "stream",
     "text": [
      "6000 6000\n",
      "24000 24000\n"
     ]
    }
   ],
   "source": [
    "features_upsample, target_upsample = upsample(features_train, target_train, 4)\n",
    "print(features_train.shape[0], target_train.shape[0])\n",
    "print(features_upsample.shape[0], target_upsample.shape[0])"
   ]
  },
  {
   "cell_type": "markdown",
   "metadata": {},
   "source": [
    "#### Decision Tree"
   ]
  },
  {
   "cell_type": "code",
   "execution_count": 49,
   "metadata": {
    "scrolled": true
   },
   "outputs": [
    {
     "name": "stdout",
     "output_type": "stream",
     "text": [
      "F1: 0.5924855491329479 Максимальная глубина 7\n",
      "ROC-AUC: 0.7051626083850626\n"
     ]
    }
   ],
   "source": [
    "best_model = None\n",
    "best_depth = 0\n",
    "best_result = 0\n",
    "for depth in range(1, 15):\n",
    "    clf = DecisionTreeClassifier(random_state=RANDOM_STATE, max_depth=depth)\n",
    "    clf.fit(features_upsample, target_upsample)\n",
    "    predictions_valid = clf.predict(features_valid)\n",
    "    result = f1_score(target_valid, predictions_valid)\n",
    "    if result > best_result:\n",
    "        best_model = clf\n",
    "        best_depth = depth\n",
    "        best_result = result\n",
    "print('F1:', best_result, 'Максимальная глубина', best_depth) \n",
    "\n",
    "probabilities_valid = clf.predict_proba(features_valid)\n",
    "probabilities_one_valid = probabilities_valid[:, 1]\n",
    "print(\"ROC-AUC:\", roc_auc_score(target_valid, probabilities_one_valid))"
   ]
  },
  {
   "cell_type": "markdown",
   "metadata": {},
   "source": [
    "#### Logistic Regression"
   ]
  },
  {
   "cell_type": "code",
   "execution_count": 50,
   "metadata": {},
   "outputs": [
    {
     "name": "stdout",
     "output_type": "stream",
     "text": [
      "F1: 0.3102189781021898\n",
      "ROC-AUC: 0.7874190191151839\n"
     ]
    }
   ],
   "source": [
    "clf = LogisticRegression(random_state=RANDOM_STATE, solver='liblinear')\n",
    "clf.fit(features_upsample, target_upsample)\n",
    "predictions_valid = clf.predict(features_valid)\n",
    "print('F1:', f1_score(target_valid, predictions_valid)) \n",
    "\n",
    "probabilities_valid = clf.predict_proba(features_valid)\n",
    "probabilities_one_valid = probabilities_valid[:, 1]\n",
    "print(\"ROC-AUC:\", roc_auc_score(target_valid, probabilities_one_valid))"
   ]
  },
  {
   "cell_type": "markdown",
   "metadata": {},
   "source": [
    "#### Random Forest"
   ]
  },
  {
   "cell_type": "code",
   "execution_count": 51,
   "metadata": {},
   "outputs": [
    {
     "name": "stdout",
     "output_type": "stream",
     "text": [
      "F1: 0.6151560178306092 Максимальная глубина: 13 Кол-во дерервьев: 60\n",
      "ROC-AUC: 0.8618875628140704\n"
     ]
    }
   ],
   "source": [
    "best_model = None\n",
    "best_depth = 0\n",
    "best_est = 0\n",
    "best_result = 0\n",
    "for est in range(10, 101, 10):\n",
    "    for depth in range(1, 15):\n",
    "        clf = RandomForestClassifier(random_state=RANDOM_STATE, max_depth=depth, \\\n",
    "                                     n_estimators=est)\n",
    "        clf.fit(features_upsample, target_upsample)\n",
    "        predictions_valid = clf.predict(features_valid)\n",
    "        result = f1_score(target_valid, predictions_valid)\n",
    "        if result > best_result:\n",
    "            best_model = clf\n",
    "            best_depth = depth\n",
    "            best_est = est\n",
    "            best_result = result\n",
    "print('F1:', best_result, 'Максимальная глубина:', best_depth, \\\n",
    "      'Кол-во дерервьев:', best_est) \n",
    "\n",
    "\n",
    "probabilities_valid = clf.predict_proba(features_valid)\n",
    "probabilities_one_valid = probabilities_valid[:, 1]\n",
    "print(\"ROC-AUC:\", roc_auc_score(target_valid, probabilities_one_valid))"
   ]
  },
  {
   "cell_type": "markdown",
   "metadata": {},
   "source": [
    "Лучше всего себя показала модель Random Forest Classifier (F1: 0.62, Макс. глубина: 13, кол-во дерервьев: 60, ROC-AUC: 0.86)"
   ]
  },
  {
   "cell_type": "markdown",
   "metadata": {},
   "source": [
    "### Уменьшаем выборку (downsample)"
   ]
  },
  {
   "cell_type": "markdown",
   "metadata": {},
   "source": [
    "Применяем метод downsample для уменьшения выборки"
   ]
  },
  {
   "cell_type": "code",
   "execution_count": 52,
   "metadata": {},
   "outputs": [],
   "source": [
    "# замерим время работы кода\n",
    "def downsample(features, target, fraction):\n",
    "    features_zeros = features[target == 0]\n",
    "    features_ones = features[target == 1]\n",
    "    target_zeros = target[target == 0]\n",
    "    target_ones = target[target == 1]\n",
    "\n",
    "    features_zeros = features_zeros.sample(frac=fraction, random_state=12345)\n",
    "    target_zeros = target_zeros.sample(frac=fraction, random_state=12345)\n",
    "\n",
    "    features_downsample = pd.concat(([features_zeros] + [features_ones]))\n",
    "    target_downsample = pd.concat(([target_zeros] + [target_ones]))\n",
    "    \n",
    "    features_downsample, target_downsample = shuffle(\n",
    "        features_downsample, target_downsample, random_state=12345)\n",
    "    \n",
    "    return features_downsample, target_downsample"
   ]
  },
  {
   "cell_type": "code",
   "execution_count": 53,
   "metadata": {},
   "outputs": [
    {
     "name": "stdout",
     "output_type": "stream",
     "text": [
      "6000 6000\n",
      "2416 2416\n"
     ]
    }
   ],
   "source": [
    "# замерим время работы кода\n",
    "features_downsample, target_downsample = downsample(features_train, \\\n",
    "                                                    target_train, 0.25)\n",
    "print(features_train.shape[0], target_train.shape[0])\n",
    "print(features_downsample.shape[0], target_downsample.shape[0])"
   ]
  },
  {
   "cell_type": "markdown",
   "metadata": {},
   "source": [
    "#### Decision Tree"
   ]
  },
  {
   "cell_type": "code",
   "execution_count": 54,
   "metadata": {},
   "outputs": [
    {
     "name": "stdout",
     "output_type": "stream",
     "text": [
      "F1: 0.5944919278252612 Максимальная глубина 6\n",
      "ROC-AUC: 0.7298386848457977\n"
     ]
    }
   ],
   "source": [
    "best_model = None\n",
    "best_depth = 0\n",
    "best_result = 0\n",
    "for depth in range(1, 15):\n",
    "    clf = DecisionTreeClassifier(random_state=RANDOM_STATE, max_depth=depth)\n",
    "    clf.fit(features_downsample, target_downsample)\n",
    "    predictions_valid = clf.predict(features_valid)\n",
    "    result = f1_score(target_valid, predictions_valid)\n",
    "    if result > best_result:\n",
    "        best_model = clf\n",
    "        best_depth = depth\n",
    "        best_result = result\n",
    "print('F1:', best_result, 'Максимальная глубина', best_depth) \n",
    "\n",
    "probabilities_valid = clf.predict_proba(features_valid)\n",
    "probabilities_one_valid = probabilities_valid[:, 1]\n",
    "print(\"ROC-AUC:\", roc_auc_score(target_valid, probabilities_one_valid))"
   ]
  },
  {
   "cell_type": "markdown",
   "metadata": {},
   "source": [
    "#### Logistic Regression"
   ]
  },
  {
   "cell_type": "code",
   "execution_count": 55,
   "metadata": {},
   "outputs": [
    {
     "name": "stdout",
     "output_type": "stream",
     "text": [
      "F1: 0.5275862068965517\n",
      "ROC-AUC: 0.7925673095871515\n"
     ]
    }
   ],
   "source": [
    "clf = LogisticRegression(random_state=RANDOM_STATE, solver='liblinear')\n",
    "clf.fit(features_downsample, target_downsample)\n",
    "predictions_valid = clf.predict(features_valid)\n",
    "print('F1:', f1_score(target_valid, predictions_valid)) \n",
    "\n",
    "probabilities_valid = clf.predict_proba(features_valid)\n",
    "probabilities_one_valid = probabilities_valid[:, 1]\n",
    "print(\"ROC-AUC:\", roc_auc_score(target_valid, probabilities_one_valid))"
   ]
  },
  {
   "cell_type": "markdown",
   "metadata": {},
   "source": [
    "#### Модель Random Forest"
   ]
  },
  {
   "cell_type": "code",
   "execution_count": 56,
   "metadata": {},
   "outputs": [
    {
     "name": "stdout",
     "output_type": "stream",
     "text": [
      "F1: 0.6357487922705315 Максимальная глубина: 7 Кол-во дерервьев: 40\n",
      "ROC-AUC: 0.8608014028475712\n"
     ]
    }
   ],
   "source": [
    "# замерим время работы кода \n",
    "best_model = None\n",
    "best_depth = 0\n",
    "best_est = 0\n",
    "best_result = 0\n",
    "for est in range(10, 101, 10):\n",
    "    for depth in range(1, 15):\n",
    "        clf = RandomForestClassifier(random_state=RANDOM_STATE, max_depth=depth, \\\n",
    "                                     n_estimators=est)\n",
    "        clf.fit(features_downsample, target_downsample)\n",
    "        predictions_valid = clf.predict(features_valid)\n",
    "        result = f1_score(target_valid, predictions_valid)\n",
    "        if result > best_result:\n",
    "            best_model = clf\n",
    "            best_depth = depth\n",
    "            best_est = est\n",
    "            best_result = result\n",
    "print('F1:', best_result, 'Максимальная глубина:', best_depth, \\\n",
    "      'Кол-во дерервьев:', best_est) \n",
    "\n",
    "probabilities_valid = clf.predict_proba(features_valid)\n",
    "probabilities_one_valid = probabilities_valid[:, 1]\n",
    "print(\"ROC-AUC:\", roc_auc_score(target_valid, probabilities_one_valid))"
   ]
  },
  {
   "cell_type": "markdown",
   "metadata": {},
   "source": [
    "Лучше всего себя показала модель Random Forest Classifier (F1: 0.63, Макс. глубина: 7, кол-во дерервьев: 40, ROC-AUC: 0.86)"
   ]
  },
  {
   "cell_type": "markdown",
   "metadata": {},
   "source": [
    "### Соберем все параметры F1 вместе"
   ]
  },
  {
   "cell_type": "code",
   "execution_count": 57,
   "metadata": {},
   "outputs": [
    {
     "data": {
      "text/html": [
       "<div>\n",
       "<style scoped>\n",
       "    .dataframe tbody tr th:only-of-type {\n",
       "        vertical-align: middle;\n",
       "    }\n",
       "\n",
       "    .dataframe tbody tr th {\n",
       "        vertical-align: top;\n",
       "    }\n",
       "\n",
       "    .dataframe thead th {\n",
       "        text-align: right;\n",
       "    }\n",
       "</style>\n",
       "<table border=\"1\" class=\"dataframe\">\n",
       "  <thead>\n",
       "    <tr style=\"text-align: right;\">\n",
       "      <th></th>\n",
       "      <th>Model Name</th>\n",
       "      <th>Initial</th>\n",
       "      <th>Weigh</th>\n",
       "      <th>Upsample</th>\n",
       "      <th>Downsample</th>\n",
       "    </tr>\n",
       "  </thead>\n",
       "  <tbody>\n",
       "    <tr>\n",
       "      <th>0</th>\n",
       "      <td>Tree</td>\n",
       "      <td>0.59</td>\n",
       "      <td>0.58</td>\n",
       "      <td>0.52</td>\n",
       "      <td>0.59</td>\n",
       "    </tr>\n",
       "    <tr>\n",
       "      <th>1</th>\n",
       "      <td>Reg</td>\n",
       "      <td>0.30</td>\n",
       "      <td>0.53</td>\n",
       "      <td>0.32</td>\n",
       "      <td>0.53</td>\n",
       "    </tr>\n",
       "    <tr>\n",
       "      <th>2</th>\n",
       "      <td>Forest</td>\n",
       "      <td>0.61</td>\n",
       "      <td>0.65</td>\n",
       "      <td>0.62</td>\n",
       "      <td>0.64</td>\n",
       "    </tr>\n",
       "  </tbody>\n",
       "</table>\n",
       "</div>"
      ],
      "text/plain": [
       "  Model Name  Initial  Weigh  Upsample  Downsample\n",
       "0       Tree     0.59   0.58      0.52        0.59\n",
       "1        Reg     0.30   0.53      0.32        0.53\n",
       "2     Forest     0.61   0.65      0.62        0.64"
      ]
     },
     "execution_count": 57,
     "metadata": {},
     "output_type": "execute_result"
    }
   ],
   "source": [
    "model_name = ['Tree', 'Reg', 'Forest']\n",
    "initial_values = [0.59, 0.30, 0.61]\n",
    "weight_values = [0.58, 0.53, 0.65]\n",
    "up_values = [0.52, 0.32, 0.62]\n",
    "down_values = [0.59, 0.53, 0.64]\n",
    "\n",
    "data_metrics = pd.DataFrame({'Model Name': model_name,\n",
    "                           'Initial': initial_values,\n",
    "                           'Weigh': weight_values,\n",
    "                           'Upsample': up_values,\n",
    "                           'Downsample': down_values})\n",
    "                            \n",
    "data_metrics"
   ]
  },
  {
   "cell_type": "markdown",
   "metadata": {},
   "source": [
    "__Вывод:__ Лучше всего показали себя две модель Random Forest Classifier с взвешивание классов,\n",
    "F1 = 0.65."
   ]
  },
  {
   "cell_type": "markdown",
   "metadata": {},
   "source": [
    "## Тестирование модели"
   ]
  },
  {
   "cell_type": "markdown",
   "metadata": {},
   "source": [
    "Будем использовать модель Random Forest Classifier с взвешивание классов, этот метод показал себя лучше всего и занимает меньше времени."
   ]
  },
  {
   "cell_type": "code",
   "execution_count": 58,
   "metadata": {},
   "outputs": [
    {
     "name": "stdout",
     "output_type": "stream",
     "text": [
      "F1: 0.6490384615384616 Максимальная глубина: 10 Кол-во дерервьев: 95\n",
      "ROC-AUC: 0.8621308133806287\n"
     ]
    }
   ],
   "source": [
    "# подберем параметры\n",
    "best_model = None\n",
    "best_est = 0\n",
    "beart_depth = 0\n",
    "best_result =0\n",
    "for est in range(10, 101, 5):\n",
    "    for depth in range(1, 15):\n",
    "        clf = RandomForestClassifier(random_state=RANDOM_STATE,\n",
    "                                              n_estimators=est, \n",
    "                                              max_depth=depth,\n",
    "                                              class_weight='balanced')\n",
    "        clf.fit(features_train, target_train)\n",
    "        predictions_valid_forest = clf.predict(features_valid)\n",
    "        result = f1_score(target_valid, predictions_valid_forest)\n",
    "        if result > best_result:\n",
    "            best_model = clf\n",
    "            best_est = est\n",
    "            best_depth = depth\n",
    "            best_result = result\n",
    "\n",
    "print('F1:', best_result, 'Максимальная глубина:', best_depth, \\\n",
    "      'Кол-во дерервьев:', best_est) \n",
    "\n",
    "probabilities_valid = clf.predict_proba(features_valid)\n",
    "probabilities_one_valid = probabilities_valid[:, 1]\n",
    "print(\"ROC-AUC:\", roc_auc_score(target_valid, probabilities_one_valid))"
   ]
  },
  {
   "cell_type": "code",
   "execution_count": 59,
   "metadata": {},
   "outputs": [
    {
     "name": "stdout",
     "output_type": "stream",
     "text": [
      "F1: 0.5914110429447853\n",
      "ROC-AUC: 0.8522775471928014\n"
     ]
    }
   ],
   "source": [
    "# Протестируем модель\n",
    "clf = RandomForestClassifier(random_state=RANDOM_STATE, n_estimators=95, max_depth=10,\n",
    "                                     class_weight='balanced')\n",
    "clf.fit(features_train, target_train)\n",
    "predictions_test_forest = clf.predict(features_test)\n",
    "print(\"F1:\", f1_score(target_test, predictions_test_forest))\n",
    "\n",
    "probabilities_test = clf.predict_proba(features_test)\n",
    "probabilities_one_test = probabilities_test[:, 1]\n",
    "print(\"ROC-AUC:\", roc_auc_score(target_test, probabilities_one_test))"
   ]
  },
  {
   "cell_type": "code",
   "execution_count": 60,
   "metadata": {},
   "outputs": [
    {
     "data": {
      "image/png": "[encoded data removed]",
      "text/plain": [
       "<Figure size 1200x500 with 1 Axes>"
      ]
     },
     "metadata": {},
     "output_type": "display_data"
    }
   ],
   "source": [
    "# построим график ROC-кривой\n",
    "fpr, tpr, thresholds = roc_curve(target_test, probabilities_one_test) \n",
    "\n",
    "plt.figure(figsize=(12, 5))\n",
    "plt.plot(fpr, tpr, linestyle='--')\n",
    "plt.plot([0, 1], [0, 1], linestyle='--')\n",
    "plt.xlim(0, 1)\n",
    "plt.ylim(0, 1)\n",
    "plt.xlabel(\"False Positive Rate\") \n",
    "plt.ylabel(\"True Positive Rate\") \n",
    "plt.title(\"ROC-кривая\")\n",
    "plt.show()"
   ]
  },
  {
   "cell_type": "markdown",
   "metadata": {},
   "source": [
    "__Вывод:__ На тестовой выборке мы использовали модель Random Forest Classifier c параметром class_weight='balanced'. \n",
    "\n",
    "На тестовой выборке с глубиной 8 и кол-вом деревьев 100 нам удалось добиться следующих метрик:\n",
    "\n",
    "* F1: 0.60\n",
    "* ROC-AUC: 0.85"
   ]
  },
  {
   "cell_type": "markdown",
   "metadata": {},
   "source": [
    "## Вывод"
   ]
  },
  {
   "cell_type": "markdown",
   "metadata": {},
   "source": [
    "__Общий вывод:__\n",
    "\n",
    "1) В процессе построения модели предсказания оттока клиентов была произведена преподготовка данных:\n",
    " * Удалины лишние колонки\n",
    " * Сделано кодирование признаков методом ОНЕ\n",
    " * Проведено масштабирование признаков\n",
    " * Пропуска в данных были заменены на подходящие значения\n",
    " \n",
    "2) Были изучены три модели без учета дисбаланса классов: \n",
    "* Модель Решающего дерева (F1=0.59)\n",
    "* Модель Логистической регрессии (F1=0.30)\n",
    "* Модель Случайного леса (F1=0.61)\n",
    "\n",
    "3) В процессе борьбы с дисбалансом были применены три метода и изучено поведение трех моделей:\n",
    "\n",
    "* Взвешивание классов\n",
    " * Модель Решающего дерева (F1=0.58)\n",
    " * Модель Логистической регрессии (F1=0.53)\n",
    " * Модель Случайного леса (F1=0.65)\n",
    " \n",
    "* Увеличение выборку (upsample)\n",
    " * Модель Решающего дерева (F1=0.52)\n",
    " * Модель Логистической регрессии (F1=0.31)\n",
    " * Модель Случайного леса (F1=0.62) \n",
    "  \n",
    "* Уменьшаем выборку (downsample)\n",
    " * Модель Решающего дерева (F1=0.59)\n",
    " * Модель Логистической регрессии (F1=0.53)\n",
    " * Модель Случайного леса (F1=0.64)\n",
    " \n",
    "4) На тестовой выборке мы использовали модель модель Случайного леса с взвешиванием классов. Нам удалось достигнуть на тестовой выборке с глубиной 8 и кол-вом деревьев 100 следующих метрик:\n",
    "\n",
    "* F1: 0.60\n",
    "\n",
    "* ROC-AUC: 0.85 \n",
    "\n",
    "5) ROC-AUC стабильно показывает более высокие значения, чем F1. Метрика более уйстойчива к несбалансированным классам. Более стабильна."
   ]
  },
  {
   "cell_type": "code",
   "execution_count": null,
   "metadata": {},
   "outputs": [],
   "source": []
  }
 ],
 "metadata": {
  "ExecuteTimeLog": [
   {
    "duration": 1298,
    "start_time": "2023-06-29T20:12:05.427Z"
   },
   {
    "duration": 195,
    "start_time": "2023-06-29T20:14:52.627Z"
   },
   {
    "duration": 31,
    "start_time": "2023-06-29T20:15:02.557Z"
   },
   {
    "duration": 18,
    "start_time": "2023-06-29T20:18:34.017Z"
   },
   {
    "duration": 5,
    "start_time": "2023-06-29T20:19:19.216Z"
   },
   {
    "duration": 6,
    "start_time": "2023-06-29T20:19:28.047Z"
   },
   {
    "duration": 24,
    "start_time": "2023-06-29T20:19:49.497Z"
   },
   {
    "duration": 123,
    "start_time": "2023-06-29T20:23:25.712Z"
   },
   {
    "duration": 60,
    "start_time": "2023-06-29T20:23:43.844Z"
   },
   {
    "duration": 5,
    "start_time": "2023-06-29T20:32:37.048Z"
   },
   {
    "duration": 29,
    "start_time": "2023-06-29T20:32:48.658Z"
   },
   {
    "duration": 6,
    "start_time": "2023-06-29T20:33:04.538Z"
   },
   {
    "duration": 32,
    "start_time": "2023-06-29T20:33:05.258Z"
   },
   {
    "duration": 3,
    "start_time": "2023-06-29T20:33:13.951Z"
   },
   {
    "duration": 13,
    "start_time": "2023-06-29T20:37:07.298Z"
   },
   {
    "duration": 6,
    "start_time": "2023-06-29T20:42:14.517Z"
   },
   {
    "duration": 12,
    "start_time": "2023-06-29T20:42:26.808Z"
   },
   {
    "duration": 3,
    "start_time": "2023-06-29T20:42:41.457Z"
   },
   {
    "duration": 3,
    "start_time": "2023-06-29T20:42:45.308Z"
   },
   {
    "duration": 14,
    "start_time": "2023-06-29T20:49:35.964Z"
   },
   {
    "duration": 7,
    "start_time": "2023-06-29T20:50:17.003Z"
   },
   {
    "duration": 20,
    "start_time": "2023-06-29T20:51:54.774Z"
   },
   {
    "duration": 1315,
    "start_time": "2023-06-29T20:52:06.097Z"
   },
   {
    "duration": 51,
    "start_time": "2023-06-29T20:52:07.415Z"
   },
   {
    "duration": 28,
    "start_time": "2023-06-29T20:52:07.469Z"
   },
   {
    "duration": 20,
    "start_time": "2023-06-29T20:52:07.499Z"
   },
   {
    "duration": 55,
    "start_time": "2023-06-29T20:52:07.523Z"
   },
   {
    "duration": 49,
    "start_time": "2023-06-29T20:52:07.580Z"
   },
   {
    "duration": 6,
    "start_time": "2023-06-29T20:52:07.632Z"
   },
   {
    "duration": 31,
    "start_time": "2023-06-29T20:52:07.640Z"
   },
   {
    "duration": 9,
    "start_time": "2023-06-29T20:52:07.674Z"
   },
   {
    "duration": 23,
    "start_time": "2023-06-29T20:52:07.685Z"
   },
   {
    "duration": 9,
    "start_time": "2023-06-29T20:52:07.711Z"
   },
   {
    "duration": 54,
    "start_time": "2023-06-29T20:52:07.722Z"
   },
   {
    "duration": 4,
    "start_time": "2023-06-29T20:52:52.243Z"
   },
   {
    "duration": 3,
    "start_time": "2023-06-29T20:53:10.644Z"
   },
   {
    "duration": 15,
    "start_time": "2023-06-29T20:55:26.794Z"
   },
   {
    "duration": 15,
    "start_time": "2023-06-29T20:55:37.752Z"
   },
   {
    "duration": 68,
    "start_time": "2023-06-29T20:57:12.733Z"
   },
   {
    "duration": 6,
    "start_time": "2023-06-29T20:58:37.903Z"
   },
   {
    "duration": 127,
    "start_time": "2023-06-29T20:59:10.985Z"
   },
   {
    "duration": 16,
    "start_time": "2023-06-29T20:59:20.095Z"
   },
   {
    "duration": 6,
    "start_time": "2023-06-29T21:00:07.045Z"
   },
   {
    "duration": 79,
    "start_time": "2023-06-29T21:05:51.625Z"
   },
   {
    "duration": 1327,
    "start_time": "2023-06-29T21:08:15.490Z"
   },
   {
    "duration": 48,
    "start_time": "2023-06-29T21:08:16.819Z"
   },
   {
    "duration": 36,
    "start_time": "2023-06-29T21:08:16.870Z"
   },
   {
    "duration": 15,
    "start_time": "2023-06-29T21:08:16.908Z"
   },
   {
    "duration": 25,
    "start_time": "2023-06-29T21:08:16.925Z"
   },
   {
    "duration": 49,
    "start_time": "2023-06-29T21:08:16.969Z"
   },
   {
    "duration": 5,
    "start_time": "2023-06-29T21:08:17.020Z"
   },
   {
    "duration": 5,
    "start_time": "2023-06-29T21:08:17.027Z"
   },
   {
    "duration": 71,
    "start_time": "2023-06-29T21:08:17.033Z"
   },
   {
    "duration": 0,
    "start_time": "2023-06-29T21:08:17.107Z"
   },
   {
    "duration": 0,
    "start_time": "2023-06-29T21:08:17.109Z"
   },
   {
    "duration": 0,
    "start_time": "2023-06-29T21:08:17.110Z"
   },
   {
    "duration": 0,
    "start_time": "2023-06-29T21:08:17.111Z"
   },
   {
    "duration": 0,
    "start_time": "2023-06-29T21:08:17.112Z"
   },
   {
    "duration": 0,
    "start_time": "2023-06-29T21:08:17.114Z"
   },
   {
    "duration": 0,
    "start_time": "2023-06-29T21:08:17.115Z"
   },
   {
    "duration": 14,
    "start_time": "2023-06-29T21:09:11.551Z"
   },
   {
    "duration": 76,
    "start_time": "2023-06-29T21:13:34.756Z"
   },
   {
    "duration": 6,
    "start_time": "2023-06-29T21:13:47.558Z"
   },
   {
    "duration": 14,
    "start_time": "2023-06-29T21:13:51.328Z"
   },
   {
    "duration": 5,
    "start_time": "2023-06-29T21:13:56.839Z"
   },
   {
    "duration": 22,
    "start_time": "2023-06-29T21:13:57.571Z"
   },
   {
    "duration": 13,
    "start_time": "2023-06-29T21:14:01.828Z"
   },
   {
    "duration": 5,
    "start_time": "2023-06-29T21:14:08.529Z"
   },
   {
    "duration": 13,
    "start_time": "2023-06-29T21:14:10.001Z"
   },
   {
    "duration": 1270,
    "start_time": "2023-06-29T21:14:38.171Z"
   },
   {
    "duration": 47,
    "start_time": "2023-06-29T21:14:39.443Z"
   },
   {
    "duration": 25,
    "start_time": "2023-06-29T21:14:39.492Z"
   },
   {
    "duration": 27,
    "start_time": "2023-06-29T21:14:39.520Z"
   },
   {
    "duration": 41,
    "start_time": "2023-06-29T21:14:39.549Z"
   },
   {
    "duration": 46,
    "start_time": "2023-06-29T21:14:39.592Z"
   },
   {
    "duration": 5,
    "start_time": "2023-06-29T21:14:39.639Z"
   },
   {
    "duration": 39,
    "start_time": "2023-06-29T21:14:39.645Z"
   },
   {
    "duration": 6,
    "start_time": "2023-06-29T21:14:39.686Z"
   },
   {
    "duration": 31,
    "start_time": "2023-06-29T21:14:39.693Z"
   },
   {
    "duration": 19,
    "start_time": "2023-06-29T21:14:39.727Z"
   },
   {
    "duration": 10,
    "start_time": "2023-06-29T21:14:39.748Z"
   },
   {
    "duration": 35,
    "start_time": "2023-06-29T21:14:39.761Z"
   },
   {
    "duration": 23,
    "start_time": "2023-06-29T21:14:39.799Z"
   },
   {
    "duration": 5,
    "start_time": "2023-06-29T21:14:39.824Z"
   },
   {
    "duration": 151,
    "start_time": "2023-06-29T21:14:39.832Z"
   },
   {
    "duration": 1276,
    "start_time": "2023-06-29T21:15:11.940Z"
   },
   {
    "duration": 52,
    "start_time": "2023-06-29T21:15:13.219Z"
   },
   {
    "duration": 26,
    "start_time": "2023-06-29T21:15:13.280Z"
   },
   {
    "duration": 14,
    "start_time": "2023-06-29T21:15:13.308Z"
   },
   {
    "duration": 24,
    "start_time": "2023-06-29T21:15:13.324Z"
   },
   {
    "duration": 56,
    "start_time": "2023-06-29T21:15:13.369Z"
   },
   {
    "duration": 7,
    "start_time": "2023-06-29T21:15:13.427Z"
   },
   {
    "duration": 32,
    "start_time": "2023-06-29T21:15:13.436Z"
   },
   {
    "duration": 11,
    "start_time": "2023-06-29T21:15:13.472Z"
   },
   {
    "duration": 21,
    "start_time": "2023-06-29T21:15:13.486Z"
   },
   {
    "duration": 7,
    "start_time": "2023-06-29T21:15:13.510Z"
   },
   {
    "duration": 11,
    "start_time": "2023-06-29T21:15:13.519Z"
   },
   {
    "duration": 47,
    "start_time": "2023-06-29T21:15:13.532Z"
   },
   {
    "duration": 22,
    "start_time": "2023-06-29T21:15:13.586Z"
   },
   {
    "duration": 6,
    "start_time": "2023-06-29T21:15:13.610Z"
   },
   {
    "duration": 175,
    "start_time": "2023-06-29T21:15:13.618Z"
   },
   {
    "duration": 73,
    "start_time": "2023-06-29T21:17:20.671Z"
   },
   {
    "duration": 5,
    "start_time": "2023-06-29T21:17:28.500Z"
   },
   {
    "duration": 1399,
    "start_time": "2023-06-29T21:20:34.718Z"
   },
   {
    "duration": 45,
    "start_time": "2023-06-29T21:20:36.119Z"
   },
   {
    "duration": 25,
    "start_time": "2023-06-29T21:20:36.166Z"
   },
   {
    "duration": 20,
    "start_time": "2023-06-29T21:20:36.194Z"
   },
   {
    "duration": 26,
    "start_time": "2023-06-29T21:20:36.216Z"
   },
   {
    "duration": 46,
    "start_time": "2023-06-29T21:20:36.267Z"
   },
   {
    "duration": 5,
    "start_time": "2023-06-29T21:20:36.316Z"
   },
   {
    "duration": 30,
    "start_time": "2023-06-29T21:20:36.323Z"
   },
   {
    "duration": 231,
    "start_time": "2023-06-29T21:20:36.368Z"
   },
   {
    "duration": 0,
    "start_time": "2023-06-29T21:20:36.602Z"
   },
   {
    "duration": 0,
    "start_time": "2023-06-29T21:20:36.604Z"
   },
   {
    "duration": 0,
    "start_time": "2023-06-29T21:20:36.606Z"
   },
   {
    "duration": 0,
    "start_time": "2023-06-29T21:20:36.607Z"
   },
   {
    "duration": 0,
    "start_time": "2023-06-29T21:20:36.612Z"
   },
   {
    "duration": 0,
    "start_time": "2023-06-29T21:20:36.613Z"
   },
   {
    "duration": 1295,
    "start_time": "2023-06-29T21:21:20.910Z"
   },
   {
    "duration": 51,
    "start_time": "2023-06-29T21:21:22.207Z"
   },
   {
    "duration": 36,
    "start_time": "2023-06-29T21:21:22.261Z"
   },
   {
    "duration": 21,
    "start_time": "2023-06-29T21:21:22.299Z"
   },
   {
    "duration": 46,
    "start_time": "2023-06-29T21:21:22.323Z"
   },
   {
    "duration": 44,
    "start_time": "2023-06-29T21:21:22.374Z"
   },
   {
    "duration": 5,
    "start_time": "2023-06-29T21:21:22.421Z"
   },
   {
    "duration": 14,
    "start_time": "2023-06-29T21:21:22.428Z"
   },
   {
    "duration": 6,
    "start_time": "2023-06-29T21:21:22.466Z"
   },
   {
    "duration": 5,
    "start_time": "2023-06-29T21:21:22.475Z"
   },
   {
    "duration": 13,
    "start_time": "2023-06-29T21:21:22.482Z"
   },
   {
    "duration": 14,
    "start_time": "2023-06-29T21:21:22.497Z"
   },
   {
    "duration": 15,
    "start_time": "2023-06-29T21:21:22.513Z"
   },
   {
    "duration": 9,
    "start_time": "2023-06-29T21:21:22.530Z"
   },
   {
    "duration": 156,
    "start_time": "2023-06-29T21:21:22.566Z"
   },
   {
    "duration": 17,
    "start_time": "2023-06-29T21:21:36.617Z"
   },
   {
    "duration": 4,
    "start_time": "2023-06-29T21:21:54.950Z"
   },
   {
    "duration": 17,
    "start_time": "2023-06-29T21:21:55.905Z"
   },
   {
    "duration": 1243,
    "start_time": "2023-06-29T21:24:12.214Z"
   },
   {
    "duration": 45,
    "start_time": "2023-06-29T21:24:13.459Z"
   },
   {
    "duration": 24,
    "start_time": "2023-06-29T21:24:13.507Z"
   },
   {
    "duration": 3,
    "start_time": "2023-06-29T21:24:13.534Z"
   },
   {
    "duration": 25,
    "start_time": "2023-06-29T21:24:13.539Z"
   },
   {
    "duration": 34,
    "start_time": "2023-06-29T21:24:13.567Z"
   },
   {
    "duration": 95,
    "start_time": "2023-06-29T21:24:13.603Z"
   },
   {
    "duration": 6,
    "start_time": "2023-06-29T21:24:13.701Z"
   },
   {
    "duration": 14,
    "start_time": "2023-06-29T21:24:13.709Z"
   },
   {
    "duration": 9,
    "start_time": "2023-06-29T21:24:13.727Z"
   },
   {
    "duration": 5,
    "start_time": "2023-06-29T21:24:13.767Z"
   },
   {
    "duration": 27,
    "start_time": "2023-06-29T21:24:13.775Z"
   },
   {
    "duration": 21,
    "start_time": "2023-06-29T21:24:13.805Z"
   },
   {
    "duration": 153,
    "start_time": "2023-06-29T21:24:13.828Z"
   },
   {
    "duration": 0,
    "start_time": "2023-06-29T21:24:13.983Z"
   },
   {
    "duration": 0,
    "start_time": "2023-06-29T21:24:13.985Z"
   },
   {
    "duration": 0,
    "start_time": "2023-06-29T21:24:13.986Z"
   },
   {
    "duration": 4,
    "start_time": "2023-06-29T21:24:23.506Z"
   },
   {
    "duration": 4,
    "start_time": "2023-06-29T21:24:37.214Z"
   },
   {
    "duration": 5,
    "start_time": "2023-06-29T21:24:59.624Z"
   },
   {
    "duration": 7,
    "start_time": "2023-06-29T21:26:14.195Z"
   },
   {
    "duration": 1338,
    "start_time": "2023-06-29T21:26:23.819Z"
   },
   {
    "duration": 43,
    "start_time": "2023-06-29T21:26:25.159Z"
   },
   {
    "duration": 26,
    "start_time": "2023-06-29T21:26:25.204Z"
   },
   {
    "duration": 4,
    "start_time": "2023-06-29T21:26:25.232Z"
   },
   {
    "duration": 19,
    "start_time": "2023-06-29T21:26:25.239Z"
   },
   {
    "duration": 23,
    "start_time": "2023-06-29T21:26:25.266Z"
   },
   {
    "duration": 44,
    "start_time": "2023-06-29T21:26:25.291Z"
   },
   {
    "duration": 33,
    "start_time": "2023-06-29T21:26:25.336Z"
   },
   {
    "duration": 16,
    "start_time": "2023-06-29T21:26:25.371Z"
   },
   {
    "duration": 8,
    "start_time": "2023-06-29T21:26:25.391Z"
   },
   {
    "duration": 10,
    "start_time": "2023-06-29T21:26:25.402Z"
   },
   {
    "duration": 13,
    "start_time": "2023-06-29T21:26:25.413Z"
   },
   {
    "duration": 49,
    "start_time": "2023-06-29T21:26:25.429Z"
   },
   {
    "duration": 5,
    "start_time": "2023-06-29T21:26:25.480Z"
   },
   {
    "duration": 5,
    "start_time": "2023-06-29T21:26:25.487Z"
   },
   {
    "duration": 15,
    "start_time": "2023-06-29T21:26:25.512Z"
   },
   {
    "duration": 155,
    "start_time": "2023-06-29T21:26:25.530Z"
   },
   {
    "duration": 61,
    "start_time": "2023-06-29T21:27:46.877Z"
   },
   {
    "duration": 1111,
    "start_time": "2023-06-29T21:33:00.859Z"
   },
   {
    "duration": 145,
    "start_time": "2023-06-29T21:33:12.720Z"
   },
   {
    "duration": 6,
    "start_time": "2023-06-29T21:33:31.170Z"
   },
   {
    "duration": 15,
    "start_time": "2023-06-29T21:34:05.029Z"
   },
   {
    "duration": 8,
    "start_time": "2023-06-29T21:34:55.914Z"
   },
   {
    "duration": 27,
    "start_time": "2023-06-29T21:35:05.264Z"
   },
   {
    "duration": 5,
    "start_time": "2023-06-29T21:35:15.665Z"
   },
   {
    "duration": 5,
    "start_time": "2023-06-29T21:35:32.645Z"
   },
   {
    "duration": 5,
    "start_time": "2023-06-29T21:35:37.475Z"
   },
   {
    "duration": 4,
    "start_time": "2023-06-29T21:35:43.224Z"
   },
   {
    "duration": 11,
    "start_time": "2023-06-29T21:37:50.825Z"
   },
   {
    "duration": 8,
    "start_time": "2023-06-29T21:38:11.755Z"
   },
   {
    "duration": 6,
    "start_time": "2023-06-29T21:38:17.494Z"
   },
   {
    "duration": 70,
    "start_time": "2023-06-29T21:41:47.874Z"
   },
   {
    "duration": 66,
    "start_time": "2023-06-29T21:41:56.595Z"
   },
   {
    "duration": 7,
    "start_time": "2023-06-29T21:42:22.145Z"
   },
   {
    "duration": 65,
    "start_time": "2023-06-29T21:42:23.205Z"
   },
   {
    "duration": 13,
    "start_time": "2023-06-29T21:42:31.135Z"
   },
   {
    "duration": 16,
    "start_time": "2023-06-29T21:42:51.364Z"
   },
   {
    "duration": 11,
    "start_time": "2023-06-29T21:42:58.384Z"
   },
   {
    "duration": 5,
    "start_time": "2023-06-29T21:43:08.104Z"
   },
   {
    "duration": 50,
    "start_time": "2023-06-30T11:00:46.850Z"
   },
   {
    "duration": 1144,
    "start_time": "2023-06-30T11:01:04.847Z"
   },
   {
    "duration": 83,
    "start_time": "2023-06-30T11:01:05.994Z"
   },
   {
    "duration": 24,
    "start_time": "2023-06-30T11:01:06.079Z"
   },
   {
    "duration": 26,
    "start_time": "2023-06-30T11:01:06.104Z"
   },
   {
    "duration": 78,
    "start_time": "2023-06-30T11:01:06.132Z"
   },
   {
    "duration": 53,
    "start_time": "2023-06-30T11:01:06.212Z"
   },
   {
    "duration": 49,
    "start_time": "2023-06-30T11:01:06.267Z"
   },
   {
    "duration": 6,
    "start_time": "2023-06-30T11:01:06.318Z"
   },
   {
    "duration": 34,
    "start_time": "2023-06-30T11:01:06.325Z"
   },
   {
    "duration": 34,
    "start_time": "2023-06-30T11:01:06.361Z"
   },
   {
    "duration": 40,
    "start_time": "2023-06-30T11:01:06.397Z"
   },
   {
    "duration": 30,
    "start_time": "2023-06-30T11:01:06.439Z"
   },
   {
    "duration": 54,
    "start_time": "2023-06-30T11:01:06.471Z"
   },
   {
    "duration": 23,
    "start_time": "2023-06-30T11:01:06.528Z"
   },
   {
    "duration": 32,
    "start_time": "2023-06-30T11:01:06.553Z"
   },
   {
    "duration": 45,
    "start_time": "2023-06-30T11:01:06.586Z"
   },
   {
    "duration": 134,
    "start_time": "2023-06-30T11:01:06.633Z"
   },
   {
    "duration": 5,
    "start_time": "2023-06-30T11:01:06.769Z"
   },
   {
    "duration": 32,
    "start_time": "2023-06-30T11:01:06.775Z"
   },
   {
    "duration": 28,
    "start_time": "2023-06-30T11:01:06.808Z"
   },
   {
    "duration": 36,
    "start_time": "2023-06-30T11:01:06.838Z"
   },
   {
    "duration": 26,
    "start_time": "2023-06-30T11:01:06.876Z"
   },
   {
    "duration": 160,
    "start_time": "2023-06-30T11:01:06.903Z"
   },
   {
    "duration": 81,
    "start_time": "2023-06-30T11:02:45.761Z"
   },
   {
    "duration": 12,
    "start_time": "2023-06-30T11:03:09.258Z"
   },
   {
    "duration": 12,
    "start_time": "2023-06-30T11:03:35.348Z"
   },
   {
    "duration": 1106,
    "start_time": "2023-06-30T11:06:32.839Z"
   },
   {
    "duration": 41,
    "start_time": "2023-06-30T11:06:33.947Z"
   },
   {
    "duration": 21,
    "start_time": "2023-06-30T11:06:33.990Z"
   },
   {
    "duration": 8,
    "start_time": "2023-06-30T11:06:34.013Z"
   },
   {
    "duration": 17,
    "start_time": "2023-06-30T11:06:34.022Z"
   },
   {
    "duration": 38,
    "start_time": "2023-06-30T11:06:34.041Z"
   },
   {
    "duration": 41,
    "start_time": "2023-06-30T11:06:34.080Z"
   },
   {
    "duration": 4,
    "start_time": "2023-06-30T11:06:34.123Z"
   },
   {
    "duration": 24,
    "start_time": "2023-06-30T11:06:34.129Z"
   },
   {
    "duration": 101,
    "start_time": "2023-06-30T11:06:34.156Z"
   },
   {
    "duration": 0,
    "start_time": "2023-06-30T11:06:34.259Z"
   },
   {
    "duration": 0,
    "start_time": "2023-06-30T11:06:34.260Z"
   },
   {
    "duration": 0,
    "start_time": "2023-06-30T11:06:34.261Z"
   },
   {
    "duration": 0,
    "start_time": "2023-06-30T11:06:34.263Z"
   },
   {
    "duration": 0,
    "start_time": "2023-06-30T11:06:34.264Z"
   },
   {
    "duration": 0,
    "start_time": "2023-06-30T11:06:34.265Z"
   },
   {
    "duration": 0,
    "start_time": "2023-06-30T11:06:34.267Z"
   },
   {
    "duration": 0,
    "start_time": "2023-06-30T11:06:34.269Z"
   },
   {
    "duration": 0,
    "start_time": "2023-06-30T11:06:34.270Z"
   },
   {
    "duration": 0,
    "start_time": "2023-06-30T11:06:34.272Z"
   },
   {
    "duration": 0,
    "start_time": "2023-06-30T11:06:34.273Z"
   },
   {
    "duration": 0,
    "start_time": "2023-06-30T11:06:34.274Z"
   },
   {
    "duration": 0,
    "start_time": "2023-06-30T11:06:34.276Z"
   },
   {
    "duration": 0,
    "start_time": "2023-06-30T11:06:34.277Z"
   },
   {
    "duration": 0,
    "start_time": "2023-06-30T11:06:34.279Z"
   },
   {
    "duration": 13,
    "start_time": "2023-06-30T11:06:50.142Z"
   },
   {
    "duration": 3,
    "start_time": "2023-06-30T11:06:52.111Z"
   },
   {
    "duration": 1124,
    "start_time": "2023-06-30T11:06:59.584Z"
   },
   {
    "duration": 42,
    "start_time": "2023-06-30T11:07:00.710Z"
   },
   {
    "duration": 23,
    "start_time": "2023-06-30T11:07:00.753Z"
   },
   {
    "duration": 57,
    "start_time": "2023-06-30T11:07:00.778Z"
   },
   {
    "duration": 43,
    "start_time": "2023-06-30T11:07:00.838Z"
   },
   {
    "duration": 58,
    "start_time": "2023-06-30T11:07:00.883Z"
   },
   {
    "duration": 61,
    "start_time": "2023-06-30T11:07:00.943Z"
   },
   {
    "duration": 4,
    "start_time": "2023-06-30T11:07:01.006Z"
   },
   {
    "duration": 56,
    "start_time": "2023-06-30T11:07:01.011Z"
   },
   {
    "duration": 59,
    "start_time": "2023-06-30T11:07:01.068Z"
   },
   {
    "duration": 71,
    "start_time": "2023-06-30T11:07:01.129Z"
   },
   {
    "duration": 986,
    "start_time": "2023-06-30T11:07:01.201Z"
   },
   {
    "duration": 24,
    "start_time": "2023-06-30T11:07:02.189Z"
   },
   {
    "duration": 38,
    "start_time": "2023-06-30T11:07:02.217Z"
   },
   {
    "duration": 88,
    "start_time": "2023-06-30T11:07:02.257Z"
   },
   {
    "duration": 26,
    "start_time": "2023-06-30T11:07:02.347Z"
   },
   {
    "duration": 140,
    "start_time": "2023-06-30T11:07:02.375Z"
   },
   {
    "duration": 6,
    "start_time": "2023-06-30T11:07:02.517Z"
   },
   {
    "duration": 249,
    "start_time": "2023-06-30T11:07:02.525Z"
   },
   {
    "duration": 2,
    "start_time": "2023-06-30T11:07:02.776Z"
   },
   {
    "duration": 238,
    "start_time": "2023-06-30T11:07:02.780Z"
   },
   {
    "duration": 4,
    "start_time": "2023-06-30T11:07:03.020Z"
   },
   {
    "duration": 35,
    "start_time": "2023-06-30T11:07:03.026Z"
   },
   {
    "duration": 398,
    "start_time": "2023-06-30T11:07:03.063Z"
   },
   {
    "duration": 112,
    "start_time": "2023-06-30T11:07:03.463Z"
   },
   {
    "duration": 68,
    "start_time": "2023-06-30T11:07:26.859Z"
   },
   {
    "duration": 5,
    "start_time": "2023-06-30T11:08:10.211Z"
   },
   {
    "duration": 1183,
    "start_time": "2023-06-30T11:08:55.571Z"
   },
   {
    "duration": 43,
    "start_time": "2023-06-30T11:08:56.756Z"
   },
   {
    "duration": 25,
    "start_time": "2023-06-30T11:08:56.801Z"
   },
   {
    "duration": 10,
    "start_time": "2023-06-30T11:08:56.828Z"
   },
   {
    "duration": 24,
    "start_time": "2023-06-30T11:08:56.840Z"
   },
   {
    "duration": 36,
    "start_time": "2023-06-30T11:08:56.866Z"
   },
   {
    "duration": 45,
    "start_time": "2023-06-30T11:08:56.904Z"
   },
   {
    "duration": 5,
    "start_time": "2023-06-30T11:08:56.954Z"
   },
   {
    "duration": 27,
    "start_time": "2023-06-30T11:08:56.960Z"
   },
   {
    "duration": 18,
    "start_time": "2023-06-30T11:08:56.990Z"
   },
   {
    "duration": 21,
    "start_time": "2023-06-30T11:08:57.009Z"
   },
   {
    "duration": 30,
    "start_time": "2023-06-30T11:08:57.032Z"
   },
   {
    "duration": 37,
    "start_time": "2023-06-30T11:08:57.063Z"
   },
   {
    "duration": 15,
    "start_time": "2023-06-30T11:08:57.102Z"
   },
   {
    "duration": 13,
    "start_time": "2023-06-30T11:08:57.119Z"
   },
   {
    "duration": 42,
    "start_time": "2023-06-30T11:08:57.133Z"
   },
   {
    "duration": 108,
    "start_time": "2023-06-30T11:08:57.177Z"
   },
   {
    "duration": 6,
    "start_time": "2023-06-30T11:08:57.287Z"
   },
   {
    "duration": 17,
    "start_time": "2023-06-30T11:08:57.295Z"
   },
   {
    "duration": 24,
    "start_time": "2023-06-30T11:08:57.314Z"
   },
   {
    "duration": 23,
    "start_time": "2023-06-30T11:08:57.340Z"
   },
   {
    "duration": 25,
    "start_time": "2023-06-30T11:08:57.365Z"
   },
   {
    "duration": 30,
    "start_time": "2023-06-30T11:08:57.393Z"
   },
   {
    "duration": 12,
    "start_time": "2023-06-30T11:08:57.425Z"
   },
   {
    "duration": 116,
    "start_time": "2023-06-30T11:08:57.439Z"
   },
   {
    "duration": 9,
    "start_time": "2023-06-30T11:10:33.539Z"
   },
   {
    "duration": 9,
    "start_time": "2023-06-30T11:10:57.644Z"
   },
   {
    "duration": 8,
    "start_time": "2023-06-30T11:12:30.469Z"
   },
   {
    "duration": 19,
    "start_time": "2023-06-30T11:15:34.635Z"
   },
   {
    "duration": 11,
    "start_time": "2023-06-30T11:16:29.331Z"
   },
   {
    "duration": 19,
    "start_time": "2023-06-30T11:16:30.931Z"
   },
   {
    "duration": 16,
    "start_time": "2023-06-30T11:17:08.670Z"
   },
   {
    "duration": 19,
    "start_time": "2023-06-30T11:17:10.724Z"
   },
   {
    "duration": 4,
    "start_time": "2023-06-30T11:17:33.606Z"
   },
   {
    "duration": 16,
    "start_time": "2023-06-30T11:17:36.547Z"
   },
   {
    "duration": 18,
    "start_time": "2023-06-30T11:18:15.364Z"
   },
   {
    "duration": 19,
    "start_time": "2023-06-30T11:18:32.514Z"
   },
   {
    "duration": 3,
    "start_time": "2023-06-30T11:18:57.063Z"
   },
   {
    "duration": 7,
    "start_time": "2023-06-30T11:20:42.719Z"
   },
   {
    "duration": 539,
    "start_time": "2023-06-30T11:32:24.694Z"
   },
   {
    "duration": 314,
    "start_time": "2023-06-30T11:32:41.145Z"
   },
   {
    "duration": 341,
    "start_time": "2023-06-30T11:33:05.796Z"
   },
   {
    "duration": 355,
    "start_time": "2023-06-30T11:33:31.194Z"
   },
   {
    "duration": 340,
    "start_time": "2023-06-30T11:33:35.793Z"
   },
   {
    "duration": 5307,
    "start_time": "2023-06-30T11:35:21.154Z"
   },
   {
    "duration": 4754,
    "start_time": "2023-06-30T11:35:27.104Z"
   },
   {
    "duration": 4,
    "start_time": "2023-06-30T11:36:58.948Z"
   },
   {
    "duration": 2204,
    "start_time": "2023-06-30T11:37:04.454Z"
   },
   {
    "duration": 385,
    "start_time": "2023-06-30T11:38:18.519Z"
   },
   {
    "duration": 2147,
    "start_time": "2023-06-30T11:38:27.714Z"
   },
   {
    "duration": 0,
    "start_time": "2023-06-30T11:42:54.058Z"
   },
   {
    "duration": 21,
    "start_time": "2023-06-30T11:43:46.906Z"
   },
   {
    "duration": 45,
    "start_time": "2023-06-30T11:50:17.062Z"
   },
   {
    "duration": 34786,
    "start_time": "2023-06-30T11:51:37.408Z"
   },
   {
    "duration": 35060,
    "start_time": "2023-06-30T11:53:31.090Z"
   },
   {
    "duration": 128595,
    "start_time": "2023-06-30T11:54:36.794Z"
   },
   {
    "duration": 35255,
    "start_time": "2023-06-30T11:57:00.741Z"
   },
   {
    "duration": 361,
    "start_time": "2023-06-30T11:57:49.861Z"
   },
   {
    "duration": 93,
    "start_time": "2023-06-30T11:57:52.660Z"
   },
   {
    "duration": 35204,
    "start_time": "2023-06-30T11:58:49.992Z"
   },
   {
    "duration": 35262,
    "start_time": "2023-06-30T12:00:53.856Z"
   },
   {
    "duration": 35214,
    "start_time": "2023-06-30T12:02:01.241Z"
   },
   {
    "duration": 26,
    "start_time": "2023-06-30T12:03:04.557Z"
   },
   {
    "duration": 29,
    "start_time": "2023-06-30T12:03:20.749Z"
   },
   {
    "duration": 34001,
    "start_time": "2023-06-30T12:05:44.899Z"
   },
   {
    "duration": 3,
    "start_time": "2023-06-30T12:09:23.455Z"
   },
   {
    "duration": 5,
    "start_time": "2023-06-30T12:21:25.388Z"
   },
   {
    "duration": 11,
    "start_time": "2023-06-30T12:23:05.189Z"
   },
   {
    "duration": 4,
    "start_time": "2023-06-30T12:24:02.816Z"
   },
   {
    "duration": 11,
    "start_time": "2023-06-30T12:24:04.055Z"
   },
   {
    "duration": 4,
    "start_time": "2023-06-30T12:24:29.360Z"
   },
   {
    "duration": 24,
    "start_time": "2023-06-30T12:24:30.358Z"
   },
   {
    "duration": 4,
    "start_time": "2023-06-30T12:25:46.948Z"
   },
   {
    "duration": 13,
    "start_time": "2023-06-30T12:25:47.880Z"
   },
   {
    "duration": 68156,
    "start_time": "2023-06-30T12:26:19.156Z"
   },
   {
    "duration": 68332,
    "start_time": "2023-06-30T12:29:26.238Z"
   },
   {
    "duration": 54,
    "start_time": "2023-06-30T12:30:46.988Z"
   },
   {
    "duration": 5,
    "start_time": "2023-06-30T12:30:53.893Z"
   },
   {
    "duration": 46,
    "start_time": "2023-06-30T12:30:54.791Z"
   },
   {
    "duration": 1113,
    "start_time": "2023-06-30T12:31:06.786Z"
   },
   {
    "duration": 40,
    "start_time": "2023-06-30T12:31:07.901Z"
   },
   {
    "duration": 21,
    "start_time": "2023-06-30T12:31:07.943Z"
   },
   {
    "duration": 3,
    "start_time": "2023-06-30T12:31:07.966Z"
   },
   {
    "duration": 19,
    "start_time": "2023-06-30T12:31:07.973Z"
   },
   {
    "duration": 30,
    "start_time": "2023-06-30T12:31:07.994Z"
   },
   {
    "duration": 53,
    "start_time": "2023-06-30T12:31:08.025Z"
   },
   {
    "duration": 3,
    "start_time": "2023-06-30T12:31:08.080Z"
   },
   {
    "duration": 26,
    "start_time": "2023-06-30T12:31:08.084Z"
   },
   {
    "duration": 25,
    "start_time": "2023-06-30T12:31:08.112Z"
   },
   {
    "duration": 6,
    "start_time": "2023-06-30T12:31:08.139Z"
   },
   {
    "duration": 16,
    "start_time": "2023-06-30T12:31:08.146Z"
   },
   {
    "duration": 13,
    "start_time": "2023-06-30T12:31:08.163Z"
   },
   {
    "duration": 3,
    "start_time": "2023-06-30T12:31:08.179Z"
   },
   {
    "duration": 9,
    "start_time": "2023-06-30T12:31:08.183Z"
   },
   {
    "duration": 20,
    "start_time": "2023-06-30T12:31:08.194Z"
   },
   {
    "duration": 109,
    "start_time": "2023-06-30T12:31:08.216Z"
   },
   {
    "duration": 4,
    "start_time": "2023-06-30T12:31:08.327Z"
   },
   {
    "duration": 20,
    "start_time": "2023-06-30T12:31:08.333Z"
   },
   {
    "duration": 4,
    "start_time": "2023-06-30T12:31:08.355Z"
   },
   {
    "duration": 11,
    "start_time": "2023-06-30T12:31:08.360Z"
   },
   {
    "duration": 16,
    "start_time": "2023-06-30T12:31:08.373Z"
   },
   {
    "duration": 9,
    "start_time": "2023-06-30T12:31:08.391Z"
   },
   {
    "duration": 13,
    "start_time": "2023-06-30T12:31:08.401Z"
   },
   {
    "duration": 10,
    "start_time": "2023-06-30T12:31:08.416Z"
   },
   {
    "duration": 23,
    "start_time": "2023-06-30T12:31:08.428Z"
   },
   {
    "duration": 6,
    "start_time": "2023-06-30T12:31:08.453Z"
   },
   {
    "duration": 578,
    "start_time": "2023-06-30T12:31:08.461Z"
   },
   {
    "duration": 35,
    "start_time": "2023-06-30T12:31:09.041Z"
   },
   {
    "duration": 1194,
    "start_time": "2023-06-30T19:43:14.074Z"
   },
   {
    "duration": 96,
    "start_time": "2023-06-30T19:43:15.271Z"
   },
   {
    "duration": 24,
    "start_time": "2023-06-30T19:43:15.369Z"
   },
   {
    "duration": 4,
    "start_time": "2023-06-30T19:43:15.394Z"
   },
   {
    "duration": 36,
    "start_time": "2023-06-30T19:43:15.400Z"
   },
   {
    "duration": 23,
    "start_time": "2023-06-30T19:43:15.438Z"
   },
   {
    "duration": 51,
    "start_time": "2023-06-30T19:43:15.463Z"
   },
   {
    "duration": 6,
    "start_time": "2023-06-30T19:43:15.516Z"
   },
   {
    "duration": 21,
    "start_time": "2023-06-30T19:43:15.524Z"
   },
   {
    "duration": 8,
    "start_time": "2023-06-30T19:43:15.547Z"
   },
   {
    "duration": 7,
    "start_time": "2023-06-30T19:43:15.557Z"
   },
   {
    "duration": 17,
    "start_time": "2023-06-30T19:43:15.566Z"
   },
   {
    "duration": 34,
    "start_time": "2023-06-30T19:43:15.585Z"
   },
   {
    "duration": 14,
    "start_time": "2023-06-30T19:43:15.622Z"
   },
   {
    "duration": 14,
    "start_time": "2023-06-30T19:43:15.637Z"
   },
   {
    "duration": 31,
    "start_time": "2023-06-30T19:43:15.652Z"
   },
   {
    "duration": 126,
    "start_time": "2023-06-30T19:43:15.685Z"
   },
   {
    "duration": 5,
    "start_time": "2023-06-30T19:43:15.818Z"
   },
   {
    "duration": 22,
    "start_time": "2023-06-30T19:43:15.824Z"
   },
   {
    "duration": 13,
    "start_time": "2023-06-30T19:43:15.848Z"
   },
   {
    "duration": 21,
    "start_time": "2023-06-30T19:43:15.863Z"
   },
   {
    "duration": 10,
    "start_time": "2023-06-30T19:43:15.886Z"
   },
   {
    "duration": 35,
    "start_time": "2023-06-30T19:43:15.898Z"
   },
   {
    "duration": 23,
    "start_time": "2023-06-30T19:43:15.935Z"
   },
   {
    "duration": 5,
    "start_time": "2023-06-30T19:43:15.959Z"
   },
   {
    "duration": 24,
    "start_time": "2023-06-30T19:43:15.965Z"
   },
   {
    "duration": 6,
    "start_time": "2023-06-30T19:43:15.991Z"
   },
   {
    "duration": 525,
    "start_time": "2023-06-30T19:43:15.998Z"
   },
   {
    "duration": 93,
    "start_time": "2023-06-30T19:43:16.525Z"
   },
   {
    "duration": 50743,
    "start_time": "2023-06-30T19:43:16.626Z"
   },
   {
    "duration": 5,
    "start_time": "2023-06-30T19:44:07.371Z"
   },
   {
    "duration": 48,
    "start_time": "2023-06-30T19:44:07.377Z"
   },
   {
    "duration": 72850,
    "start_time": "2023-06-30T19:44:07.427Z"
   },
   {
    "duration": 4,
    "start_time": "2023-06-30T19:54:23.402Z"
   },
   {
    "duration": 103,
    "start_time": "2023-06-30T19:54:24.004Z"
   },
   {
    "duration": 47,
    "start_time": "2023-06-30T19:55:30.645Z"
   },
   {
    "duration": 35,
    "start_time": "2023-06-30T19:58:52.587Z"
   },
   {
    "duration": 5,
    "start_time": "2023-06-30T19:59:15.402Z"
   },
   {
    "duration": 44,
    "start_time": "2023-06-30T19:59:44.306Z"
   },
   {
    "duration": 49,
    "start_time": "2023-06-30T20:00:13.623Z"
   },
   {
    "duration": 53,
    "start_time": "2023-06-30T20:01:10.246Z"
   },
   {
    "duration": 5,
    "start_time": "2023-06-30T20:03:35.345Z"
   },
   {
    "duration": 30,
    "start_time": "2023-06-30T20:03:36.620Z"
   },
   {
    "duration": 5,
    "start_time": "2023-06-30T20:04:01.586Z"
   },
   {
    "duration": 4,
    "start_time": "2023-06-30T20:04:23.579Z"
   },
   {
    "duration": 41,
    "start_time": "2023-06-30T20:04:24.435Z"
   },
   {
    "duration": 3337,
    "start_time": "2023-06-30T20:06:19.357Z"
   },
   {
    "duration": 83,
    "start_time": "2023-06-30T20:06:22.696Z"
   },
   {
    "duration": 27,
    "start_time": "2023-06-30T20:06:22.780Z"
   },
   {
    "duration": 4,
    "start_time": "2023-06-30T20:06:22.809Z"
   },
   {
    "duration": 14,
    "start_time": "2023-06-30T20:06:22.815Z"
   },
   {
    "duration": 22,
    "start_time": "2023-06-30T20:06:22.831Z"
   },
   {
    "duration": 74,
    "start_time": "2023-06-30T20:06:22.854Z"
   },
   {
    "duration": 5,
    "start_time": "2023-06-30T20:06:22.929Z"
   },
   {
    "duration": 16,
    "start_time": "2023-06-30T20:06:22.936Z"
   },
   {
    "duration": 7,
    "start_time": "2023-06-30T20:06:22.954Z"
   },
   {
    "duration": 6,
    "start_time": "2023-06-30T20:06:22.962Z"
   },
   {
    "duration": 32,
    "start_time": "2023-06-30T20:06:22.970Z"
   },
   {
    "duration": 13,
    "start_time": "2023-06-30T20:06:23.004Z"
   },
   {
    "duration": 3,
    "start_time": "2023-06-30T20:06:23.019Z"
   },
   {
    "duration": 5,
    "start_time": "2023-06-30T20:06:23.024Z"
   },
   {
    "duration": 20,
    "start_time": "2023-06-30T20:06:23.031Z"
   },
   {
    "duration": 135,
    "start_time": "2023-06-30T20:06:23.054Z"
   },
   {
    "duration": 11,
    "start_time": "2023-06-30T20:06:23.191Z"
   },
   {
    "duration": 9,
    "start_time": "2023-06-30T20:06:23.203Z"
   },
   {
    "duration": 7,
    "start_time": "2023-06-30T20:06:23.213Z"
   },
   {
    "duration": 14,
    "start_time": "2023-06-30T20:06:23.222Z"
   },
   {
    "duration": 6,
    "start_time": "2023-06-30T20:06:23.238Z"
   },
   {
    "duration": 7,
    "start_time": "2023-06-30T20:06:23.246Z"
   },
   {
    "duration": 15,
    "start_time": "2023-06-30T20:06:23.254Z"
   },
   {
    "duration": 3,
    "start_time": "2023-06-30T20:06:23.271Z"
   },
   {
    "duration": 39,
    "start_time": "2023-06-30T20:06:23.275Z"
   },
   {
    "duration": 7,
    "start_time": "2023-06-30T20:06:23.316Z"
   },
   {
    "duration": 543,
    "start_time": "2023-06-30T20:06:23.326Z"
   },
   {
    "duration": 47,
    "start_time": "2023-06-30T20:06:23.871Z"
   },
   {
    "duration": 50094,
    "start_time": "2023-06-30T20:06:23.920Z"
   },
   {
    "duration": 4,
    "start_time": "2023-06-30T20:07:14.016Z"
   },
   {
    "duration": 151,
    "start_time": "2023-06-30T20:07:14.022Z"
   },
   {
    "duration": 0,
    "start_time": "2023-06-30T20:07:14.175Z"
   },
   {
    "duration": 10,
    "start_time": "2023-06-30T20:12:17.502Z"
   },
   {
    "duration": 17,
    "start_time": "2023-06-30T20:12:19.754Z"
   },
   {
    "duration": 12,
    "start_time": "2023-06-30T20:12:23.555Z"
   },
   {
    "duration": 12,
    "start_time": "2023-06-30T20:12:39.010Z"
   },
   {
    "duration": 100632,
    "start_time": "2023-06-30T20:12:50.763Z"
   },
   {
    "duration": 105028,
    "start_time": "2023-06-30T20:15:08.243Z"
   },
   {
    "duration": 1235,
    "start_time": "2023-06-30T20:17:58.390Z"
   },
   {
    "duration": 44,
    "start_time": "2023-06-30T20:17:59.628Z"
   },
   {
    "duration": 23,
    "start_time": "2023-06-30T20:17:59.674Z"
   },
   {
    "duration": 36,
    "start_time": "2023-06-30T20:17:59.699Z"
   },
   {
    "duration": 33,
    "start_time": "2023-06-30T20:17:59.737Z"
   },
   {
    "duration": 48,
    "start_time": "2023-06-30T20:17:59.772Z"
   },
   {
    "duration": 83,
    "start_time": "2023-06-30T20:17:59.826Z"
   },
   {
    "duration": 6,
    "start_time": "2023-06-30T20:17:59.912Z"
   },
   {
    "duration": 54,
    "start_time": "2023-06-30T20:17:59.919Z"
   },
   {
    "duration": 48,
    "start_time": "2023-06-30T20:17:59.975Z"
   },
   {
    "duration": 71,
    "start_time": "2023-06-30T20:18:00.025Z"
   },
   {
    "duration": 89,
    "start_time": "2023-06-30T20:18:00.099Z"
   },
   {
    "duration": 54,
    "start_time": "2023-06-30T20:18:00.191Z"
   },
   {
    "duration": 21,
    "start_time": "2023-06-30T20:18:00.249Z"
   },
   {
    "duration": 28,
    "start_time": "2023-06-30T20:18:00.271Z"
   },
   {
    "duration": 73,
    "start_time": "2023-06-30T20:18:00.302Z"
   },
   {
    "duration": 146,
    "start_time": "2023-06-30T20:18:00.377Z"
   },
   {
    "duration": 6,
    "start_time": "2023-06-30T20:18:00.526Z"
   },
   {
    "duration": 30,
    "start_time": "2023-06-30T20:18:00.535Z"
   },
   {
    "duration": 71,
    "start_time": "2023-06-30T20:18:00.568Z"
   },
   {
    "duration": 43,
    "start_time": "2023-06-30T20:18:00.642Z"
   },
   {
    "duration": 169,
    "start_time": "2023-06-30T20:18:00.688Z"
   },
   {
    "duration": 36,
    "start_time": "2023-06-30T20:18:00.859Z"
   },
   {
    "duration": 70,
    "start_time": "2023-06-30T20:18:00.897Z"
   },
   {
    "duration": 52,
    "start_time": "2023-06-30T20:18:00.969Z"
   },
   {
    "duration": 60,
    "start_time": "2023-06-30T20:18:01.023Z"
   },
   {
    "duration": 42,
    "start_time": "2023-06-30T20:18:01.085Z"
   },
   {
    "duration": 603,
    "start_time": "2023-06-30T20:18:01.129Z"
   },
   {
    "duration": 122,
    "start_time": "2023-06-30T20:18:01.734Z"
   },
   {
    "duration": 0,
    "start_time": "2023-06-30T20:18:01.858Z"
   },
   {
    "duration": 0,
    "start_time": "2023-06-30T20:18:01.859Z"
   },
   {
    "duration": 0,
    "start_time": "2023-06-30T20:18:01.860Z"
   },
   {
    "duration": 0,
    "start_time": "2023-06-30T20:18:01.861Z"
   },
   {
    "duration": 10,
    "start_time": "2023-06-30T20:18:32.262Z"
   },
   {
    "duration": 76,
    "start_time": "2023-06-30T20:18:37.842Z"
   },
   {
    "duration": 87,
    "start_time": "2023-06-30T20:19:34.616Z"
   },
   {
    "duration": 54572,
    "start_time": "2023-06-30T20:20:44.800Z"
   },
   {
    "duration": 5,
    "start_time": "2023-06-30T20:21:56.196Z"
   },
   {
    "duration": 19,
    "start_time": "2023-06-30T20:21:58.919Z"
   },
   {
    "duration": 103764,
    "start_time": "2023-06-30T20:22:11.752Z"
   },
   {
    "duration": 1264,
    "start_time": "2023-06-30T20:36:01.816Z"
   },
   {
    "duration": 51,
    "start_time": "2023-06-30T20:36:03.082Z"
   },
   {
    "duration": 23,
    "start_time": "2023-06-30T20:36:03.135Z"
   },
   {
    "duration": 31,
    "start_time": "2023-06-30T20:36:03.161Z"
   },
   {
    "duration": 22,
    "start_time": "2023-06-30T20:36:03.196Z"
   },
   {
    "duration": 46,
    "start_time": "2023-06-30T20:36:03.220Z"
   },
   {
    "duration": 51,
    "start_time": "2023-06-30T20:36:03.268Z"
   },
   {
    "duration": 5,
    "start_time": "2023-06-30T20:36:03.320Z"
   },
   {
    "duration": 37,
    "start_time": "2023-06-30T20:36:03.327Z"
   },
   {
    "duration": 34,
    "start_time": "2023-06-30T20:36:03.366Z"
   },
   {
    "duration": 22,
    "start_time": "2023-06-30T20:36:03.402Z"
   },
   {
    "duration": 29,
    "start_time": "2023-06-30T20:36:03.426Z"
   },
   {
    "duration": 14,
    "start_time": "2023-06-30T20:36:03.458Z"
   },
   {
    "duration": 10,
    "start_time": "2023-06-30T20:36:03.475Z"
   },
   {
    "duration": 8,
    "start_time": "2023-06-30T20:36:03.487Z"
   },
   {
    "duration": 40,
    "start_time": "2023-06-30T20:36:03.497Z"
   },
   {
    "duration": 127,
    "start_time": "2023-06-30T20:36:03.539Z"
   },
   {
    "duration": 6,
    "start_time": "2023-06-30T20:36:03.668Z"
   },
   {
    "duration": 10,
    "start_time": "2023-06-30T20:36:03.676Z"
   },
   {
    "duration": 23,
    "start_time": "2023-06-30T20:36:03.687Z"
   },
   {
    "duration": 16,
    "start_time": "2023-06-30T20:36:03.717Z"
   },
   {
    "duration": 5,
    "start_time": "2023-06-30T20:36:03.735Z"
   },
   {
    "duration": 5,
    "start_time": "2023-06-30T20:36:03.741Z"
   },
   {
    "duration": 12,
    "start_time": "2023-06-30T20:36:03.747Z"
   },
   {
    "duration": 5,
    "start_time": "2023-06-30T20:36:03.761Z"
   },
   {
    "duration": 22,
    "start_time": "2023-06-30T20:36:03.768Z"
   },
   {
    "duration": 29,
    "start_time": "2023-06-30T20:36:03.792Z"
   },
   {
    "duration": 548,
    "start_time": "2023-06-30T20:36:03.823Z"
   },
   {
    "duration": 34,
    "start_time": "2023-06-30T20:36:04.373Z"
   },
   {
    "duration": 52779,
    "start_time": "2023-06-30T20:36:04.408Z"
   },
   {
    "duration": 4,
    "start_time": "2023-06-30T20:36:57.189Z"
   },
   {
    "duration": 47,
    "start_time": "2023-06-30T20:36:57.206Z"
   },
   {
    "duration": 76,
    "start_time": "2023-06-30T20:36:57.255Z"
   },
   {
    "duration": 191,
    "start_time": "2023-06-30T20:39:39.371Z"
   },
   {
    "duration": 123,
    "start_time": "2023-06-30T20:40:03.318Z"
   },
   {
    "duration": 4,
    "start_time": "2023-06-30T20:41:18.422Z"
   },
   {
    "duration": 134,
    "start_time": "2023-06-30T20:41:29.661Z"
   },
   {
    "duration": 1299,
    "start_time": "2023-06-30T20:48:39.399Z"
   },
   {
    "duration": 63,
    "start_time": "2023-06-30T20:48:40.706Z"
   },
   {
    "duration": 43,
    "start_time": "2023-06-30T20:48:40.771Z"
   },
   {
    "duration": 25,
    "start_time": "2023-06-30T20:48:40.818Z"
   },
   {
    "duration": 17,
    "start_time": "2023-06-30T20:48:40.846Z"
   },
   {
    "duration": 23,
    "start_time": "2023-06-30T20:48:40.865Z"
   },
   {
    "duration": 50,
    "start_time": "2023-06-30T20:48:40.889Z"
   },
   {
    "duration": 5,
    "start_time": "2023-06-30T20:48:40.941Z"
   },
   {
    "duration": 18,
    "start_time": "2023-06-30T20:48:40.948Z"
   },
   {
    "duration": 4,
    "start_time": "2023-06-30T20:48:40.969Z"
   },
   {
    "duration": 10,
    "start_time": "2023-06-30T20:48:40.974Z"
   },
   {
    "duration": 25,
    "start_time": "2023-06-30T20:48:40.986Z"
   },
   {
    "duration": 38,
    "start_time": "2023-06-30T20:48:41.014Z"
   },
   {
    "duration": 7,
    "start_time": "2023-06-30T20:48:41.054Z"
   },
   {
    "duration": 21,
    "start_time": "2023-06-30T20:48:41.064Z"
   },
   {
    "duration": 42,
    "start_time": "2023-06-30T20:48:41.088Z"
   },
   {
    "duration": 126,
    "start_time": "2023-06-30T20:48:41.132Z"
   },
   {
    "duration": 6,
    "start_time": "2023-06-30T20:48:41.260Z"
   },
   {
    "duration": 39,
    "start_time": "2023-06-30T20:48:41.268Z"
   },
   {
    "duration": 37,
    "start_time": "2023-06-30T20:48:41.310Z"
   },
   {
    "duration": 17,
    "start_time": "2023-06-30T20:48:41.349Z"
   },
   {
    "duration": 8,
    "start_time": "2023-06-30T20:48:41.368Z"
   },
   {
    "duration": 119,
    "start_time": "2023-06-30T20:48:41.379Z"
   },
   {
    "duration": 0,
    "start_time": "2023-06-30T20:48:41.500Z"
   },
   {
    "duration": 0,
    "start_time": "2023-06-30T20:48:41.501Z"
   },
   {
    "duration": 0,
    "start_time": "2023-06-30T20:48:41.502Z"
   },
   {
    "duration": 0,
    "start_time": "2023-06-30T20:48:41.505Z"
   },
   {
    "duration": 0,
    "start_time": "2023-06-30T20:48:41.510Z"
   },
   {
    "duration": 0,
    "start_time": "2023-06-30T20:48:41.515Z"
   },
   {
    "duration": 0,
    "start_time": "2023-06-30T20:48:41.517Z"
   },
   {
    "duration": 0,
    "start_time": "2023-06-30T20:48:41.518Z"
   },
   {
    "duration": 0,
    "start_time": "2023-06-30T20:48:41.521Z"
   },
   {
    "duration": 0,
    "start_time": "2023-06-30T20:48:41.523Z"
   },
   {
    "duration": 0,
    "start_time": "2023-06-30T20:48:41.524Z"
   },
   {
    "duration": 1506,
    "start_time": "2023-06-30T20:48:59.456Z"
   },
   {
    "duration": 8,
    "start_time": "2023-06-30T20:49:37.596Z"
   },
   {
    "duration": 6,
    "start_time": "2023-06-30T20:49:58.332Z"
   },
   {
    "duration": 9,
    "start_time": "2023-06-30T20:50:11.820Z"
   },
   {
    "duration": 5,
    "start_time": "2023-06-30T20:50:12.647Z"
   },
   {
    "duration": 7,
    "start_time": "2023-06-30T20:50:13.398Z"
   },
   {
    "duration": 1317,
    "start_time": "2023-06-30T20:51:03.453Z"
   },
   {
    "duration": 50,
    "start_time": "2023-06-30T20:51:04.772Z"
   },
   {
    "duration": 36,
    "start_time": "2023-06-30T20:51:04.824Z"
   },
   {
    "duration": 3,
    "start_time": "2023-06-30T20:51:04.862Z"
   },
   {
    "duration": 15,
    "start_time": "2023-06-30T20:51:04.867Z"
   },
   {
    "duration": 60,
    "start_time": "2023-06-30T20:51:04.883Z"
   },
   {
    "duration": 44,
    "start_time": "2023-06-30T20:51:04.945Z"
   },
   {
    "duration": 17,
    "start_time": "2023-06-30T20:51:04.991Z"
   },
   {
    "duration": 50,
    "start_time": "2023-06-30T20:51:05.016Z"
   },
   {
    "duration": 8,
    "start_time": "2023-06-30T20:51:05.069Z"
   },
   {
    "duration": 5,
    "start_time": "2023-06-30T20:51:05.079Z"
   },
   {
    "duration": 13,
    "start_time": "2023-06-30T20:51:05.086Z"
   },
   {
    "duration": 21,
    "start_time": "2023-06-30T20:51:05.101Z"
   },
   {
    "duration": 21,
    "start_time": "2023-06-30T20:51:05.124Z"
   },
   {
    "duration": 8,
    "start_time": "2023-06-30T20:51:05.147Z"
   },
   {
    "duration": 21,
    "start_time": "2023-06-30T20:51:05.156Z"
   },
   {
    "duration": 117,
    "start_time": "2023-06-30T20:51:05.179Z"
   },
   {
    "duration": 6,
    "start_time": "2023-06-30T20:51:05.298Z"
   },
   {
    "duration": 44,
    "start_time": "2023-06-30T20:51:05.305Z"
   },
   {
    "duration": 21,
    "start_time": "2023-06-30T20:51:05.351Z"
   },
   {
    "duration": 40,
    "start_time": "2023-06-30T20:51:05.374Z"
   },
   {
    "duration": 29,
    "start_time": "2023-06-30T20:51:05.424Z"
   },
   {
    "duration": 7,
    "start_time": "2023-06-30T20:51:05.456Z"
   },
   {
    "duration": 9,
    "start_time": "2023-06-30T20:51:05.465Z"
   },
   {
    "duration": 14,
    "start_time": "2023-06-30T20:51:05.477Z"
   },
   {
    "duration": 6,
    "start_time": "2023-06-30T20:51:05.493Z"
   },
   {
    "duration": 58,
    "start_time": "2023-06-30T20:51:05.501Z"
   },
   {
    "duration": 10,
    "start_time": "2023-06-30T20:51:05.562Z"
   },
   {
    "duration": 395,
    "start_time": "2023-06-30T20:51:05.574Z"
   },
   {
    "duration": 156,
    "start_time": "2023-06-30T20:51:05.970Z"
   },
   {
    "duration": 47152,
    "start_time": "2023-06-30T20:51:06.129Z"
   },
   {
    "duration": 6,
    "start_time": "2023-06-30T20:51:53.283Z"
   },
   {
    "duration": 31,
    "start_time": "2023-06-30T20:51:53.291Z"
   },
   {
    "duration": 202,
    "start_time": "2023-06-30T20:51:53.335Z"
   },
   {
    "duration": 75,
    "start_time": "2023-06-30T20:57:06.163Z"
   },
   {
    "duration": 85570,
    "start_time": "2023-06-30T20:57:14.660Z"
   },
   {
    "duration": 1182,
    "start_time": "2023-06-30T21:08:10.573Z"
   },
   {
    "duration": 1094,
    "start_time": "2023-06-30T21:08:21.780Z"
   },
   {
    "duration": 1089,
    "start_time": "2023-06-30T21:08:36.685Z"
   },
   {
    "duration": 1105,
    "start_time": "2023-06-30T21:08:56.461Z"
   },
   {
    "duration": 1250,
    "start_time": "2023-06-30T21:09:40.842Z"
   },
   {
    "duration": 70,
    "start_time": "2023-06-30T21:09:42.094Z"
   },
   {
    "duration": 23,
    "start_time": "2023-06-30T21:09:42.166Z"
   },
   {
    "duration": 4,
    "start_time": "2023-06-30T21:09:42.190Z"
   },
   {
    "duration": 50,
    "start_time": "2023-06-30T21:09:42.197Z"
   },
   {
    "duration": 41,
    "start_time": "2023-06-30T21:09:42.251Z"
   },
   {
    "duration": 79,
    "start_time": "2023-06-30T21:09:42.294Z"
   },
   {
    "duration": 5,
    "start_time": "2023-06-30T21:09:42.374Z"
   },
   {
    "duration": 17,
    "start_time": "2023-06-30T21:09:42.380Z"
   },
   {
    "duration": 55,
    "start_time": "2023-06-30T21:09:42.399Z"
   },
   {
    "duration": 6,
    "start_time": "2023-06-30T21:09:42.456Z"
   },
   {
    "duration": 19,
    "start_time": "2023-06-30T21:09:42.464Z"
   },
   {
    "duration": 12,
    "start_time": "2023-06-30T21:09:42.485Z"
   },
   {
    "duration": 56,
    "start_time": "2023-06-30T21:09:42.500Z"
   },
   {
    "duration": 10,
    "start_time": "2023-06-30T21:09:42.558Z"
   },
   {
    "duration": 22,
    "start_time": "2023-06-30T21:09:42.570Z"
   },
   {
    "duration": 160,
    "start_time": "2023-06-30T21:09:42.594Z"
   },
   {
    "duration": 6,
    "start_time": "2023-06-30T21:09:42.755Z"
   },
   {
    "duration": 13,
    "start_time": "2023-06-30T21:09:42.762Z"
   },
   {
    "duration": 5,
    "start_time": "2023-06-30T21:09:42.776Z"
   },
   {
    "duration": 13,
    "start_time": "2023-06-30T21:09:42.783Z"
   },
   {
    "duration": 12,
    "start_time": "2023-06-30T21:09:42.797Z"
   },
   {
    "duration": 52,
    "start_time": "2023-06-30T21:09:42.810Z"
   },
   {
    "duration": 20,
    "start_time": "2023-06-30T21:09:42.863Z"
   },
   {
    "duration": 15,
    "start_time": "2023-06-30T21:09:42.885Z"
   },
   {
    "duration": 38,
    "start_time": "2023-06-30T21:09:42.916Z"
   },
   {
    "duration": 26,
    "start_time": "2023-06-30T21:09:42.956Z"
   },
   {
    "duration": 6,
    "start_time": "2023-06-30T21:09:42.984Z"
   },
   {
    "duration": 393,
    "start_time": "2023-06-30T21:09:42.991Z"
   },
   {
    "duration": 50,
    "start_time": "2023-06-30T21:09:43.386Z"
   },
   {
    "duration": 46269,
    "start_time": "2023-06-30T21:09:43.439Z"
   },
   {
    "duration": 15,
    "start_time": "2023-06-30T21:10:29.715Z"
   },
   {
    "duration": 25,
    "start_time": "2023-06-30T21:10:29.731Z"
   },
   {
    "duration": 83805,
    "start_time": "2023-06-30T21:10:29.758Z"
   },
   {
    "duration": 1223,
    "start_time": "2023-06-30T21:11:53.565Z"
   },
   {
    "duration": 0,
    "start_time": "2023-06-30T21:11:54.790Z"
   },
   {
    "duration": 1021,
    "start_time": "2023-06-30T21:12:40.448Z"
   },
   {
    "duration": 127,
    "start_time": "2023-06-30T21:14:00.149Z"
   },
   {
    "duration": 952,
    "start_time": "2023-06-30T21:15:34.198Z"
   },
   {
    "duration": 946,
    "start_time": "2023-06-30T21:15:46.091Z"
   },
   {
    "duration": 959,
    "start_time": "2023-06-30T21:16:01.139Z"
   },
   {
    "duration": 596,
    "start_time": "2023-06-30T21:16:29.239Z"
   },
   {
    "duration": 1029,
    "start_time": "2023-06-30T21:16:35.828Z"
   },
   {
    "duration": 1269,
    "start_time": "2023-06-30T21:16:45.696Z"
   },
   {
    "duration": 54,
    "start_time": "2023-06-30T21:16:46.967Z"
   },
   {
    "duration": 34,
    "start_time": "2023-06-30T21:16:47.023Z"
   },
   {
    "duration": 5,
    "start_time": "2023-06-30T21:16:47.059Z"
   },
   {
    "duration": 19,
    "start_time": "2023-06-30T21:16:47.066Z"
   },
   {
    "duration": 59,
    "start_time": "2023-06-30T21:16:47.087Z"
   },
   {
    "duration": 75,
    "start_time": "2023-06-30T21:16:47.148Z"
   },
   {
    "duration": 5,
    "start_time": "2023-06-30T21:16:47.226Z"
   },
   {
    "duration": 41,
    "start_time": "2023-06-30T21:16:47.233Z"
   },
   {
    "duration": 66,
    "start_time": "2023-06-30T21:16:47.277Z"
   },
   {
    "duration": 48,
    "start_time": "2023-06-30T21:16:47.345Z"
   },
   {
    "duration": 82,
    "start_time": "2023-06-30T21:16:47.395Z"
   },
   {
    "duration": 28,
    "start_time": "2023-06-30T21:16:47.479Z"
   },
   {
    "duration": 41,
    "start_time": "2023-06-30T21:16:47.511Z"
   },
   {
    "duration": 7,
    "start_time": "2023-06-30T21:16:47.555Z"
   },
   {
    "duration": 16,
    "start_time": "2023-06-30T21:16:47.564Z"
   },
   {
    "duration": 133,
    "start_time": "2023-06-30T21:16:47.582Z"
   },
   {
    "duration": 5,
    "start_time": "2023-06-30T21:16:47.717Z"
   },
   {
    "duration": 36,
    "start_time": "2023-06-30T21:16:47.723Z"
   },
   {
    "duration": 4,
    "start_time": "2023-06-30T21:16:47.762Z"
   },
   {
    "duration": 12,
    "start_time": "2023-06-30T21:16:47.768Z"
   },
   {
    "duration": 8,
    "start_time": "2023-06-30T21:16:47.781Z"
   },
   {
    "duration": 10,
    "start_time": "2023-06-30T21:16:47.790Z"
   },
   {
    "duration": 57,
    "start_time": "2023-06-30T21:16:47.801Z"
   },
   {
    "duration": 15,
    "start_time": "2023-06-30T21:16:47.860Z"
   },
   {
    "duration": 9,
    "start_time": "2023-06-30T21:16:47.876Z"
   },
   {
    "duration": 34,
    "start_time": "2023-06-30T21:16:47.887Z"
   },
   {
    "duration": 40,
    "start_time": "2023-06-30T21:16:47.924Z"
   },
   {
    "duration": 462,
    "start_time": "2023-06-30T21:16:47.966Z"
   },
   {
    "duration": 80,
    "start_time": "2023-06-30T21:16:48.430Z"
   },
   {
    "duration": 45573,
    "start_time": "2023-06-30T21:16:48.515Z"
   },
   {
    "duration": 16,
    "start_time": "2023-06-30T21:17:34.090Z"
   },
   {
    "duration": 45,
    "start_time": "2023-06-30T21:17:34.112Z"
   },
   {
    "duration": 81168,
    "start_time": "2023-06-30T21:17:34.159Z"
   },
   {
    "duration": 945,
    "start_time": "2023-06-30T21:18:55.331Z"
   },
   {
    "duration": 938,
    "start_time": "2023-06-30T21:18:56.278Z"
   },
   {
    "duration": 123,
    "start_time": "2023-06-30T21:19:11.285Z"
   },
   {
    "duration": 121,
    "start_time": "2023-06-30T21:19:17.747Z"
   },
   {
    "duration": 587,
    "start_time": "2023-06-30T21:19:26.257Z"
   },
   {
    "duration": 643,
    "start_time": "2023-06-30T21:19:53.898Z"
   },
   {
    "duration": 1228,
    "start_time": "2023-06-30T21:20:07.222Z"
   },
   {
    "duration": 43,
    "start_time": "2023-06-30T21:20:08.452Z"
   },
   {
    "duration": 32,
    "start_time": "2023-06-30T21:20:08.497Z"
   },
   {
    "duration": 20,
    "start_time": "2023-06-30T21:20:08.531Z"
   },
   {
    "duration": 15,
    "start_time": "2023-06-30T21:20:08.553Z"
   },
   {
    "duration": 22,
    "start_time": "2023-06-30T21:20:08.570Z"
   },
   {
    "duration": 55,
    "start_time": "2023-06-30T21:20:08.594Z"
   },
   {
    "duration": 4,
    "start_time": "2023-06-30T21:20:08.651Z"
   },
   {
    "duration": 21,
    "start_time": "2023-06-30T21:20:08.656Z"
   },
   {
    "duration": 6,
    "start_time": "2023-06-30T21:20:08.679Z"
   },
   {
    "duration": 5,
    "start_time": "2023-06-30T21:20:08.686Z"
   },
   {
    "duration": 21,
    "start_time": "2023-06-30T21:20:08.693Z"
   },
   {
    "duration": 74,
    "start_time": "2023-06-30T21:20:08.716Z"
   },
   {
    "duration": 157,
    "start_time": "2023-06-30T21:20:08.793Z"
   },
   {
    "duration": 94,
    "start_time": "2023-06-30T21:20:08.952Z"
   },
   {
    "duration": 18,
    "start_time": "2023-06-30T21:20:09.047Z"
   },
   {
    "duration": 115,
    "start_time": "2023-06-30T21:20:09.066Z"
   },
   {
    "duration": 36,
    "start_time": "2023-06-30T21:20:09.183Z"
   },
   {
    "duration": 17,
    "start_time": "2023-06-30T21:20:09.230Z"
   },
   {
    "duration": 20,
    "start_time": "2023-06-30T21:20:09.249Z"
   },
   {
    "duration": 12,
    "start_time": "2023-06-30T21:20:09.270Z"
   },
   {
    "duration": 20,
    "start_time": "2023-06-30T21:20:09.283Z"
   },
   {
    "duration": 54,
    "start_time": "2023-06-30T21:20:09.305Z"
   },
   {
    "duration": 8,
    "start_time": "2023-06-30T21:20:09.361Z"
   },
   {
    "duration": 13,
    "start_time": "2023-06-30T21:20:09.371Z"
   },
   {
    "duration": 3,
    "start_time": "2023-06-30T21:20:09.385Z"
   },
   {
    "duration": 21,
    "start_time": "2023-06-30T21:20:09.390Z"
   },
   {
    "duration": 38,
    "start_time": "2023-06-30T21:20:09.412Z"
   },
   {
    "duration": 364,
    "start_time": "2023-06-30T21:20:09.452Z"
   },
   {
    "duration": 26,
    "start_time": "2023-06-30T21:20:09.821Z"
   },
   {
    "duration": 44420,
    "start_time": "2023-06-30T21:20:09.903Z"
   },
   {
    "duration": 8,
    "start_time": "2023-06-30T21:20:54.324Z"
   },
   {
    "duration": 46,
    "start_time": "2023-06-30T21:20:54.337Z"
   },
   {
    "duration": 609,
    "start_time": "2023-06-30T21:20:54.386Z"
   },
   {
    "duration": 685,
    "start_time": "2023-06-30T21:20:54.996Z"
   },
   {
    "duration": 1008,
    "start_time": "2023-06-30T21:20:55.683Z"
   },
   {
    "duration": 615,
    "start_time": "2023-06-30T21:22:09.795Z"
   },
   {
    "duration": 606,
    "start_time": "2023-06-30T21:26:15.140Z"
   },
   {
    "duration": 1218,
    "start_time": "2023-06-30T21:26:35.230Z"
   },
   {
    "duration": 42,
    "start_time": "2023-06-30T21:26:36.451Z"
   },
   {
    "duration": 57,
    "start_time": "2023-06-30T21:26:36.495Z"
   },
   {
    "duration": 10,
    "start_time": "2023-06-30T21:26:36.553Z"
   },
   {
    "duration": 15,
    "start_time": "2023-06-30T21:26:36.566Z"
   },
   {
    "duration": 24,
    "start_time": "2023-06-30T21:26:36.583Z"
   },
   {
    "duration": 82,
    "start_time": "2023-06-30T21:26:36.609Z"
   },
   {
    "duration": 5,
    "start_time": "2023-06-30T21:26:36.693Z"
   },
   {
    "duration": 80,
    "start_time": "2023-06-30T21:26:36.699Z"
   },
   {
    "duration": 11,
    "start_time": "2023-06-30T21:26:36.780Z"
   },
   {
    "duration": 38,
    "start_time": "2023-06-30T21:26:36.792Z"
   },
   {
    "duration": 22,
    "start_time": "2023-06-30T21:26:36.833Z"
   },
   {
    "duration": 12,
    "start_time": "2023-06-30T21:26:36.857Z"
   },
   {
    "duration": 4,
    "start_time": "2023-06-30T21:26:36.872Z"
   },
   {
    "duration": 10,
    "start_time": "2023-06-30T21:26:36.878Z"
   },
   {
    "duration": 18,
    "start_time": "2023-06-30T21:26:36.890Z"
   },
   {
    "duration": 144,
    "start_time": "2023-06-30T21:26:36.909Z"
   },
   {
    "duration": 5,
    "start_time": "2023-06-30T21:26:37.054Z"
   },
   {
    "duration": 17,
    "start_time": "2023-06-30T21:26:37.061Z"
   },
   {
    "duration": 13,
    "start_time": "2023-06-30T21:26:37.080Z"
   },
   {
    "duration": 22,
    "start_time": "2023-06-30T21:26:37.094Z"
   },
   {
    "duration": 30,
    "start_time": "2023-06-30T21:26:37.118Z"
   },
   {
    "duration": 6,
    "start_time": "2023-06-30T21:26:37.150Z"
   },
   {
    "duration": 6,
    "start_time": "2023-06-30T21:26:37.158Z"
   },
   {
    "duration": 13,
    "start_time": "2023-06-30T21:26:37.166Z"
   },
   {
    "duration": 26,
    "start_time": "2023-06-30T21:26:37.181Z"
   },
   {
    "duration": 51,
    "start_time": "2023-06-30T21:26:37.211Z"
   },
   {
    "duration": 7,
    "start_time": "2023-06-30T21:26:37.263Z"
   },
   {
    "duration": 378,
    "start_time": "2023-06-30T21:26:37.271Z"
   },
   {
    "duration": 75,
    "start_time": "2023-06-30T21:26:37.651Z"
   },
   {
    "duration": 44560,
    "start_time": "2023-06-30T21:26:37.728Z"
   },
   {
    "duration": 4,
    "start_time": "2023-06-30T21:27:22.289Z"
   },
   {
    "duration": 80,
    "start_time": "2023-06-30T21:27:22.295Z"
   },
   {
    "duration": 628,
    "start_time": "2023-06-30T21:27:22.377Z"
   },
   {
    "duration": 668,
    "start_time": "2023-06-30T21:27:23.008Z"
   },
   {
    "duration": 630,
    "start_time": "2023-06-30T21:27:23.678Z"
   },
   {
    "duration": 1196,
    "start_time": "2023-06-30T21:28:15.670Z"
   },
   {
    "duration": 53,
    "start_time": "2023-06-30T21:28:16.868Z"
   },
   {
    "duration": 30,
    "start_time": "2023-06-30T21:28:16.929Z"
   },
   {
    "duration": 3,
    "start_time": "2023-06-30T21:28:16.961Z"
   },
   {
    "duration": 16,
    "start_time": "2023-06-30T21:28:16.966Z"
   },
   {
    "duration": 40,
    "start_time": "2023-06-30T21:28:16.983Z"
   },
   {
    "duration": 47,
    "start_time": "2023-06-30T21:28:17.025Z"
   },
   {
    "duration": 5,
    "start_time": "2023-06-30T21:28:17.074Z"
   },
   {
    "duration": 42,
    "start_time": "2023-06-30T21:28:17.081Z"
   },
   {
    "duration": 25,
    "start_time": "2023-06-30T21:28:17.128Z"
   },
   {
    "duration": 5,
    "start_time": "2023-06-30T21:28:17.155Z"
   },
   {
    "duration": 14,
    "start_time": "2023-06-30T21:28:17.161Z"
   },
   {
    "duration": 13,
    "start_time": "2023-06-30T21:28:17.177Z"
   },
   {
    "duration": 6,
    "start_time": "2023-06-30T21:28:17.192Z"
   },
   {
    "duration": 44,
    "start_time": "2023-06-30T21:28:17.200Z"
   },
   {
    "duration": 15,
    "start_time": "2023-06-30T21:28:17.246Z"
   },
   {
    "duration": 112,
    "start_time": "2023-06-30T21:28:17.262Z"
   },
   {
    "duration": 5,
    "start_time": "2023-06-30T21:28:17.375Z"
   },
   {
    "duration": 10,
    "start_time": "2023-06-30T21:28:17.382Z"
   },
   {
    "duration": 16,
    "start_time": "2023-06-30T21:28:17.393Z"
   },
   {
    "duration": 38,
    "start_time": "2023-06-30T21:28:17.412Z"
   },
   {
    "duration": 5,
    "start_time": "2023-06-30T21:28:17.452Z"
   },
   {
    "duration": 23,
    "start_time": "2023-06-30T21:28:17.459Z"
   },
   {
    "duration": 8,
    "start_time": "2023-06-30T21:28:17.484Z"
   },
   {
    "duration": 25,
    "start_time": "2023-06-30T21:28:17.494Z"
   },
   {
    "duration": 24,
    "start_time": "2023-06-30T21:28:17.521Z"
   },
   {
    "duration": 19,
    "start_time": "2023-06-30T21:28:17.547Z"
   },
   {
    "duration": 5,
    "start_time": "2023-06-30T21:28:17.569Z"
   },
   {
    "duration": 372,
    "start_time": "2023-06-30T21:28:17.576Z"
   },
   {
    "duration": 59,
    "start_time": "2023-06-30T21:28:17.950Z"
   },
   {
    "duration": 44152,
    "start_time": "2023-06-30T21:28:18.023Z"
   },
   {
    "duration": 4,
    "start_time": "2023-06-30T21:29:02.177Z"
   },
   {
    "duration": 46,
    "start_time": "2023-06-30T21:29:02.183Z"
   },
   {
    "duration": 659,
    "start_time": "2023-06-30T21:29:02.231Z"
   },
   {
    "duration": 606,
    "start_time": "2023-06-30T21:29:02.892Z"
   },
   {
    "duration": 139,
    "start_time": "2023-06-30T21:29:03.500Z"
   },
   {
    "duration": 578,
    "start_time": "2023-06-30T21:35:08.382Z"
   },
   {
    "duration": 1281,
    "start_time": "2023-06-30T21:35:30.691Z"
   },
   {
    "duration": 47,
    "start_time": "2023-06-30T21:35:31.974Z"
   },
   {
    "duration": 27,
    "start_time": "2023-06-30T21:35:32.023Z"
   },
   {
    "duration": 9,
    "start_time": "2023-06-30T21:35:32.052Z"
   },
   {
    "duration": 22,
    "start_time": "2023-06-30T21:35:32.064Z"
   },
   {
    "duration": 39,
    "start_time": "2023-06-30T21:35:32.101Z"
   },
   {
    "duration": 57,
    "start_time": "2023-06-30T21:35:32.142Z"
   },
   {
    "duration": 14,
    "start_time": "2023-06-30T21:35:32.201Z"
   },
   {
    "duration": 123,
    "start_time": "2023-06-30T21:35:32.217Z"
   },
   {
    "duration": 13,
    "start_time": "2023-06-30T21:35:32.342Z"
   },
   {
    "duration": 21,
    "start_time": "2023-06-30T21:35:32.357Z"
   },
   {
    "duration": 25,
    "start_time": "2023-06-30T21:35:32.380Z"
   },
   {
    "duration": 39,
    "start_time": "2023-06-30T21:35:32.407Z"
   },
   {
    "duration": 10,
    "start_time": "2023-06-30T21:35:32.450Z"
   },
   {
    "duration": 9,
    "start_time": "2023-06-30T21:35:32.462Z"
   },
   {
    "duration": 20,
    "start_time": "2023-06-30T21:35:32.473Z"
   },
   {
    "duration": 132,
    "start_time": "2023-06-30T21:35:32.495Z"
   },
   {
    "duration": 4,
    "start_time": "2023-06-30T21:35:32.629Z"
   },
   {
    "duration": 25,
    "start_time": "2023-06-30T21:35:32.634Z"
   },
   {
    "duration": 21,
    "start_time": "2023-06-30T21:35:32.660Z"
   },
   {
    "duration": 36,
    "start_time": "2023-06-30T21:35:32.683Z"
   },
   {
    "duration": 25,
    "start_time": "2023-06-30T21:35:32.721Z"
   },
   {
    "duration": 14,
    "start_time": "2023-06-30T21:35:32.747Z"
   },
   {
    "duration": 22,
    "start_time": "2023-06-30T21:35:32.763Z"
   },
   {
    "duration": 38,
    "start_time": "2023-06-30T21:35:32.787Z"
   },
   {
    "duration": 8,
    "start_time": "2023-06-30T21:35:32.827Z"
   },
   {
    "duration": 25,
    "start_time": "2023-06-30T21:35:32.836Z"
   },
   {
    "duration": 6,
    "start_time": "2023-06-30T21:35:32.862Z"
   },
   {
    "duration": 363,
    "start_time": "2023-06-30T21:35:32.870Z"
   },
   {
    "duration": 15,
    "start_time": "2023-06-30T21:35:33.235Z"
   },
   {
    "duration": 41412,
    "start_time": "2023-06-30T21:35:33.308Z"
   },
   {
    "duration": 5,
    "start_time": "2023-06-30T21:36:14.722Z"
   },
   {
    "duration": 21,
    "start_time": "2023-06-30T21:36:14.728Z"
   },
   {
    "duration": 600,
    "start_time": "2023-06-30T21:36:14.750Z"
   },
   {
    "duration": 576,
    "start_time": "2023-06-30T21:36:15.351Z"
   },
   {
    "duration": 3,
    "start_time": "2023-06-30T21:36:15.929Z"
   },
   {
    "duration": 1107,
    "start_time": "2023-07-01T11:04:02.075Z"
   },
   {
    "duration": 77,
    "start_time": "2023-07-01T11:04:03.184Z"
   },
   {
    "duration": 27,
    "start_time": "2023-07-01T11:04:03.263Z"
   },
   {
    "duration": 8,
    "start_time": "2023-07-01T11:04:03.293Z"
   },
   {
    "duration": 36,
    "start_time": "2023-07-01T11:04:03.302Z"
   },
   {
    "duration": 25,
    "start_time": "2023-07-01T11:04:03.339Z"
   },
   {
    "duration": 39,
    "start_time": "2023-07-01T11:04:03.366Z"
   },
   {
    "duration": 3,
    "start_time": "2023-07-01T11:04:03.407Z"
   },
   {
    "duration": 17,
    "start_time": "2023-07-01T11:04:03.432Z"
   },
   {
    "duration": 13,
    "start_time": "2023-07-01T11:04:03.452Z"
   },
   {
    "duration": 27,
    "start_time": "2023-07-01T11:04:03.467Z"
   },
   {
    "duration": 25,
    "start_time": "2023-07-01T11:04:03.496Z"
   },
   {
    "duration": 26,
    "start_time": "2023-07-01T11:04:03.522Z"
   },
   {
    "duration": 47,
    "start_time": "2023-07-01T11:04:03.549Z"
   },
   {
    "duration": 109,
    "start_time": "2023-07-01T11:04:03.598Z"
   },
   {
    "duration": 4,
    "start_time": "2023-07-01T11:04:03.709Z"
   },
   {
    "duration": 31,
    "start_time": "2023-07-01T11:04:03.715Z"
   },
   {
    "duration": 27,
    "start_time": "2023-07-01T11:04:03.748Z"
   },
   {
    "duration": 21,
    "start_time": "2023-07-01T11:04:03.777Z"
   },
   {
    "duration": 48,
    "start_time": "2023-07-01T11:04:03.800Z"
   },
   {
    "duration": 115,
    "start_time": "2023-07-01T11:04:03.849Z"
   },
   {
    "duration": 19,
    "start_time": "2023-07-01T11:04:03.965Z"
   },
   {
    "duration": 35,
    "start_time": "2023-07-01T11:04:03.986Z"
   },
   {
    "duration": 14,
    "start_time": "2023-07-01T11:04:04.023Z"
   },
   {
    "duration": 18,
    "start_time": "2023-07-01T11:04:04.039Z"
   },
   {
    "duration": 7,
    "start_time": "2023-07-01T11:04:04.059Z"
   },
   {
    "duration": 317,
    "start_time": "2023-07-01T11:04:04.067Z"
   },
   {
    "duration": 52,
    "start_time": "2023-07-01T11:04:04.387Z"
   },
   {
    "duration": 37917,
    "start_time": "2023-07-01T11:04:04.442Z"
   },
   {
    "duration": 4,
    "start_time": "2023-07-01T11:04:42.361Z"
   },
   {
    "duration": 25,
    "start_time": "2023-07-01T11:04:42.366Z"
   },
   {
    "duration": 520,
    "start_time": "2023-07-01T11:04:42.393Z"
   },
   {
    "duration": 487,
    "start_time": "2023-07-01T11:04:42.915Z"
   },
   {
    "duration": 2,
    "start_time": "2023-07-01T11:04:43.404Z"
   },
   {
    "duration": 3,
    "start_time": "2023-07-01T11:05:11.316Z"
   },
   {
    "duration": 16,
    "start_time": "2023-07-01T11:14:16.192Z"
   },
   {
    "duration": 1179,
    "start_time": "2023-07-01T11:14:50.143Z"
   },
   {
    "duration": 45,
    "start_time": "2023-07-01T11:14:51.324Z"
   },
   {
    "duration": 21,
    "start_time": "2023-07-01T11:14:51.371Z"
   },
   {
    "duration": 3,
    "start_time": "2023-07-01T11:14:51.394Z"
   },
   {
    "duration": 20,
    "start_time": "2023-07-01T11:14:51.399Z"
   },
   {
    "duration": 26,
    "start_time": "2023-07-01T11:14:51.421Z"
   },
   {
    "duration": 52,
    "start_time": "2023-07-01T11:14:51.449Z"
   },
   {
    "duration": 3,
    "start_time": "2023-07-01T11:14:51.503Z"
   },
   {
    "duration": 29,
    "start_time": "2023-07-01T11:14:51.508Z"
   },
   {
    "duration": 26,
    "start_time": "2023-07-01T11:14:51.541Z"
   },
   {
    "duration": 22,
    "start_time": "2023-07-01T11:14:51.568Z"
   },
   {
    "duration": 13,
    "start_time": "2023-07-01T11:14:51.592Z"
   },
   {
    "duration": 20,
    "start_time": "2023-07-01T11:14:51.607Z"
   },
   {
    "duration": 159,
    "start_time": "2023-07-01T11:14:51.628Z"
   },
   {
    "duration": 144,
    "start_time": "2023-07-01T11:14:51.788Z"
   },
   {
    "duration": 5,
    "start_time": "2023-07-01T11:14:51.934Z"
   },
   {
    "duration": 32,
    "start_time": "2023-07-01T11:14:51.940Z"
   },
   {
    "duration": 23,
    "start_time": "2023-07-01T11:14:51.973Z"
   },
   {
    "duration": 4,
    "start_time": "2023-07-01T11:14:51.998Z"
   },
   {
    "duration": 9,
    "start_time": "2023-07-01T11:14:52.004Z"
   },
   {
    "duration": 16,
    "start_time": "2023-07-01T11:14:52.014Z"
   },
   {
    "duration": 41,
    "start_time": "2023-07-01T11:14:52.032Z"
   },
   {
    "duration": 12,
    "start_time": "2023-07-01T11:14:52.075Z"
   },
   {
    "duration": 19,
    "start_time": "2023-07-01T11:14:52.089Z"
   },
   {
    "duration": 24,
    "start_time": "2023-07-01T11:14:52.110Z"
   },
   {
    "duration": 45,
    "start_time": "2023-07-01T11:14:52.136Z"
   },
   {
    "duration": 3,
    "start_time": "2023-07-01T11:14:52.183Z"
   },
   {
    "duration": 24,
    "start_time": "2023-07-01T11:14:52.190Z"
   },
   {
    "duration": 373,
    "start_time": "2023-07-01T11:14:52.215Z"
   },
   {
    "duration": 49,
    "start_time": "2023-07-01T11:14:52.590Z"
   },
   {
    "duration": 38156,
    "start_time": "2023-07-01T11:14:52.640Z"
   },
   {
    "duration": 4,
    "start_time": "2023-07-01T11:15:30.798Z"
   },
   {
    "duration": 49,
    "start_time": "2023-07-01T11:15:30.803Z"
   },
   {
    "duration": 104,
    "start_time": "2023-07-01T11:15:30.853Z"
   },
   {
    "duration": 0,
    "start_time": "2023-07-01T11:15:30.959Z"
   },
   {
    "duration": 0,
    "start_time": "2023-07-01T11:15:30.960Z"
   },
   {
    "duration": 0,
    "start_time": "2023-07-01T11:15:30.961Z"
   },
   {
    "duration": 18,
    "start_time": "2023-07-01T11:16:02.810Z"
   },
   {
    "duration": 33,
    "start_time": "2023-07-01T11:16:21.664Z"
   },
   {
    "duration": 18,
    "start_time": "2023-07-01T11:17:31.505Z"
   },
   {
    "duration": 4,
    "start_time": "2023-07-01T11:19:20.503Z"
   },
   {
    "duration": 15,
    "start_time": "2023-07-01T11:19:27.938Z"
   },
   {
    "duration": 4,
    "start_time": "2023-07-01T11:20:12.841Z"
   },
   {
    "duration": 31,
    "start_time": "2023-07-01T11:20:13.791Z"
   },
   {
    "duration": 1642,
    "start_time": "2023-07-01T11:21:20.045Z"
   },
   {
    "duration": 1545,
    "start_time": "2023-07-01T11:21:26.808Z"
   },
   {
    "duration": 1114,
    "start_time": "2023-07-01T11:32:45.810Z"
   },
   {
    "duration": 40,
    "start_time": "2023-07-01T11:32:46.926Z"
   },
   {
    "duration": 22,
    "start_time": "2023-07-01T11:32:46.967Z"
   },
   {
    "duration": 3,
    "start_time": "2023-07-01T11:32:46.990Z"
   },
   {
    "duration": 15,
    "start_time": "2023-07-01T11:32:46.994Z"
   },
   {
    "duration": 21,
    "start_time": "2023-07-01T11:32:47.011Z"
   },
   {
    "duration": 40,
    "start_time": "2023-07-01T11:32:47.034Z"
   },
   {
    "duration": 4,
    "start_time": "2023-07-01T11:32:47.076Z"
   },
   {
    "duration": 5,
    "start_time": "2023-07-01T11:32:47.082Z"
   },
   {
    "duration": 12,
    "start_time": "2023-07-01T11:32:47.090Z"
   },
   {
    "duration": 38,
    "start_time": "2023-07-01T11:32:47.103Z"
   },
   {
    "duration": 4,
    "start_time": "2023-07-01T11:32:47.143Z"
   },
   {
    "duration": 7,
    "start_time": "2023-07-01T11:32:47.149Z"
   },
   {
    "duration": 12,
    "start_time": "2023-07-01T11:32:47.158Z"
   },
   {
    "duration": 127,
    "start_time": "2023-07-01T11:32:47.171Z"
   },
   {
    "duration": 8,
    "start_time": "2023-07-01T11:32:47.300Z"
   },
   {
    "duration": 4,
    "start_time": "2023-07-01T11:32:47.309Z"
   },
   {
    "duration": 21,
    "start_time": "2023-07-01T11:32:47.315Z"
   },
   {
    "duration": 14,
    "start_time": "2023-07-01T11:32:47.338Z"
   },
   {
    "duration": 11,
    "start_time": "2023-07-01T11:32:47.353Z"
   },
   {
    "duration": 6,
    "start_time": "2023-07-01T11:32:47.365Z"
   },
   {
    "duration": 11,
    "start_time": "2023-07-01T11:32:47.372Z"
   },
   {
    "duration": 12,
    "start_time": "2023-07-01T11:32:47.384Z"
   },
   {
    "duration": 12,
    "start_time": "2023-07-01T11:32:47.398Z"
   },
   {
    "duration": 6,
    "start_time": "2023-07-01T11:32:47.411Z"
   },
   {
    "duration": 20,
    "start_time": "2023-07-01T11:32:47.419Z"
   },
   {
    "duration": 4,
    "start_time": "2023-07-01T11:32:47.440Z"
   },
   {
    "duration": 11,
    "start_time": "2023-07-01T11:32:47.446Z"
   },
   {
    "duration": 343,
    "start_time": "2023-07-01T11:32:47.459Z"
   },
   {
    "duration": 43,
    "start_time": "2023-07-01T11:32:47.805Z"
   },
   {
    "duration": 38026,
    "start_time": "2023-07-01T11:32:47.849Z"
   },
   {
    "duration": 99,
    "start_time": "2023-07-01T11:33:25.877Z"
   },
   {
    "duration": 0,
    "start_time": "2023-07-01T11:33:25.977Z"
   },
   {
    "duration": 0,
    "start_time": "2023-07-01T11:33:25.978Z"
   },
   {
    "duration": 0,
    "start_time": "2023-07-01T11:33:25.979Z"
   },
   {
    "duration": 0,
    "start_time": "2023-07-01T11:33:25.980Z"
   },
   {
    "duration": 316,
    "start_time": "2023-07-01T11:35:37.100Z"
   },
   {
    "duration": 321,
    "start_time": "2023-07-01T11:36:30.086Z"
   },
   {
    "duration": 2,
    "start_time": "2023-07-01T11:37:05.636Z"
   },
   {
    "duration": 17,
    "start_time": "2023-07-01T11:37:55.223Z"
   },
   {
    "duration": 1116,
    "start_time": "2023-07-01T11:38:35.107Z"
   },
   {
    "duration": 40,
    "start_time": "2023-07-01T11:38:36.225Z"
   },
   {
    "duration": 21,
    "start_time": "2023-07-01T11:38:36.266Z"
   },
   {
    "duration": 3,
    "start_time": "2023-07-01T11:38:36.289Z"
   },
   {
    "duration": 17,
    "start_time": "2023-07-01T11:38:36.293Z"
   },
   {
    "duration": 25,
    "start_time": "2023-07-01T11:38:36.311Z"
   },
   {
    "duration": 40,
    "start_time": "2023-07-01T11:38:36.337Z"
   },
   {
    "duration": 4,
    "start_time": "2023-07-01T11:38:36.379Z"
   },
   {
    "duration": 8,
    "start_time": "2023-07-01T11:38:36.384Z"
   },
   {
    "duration": 13,
    "start_time": "2023-07-01T11:38:36.394Z"
   },
   {
    "duration": 32,
    "start_time": "2023-07-01T11:38:36.409Z"
   },
   {
    "duration": 5,
    "start_time": "2023-07-01T11:38:36.442Z"
   },
   {
    "duration": 7,
    "start_time": "2023-07-01T11:38:36.448Z"
   },
   {
    "duration": 13,
    "start_time": "2023-07-01T11:38:36.457Z"
   },
   {
    "duration": 115,
    "start_time": "2023-07-01T11:38:36.471Z"
   },
   {
    "duration": 4,
    "start_time": "2023-07-01T11:38:36.588Z"
   },
   {
    "duration": 6,
    "start_time": "2023-07-01T11:38:36.593Z"
   },
   {
    "duration": 7,
    "start_time": "2023-07-01T11:38:36.600Z"
   },
   {
    "duration": 4,
    "start_time": "2023-07-01T11:38:36.608Z"
   },
   {
    "duration": 21,
    "start_time": "2023-07-01T11:38:36.613Z"
   },
   {
    "duration": 15,
    "start_time": "2023-07-01T11:38:36.635Z"
   },
   {
    "duration": 6,
    "start_time": "2023-07-01T11:38:36.652Z"
   },
   {
    "duration": 7,
    "start_time": "2023-07-01T11:38:36.660Z"
   },
   {
    "duration": 31,
    "start_time": "2023-07-01T11:38:36.668Z"
   },
   {
    "duration": 29,
    "start_time": "2023-07-01T11:38:36.701Z"
   },
   {
    "duration": 49,
    "start_time": "2023-07-01T11:38:36.732Z"
   },
   {
    "duration": 13,
    "start_time": "2023-07-01T11:38:36.783Z"
   },
   {
    "duration": 6,
    "start_time": "2023-07-01T11:38:36.801Z"
   },
   {
    "duration": 372,
    "start_time": "2023-07-01T11:38:36.809Z"
   },
   {
    "duration": 58,
    "start_time": "2023-07-01T11:38:37.183Z"
   },
   {
    "duration": 38189,
    "start_time": "2023-07-01T11:38:37.243Z"
   },
   {
    "duration": 337,
    "start_time": "2023-07-01T11:39:15.433Z"
   },
   {
    "duration": 16,
    "start_time": "2023-07-01T11:39:15.771Z"
   },
   {
    "duration": 195,
    "start_time": "2023-07-01T11:39:15.840Z"
   },
   {
    "duration": 0,
    "start_time": "2023-07-01T11:39:16.037Z"
   },
   {
    "duration": 0,
    "start_time": "2023-07-01T11:39:16.038Z"
   },
   {
    "duration": 0,
    "start_time": "2023-07-01T11:39:16.039Z"
   },
   {
    "duration": 0,
    "start_time": "2023-07-01T11:39:16.040Z"
   },
   {
    "duration": 138,
    "start_time": "2023-07-01T11:51:19.113Z"
   },
   {
    "duration": 27,
    "start_time": "2023-07-01T11:52:40.599Z"
   },
   {
    "duration": 42564,
    "start_time": "2023-07-01T11:54:02.981Z"
   },
   {
    "duration": 38581,
    "start_time": "2023-07-01T11:58:12.502Z"
   },
   {
    "duration": 44832,
    "start_time": "2023-07-01T12:00:29.726Z"
   },
   {
    "duration": 3,
    "start_time": "2023-07-01T12:01:38.468Z"
   },
   {
    "duration": 0,
    "start_time": "2023-07-01T12:02:35.176Z"
   },
   {
    "duration": 0,
    "start_time": "2023-07-01T12:02:35.178Z"
   },
   {
    "duration": 1131,
    "start_time": "2023-07-01T12:12:09.458Z"
   },
   {
    "duration": 43,
    "start_time": "2023-07-01T12:12:10.591Z"
   },
   {
    "duration": 34,
    "start_time": "2023-07-01T12:12:10.636Z"
   },
   {
    "duration": 18,
    "start_time": "2023-07-01T12:12:10.673Z"
   },
   {
    "duration": 26,
    "start_time": "2023-07-01T12:12:10.693Z"
   },
   {
    "duration": 24,
    "start_time": "2023-07-01T12:12:10.720Z"
   },
   {
    "duration": 50,
    "start_time": "2023-07-01T12:12:10.746Z"
   },
   {
    "duration": 4,
    "start_time": "2023-07-01T12:12:10.798Z"
   },
   {
    "duration": 10,
    "start_time": "2023-07-01T12:12:10.803Z"
   },
   {
    "duration": 24,
    "start_time": "2023-07-01T12:12:10.816Z"
   },
   {
    "duration": 24,
    "start_time": "2023-07-01T12:12:10.842Z"
   },
   {
    "duration": 12,
    "start_time": "2023-07-01T12:12:10.869Z"
   },
   {
    "duration": 24,
    "start_time": "2023-07-01T12:12:10.882Z"
   },
   {
    "duration": 70,
    "start_time": "2023-07-01T12:12:10.908Z"
   },
   {
    "duration": 112,
    "start_time": "2023-07-01T12:12:10.980Z"
   },
   {
    "duration": 5,
    "start_time": "2023-07-01T12:12:11.094Z"
   },
   {
    "duration": 7,
    "start_time": "2023-07-01T12:12:11.100Z"
   },
   {
    "duration": 6,
    "start_time": "2023-07-01T12:12:11.108Z"
   },
   {
    "duration": 18,
    "start_time": "2023-07-01T12:12:11.116Z"
   },
   {
    "duration": 6,
    "start_time": "2023-07-01T12:12:11.135Z"
   },
   {
    "duration": 31,
    "start_time": "2023-07-01T12:12:11.142Z"
   },
   {
    "duration": 5,
    "start_time": "2023-07-01T12:12:11.175Z"
   },
   {
    "duration": 10,
    "start_time": "2023-07-01T12:12:11.181Z"
   },
   {
    "duration": 10,
    "start_time": "2023-07-01T12:12:11.192Z"
   },
   {
    "duration": 3,
    "start_time": "2023-07-01T12:12:11.204Z"
   },
   {
    "duration": 15,
    "start_time": "2023-07-01T12:12:11.209Z"
   },
   {
    "duration": 4,
    "start_time": "2023-07-01T12:12:11.225Z"
   },
   {
    "duration": 34,
    "start_time": "2023-07-01T12:12:11.232Z"
   },
   {
    "duration": 126,
    "start_time": "2023-07-01T12:12:11.268Z"
   },
   {
    "duration": 0,
    "start_time": "2023-07-01T12:12:11.396Z"
   },
   {
    "duration": 0,
    "start_time": "2023-07-01T12:12:11.398Z"
   },
   {
    "duration": 0,
    "start_time": "2023-07-01T12:12:11.399Z"
   },
   {
    "duration": 0,
    "start_time": "2023-07-01T12:12:11.401Z"
   },
   {
    "duration": 0,
    "start_time": "2023-07-01T12:12:11.402Z"
   },
   {
    "duration": 0,
    "start_time": "2023-07-01T12:12:11.404Z"
   },
   {
    "duration": 0,
    "start_time": "2023-07-01T12:12:11.405Z"
   },
   {
    "duration": 0,
    "start_time": "2023-07-01T12:12:11.407Z"
   },
   {
    "duration": 0,
    "start_time": "2023-07-01T12:12:11.431Z"
   },
   {
    "duration": 0,
    "start_time": "2023-07-01T12:12:11.432Z"
   },
   {
    "duration": 0,
    "start_time": "2023-07-01T12:12:11.433Z"
   },
   {
    "duration": 0,
    "start_time": "2023-07-01T12:12:11.434Z"
   },
   {
    "duration": 372,
    "start_time": "2023-07-01T12:19:17.573Z"
   },
   {
    "duration": 57,
    "start_time": "2023-07-01T12:19:42.176Z"
   },
   {
    "duration": 33,
    "start_time": "2023-07-01T12:20:05.829Z"
   },
   {
    "duration": 76,
    "start_time": "2023-07-01T12:20:14.967Z"
   },
   {
    "duration": 40159,
    "start_time": "2023-07-01T12:20:26.322Z"
   },
   {
    "duration": 355,
    "start_time": "2023-07-01T12:21:23.257Z"
   },
   {
    "duration": 68,
    "start_time": "2023-07-01T12:21:29.667Z"
   },
   {
    "duration": 38,
    "start_time": "2023-07-01T12:21:39.867Z"
   },
   {
    "duration": 39853,
    "start_time": "2023-07-01T12:21:58.560Z"
   },
   {
    "duration": 4,
    "start_time": "2023-07-01T12:22:47.159Z"
   },
   {
    "duration": 16,
    "start_time": "2023-07-01T12:22:49.262Z"
   },
   {
    "duration": 822,
    "start_time": "2023-07-01T12:22:55.293Z"
   },
   {
    "duration": 116,
    "start_time": "2023-07-01T12:23:01.829Z"
   },
   {
    "duration": 68,
    "start_time": "2023-07-01T12:23:05.307Z"
   },
   {
    "duration": 109109,
    "start_time": "2023-07-01T12:23:15.747Z"
   },
   {
    "duration": 269,
    "start_time": "2023-07-01T12:25:19.384Z"
   },
   {
    "duration": 582,
    "start_time": "2023-07-01T12:26:38.929Z"
   },
   {
    "duration": 45,
    "start_time": "2023-07-01T19:13:18.494Z"
   },
   {
    "duration": 1030,
    "start_time": "2023-07-01T19:13:26.646Z"
   },
   {
    "duration": 78,
    "start_time": "2023-07-01T19:13:27.678Z"
   },
   {
    "duration": 18,
    "start_time": "2023-07-01T19:13:27.758Z"
   },
   {
    "duration": 3,
    "start_time": "2023-07-01T19:13:27.778Z"
   },
   {
    "duration": 13,
    "start_time": "2023-07-01T19:13:27.782Z"
   },
   {
    "duration": 18,
    "start_time": "2023-07-01T19:13:27.796Z"
   },
   {
    "duration": 32,
    "start_time": "2023-07-01T19:13:27.815Z"
   },
   {
    "duration": 3,
    "start_time": "2023-07-01T19:13:27.849Z"
   },
   {
    "duration": 5,
    "start_time": "2023-07-01T19:13:27.854Z"
   },
   {
    "duration": 12,
    "start_time": "2023-07-01T19:13:27.861Z"
   },
   {
    "duration": 28,
    "start_time": "2023-07-01T19:13:27.874Z"
   },
   {
    "duration": 8,
    "start_time": "2023-07-01T19:13:27.903Z"
   },
   {
    "duration": 16,
    "start_time": "2023-07-01T19:13:27.912Z"
   },
   {
    "duration": 21,
    "start_time": "2023-07-01T19:13:27.929Z"
   },
   {
    "duration": 84,
    "start_time": "2023-07-01T19:13:27.952Z"
   },
   {
    "duration": 4,
    "start_time": "2023-07-01T19:13:28.037Z"
   },
   {
    "duration": 8,
    "start_time": "2023-07-01T19:13:28.042Z"
   },
   {
    "duration": 7,
    "start_time": "2023-07-01T19:13:28.051Z"
   },
   {
    "duration": 3,
    "start_time": "2023-07-01T19:13:28.059Z"
   },
   {
    "duration": 7,
    "start_time": "2023-07-01T19:13:28.063Z"
   },
   {
    "duration": 5,
    "start_time": "2023-07-01T19:13:28.071Z"
   },
   {
    "duration": 23,
    "start_time": "2023-07-01T19:13:28.077Z"
   },
   {
    "duration": 2,
    "start_time": "2023-07-01T19:13:28.101Z"
   },
   {
    "duration": 20,
    "start_time": "2023-07-01T19:13:28.105Z"
   },
   {
    "duration": 5,
    "start_time": "2023-07-01T19:13:28.126Z"
   },
   {
    "duration": 17,
    "start_time": "2023-07-01T19:13:28.133Z"
   },
   {
    "duration": 3,
    "start_time": "2023-07-01T19:13:28.151Z"
   },
   {
    "duration": 5,
    "start_time": "2023-07-01T19:13:28.157Z"
   },
   {
    "duration": 363,
    "start_time": "2023-07-01T19:13:28.163Z"
   },
   {
    "duration": 73,
    "start_time": "2023-07-01T19:13:28.528Z"
   },
   {
    "duration": 38567,
    "start_time": "2023-07-01T19:13:28.603Z"
   },
   {
    "duration": 368,
    "start_time": "2023-07-01T19:14:07.172Z"
   },
   {
    "duration": 59,
    "start_time": "2023-07-01T19:14:07.541Z"
   },
   {
    "duration": 38600,
    "start_time": "2023-07-01T19:14:07.602Z"
   },
   {
    "duration": 5,
    "start_time": "2023-07-01T19:14:46.205Z"
   },
   {
    "duration": 29,
    "start_time": "2023-07-01T19:14:46.212Z"
   },
   {
    "duration": 832,
    "start_time": "2023-07-01T19:14:46.243Z"
   },
   {
    "duration": 222,
    "start_time": "2023-07-01T19:14:47.077Z"
   },
   {
    "duration": 104661,
    "start_time": "2023-07-01T19:14:47.305Z"
   },
   {
    "duration": 563,
    "start_time": "2023-07-01T19:16:31.968Z"
   },
   {
    "duration": 3,
    "start_time": "2023-07-01T19:16:32.532Z"
   },
   {
    "duration": 571,
    "start_time": "2023-07-01T19:17:00.626Z"
   },
   {
    "duration": 7,
    "start_time": "2023-07-01T19:20:32.111Z"
   },
   {
    "duration": 660,
    "start_time": "2023-07-01T19:20:34.525Z"
   },
   {
    "duration": 524,
    "start_time": "2023-07-01T19:22:15.116Z"
   },
   {
    "duration": 8,
    "start_time": "2023-07-01T19:23:40.146Z"
   },
   {
    "duration": 7,
    "start_time": "2023-07-01T19:24:50.265Z"
   },
   {
    "duration": 591,
    "start_time": "2023-07-01T19:24:51.392Z"
   },
   {
    "duration": 586,
    "start_time": "2023-07-01T19:25:03.209Z"
   },
   {
    "duration": 7,
    "start_time": "2023-07-01T19:28:31.854Z"
   },
   {
    "duration": 590,
    "start_time": "2023-07-01T19:28:33.246Z"
   },
   {
    "duration": 25,
    "start_time": "2023-07-01T19:30:04.496Z"
   },
   {
    "duration": 2,
    "start_time": "2023-07-01T19:30:50.951Z"
   },
   {
    "duration": 1029,
    "start_time": "2023-07-01T19:31:50.131Z"
   },
   {
    "duration": 39,
    "start_time": "2023-07-01T19:31:51.162Z"
   },
   {
    "duration": 19,
    "start_time": "2023-07-01T19:31:51.203Z"
   },
   {
    "duration": 3,
    "start_time": "2023-07-01T19:31:51.223Z"
   },
   {
    "duration": 13,
    "start_time": "2023-07-01T19:31:51.227Z"
   },
   {
    "duration": 22,
    "start_time": "2023-07-01T19:31:51.242Z"
   },
   {
    "duration": 70,
    "start_time": "2023-07-01T19:31:51.265Z"
   },
   {
    "duration": 4,
    "start_time": "2023-07-01T19:31:51.337Z"
   },
   {
    "duration": 8,
    "start_time": "2023-07-01T19:31:51.342Z"
   },
   {
    "duration": 18,
    "start_time": "2023-07-01T19:31:51.353Z"
   },
   {
    "duration": 27,
    "start_time": "2023-07-01T19:31:51.373Z"
   },
   {
    "duration": 10,
    "start_time": "2023-07-01T19:31:51.402Z"
   },
   {
    "duration": 11,
    "start_time": "2023-07-01T19:31:51.414Z"
   },
   {
    "duration": 17,
    "start_time": "2023-07-01T19:31:51.426Z"
   },
   {
    "duration": 110,
    "start_time": "2023-07-01T19:31:51.445Z"
   },
   {
    "duration": 5,
    "start_time": "2023-07-01T19:31:51.556Z"
   },
   {
    "duration": 5,
    "start_time": "2023-07-01T19:31:51.562Z"
   },
   {
    "duration": 6,
    "start_time": "2023-07-01T19:31:51.568Z"
   },
   {
    "duration": 24,
    "start_time": "2023-07-01T19:31:51.575Z"
   },
   {
    "duration": 5,
    "start_time": "2023-07-01T19:31:51.601Z"
   },
   {
    "duration": 7,
    "start_time": "2023-07-01T19:31:51.607Z"
   },
   {
    "duration": 7,
    "start_time": "2023-07-01T19:31:51.616Z"
   },
   {
    "duration": 8,
    "start_time": "2023-07-01T19:31:51.625Z"
   },
   {
    "duration": 10,
    "start_time": "2023-07-01T19:31:51.634Z"
   },
   {
    "duration": 2,
    "start_time": "2023-07-01T19:31:51.645Z"
   },
   {
    "duration": 19,
    "start_time": "2023-07-01T19:31:51.649Z"
   },
   {
    "duration": 4,
    "start_time": "2023-07-01T19:31:51.669Z"
   },
   {
    "duration": 24,
    "start_time": "2023-07-01T19:31:51.676Z"
   },
   {
    "duration": 352,
    "start_time": "2023-07-01T19:31:51.701Z"
   },
   {
    "duration": 48,
    "start_time": "2023-07-01T19:31:52.054Z"
   },
   {
    "duration": 38500,
    "start_time": "2023-07-01T19:31:52.104Z"
   },
   {
    "duration": 364,
    "start_time": "2023-07-01T19:32:30.606Z"
   },
   {
    "duration": 31,
    "start_time": "2023-07-01T19:32:30.971Z"
   },
   {
    "duration": 38626,
    "start_time": "2023-07-01T19:32:31.004Z"
   },
   {
    "duration": 3,
    "start_time": "2023-07-01T19:33:09.634Z"
   },
   {
    "duration": 27,
    "start_time": "2023-07-01T19:33:09.639Z"
   },
   {
    "duration": 849,
    "start_time": "2023-07-01T19:33:09.667Z"
   },
   {
    "duration": 82,
    "start_time": "2023-07-01T19:33:10.518Z"
   },
   {
    "duration": 104193,
    "start_time": "2023-07-01T19:33:10.602Z"
   },
   {
    "duration": 3,
    "start_time": "2023-07-01T19:34:54.799Z"
   },
   {
    "duration": 16,
    "start_time": "2023-07-01T19:34:54.804Z"
   },
   {
    "duration": 611,
    "start_time": "2023-07-01T19:34:54.822Z"
   },
   {
    "duration": 646,
    "start_time": "2023-07-01T19:35:30.539Z"
   },
   {
    "duration": 727,
    "start_time": "2023-07-01T19:35:42.155Z"
   },
   {
    "duration": 714,
    "start_time": "2023-07-01T19:35:47.541Z"
   },
   {
    "duration": 707,
    "start_time": "2023-07-01T19:35:52.808Z"
   },
   {
    "duration": 1097,
    "start_time": "2023-07-01T19:37:59.086Z"
   },
   {
    "duration": 40,
    "start_time": "2023-07-01T19:38:00.185Z"
   },
   {
    "duration": 19,
    "start_time": "2023-07-01T19:38:00.226Z"
   },
   {
    "duration": 15,
    "start_time": "2023-07-01T19:38:00.247Z"
   },
   {
    "duration": 26,
    "start_time": "2023-07-01T19:38:00.264Z"
   },
   {
    "duration": 27,
    "start_time": "2023-07-01T19:38:00.292Z"
   },
   {
    "duration": 32,
    "start_time": "2023-07-01T19:38:00.321Z"
   },
   {
    "duration": 4,
    "start_time": "2023-07-01T19:38:00.355Z"
   },
   {
    "duration": 30,
    "start_time": "2023-07-01T19:38:00.360Z"
   },
   {
    "duration": 22,
    "start_time": "2023-07-01T19:38:00.392Z"
   },
   {
    "duration": 18,
    "start_time": "2023-07-01T19:38:00.415Z"
   },
   {
    "duration": 15,
    "start_time": "2023-07-01T19:38:00.434Z"
   },
   {
    "duration": 26,
    "start_time": "2023-07-01T19:38:00.450Z"
   },
   {
    "duration": 15,
    "start_time": "2023-07-01T19:38:00.477Z"
   },
   {
    "duration": 107,
    "start_time": "2023-07-01T19:38:00.493Z"
   },
   {
    "duration": 4,
    "start_time": "2023-07-01T19:38:00.601Z"
   },
   {
    "duration": 17,
    "start_time": "2023-07-01T19:38:00.606Z"
   },
   {
    "duration": 23,
    "start_time": "2023-07-01T19:38:00.625Z"
   },
   {
    "duration": 42,
    "start_time": "2023-07-01T19:38:00.650Z"
   },
   {
    "duration": 32,
    "start_time": "2023-07-01T19:38:00.693Z"
   },
   {
    "duration": 26,
    "start_time": "2023-07-01T19:38:00.726Z"
   },
   {
    "duration": 24,
    "start_time": "2023-07-01T19:38:00.754Z"
   },
   {
    "duration": 14,
    "start_time": "2023-07-01T19:38:00.780Z"
   },
   {
    "duration": 37,
    "start_time": "2023-07-01T19:38:00.795Z"
   },
   {
    "duration": 21,
    "start_time": "2023-07-01T19:38:00.833Z"
   },
   {
    "duration": 59,
    "start_time": "2023-07-01T19:38:00.855Z"
   },
   {
    "duration": 14,
    "start_time": "2023-07-01T19:38:00.915Z"
   },
   {
    "duration": 37,
    "start_time": "2023-07-01T19:38:00.932Z"
   },
   {
    "duration": 418,
    "start_time": "2023-07-01T19:38:00.971Z"
   },
   {
    "duration": 26,
    "start_time": "2023-07-01T19:38:01.390Z"
   },
   {
    "duration": 38532,
    "start_time": "2023-07-01T19:38:01.508Z"
   },
   {
    "duration": 351,
    "start_time": "2023-07-01T19:38:40.041Z"
   },
   {
    "duration": 20,
    "start_time": "2023-07-01T19:38:40.394Z"
   },
   {
    "duration": 39010,
    "start_time": "2023-07-01T19:38:40.417Z"
   },
   {
    "duration": 4,
    "start_time": "2023-07-01T19:39:19.428Z"
   },
   {
    "duration": 25,
    "start_time": "2023-07-01T19:39:19.434Z"
   },
   {
    "duration": 799,
    "start_time": "2023-07-01T19:39:19.460Z"
   },
   {
    "duration": 138,
    "start_time": "2023-07-01T19:39:20.261Z"
   },
   {
    "duration": 105140,
    "start_time": "2023-07-01T19:39:20.401Z"
   },
   {
    "duration": 3,
    "start_time": "2023-07-01T19:41:05.542Z"
   },
   {
    "duration": 11,
    "start_time": "2023-07-01T19:41:05.547Z"
   },
   {
    "duration": 156,
    "start_time": "2023-07-01T19:41:05.559Z"
   },
   {
    "duration": 0,
    "start_time": "2023-07-01T19:41:05.716Z"
   },
   {
    "duration": 38347,
    "start_time": "2023-07-01T19:41:32.244Z"
   },
   {
    "duration": 774,
    "start_time": "2023-07-01T19:42:38.286Z"
   },
   {
    "duration": 38250,
    "start_time": "2023-07-01T19:45:20.241Z"
   },
   {
    "duration": 39751,
    "start_time": "2023-07-01T19:46:23.767Z"
   },
   {
    "duration": 572,
    "start_time": "2023-07-01T19:47:14.868Z"
   },
   {
    "duration": 592,
    "start_time": "2023-07-01T19:47:28.631Z"
   },
   {
    "duration": 615,
    "start_time": "2023-07-01T19:48:55.366Z"
   },
   {
    "duration": 1152,
    "start_time": "2023-07-01T19:55:01.474Z"
   },
   {
    "duration": 39,
    "start_time": "2023-07-01T19:55:02.628Z"
   },
   {
    "duration": 19,
    "start_time": "2023-07-01T19:55:02.668Z"
   },
   {
    "duration": 5,
    "start_time": "2023-07-01T19:55:02.688Z"
   },
   {
    "duration": 20,
    "start_time": "2023-07-01T19:55:02.695Z"
   },
   {
    "duration": 28,
    "start_time": "2023-07-01T19:55:02.716Z"
   },
   {
    "duration": 33,
    "start_time": "2023-07-01T19:55:02.746Z"
   },
   {
    "duration": 3,
    "start_time": "2023-07-01T19:55:02.781Z"
   },
   {
    "duration": 23,
    "start_time": "2023-07-01T19:55:02.786Z"
   },
   {
    "duration": 13,
    "start_time": "2023-07-01T19:55:02.812Z"
   },
   {
    "duration": 10,
    "start_time": "2023-07-01T19:55:02.827Z"
   },
   {
    "duration": 6,
    "start_time": "2023-07-01T19:55:02.838Z"
   },
   {
    "duration": 5,
    "start_time": "2023-07-01T19:55:02.846Z"
   },
   {
    "duration": 10,
    "start_time": "2023-07-01T19:55:02.855Z"
   },
   {
    "duration": 91,
    "start_time": "2023-07-01T19:55:02.866Z"
   },
   {
    "duration": 5,
    "start_time": "2023-07-01T19:55:02.959Z"
   },
   {
    "duration": 6,
    "start_time": "2023-07-01T19:55:02.965Z"
   },
   {
    "duration": 7,
    "start_time": "2023-07-01T19:55:02.972Z"
   },
   {
    "duration": 24,
    "start_time": "2023-07-01T19:55:02.981Z"
   },
   {
    "duration": 6,
    "start_time": "2023-07-01T19:55:03.009Z"
   },
   {
    "duration": 6,
    "start_time": "2023-07-01T19:55:03.017Z"
   },
   {
    "duration": 5,
    "start_time": "2023-07-01T19:55:03.024Z"
   },
   {
    "duration": 9,
    "start_time": "2023-07-01T19:55:03.030Z"
   },
   {
    "duration": 11,
    "start_time": "2023-07-01T19:55:03.040Z"
   },
   {
    "duration": 6,
    "start_time": "2023-07-01T19:55:03.052Z"
   },
   {
    "duration": 17,
    "start_time": "2023-07-01T19:55:03.060Z"
   },
   {
    "duration": 2,
    "start_time": "2023-07-01T19:55:03.079Z"
   },
   {
    "duration": 7,
    "start_time": "2023-07-01T19:55:03.110Z"
   },
   {
    "duration": 391,
    "start_time": "2023-07-01T19:55:03.118Z"
   },
   {
    "duration": 103,
    "start_time": "2023-07-01T19:55:03.512Z"
   },
   {
    "duration": 40366,
    "start_time": "2023-07-01T19:55:03.618Z"
   },
   {
    "duration": 369,
    "start_time": "2023-07-01T19:55:43.986Z"
   },
   {
    "duration": 59,
    "start_time": "2023-07-01T19:55:44.356Z"
   },
   {
    "duration": 40209,
    "start_time": "2023-07-01T19:55:44.418Z"
   },
   {
    "duration": 4,
    "start_time": "2023-07-01T19:56:24.628Z"
   },
   {
    "duration": 17,
    "start_time": "2023-07-01T19:56:24.633Z"
   },
   {
    "duration": 919,
    "start_time": "2023-07-01T19:56:24.651Z"
   },
   {
    "duration": 56,
    "start_time": "2023-07-01T19:56:25.571Z"
   },
   {
    "duration": 108812,
    "start_time": "2023-07-01T19:56:25.628Z"
   },
   {
    "duration": 39995,
    "start_time": "2023-07-01T19:58:14.442Z"
   },
   {
    "duration": 579,
    "start_time": "2023-07-01T19:58:54.439Z"
   },
   {
    "duration": 1102,
    "start_time": "2023-07-01T19:59:34.287Z"
   },
   {
    "duration": 56,
    "start_time": "2023-07-01T19:59:35.391Z"
   },
   {
    "duration": 24,
    "start_time": "2023-07-01T19:59:35.449Z"
   },
   {
    "duration": 3,
    "start_time": "2023-07-01T19:59:35.474Z"
   },
   {
    "duration": 26,
    "start_time": "2023-07-01T19:59:35.479Z"
   },
   {
    "duration": 18,
    "start_time": "2023-07-01T19:59:35.518Z"
   },
   {
    "duration": 44,
    "start_time": "2023-07-01T19:59:35.538Z"
   },
   {
    "duration": 4,
    "start_time": "2023-07-01T19:59:35.584Z"
   },
   {
    "duration": 36,
    "start_time": "2023-07-01T19:59:35.590Z"
   },
   {
    "duration": 14,
    "start_time": "2023-07-01T19:59:35.628Z"
   },
   {
    "duration": 10,
    "start_time": "2023-07-01T19:59:35.644Z"
   },
   {
    "duration": 3,
    "start_time": "2023-07-01T19:59:35.656Z"
   },
   {
    "duration": 7,
    "start_time": "2023-07-01T19:59:35.660Z"
   },
   {
    "duration": 12,
    "start_time": "2023-07-01T19:59:35.670Z"
   },
   {
    "duration": 80,
    "start_time": "2023-07-01T19:59:35.683Z"
   },
   {
    "duration": 4,
    "start_time": "2023-07-01T19:59:35.764Z"
   },
   {
    "duration": 5,
    "start_time": "2023-07-01T19:59:35.769Z"
   },
   {
    "duration": 5,
    "start_time": "2023-07-01T19:59:35.775Z"
   },
   {
    "duration": 3,
    "start_time": "2023-07-01T19:59:35.781Z"
   },
   {
    "duration": 38,
    "start_time": "2023-07-01T19:59:35.785Z"
   },
   {
    "duration": 5,
    "start_time": "2023-07-01T19:59:35.824Z"
   },
   {
    "duration": 14,
    "start_time": "2023-07-01T19:59:35.831Z"
   },
   {
    "duration": 4,
    "start_time": "2023-07-01T19:59:35.846Z"
   },
   {
    "duration": 5,
    "start_time": "2023-07-01T19:59:35.851Z"
   },
   {
    "duration": 9,
    "start_time": "2023-07-01T19:59:35.857Z"
   },
   {
    "duration": 10,
    "start_time": "2023-07-01T19:59:35.867Z"
   },
   {
    "duration": 7,
    "start_time": "2023-07-01T19:59:35.878Z"
   },
   {
    "duration": 9,
    "start_time": "2023-07-01T19:59:35.887Z"
   },
   {
    "duration": 420,
    "start_time": "2023-07-01T19:59:35.897Z"
   },
   {
    "duration": 23,
    "start_time": "2023-07-01T19:59:36.319Z"
   },
   {
    "duration": 40072,
    "start_time": "2023-07-01T19:59:36.343Z"
   },
   {
    "duration": 369,
    "start_time": "2023-07-01T20:00:16.416Z"
   },
   {
    "duration": 53,
    "start_time": "2023-07-01T20:00:16.787Z"
   },
   {
    "duration": 40094,
    "start_time": "2023-07-01T20:00:16.900Z"
   },
   {
    "duration": 13,
    "start_time": "2023-07-01T20:00:56.996Z"
   },
   {
    "duration": 22,
    "start_time": "2023-07-01T20:00:57.011Z"
   },
   {
    "duration": 802,
    "start_time": "2023-07-01T20:00:57.034Z"
   },
   {
    "duration": 72,
    "start_time": "2023-07-01T20:00:57.837Z"
   },
   {
    "duration": 110155,
    "start_time": "2023-07-01T20:00:57.911Z"
   },
   {
    "duration": 40267,
    "start_time": "2023-07-01T20:02:48.068Z"
   },
   {
    "duration": 583,
    "start_time": "2023-07-01T20:03:28.338Z"
   },
   {
    "duration": 9,
    "start_time": "2023-07-01T20:03:28.923Z"
   },
   {
    "duration": 4,
    "start_time": "2023-07-01T20:14:18.830Z"
   },
   {
    "duration": 6,
    "start_time": "2023-07-01T20:14:45.030Z"
   },
   {
    "duration": 109,
    "start_time": "2023-07-01T20:15:38.992Z"
   },
   {
    "duration": 4,
    "start_time": "2023-07-01T20:18:37.657Z"
   },
   {
    "duration": 9,
    "start_time": "2023-07-01T20:18:38.525Z"
   },
   {
    "duration": 21,
    "start_time": "2023-07-01T20:19:14.870Z"
   },
   {
    "duration": 15,
    "start_time": "2023-07-01T20:19:28.593Z"
   },
   {
    "duration": 266,
    "start_time": "2023-07-01T20:22:13.789Z"
   },
   {
    "duration": 2,
    "start_time": "2023-07-01T20:22:48.762Z"
   },
   {
    "duration": 81,
    "start_time": "2023-07-01T20:23:53.807Z"
   },
   {
    "duration": 218,
    "start_time": "2023-07-01T20:24:09.302Z"
   },
   {
    "duration": 13,
    "start_time": "2023-07-01T20:26:16.015Z"
   },
   {
    "duration": 24700,
    "start_time": "2023-07-01T20:26:33.919Z"
   },
   {
    "duration": 25424,
    "start_time": "2023-07-01T20:27:04.958Z"
   },
   {
    "duration": 1115,
    "start_time": "2023-07-01T20:36:16.771Z"
   },
   {
    "duration": 41,
    "start_time": "2023-07-01T20:36:17.887Z"
   },
   {
    "duration": 19,
    "start_time": "2023-07-01T20:36:17.930Z"
   },
   {
    "duration": 3,
    "start_time": "2023-07-01T20:36:17.951Z"
   },
   {
    "duration": 16,
    "start_time": "2023-07-01T20:36:17.955Z"
   },
   {
    "duration": 26,
    "start_time": "2023-07-01T20:36:17.973Z"
   },
   {
    "duration": 35,
    "start_time": "2023-07-01T20:36:18.001Z"
   },
   {
    "duration": 4,
    "start_time": "2023-07-01T20:36:18.037Z"
   },
   {
    "duration": 4,
    "start_time": "2023-07-01T20:36:18.042Z"
   },
   {
    "duration": 16,
    "start_time": "2023-07-01T20:36:18.049Z"
   },
   {
    "duration": 9,
    "start_time": "2023-07-01T20:36:18.067Z"
   },
   {
    "duration": 4,
    "start_time": "2023-07-01T20:36:18.101Z"
   },
   {
    "duration": 13,
    "start_time": "2023-07-01T20:36:18.106Z"
   },
   {
    "duration": 34,
    "start_time": "2023-07-01T20:36:18.121Z"
   },
   {
    "duration": 104,
    "start_time": "2023-07-01T20:36:18.157Z"
   },
   {
    "duration": 3,
    "start_time": "2023-07-01T20:36:18.263Z"
   },
   {
    "duration": 23,
    "start_time": "2023-07-01T20:36:18.268Z"
   },
   {
    "duration": 18,
    "start_time": "2023-07-01T20:36:18.292Z"
   },
   {
    "duration": 12,
    "start_time": "2023-07-01T20:36:18.311Z"
   },
   {
    "duration": 10,
    "start_time": "2023-07-01T20:36:18.324Z"
   },
   {
    "duration": 9,
    "start_time": "2023-07-01T20:36:18.336Z"
   },
   {
    "duration": 20,
    "start_time": "2023-07-01T20:36:18.347Z"
   },
   {
    "duration": 21,
    "start_time": "2023-07-01T20:36:18.368Z"
   },
   {
    "duration": 351,
    "start_time": "2023-07-01T20:36:18.390Z"
   },
   {
    "duration": 157,
    "start_time": "2023-07-01T20:36:18.743Z"
   },
   {
    "duration": 39230,
    "start_time": "2023-07-01T20:36:18.901Z"
   },
   {
    "duration": 363,
    "start_time": "2023-07-01T20:36:58.133Z"
   },
   {
    "duration": 199,
    "start_time": "2023-07-01T20:36:58.501Z"
   },
   {
    "duration": 38738,
    "start_time": "2023-07-01T20:36:58.702Z"
   },
   {
    "duration": 4,
    "start_time": "2023-07-01T20:37:37.442Z"
   },
   {
    "duration": 21,
    "start_time": "2023-07-01T20:37:37.447Z"
   },
   {
    "duration": 794,
    "start_time": "2023-07-01T20:37:37.469Z"
   },
   {
    "duration": 52,
    "start_time": "2023-07-01T20:37:38.264Z"
   },
   {
    "duration": 105529,
    "start_time": "2023-07-01T20:37:38.318Z"
   },
   {
    "duration": 0,
    "start_time": "2023-07-01T20:39:23.848Z"
   },
   {
    "duration": 0,
    "start_time": "2023-07-01T20:39:23.850Z"
   },
   {
    "duration": 0,
    "start_time": "2023-07-01T20:39:23.851Z"
   },
   {
    "duration": 0,
    "start_time": "2023-07-01T20:39:23.852Z"
   },
   {
    "duration": 0,
    "start_time": "2023-07-01T20:39:23.853Z"
   },
   {
    "duration": 0,
    "start_time": "2023-07-01T20:39:23.854Z"
   },
   {
    "duration": 0,
    "start_time": "2023-07-01T20:39:23.855Z"
   },
   {
    "duration": 0,
    "start_time": "2023-07-01T20:39:23.856Z"
   },
   {
    "duration": 108597,
    "start_time": "2023-07-01T20:39:44.074Z"
   },
   {
    "duration": 4,
    "start_time": "2023-07-01T20:41:51.620Z"
   },
   {
    "duration": 14,
    "start_time": "2023-07-01T20:41:53.044Z"
   },
   {
    "duration": 218,
    "start_time": "2023-07-01T20:41:55.592Z"
   },
   {
    "duration": 101,
    "start_time": "2023-07-01T20:42:00.315Z"
   },
   {
    "duration": 25887,
    "start_time": "2023-07-01T20:42:05.621Z"
   },
   {
    "duration": 377,
    "start_time": "2023-07-01T20:44:55.390Z"
   },
   {
    "duration": 1022,
    "start_time": "2023-07-01T20:45:47.453Z"
   },
   {
    "duration": 48,
    "start_time": "2023-07-01T20:45:48.477Z"
   },
   {
    "duration": 18,
    "start_time": "2023-07-01T20:45:48.527Z"
   },
   {
    "duration": 3,
    "start_time": "2023-07-01T20:45:48.547Z"
   },
   {
    "duration": 16,
    "start_time": "2023-07-01T20:45:48.551Z"
   },
   {
    "duration": 18,
    "start_time": "2023-07-01T20:45:48.569Z"
   },
   {
    "duration": 47,
    "start_time": "2023-07-01T20:45:48.589Z"
   },
   {
    "duration": 4,
    "start_time": "2023-07-01T20:45:48.638Z"
   },
   {
    "duration": 6,
    "start_time": "2023-07-01T20:45:48.643Z"
   },
   {
    "duration": 10,
    "start_time": "2023-07-01T20:45:48.651Z"
   },
   {
    "duration": 10,
    "start_time": "2023-07-01T20:45:48.662Z"
   },
   {
    "duration": 6,
    "start_time": "2023-07-01T20:45:48.674Z"
   },
   {
    "duration": 34,
    "start_time": "2023-07-01T20:45:48.681Z"
   },
   {
    "duration": 15,
    "start_time": "2023-07-01T20:45:48.717Z"
   },
   {
    "duration": 91,
    "start_time": "2023-07-01T20:45:48.734Z"
   },
   {
    "duration": 4,
    "start_time": "2023-07-01T20:45:48.827Z"
   },
   {
    "duration": 7,
    "start_time": "2023-07-01T20:45:48.832Z"
   },
   {
    "duration": 6,
    "start_time": "2023-07-01T20:45:48.840Z"
   },
   {
    "duration": 2,
    "start_time": "2023-07-01T20:45:48.847Z"
   },
   {
    "duration": 6,
    "start_time": "2023-07-01T20:45:48.851Z"
   },
   {
    "duration": 6,
    "start_time": "2023-07-01T20:45:48.858Z"
   },
   {
    "duration": 11,
    "start_time": "2023-07-01T20:45:48.865Z"
   },
   {
    "duration": 5,
    "start_time": "2023-07-01T20:45:48.878Z"
   },
   {
    "duration": 369,
    "start_time": "2023-07-01T20:45:48.884Z"
   },
   {
    "duration": 63,
    "start_time": "2023-07-01T20:45:49.254Z"
   },
   {
    "duration": 40125,
    "start_time": "2023-07-01T20:45:49.318Z"
   },
   {
    "duration": 373,
    "start_time": "2023-07-01T20:46:29.444Z"
   },
   {
    "duration": 104,
    "start_time": "2023-07-01T20:46:29.820Z"
   },
   {
    "duration": 40028,
    "start_time": "2023-07-01T20:46:29.926Z"
   },
   {
    "duration": 4,
    "start_time": "2023-07-01T20:47:09.956Z"
   },
   {
    "duration": 21,
    "start_time": "2023-07-01T20:47:09.961Z"
   },
   {
    "duration": 883,
    "start_time": "2023-07-01T20:47:09.983Z"
   },
   {
    "duration": 57,
    "start_time": "2023-07-01T20:47:10.868Z"
   },
   {
    "duration": 108022,
    "start_time": "2023-07-01T20:47:10.926Z"
   },
   {
    "duration": 5,
    "start_time": "2023-07-01T20:48:58.950Z"
   },
   {
    "duration": 13,
    "start_time": "2023-07-01T20:48:58.956Z"
   },
   {
    "duration": 221,
    "start_time": "2023-07-01T20:48:58.970Z"
   },
   {
    "duration": 27,
    "start_time": "2023-07-01T20:48:59.192Z"
   },
   {
    "duration": 25634,
    "start_time": "2023-07-01T20:48:59.225Z"
   },
   {
    "duration": 106,
    "start_time": "2023-07-01T20:49:24.860Z"
   },
   {
    "duration": 0,
    "start_time": "2023-07-01T20:49:24.968Z"
   },
   {
    "duration": 0,
    "start_time": "2023-07-01T20:49:24.969Z"
   },
   {
    "duration": 17,
    "start_time": "2023-07-01T20:52:25.313Z"
   },
   {
    "duration": 3,
    "start_time": "2023-07-01T21:03:24.397Z"
   },
   {
    "duration": 1045,
    "start_time": "2023-07-01T21:16:24.204Z"
   },
   {
    "duration": 40,
    "start_time": "2023-07-01T21:16:25.251Z"
   },
   {
    "duration": 22,
    "start_time": "2023-07-01T21:16:25.292Z"
   },
   {
    "duration": 3,
    "start_time": "2023-07-01T21:16:25.315Z"
   },
   {
    "duration": 20,
    "start_time": "2023-07-01T21:16:25.319Z"
   },
   {
    "duration": 25,
    "start_time": "2023-07-01T21:16:25.340Z"
   },
   {
    "duration": 45,
    "start_time": "2023-07-01T21:16:25.367Z"
   },
   {
    "duration": 3,
    "start_time": "2023-07-01T21:16:25.414Z"
   },
   {
    "duration": 7,
    "start_time": "2023-07-01T21:16:25.419Z"
   },
   {
    "duration": 18,
    "start_time": "2023-07-01T21:16:25.428Z"
   },
   {
    "duration": 9,
    "start_time": "2023-07-01T21:16:25.447Z"
   },
   {
    "duration": 11,
    "start_time": "2023-07-01T21:16:25.457Z"
   },
   {
    "duration": 9,
    "start_time": "2023-07-01T21:16:25.469Z"
   },
   {
    "duration": 17,
    "start_time": "2023-07-01T21:16:25.479Z"
   },
   {
    "duration": 97,
    "start_time": "2023-07-01T21:16:25.499Z"
   },
   {
    "duration": 5,
    "start_time": "2023-07-01T21:16:25.597Z"
   },
   {
    "duration": 106,
    "start_time": "2023-07-01T21:16:25.603Z"
   },
   {
    "duration": 0,
    "start_time": "2023-07-01T21:16:25.711Z"
   },
   {
    "duration": 0,
    "start_time": "2023-07-01T21:16:25.712Z"
   },
   {
    "duration": 0,
    "start_time": "2023-07-01T21:16:25.712Z"
   },
   {
    "duration": 0,
    "start_time": "2023-07-01T21:16:25.713Z"
   },
   {
    "duration": 0,
    "start_time": "2023-07-01T21:16:25.714Z"
   },
   {
    "duration": 0,
    "start_time": "2023-07-01T21:16:25.715Z"
   },
   {
    "duration": 0,
    "start_time": "2023-07-01T21:16:25.716Z"
   },
   {
    "duration": 0,
    "start_time": "2023-07-01T21:16:25.717Z"
   },
   {
    "duration": 0,
    "start_time": "2023-07-01T21:16:25.717Z"
   },
   {
    "duration": 0,
    "start_time": "2023-07-01T21:16:25.718Z"
   },
   {
    "duration": 0,
    "start_time": "2023-07-01T21:16:25.719Z"
   },
   {
    "duration": 0,
    "start_time": "2023-07-01T21:16:25.720Z"
   },
   {
    "duration": 0,
    "start_time": "2023-07-01T21:16:25.720Z"
   },
   {
    "duration": 0,
    "start_time": "2023-07-01T21:16:25.721Z"
   },
   {
    "duration": 0,
    "start_time": "2023-07-01T21:16:25.722Z"
   },
   {
    "duration": 0,
    "start_time": "2023-07-01T21:16:25.723Z"
   },
   {
    "duration": 0,
    "start_time": "2023-07-01T21:16:25.724Z"
   },
   {
    "duration": 0,
    "start_time": "2023-07-01T21:16:25.725Z"
   },
   {
    "duration": 0,
    "start_time": "2023-07-01T21:16:25.726Z"
   },
   {
    "duration": 0,
    "start_time": "2023-07-01T21:16:25.726Z"
   },
   {
    "duration": 0,
    "start_time": "2023-07-01T21:16:25.727Z"
   },
   {
    "duration": 83,
    "start_time": "2023-07-01T21:16:25.784Z"
   },
   {
    "duration": 12,
    "start_time": "2023-07-01T21:16:25.999Z"
   },
   {
    "duration": 0,
    "start_time": "2023-07-01T21:16:26.013Z"
   },
   {
    "duration": 0,
    "start_time": "2023-07-01T21:16:26.017Z"
   },
   {
    "duration": 13,
    "start_time": "2023-07-01T21:18:46.924Z"
   },
   {
    "duration": 1073,
    "start_time": "2023-07-01T21:19:34.694Z"
   },
   {
    "duration": 41,
    "start_time": "2023-07-01T21:19:35.769Z"
   },
   {
    "duration": 19,
    "start_time": "2023-07-01T21:19:35.811Z"
   },
   {
    "duration": 3,
    "start_time": "2023-07-01T21:19:35.832Z"
   },
   {
    "duration": 17,
    "start_time": "2023-07-01T21:19:35.836Z"
   },
   {
    "duration": 19,
    "start_time": "2023-07-01T21:19:35.854Z"
   },
   {
    "duration": 53,
    "start_time": "2023-07-01T21:19:35.874Z"
   },
   {
    "duration": 3,
    "start_time": "2023-07-01T21:19:35.929Z"
   },
   {
    "duration": 6,
    "start_time": "2023-07-01T21:19:35.934Z"
   },
   {
    "duration": 18,
    "start_time": "2023-07-01T21:19:35.942Z"
   },
   {
    "duration": 11,
    "start_time": "2023-07-01T21:19:35.961Z"
   },
   {
    "duration": 11,
    "start_time": "2023-07-01T21:19:35.973Z"
   },
   {
    "duration": 4,
    "start_time": "2023-07-01T21:19:35.999Z"
   },
   {
    "duration": 17,
    "start_time": "2023-07-01T21:19:36.004Z"
   },
   {
    "duration": 130,
    "start_time": "2023-07-01T21:19:36.022Z"
   },
   {
    "duration": 10,
    "start_time": "2023-07-01T21:19:36.155Z"
   },
   {
    "duration": 18,
    "start_time": "2023-07-01T21:19:36.167Z"
   },
   {
    "duration": 19,
    "start_time": "2023-07-01T21:19:36.187Z"
   },
   {
    "duration": 16,
    "start_time": "2023-07-01T21:19:36.208Z"
   },
   {
    "duration": 22,
    "start_time": "2023-07-01T21:19:36.226Z"
   },
   {
    "duration": 24,
    "start_time": "2023-07-01T21:19:36.251Z"
   },
   {
    "duration": 16,
    "start_time": "2023-07-01T21:19:36.277Z"
   },
   {
    "duration": 15,
    "start_time": "2023-07-01T21:19:36.295Z"
   },
   {
    "duration": 363,
    "start_time": "2023-07-01T21:19:36.312Z"
   },
   {
    "duration": 128,
    "start_time": "2023-07-01T21:19:36.677Z"
   },
   {
    "duration": 39533,
    "start_time": "2023-07-01T21:19:36.807Z"
   },
   {
    "duration": 362,
    "start_time": "2023-07-01T21:20:16.342Z"
   },
   {
    "duration": 105,
    "start_time": "2023-07-01T21:20:16.708Z"
   },
   {
    "duration": 38299,
    "start_time": "2023-07-01T21:20:16.902Z"
   },
   {
    "duration": 5,
    "start_time": "2023-07-01T21:20:55.202Z"
   },
   {
    "duration": 19,
    "start_time": "2023-07-01T21:20:55.208Z"
   },
   {
    "duration": 849,
    "start_time": "2023-07-01T21:20:55.228Z"
   },
   {
    "duration": 67,
    "start_time": "2023-07-01T21:20:56.079Z"
   },
   {
    "duration": 106159,
    "start_time": "2023-07-01T21:20:56.148Z"
   },
   {
    "duration": 5,
    "start_time": "2023-07-01T21:22:42.308Z"
   },
   {
    "duration": 17,
    "start_time": "2023-07-01T21:22:42.314Z"
   },
   {
    "duration": 224,
    "start_time": "2023-07-01T21:22:42.333Z"
   },
   {
    "duration": 51,
    "start_time": "2023-07-01T21:22:42.558Z"
   },
   {
    "duration": 25580,
    "start_time": "2023-07-01T21:22:42.618Z"
   },
   {
    "duration": 12,
    "start_time": "2023-07-01T21:23:08.200Z"
   },
   {
    "duration": 26008,
    "start_time": "2023-07-01T21:23:08.215Z"
   },
   {
    "duration": 113,
    "start_time": "2023-07-01T21:23:34.225Z"
   },
   {
    "duration": 10,
    "start_time": "2023-07-01T21:24:23.708Z"
   },
   {
    "duration": 28,
    "start_time": "2023-07-01T21:24:31.187Z"
   },
   {
    "duration": 73,
    "start_time": "2023-07-01T21:25:06.909Z"
   },
   {
    "duration": 38343,
    "start_time": "2023-07-01T21:27:03.830Z"
   },
   {
    "duration": 102,
    "start_time": "2023-07-01T21:28:06.418Z"
   },
   {
    "duration": 577,
    "start_time": "2023-07-01T21:28:29.759Z"
   },
   {
    "duration": 558,
    "start_time": "2023-07-01T21:32:38.965Z"
   },
   {
    "duration": 38632,
    "start_time": "2023-07-01T21:33:32.719Z"
   },
   {
    "duration": 572,
    "start_time": "2023-07-01T21:34:19.406Z"
   },
   {
    "duration": 447,
    "start_time": "2023-07-01T21:38:19.423Z"
   },
   {
    "duration": 21760,
    "start_time": "2023-07-01T21:38:30.862Z"
   },
   {
    "duration": 30413,
    "start_time": "2023-07-01T21:42:30.341Z"
   },
   {
    "duration": 95,
    "start_time": "2023-07-01T21:58:23.882Z"
   },
   {
    "duration": 16,
    "start_time": "2023-07-01T21:58:30.036Z"
   },
   {
    "duration": 1384,
    "start_time": "2023-07-01T22:06:48.329Z"
   },
   {
    "duration": 42,
    "start_time": "2023-07-01T22:06:49.714Z"
   },
   {
    "duration": 17,
    "start_time": "2023-07-01T22:06:49.757Z"
   },
   {
    "duration": 3,
    "start_time": "2023-07-01T22:06:49.776Z"
   },
   {
    "duration": 22,
    "start_time": "2023-07-01T22:06:49.780Z"
   },
   {
    "duration": 29,
    "start_time": "2023-07-01T22:06:49.809Z"
   },
   {
    "duration": 47,
    "start_time": "2023-07-01T22:06:49.840Z"
   },
   {
    "duration": 5,
    "start_time": "2023-07-01T22:06:49.888Z"
   },
   {
    "duration": 20,
    "start_time": "2023-07-01T22:06:49.895Z"
   },
   {
    "duration": 14,
    "start_time": "2023-07-01T22:06:49.920Z"
   },
   {
    "duration": 13,
    "start_time": "2023-07-01T22:06:49.936Z"
   },
   {
    "duration": 10,
    "start_time": "2023-07-01T22:06:49.951Z"
   },
   {
    "duration": 14,
    "start_time": "2023-07-01T22:06:49.962Z"
   },
   {
    "duration": 18,
    "start_time": "2023-07-01T22:06:49.978Z"
   },
   {
    "duration": 93,
    "start_time": "2023-07-01T22:06:49.997Z"
   },
   {
    "duration": 4,
    "start_time": "2023-07-01T22:06:50.092Z"
   },
   {
    "duration": 26,
    "start_time": "2023-07-01T22:06:50.098Z"
   },
   {
    "duration": 7,
    "start_time": "2023-07-01T22:06:50.125Z"
   },
   {
    "duration": 9,
    "start_time": "2023-07-01T22:06:50.133Z"
   },
   {
    "duration": 20,
    "start_time": "2023-07-01T22:06:50.144Z"
   },
   {
    "duration": 16,
    "start_time": "2023-07-01T22:06:50.165Z"
   },
   {
    "duration": 10,
    "start_time": "2023-07-01T22:06:50.182Z"
   },
   {
    "duration": 16,
    "start_time": "2023-07-01T22:06:50.194Z"
   },
   {
    "duration": 382,
    "start_time": "2023-07-01T22:06:50.212Z"
   },
   {
    "duration": 124,
    "start_time": "2023-07-01T22:06:50.596Z"
   },
   {
    "duration": 41647,
    "start_time": "2023-07-01T22:06:50.725Z"
   },
   {
    "duration": 396,
    "start_time": "2023-07-01T22:07:32.374Z"
   },
   {
    "duration": 57,
    "start_time": "2023-07-01T22:07:32.772Z"
   },
   {
    "duration": 40828,
    "start_time": "2023-07-01T22:07:32.830Z"
   },
   {
    "duration": 4,
    "start_time": "2023-07-01T22:08:13.659Z"
   },
   {
    "duration": 22,
    "start_time": "2023-07-01T22:08:13.664Z"
   },
   {
    "duration": 866,
    "start_time": "2023-07-01T22:08:13.687Z"
   },
   {
    "duration": 71,
    "start_time": "2023-07-01T22:08:14.554Z"
   },
   {
    "duration": 110987,
    "start_time": "2023-07-01T22:08:14.707Z"
   },
   {
    "duration": 20,
    "start_time": "2023-07-01T22:10:05.696Z"
   },
   {
    "duration": 14,
    "start_time": "2023-07-01T22:10:05.718Z"
   },
   {
    "duration": 254,
    "start_time": "2023-07-01T22:10:05.734Z"
   },
   {
    "duration": 119,
    "start_time": "2023-07-01T22:10:05.991Z"
   },
   {
    "duration": 25785,
    "start_time": "2023-07-01T22:10:06.114Z"
   },
   {
    "duration": 12,
    "start_time": "2023-07-01T22:10:31.905Z"
   },
   {
    "duration": 40651,
    "start_time": "2023-07-01T22:10:31.919Z"
   },
   {
    "duration": 1680,
    "start_time": "2023-07-02T11:04:15.802Z"
   },
   {
    "duration": 8,
    "start_time": "2023-07-02T11:04:52.102Z"
   },
   {
    "duration": 1563,
    "start_time": "2023-07-02T11:05:00.635Z"
   },
   {
    "duration": 0,
    "start_time": "2023-07-02T11:05:02.201Z"
   },
   {
    "duration": 0,
    "start_time": "2023-07-02T11:05:02.203Z"
   },
   {
    "duration": 0,
    "start_time": "2023-07-02T11:05:02.204Z"
   },
   {
    "duration": 1,
    "start_time": "2023-07-02T11:05:02.205Z"
   },
   {
    "duration": 0,
    "start_time": "2023-07-02T11:05:02.207Z"
   },
   {
    "duration": 0,
    "start_time": "2023-07-02T11:05:02.208Z"
   },
   {
    "duration": 0,
    "start_time": "2023-07-02T11:05:02.209Z"
   },
   {
    "duration": 0,
    "start_time": "2023-07-02T11:05:02.211Z"
   },
   {
    "duration": 0,
    "start_time": "2023-07-02T11:05:02.212Z"
   },
   {
    "duration": 0,
    "start_time": "2023-07-02T11:05:02.213Z"
   },
   {
    "duration": 0,
    "start_time": "2023-07-02T11:05:02.215Z"
   },
   {
    "duration": 0,
    "start_time": "2023-07-02T11:05:02.216Z"
   },
   {
    "duration": 0,
    "start_time": "2023-07-02T11:05:02.217Z"
   },
   {
    "duration": 0,
    "start_time": "2023-07-02T11:05:02.218Z"
   },
   {
    "duration": 0,
    "start_time": "2023-07-02T11:05:02.221Z"
   },
   {
    "duration": 0,
    "start_time": "2023-07-02T11:05:02.222Z"
   },
   {
    "duration": 0,
    "start_time": "2023-07-02T11:05:02.255Z"
   },
   {
    "duration": 0,
    "start_time": "2023-07-02T11:05:02.257Z"
   },
   {
    "duration": 0,
    "start_time": "2023-07-02T11:05:02.258Z"
   },
   {
    "duration": 0,
    "start_time": "2023-07-02T11:05:02.260Z"
   },
   {
    "duration": 0,
    "start_time": "2023-07-02T11:05:02.261Z"
   },
   {
    "duration": 0,
    "start_time": "2023-07-02T11:05:02.262Z"
   },
   {
    "duration": 0,
    "start_time": "2023-07-02T11:05:02.264Z"
   },
   {
    "duration": 0,
    "start_time": "2023-07-02T11:05:02.265Z"
   },
   {
    "duration": 0,
    "start_time": "2023-07-02T11:05:02.266Z"
   },
   {
    "duration": 0,
    "start_time": "2023-07-02T11:05:02.267Z"
   },
   {
    "duration": 0,
    "start_time": "2023-07-02T11:05:02.269Z"
   },
   {
    "duration": 0,
    "start_time": "2023-07-02T11:05:02.270Z"
   },
   {
    "duration": 0,
    "start_time": "2023-07-02T11:05:02.271Z"
   },
   {
    "duration": 0,
    "start_time": "2023-07-02T11:05:02.273Z"
   },
   {
    "duration": 0,
    "start_time": "2023-07-02T11:05:02.274Z"
   },
   {
    "duration": 0,
    "start_time": "2023-07-02T11:05:02.275Z"
   },
   {
    "duration": 0,
    "start_time": "2023-07-02T11:05:02.277Z"
   },
   {
    "duration": 0,
    "start_time": "2023-07-02T11:05:02.278Z"
   },
   {
    "duration": 0,
    "start_time": "2023-07-02T11:05:02.279Z"
   },
   {
    "duration": 0,
    "start_time": "2023-07-02T11:05:02.280Z"
   },
   {
    "duration": 0,
    "start_time": "2023-07-02T11:05:02.281Z"
   },
   {
    "duration": 0,
    "start_time": "2023-07-02T11:05:02.283Z"
   },
   {
    "duration": 0,
    "start_time": "2023-07-02T11:05:02.284Z"
   },
   {
    "duration": 0,
    "start_time": "2023-07-02T11:05:02.285Z"
   },
   {
    "duration": 0,
    "start_time": "2023-07-02T11:05:02.286Z"
   },
   {
    "duration": 0,
    "start_time": "2023-07-02T11:05:02.287Z"
   },
   {
    "duration": 75,
    "start_time": "2023-07-02T11:06:36.595Z"
   },
   {
    "duration": 9,
    "start_time": "2023-07-02T11:09:30.760Z"
   },
   {
    "duration": 1641,
    "start_time": "2023-07-02T11:10:02.650Z"
   },
   {
    "duration": 82,
    "start_time": "2023-07-02T11:10:04.292Z"
   },
   {
    "duration": 17,
    "start_time": "2023-07-02T11:10:04.377Z"
   },
   {
    "duration": 12,
    "start_time": "2023-07-02T11:10:04.395Z"
   },
   {
    "duration": 30,
    "start_time": "2023-07-02T11:10:04.409Z"
   },
   {
    "duration": 20,
    "start_time": "2023-07-02T11:10:04.440Z"
   },
   {
    "duration": 40,
    "start_time": "2023-07-02T11:10:04.461Z"
   },
   {
    "duration": 3,
    "start_time": "2023-07-02T11:10:04.503Z"
   },
   {
    "duration": 10,
    "start_time": "2023-07-02T11:10:04.508Z"
   },
   {
    "duration": 16,
    "start_time": "2023-07-02T11:10:04.520Z"
   },
   {
    "duration": 24,
    "start_time": "2023-07-02T11:10:04.538Z"
   },
   {
    "duration": 8,
    "start_time": "2023-07-02T11:10:04.564Z"
   },
   {
    "duration": 20,
    "start_time": "2023-07-02T11:10:04.573Z"
   },
   {
    "duration": 14,
    "start_time": "2023-07-02T11:10:04.595Z"
   },
   {
    "duration": 98,
    "start_time": "2023-07-02T11:10:04.611Z"
   },
   {
    "duration": 4,
    "start_time": "2023-07-02T11:10:04.711Z"
   },
   {
    "duration": 21,
    "start_time": "2023-07-02T11:10:04.717Z"
   },
   {
    "duration": 130,
    "start_time": "2023-07-02T11:10:04.740Z"
   },
   {
    "duration": 0,
    "start_time": "2023-07-02T11:10:04.872Z"
   },
   {
    "duration": 0,
    "start_time": "2023-07-02T11:10:04.873Z"
   },
   {
    "duration": 0,
    "start_time": "2023-07-02T11:10:04.875Z"
   },
   {
    "duration": 0,
    "start_time": "2023-07-02T11:10:04.876Z"
   },
   {
    "duration": 0,
    "start_time": "2023-07-02T11:10:04.877Z"
   },
   {
    "duration": 0,
    "start_time": "2023-07-02T11:10:04.878Z"
   },
   {
    "duration": 0,
    "start_time": "2023-07-02T11:10:04.879Z"
   },
   {
    "duration": 0,
    "start_time": "2023-07-02T11:10:04.880Z"
   },
   {
    "duration": 0,
    "start_time": "2023-07-02T11:10:04.881Z"
   },
   {
    "duration": 0,
    "start_time": "2023-07-02T11:10:04.882Z"
   },
   {
    "duration": 0,
    "start_time": "2023-07-02T11:10:04.883Z"
   },
   {
    "duration": 0,
    "start_time": "2023-07-02T11:10:04.884Z"
   },
   {
    "duration": 0,
    "start_time": "2023-07-02T11:10:04.885Z"
   },
   {
    "duration": 0,
    "start_time": "2023-07-02T11:10:04.887Z"
   },
   {
    "duration": 0,
    "start_time": "2023-07-02T11:10:04.887Z"
   },
   {
    "duration": 0,
    "start_time": "2023-07-02T11:10:04.888Z"
   },
   {
    "duration": 0,
    "start_time": "2023-07-02T11:10:04.890Z"
   },
   {
    "duration": 0,
    "start_time": "2023-07-02T11:10:04.891Z"
   },
   {
    "duration": 0,
    "start_time": "2023-07-02T11:10:04.891Z"
   },
   {
    "duration": 0,
    "start_time": "2023-07-02T11:10:04.892Z"
   },
   {
    "duration": 1,
    "start_time": "2023-07-02T11:10:04.893Z"
   },
   {
    "duration": 0,
    "start_time": "2023-07-02T11:10:04.895Z"
   },
   {
    "duration": 0,
    "start_time": "2023-07-02T11:10:04.896Z"
   },
   {
    "duration": 0,
    "start_time": "2023-07-02T11:10:04.897Z"
   },
   {
    "duration": 0,
    "start_time": "2023-07-02T11:10:04.898Z"
   },
   {
    "duration": 1479,
    "start_time": "2023-07-02T11:10:49.828Z"
   },
   {
    "duration": 43,
    "start_time": "2023-07-02T11:10:51.309Z"
   },
   {
    "duration": 17,
    "start_time": "2023-07-02T11:10:51.354Z"
   },
   {
    "duration": 3,
    "start_time": "2023-07-02T11:10:51.374Z"
   },
   {
    "duration": 36,
    "start_time": "2023-07-02T11:10:51.378Z"
   },
   {
    "duration": 28,
    "start_time": "2023-07-02T11:10:51.416Z"
   },
   {
    "duration": 52,
    "start_time": "2023-07-02T11:10:51.446Z"
   },
   {
    "duration": 4,
    "start_time": "2023-07-02T11:10:51.500Z"
   },
   {
    "duration": 21,
    "start_time": "2023-07-02T11:10:51.505Z"
   },
   {
    "duration": 24,
    "start_time": "2023-07-02T11:10:51.531Z"
   },
   {
    "duration": 19,
    "start_time": "2023-07-02T11:10:51.557Z"
   },
   {
    "duration": 15,
    "start_time": "2023-07-02T11:10:51.578Z"
   },
   {
    "duration": 16,
    "start_time": "2023-07-02T11:10:51.595Z"
   },
   {
    "duration": 26,
    "start_time": "2023-07-02T11:10:51.613Z"
   },
   {
    "duration": 119,
    "start_time": "2023-07-02T11:10:51.642Z"
   },
   {
    "duration": 5,
    "start_time": "2023-07-02T11:10:51.763Z"
   },
   {
    "duration": 27,
    "start_time": "2023-07-02T11:10:51.769Z"
   },
   {
    "duration": 45,
    "start_time": "2023-07-02T11:10:51.797Z"
   },
   {
    "duration": 28,
    "start_time": "2023-07-02T11:10:51.844Z"
   },
   {
    "duration": 38,
    "start_time": "2023-07-02T11:10:51.874Z"
   },
   {
    "duration": 38,
    "start_time": "2023-07-02T11:10:51.913Z"
   },
   {
    "duration": 49,
    "start_time": "2023-07-02T11:10:51.953Z"
   },
   {
    "duration": 20,
    "start_time": "2023-07-02T11:10:52.003Z"
   },
   {
    "duration": 401,
    "start_time": "2023-07-02T11:10:52.025Z"
   },
   {
    "duration": 37,
    "start_time": "2023-07-02T11:10:52.428Z"
   },
   {
    "duration": 40311,
    "start_time": "2023-07-02T11:10:52.468Z"
   },
   {
    "duration": 354,
    "start_time": "2023-07-02T11:11:32.780Z"
   },
   {
    "duration": 118,
    "start_time": "2023-07-02T11:11:33.137Z"
   },
   {
    "duration": 40434,
    "start_time": "2023-07-02T11:11:33.258Z"
   },
   {
    "duration": 4,
    "start_time": "2023-07-02T11:12:13.694Z"
   },
   {
    "duration": 22,
    "start_time": "2023-07-02T11:12:13.700Z"
   },
   {
    "duration": 869,
    "start_time": "2023-07-02T11:12:13.724Z"
   },
   {
    "duration": 65,
    "start_time": "2023-07-02T11:12:14.595Z"
   },
   {
    "duration": 108976,
    "start_time": "2023-07-02T11:12:14.662Z"
   },
   {
    "duration": 4,
    "start_time": "2023-07-02T11:14:03.639Z"
   },
   {
    "duration": 24,
    "start_time": "2023-07-02T11:14:03.645Z"
   },
   {
    "duration": 205,
    "start_time": "2023-07-02T11:14:03.670Z"
   },
   {
    "duration": 78,
    "start_time": "2023-07-02T11:14:03.877Z"
   },
   {
    "duration": 26772,
    "start_time": "2023-07-02T11:14:03.957Z"
   },
   {
    "duration": 11,
    "start_time": "2023-07-02T11:14:30.731Z"
   },
   {
    "duration": 40278,
    "start_time": "2023-07-02T11:14:30.754Z"
   },
   {
    "duration": 601,
    "start_time": "2023-07-02T11:15:11.034Z"
   },
   {
    "duration": 115,
    "start_time": "2023-07-02T11:15:35.543Z"
   },
   {
    "duration": 4,
    "start_time": "2023-07-02T11:15:56.220Z"
   },
   {
    "duration": 4,
    "start_time": "2023-07-02T11:16:06.991Z"
   },
   {
    "duration": 11,
    "start_time": "2023-07-02T11:17:59.521Z"
   },
   {
    "duration": 4,
    "start_time": "2023-07-02T11:18:29.918Z"
   },
   {
    "duration": 139,
    "start_time": "2023-07-02T11:18:40.895Z"
   },
   {
    "duration": 214,
    "start_time": "2023-07-02T11:20:09.499Z"
   },
   {
    "duration": 131,
    "start_time": "2023-07-02T11:20:18.430Z"
   },
   {
    "duration": 1375,
    "start_time": "2023-07-02T11:23:38.458Z"
   },
   {
    "duration": 45,
    "start_time": "2023-07-02T11:23:39.835Z"
   },
   {
    "duration": 19,
    "start_time": "2023-07-02T11:23:39.881Z"
   },
   {
    "duration": 4,
    "start_time": "2023-07-02T11:23:39.902Z"
   },
   {
    "duration": 20,
    "start_time": "2023-07-02T11:23:39.908Z"
   },
   {
    "duration": 24,
    "start_time": "2023-07-02T11:23:39.930Z"
   },
   {
    "duration": 44,
    "start_time": "2023-07-02T11:23:39.956Z"
   },
   {
    "duration": 5,
    "start_time": "2023-07-02T11:23:40.001Z"
   },
   {
    "duration": 20,
    "start_time": "2023-07-02T11:23:40.008Z"
   },
   {
    "duration": 22,
    "start_time": "2023-07-02T11:23:40.030Z"
   },
   {
    "duration": 21,
    "start_time": "2023-07-02T11:23:40.054Z"
   },
   {
    "duration": 23,
    "start_time": "2023-07-02T11:23:40.077Z"
   },
   {
    "duration": 10,
    "start_time": "2023-07-02T11:23:40.102Z"
   },
   {
    "duration": 14,
    "start_time": "2023-07-02T11:23:40.114Z"
   },
   {
    "duration": 104,
    "start_time": "2023-07-02T11:23:40.129Z"
   },
   {
    "duration": 4,
    "start_time": "2023-07-02T11:23:40.235Z"
   },
   {
    "duration": 5,
    "start_time": "2023-07-02T11:23:40.241Z"
   },
   {
    "duration": 7,
    "start_time": "2023-07-02T11:23:40.254Z"
   },
   {
    "duration": 5,
    "start_time": "2023-07-02T11:23:40.262Z"
   },
   {
    "duration": 10,
    "start_time": "2023-07-02T11:23:40.269Z"
   },
   {
    "duration": 5,
    "start_time": "2023-07-02T11:23:40.280Z"
   },
   {
    "duration": 5,
    "start_time": "2023-07-02T11:23:40.287Z"
   },
   {
    "duration": 8,
    "start_time": "2023-07-02T11:23:40.294Z"
   },
   {
    "duration": 392,
    "start_time": "2023-07-02T11:23:40.303Z"
   },
   {
    "duration": 63,
    "start_time": "2023-07-02T11:23:40.697Z"
   },
   {
    "duration": 40930,
    "start_time": "2023-07-02T11:23:40.853Z"
   },
   {
    "duration": 361,
    "start_time": "2023-07-02T11:24:21.785Z"
   },
   {
    "duration": 106,
    "start_time": "2023-07-02T11:24:22.153Z"
   },
   {
    "duration": 40431,
    "start_time": "2023-07-02T11:24:22.262Z"
   },
   {
    "duration": 4,
    "start_time": "2023-07-02T11:25:02.695Z"
   },
   {
    "duration": 22,
    "start_time": "2023-07-02T11:25:02.701Z"
   },
   {
    "duration": 767,
    "start_time": "2023-07-02T11:25:02.725Z"
   },
   {
    "duration": 63,
    "start_time": "2023-07-02T11:25:03.494Z"
   },
   {
    "duration": 109148,
    "start_time": "2023-07-02T11:25:03.559Z"
   },
   {
    "duration": 6,
    "start_time": "2023-07-02T11:26:52.709Z"
   },
   {
    "duration": 27,
    "start_time": "2023-07-02T11:26:52.717Z"
   },
   {
    "duration": 237,
    "start_time": "2023-07-02T11:26:52.746Z"
   },
   {
    "duration": 77,
    "start_time": "2023-07-02T11:26:52.985Z"
   },
   {
    "duration": 26360,
    "start_time": "2023-07-02T11:26:53.153Z"
   },
   {
    "duration": 12,
    "start_time": "2023-07-02T11:27:19.516Z"
   },
   {
    "duration": 40776,
    "start_time": "2023-07-02T11:27:19.529Z"
   },
   {
    "duration": 592,
    "start_time": "2023-07-02T11:28:00.307Z"
   },
   {
    "duration": 154,
    "start_time": "2023-07-02T11:28:00.901Z"
   },
   {
    "duration": 1721,
    "start_time": "2023-07-03T19:19:30.554Z"
   },
   {
    "duration": 173,
    "start_time": "2023-07-03T19:19:32.278Z"
   },
   {
    "duration": 23,
    "start_time": "2023-07-03T19:19:32.453Z"
   },
   {
    "duration": 3,
    "start_time": "2023-07-03T19:19:32.479Z"
   },
   {
    "duration": 33,
    "start_time": "2023-07-03T19:19:32.484Z"
   },
   {
    "duration": 25,
    "start_time": "2023-07-03T19:19:32.519Z"
   },
   {
    "duration": 80,
    "start_time": "2023-07-03T19:19:32.546Z"
   },
   {
    "duration": 5,
    "start_time": "2023-07-03T19:19:32.628Z"
   },
   {
    "duration": 144,
    "start_time": "2023-07-03T19:19:32.634Z"
   },
   {
    "duration": 0,
    "start_time": "2023-07-03T19:19:32.781Z"
   },
   {
    "duration": 0,
    "start_time": "2023-07-03T19:19:32.782Z"
   },
   {
    "duration": 0,
    "start_time": "2023-07-03T19:19:32.783Z"
   },
   {
    "duration": 0,
    "start_time": "2023-07-03T19:19:32.785Z"
   },
   {
    "duration": 0,
    "start_time": "2023-07-03T19:19:32.786Z"
   },
   {
    "duration": 0,
    "start_time": "2023-07-03T19:19:32.787Z"
   },
   {
    "duration": 0,
    "start_time": "2023-07-03T19:19:32.788Z"
   },
   {
    "duration": 0,
    "start_time": "2023-07-03T19:19:32.790Z"
   },
   {
    "duration": 0,
    "start_time": "2023-07-03T19:19:32.791Z"
   },
   {
    "duration": 0,
    "start_time": "2023-07-03T19:19:32.792Z"
   },
   {
    "duration": 0,
    "start_time": "2023-07-03T19:19:32.793Z"
   },
   {
    "duration": 0,
    "start_time": "2023-07-03T19:19:32.794Z"
   },
   {
    "duration": 0,
    "start_time": "2023-07-03T19:19:32.796Z"
   },
   {
    "duration": 0,
    "start_time": "2023-07-03T19:19:32.797Z"
   },
   {
    "duration": 0,
    "start_time": "2023-07-03T19:19:32.798Z"
   },
   {
    "duration": 0,
    "start_time": "2023-07-03T19:19:32.800Z"
   },
   {
    "duration": 0,
    "start_time": "2023-07-03T19:19:32.801Z"
   },
   {
    "duration": 0,
    "start_time": "2023-07-03T19:19:32.802Z"
   },
   {
    "duration": 0,
    "start_time": "2023-07-03T19:19:32.803Z"
   },
   {
    "duration": 0,
    "start_time": "2023-07-03T19:19:32.804Z"
   },
   {
    "duration": 0,
    "start_time": "2023-07-03T19:19:32.805Z"
   },
   {
    "duration": 0,
    "start_time": "2023-07-03T19:19:32.806Z"
   },
   {
    "duration": 0,
    "start_time": "2023-07-03T19:19:32.808Z"
   },
   {
    "duration": 0,
    "start_time": "2023-07-03T19:19:32.809Z"
   },
   {
    "duration": 0,
    "start_time": "2023-07-03T19:19:32.810Z"
   },
   {
    "duration": 0,
    "start_time": "2023-07-03T19:19:32.812Z"
   },
   {
    "duration": 0,
    "start_time": "2023-07-03T19:19:32.813Z"
   },
   {
    "duration": 0,
    "start_time": "2023-07-03T19:19:32.868Z"
   },
   {
    "duration": 0,
    "start_time": "2023-07-03T19:19:32.870Z"
   },
   {
    "duration": 0,
    "start_time": "2023-07-03T19:19:32.871Z"
   },
   {
    "duration": 0,
    "start_time": "2023-07-03T19:19:32.872Z"
   },
   {
    "duration": 0,
    "start_time": "2023-07-03T19:19:32.874Z"
   },
   {
    "duration": 0,
    "start_time": "2023-07-03T19:19:32.875Z"
   },
   {
    "duration": 0,
    "start_time": "2023-07-03T19:19:32.876Z"
   },
   {
    "duration": 13,
    "start_time": "2023-07-03T19:19:57.651Z"
   },
   {
    "duration": 5,
    "start_time": "2023-07-03T19:25:06.527Z"
   },
   {
    "duration": 5,
    "start_time": "2023-07-03T19:31:52.536Z"
   },
   {
    "duration": 17,
    "start_time": "2023-07-03T19:31:53.937Z"
   },
   {
    "duration": 7,
    "start_time": "2023-07-03T19:32:45.352Z"
   },
   {
    "duration": 131,
    "start_time": "2023-07-03T19:33:51.723Z"
   },
   {
    "duration": 7,
    "start_time": "2023-07-03T19:33:52.856Z"
   },
   {
    "duration": 1020,
    "start_time": "2023-07-03T19:34:19.985Z"
   },
   {
    "duration": 11,
    "start_time": "2023-07-03T19:34:35.017Z"
   },
   {
    "duration": 9,
    "start_time": "2023-07-03T19:34:59.727Z"
   },
   {
    "duration": 6,
    "start_time": "2023-07-03T19:46:30.495Z"
   },
   {
    "duration": 4,
    "start_time": "2023-07-03T19:46:31.713Z"
   },
   {
    "duration": 10,
    "start_time": "2023-07-03T19:46:32.551Z"
   },
   {
    "duration": 7,
    "start_time": "2023-07-03T19:46:33.458Z"
   },
   {
    "duration": 6,
    "start_time": "2023-07-03T19:46:34.868Z"
   },
   {
    "duration": 3,
    "start_time": "2023-07-03T19:50:09.800Z"
   },
   {
    "duration": 14,
    "start_time": "2023-07-03T19:50:16.609Z"
   },
   {
    "duration": 11,
    "start_time": "2023-07-03T19:50:23.794Z"
   },
   {
    "duration": 6,
    "start_time": "2023-07-03T19:50:25.728Z"
   },
   {
    "duration": 5,
    "start_time": "2023-07-03T19:58:48.194Z"
   },
   {
    "duration": 92,
    "start_time": "2023-07-03T19:59:02.856Z"
   },
   {
    "duration": 89,
    "start_time": "2023-07-03T20:06:20.138Z"
   },
   {
    "duration": 86,
    "start_time": "2023-07-03T20:06:39.820Z"
   },
   {
    "duration": 95,
    "start_time": "2023-07-03T20:06:58.259Z"
   },
   {
    "duration": 15,
    "start_time": "2023-07-03T20:07:50.370Z"
   },
   {
    "duration": 189,
    "start_time": "2023-07-03T20:10:54.258Z"
   },
   {
    "duration": 20,
    "start_time": "2023-07-03T20:16:01.207Z"
   },
   {
    "duration": 5,
    "start_time": "2023-07-03T20:16:46.115Z"
   },
   {
    "duration": 16,
    "start_time": "2023-07-03T20:16:48.493Z"
   },
   {
    "duration": 19,
    "start_time": "2023-07-03T20:16:55.000Z"
   },
   {
    "duration": 19,
    "start_time": "2023-07-03T20:16:58.740Z"
   },
   {
    "duration": 5,
    "start_time": "2023-07-03T20:17:05.645Z"
   },
   {
    "duration": 4,
    "start_time": "2023-07-03T20:17:06.307Z"
   },
   {
    "duration": 3,
    "start_time": "2023-07-03T20:17:07.122Z"
   },
   {
    "duration": 9,
    "start_time": "2023-07-03T20:17:07.861Z"
   },
   {
    "duration": 7,
    "start_time": "2023-07-03T20:17:08.585Z"
   },
   {
    "duration": 6,
    "start_time": "2023-07-03T20:17:09.489Z"
   },
   {
    "duration": 19,
    "start_time": "2023-07-03T20:17:10.593Z"
   },
   {
    "duration": 3,
    "start_time": "2023-07-03T20:17:11.497Z"
   },
   {
    "duration": 1203,
    "start_time": "2023-07-03T20:24:30.558Z"
   },
   {
    "duration": 4,
    "start_time": "2023-07-03T20:25:26.685Z"
   },
   {
    "duration": 4,
    "start_time": "2023-07-03T20:25:36.082Z"
   },
   {
    "duration": 16,
    "start_time": "2023-07-03T20:28:33.649Z"
   },
   {
    "duration": 20,
    "start_time": "2023-07-03T20:28:45.756Z"
   },
   {
    "duration": 4,
    "start_time": "2023-07-03T20:29:12.003Z"
   },
   {
    "duration": 16,
    "start_time": "2023-07-03T20:29:21.914Z"
   },
   {
    "duration": 4,
    "start_time": "2023-07-03T20:31:06.117Z"
   },
   {
    "duration": 10,
    "start_time": "2023-07-03T20:31:07.186Z"
   },
   {
    "duration": 4,
    "start_time": "2023-07-03T20:31:39.818Z"
   },
   {
    "duration": 26,
    "start_time": "2023-07-03T20:31:40.680Z"
   },
   {
    "duration": 25,
    "start_time": "2023-07-03T20:32:37.640Z"
   },
   {
    "duration": 11,
    "start_time": "2023-07-03T20:33:45.498Z"
   },
   {
    "duration": 6,
    "start_time": "2023-07-03T20:34:09.953Z"
   },
   {
    "duration": 1554,
    "start_time": "2023-07-03T20:37:43.486Z"
   },
   {
    "duration": 44,
    "start_time": "2023-07-03T20:37:45.042Z"
   },
   {
    "duration": 21,
    "start_time": "2023-07-03T20:37:45.089Z"
   },
   {
    "duration": 3,
    "start_time": "2023-07-03T20:37:45.113Z"
   },
   {
    "duration": 30,
    "start_time": "2023-07-03T20:37:45.118Z"
   },
   {
    "duration": 32,
    "start_time": "2023-07-03T20:37:45.149Z"
   },
   {
    "duration": 48,
    "start_time": "2023-07-03T20:37:45.183Z"
   },
   {
    "duration": 5,
    "start_time": "2023-07-03T20:37:45.233Z"
   },
   {
    "duration": 34,
    "start_time": "2023-07-03T20:37:45.239Z"
   },
   {
    "duration": 9,
    "start_time": "2023-07-03T20:37:45.276Z"
   },
   {
    "duration": 27,
    "start_time": "2023-07-03T20:37:45.287Z"
   },
   {
    "duration": 24,
    "start_time": "2023-07-03T20:37:45.316Z"
   },
   {
    "duration": 14,
    "start_time": "2023-07-03T20:37:45.342Z"
   },
   {
    "duration": 40,
    "start_time": "2023-07-03T20:37:45.359Z"
   },
   {
    "duration": 117,
    "start_time": "2023-07-03T20:37:45.402Z"
   },
   {
    "duration": 6,
    "start_time": "2023-07-03T20:37:45.521Z"
   },
   {
    "duration": 38,
    "start_time": "2023-07-03T20:37:45.529Z"
   },
   {
    "duration": 31,
    "start_time": "2023-07-03T20:37:45.569Z"
   },
   {
    "duration": 12,
    "start_time": "2023-07-03T20:37:45.602Z"
   },
   {
    "duration": 31,
    "start_time": "2023-07-03T20:37:45.616Z"
   },
   {
    "duration": 38,
    "start_time": "2023-07-03T20:37:45.650Z"
   },
   {
    "duration": 20,
    "start_time": "2023-07-03T20:37:45.690Z"
   },
   {
    "duration": 40,
    "start_time": "2023-07-03T20:37:45.713Z"
   },
   {
    "duration": 8,
    "start_time": "2023-07-03T20:37:45.755Z"
   },
   {
    "duration": 9,
    "start_time": "2023-07-03T20:37:45.765Z"
   },
   {
    "duration": 22,
    "start_time": "2023-07-03T20:37:45.775Z"
   },
   {
    "duration": 7,
    "start_time": "2023-07-03T20:37:45.798Z"
   },
   {
    "duration": 6,
    "start_time": "2023-07-03T20:37:45.809Z"
   },
   {
    "duration": 137,
    "start_time": "2023-07-03T20:37:45.818Z"
   },
   {
    "duration": 0,
    "start_time": "2023-07-03T20:37:45.957Z"
   },
   {
    "duration": 0,
    "start_time": "2023-07-03T20:37:45.958Z"
   },
   {
    "duration": 0,
    "start_time": "2023-07-03T20:37:45.959Z"
   },
   {
    "duration": 0,
    "start_time": "2023-07-03T20:37:45.967Z"
   },
   {
    "duration": 0,
    "start_time": "2023-07-03T20:37:45.969Z"
   },
   {
    "duration": 0,
    "start_time": "2023-07-03T20:37:45.970Z"
   },
   {
    "duration": 0,
    "start_time": "2023-07-03T20:37:45.971Z"
   },
   {
    "duration": 0,
    "start_time": "2023-07-03T20:37:45.972Z"
   },
   {
    "duration": 0,
    "start_time": "2023-07-03T20:37:45.973Z"
   },
   {
    "duration": 0,
    "start_time": "2023-07-03T20:37:45.975Z"
   },
   {
    "duration": 0,
    "start_time": "2023-07-03T20:37:45.976Z"
   },
   {
    "duration": 0,
    "start_time": "2023-07-03T20:37:45.978Z"
   },
   {
    "duration": 0,
    "start_time": "2023-07-03T20:37:45.979Z"
   },
   {
    "duration": 0,
    "start_time": "2023-07-03T20:37:45.980Z"
   },
   {
    "duration": 0,
    "start_time": "2023-07-03T20:37:45.981Z"
   },
   {
    "duration": 0,
    "start_time": "2023-07-03T20:37:45.982Z"
   },
   {
    "duration": 0,
    "start_time": "2023-07-03T20:37:45.983Z"
   },
   {
    "duration": 0,
    "start_time": "2023-07-03T20:37:45.984Z"
   },
   {
    "duration": 0,
    "start_time": "2023-07-03T20:37:45.986Z"
   },
   {
    "duration": 0,
    "start_time": "2023-07-03T20:37:45.987Z"
   },
   {
    "duration": 0,
    "start_time": "2023-07-03T20:37:45.989Z"
   },
   {
    "duration": 0,
    "start_time": "2023-07-03T20:37:45.990Z"
   },
   {
    "duration": 0,
    "start_time": "2023-07-03T20:37:45.991Z"
   },
   {
    "duration": 0,
    "start_time": "2023-07-03T20:37:45.993Z"
   },
   {
    "duration": 0,
    "start_time": "2023-07-03T20:37:45.994Z"
   },
   {
    "duration": 80,
    "start_time": "2023-07-03T20:40:04.428Z"
   },
   {
    "duration": 68,
    "start_time": "2023-07-03T20:41:06.684Z"
   },
   {
    "duration": 25,
    "start_time": "2023-07-03T20:41:32.706Z"
   },
   {
    "duration": 28,
    "start_time": "2023-07-03T20:52:36.175Z"
   },
   {
    "duration": 17,
    "start_time": "2023-07-03T20:54:21.677Z"
   },
   {
    "duration": 16,
    "start_time": "2023-07-03T20:56:04.132Z"
   },
   {
    "duration": 15,
    "start_time": "2023-07-03T20:58:43.853Z"
   },
   {
    "duration": 20,
    "start_time": "2023-07-03T20:59:03.988Z"
   },
   {
    "duration": 17,
    "start_time": "2023-07-03T20:59:56.282Z"
   },
   {
    "duration": 9,
    "start_time": "2023-07-03T21:12:57.437Z"
   },
   {
    "duration": 14,
    "start_time": "2023-07-03T21:13:34.867Z"
   },
   {
    "duration": 17,
    "start_time": "2023-07-03T21:13:47.101Z"
   },
   {
    "duration": 10,
    "start_time": "2023-07-03T21:19:27.687Z"
   },
   {
    "duration": 16,
    "start_time": "2023-07-03T21:19:50.323Z"
   },
   {
    "duration": 20,
    "start_time": "2023-07-03T21:20:02.847Z"
   },
   {
    "duration": 2,
    "start_time": "2023-07-03T21:20:52.247Z"
   },
   {
    "duration": 14,
    "start_time": "2023-07-03T21:20:54.127Z"
   },
   {
    "duration": 3,
    "start_time": "2023-07-03T21:21:04.711Z"
   },
   {
    "duration": 6,
    "start_time": "2023-07-03T21:21:08.459Z"
   },
   {
    "duration": 4,
    "start_time": "2023-07-03T21:21:45.527Z"
   },
   {
    "duration": 17,
    "start_time": "2023-07-03T21:22:02.178Z"
   },
   {
    "duration": 14,
    "start_time": "2023-07-03T21:25:18.676Z"
   },
   {
    "duration": 5,
    "start_time": "2023-07-03T21:26:18.724Z"
   },
   {
    "duration": 23,
    "start_time": "2023-07-03T21:26:25.052Z"
   },
   {
    "duration": 15,
    "start_time": "2023-07-03T21:29:14.014Z"
   },
   {
    "duration": 12,
    "start_time": "2023-07-03T21:29:25.762Z"
   },
   {
    "duration": 76,
    "start_time": "2023-07-03T21:29:53.764Z"
   },
   {
    "duration": 11,
    "start_time": "2023-07-03T21:31:49.515Z"
   },
   {
    "duration": 5,
    "start_time": "2023-07-03T21:32:02.167Z"
   },
   {
    "duration": 13,
    "start_time": "2023-07-03T21:32:08.950Z"
   },
   {
    "duration": 1432,
    "start_time": "2023-07-03T21:32:48.900Z"
   },
   {
    "duration": 45,
    "start_time": "2023-07-03T21:32:50.334Z"
   },
   {
    "duration": 22,
    "start_time": "2023-07-03T21:32:50.381Z"
   },
   {
    "duration": 4,
    "start_time": "2023-07-03T21:32:50.406Z"
   },
   {
    "duration": 23,
    "start_time": "2023-07-03T21:32:50.411Z"
   },
   {
    "duration": 41,
    "start_time": "2023-07-03T21:32:50.437Z"
   },
   {
    "duration": 43,
    "start_time": "2023-07-03T21:32:50.480Z"
   },
   {
    "duration": 5,
    "start_time": "2023-07-03T21:32:50.525Z"
   },
   {
    "duration": 35,
    "start_time": "2023-07-03T21:32:50.531Z"
   },
   {
    "duration": 5,
    "start_time": "2023-07-03T21:32:50.569Z"
   },
   {
    "duration": 11,
    "start_time": "2023-07-03T21:32:50.576Z"
   },
   {
    "duration": 7,
    "start_time": "2023-07-03T21:32:50.589Z"
   },
   {
    "duration": 10,
    "start_time": "2023-07-03T21:32:50.597Z"
   },
   {
    "duration": 14,
    "start_time": "2023-07-03T21:32:50.609Z"
   },
   {
    "duration": 122,
    "start_time": "2023-07-03T21:32:50.625Z"
   },
   {
    "duration": 7,
    "start_time": "2023-07-03T21:32:50.749Z"
   },
   {
    "duration": 28,
    "start_time": "2023-07-03T21:32:50.768Z"
   },
   {
    "duration": 50,
    "start_time": "2023-07-03T21:32:50.798Z"
   },
   {
    "duration": 17,
    "start_time": "2023-07-03T21:32:50.850Z"
   },
   {
    "duration": 10,
    "start_time": "2023-07-03T21:32:50.870Z"
   },
   {
    "duration": 7,
    "start_time": "2023-07-03T21:32:50.882Z"
   },
   {
    "duration": 6,
    "start_time": "2023-07-03T21:32:50.892Z"
   },
   {
    "duration": 16,
    "start_time": "2023-07-03T21:32:50.900Z"
   },
   {
    "duration": 7,
    "start_time": "2023-07-03T21:32:50.918Z"
   },
   {
    "duration": 12,
    "start_time": "2023-07-03T21:32:50.927Z"
   },
   {
    "duration": 47,
    "start_time": "2023-07-03T21:32:50.941Z"
   },
   {
    "duration": 24,
    "start_time": "2023-07-03T21:32:50.989Z"
   },
   {
    "duration": 17,
    "start_time": "2023-07-03T21:32:51.017Z"
   },
   {
    "duration": 22,
    "start_time": "2023-07-03T21:32:51.035Z"
   },
   {
    "duration": 48,
    "start_time": "2023-07-03T21:32:51.059Z"
   },
   {
    "duration": 5,
    "start_time": "2023-07-03T21:32:51.109Z"
   },
   {
    "duration": 31,
    "start_time": "2023-07-03T21:32:51.115Z"
   },
   {
    "duration": 126,
    "start_time": "2023-07-03T21:32:51.147Z"
   },
   {
    "duration": 1,
    "start_time": "2023-07-03T21:32:51.274Z"
   },
   {
    "duration": 0,
    "start_time": "2023-07-03T21:32:51.276Z"
   },
   {
    "duration": 0,
    "start_time": "2023-07-03T21:32:51.277Z"
   },
   {
    "duration": 0,
    "start_time": "2023-07-03T21:32:51.278Z"
   },
   {
    "duration": 0,
    "start_time": "2023-07-03T21:32:51.279Z"
   },
   {
    "duration": 0,
    "start_time": "2023-07-03T21:32:51.281Z"
   },
   {
    "duration": 0,
    "start_time": "2023-07-03T21:32:51.283Z"
   },
   {
    "duration": 0,
    "start_time": "2023-07-03T21:32:51.284Z"
   },
   {
    "duration": 0,
    "start_time": "2023-07-03T21:32:51.286Z"
   },
   {
    "duration": 0,
    "start_time": "2023-07-03T21:32:51.287Z"
   },
   {
    "duration": 0,
    "start_time": "2023-07-03T21:32:51.289Z"
   },
   {
    "duration": 0,
    "start_time": "2023-07-03T21:32:51.291Z"
   },
   {
    "duration": 0,
    "start_time": "2023-07-03T21:32:51.292Z"
   },
   {
    "duration": 0,
    "start_time": "2023-07-03T21:32:51.294Z"
   },
   {
    "duration": 0,
    "start_time": "2023-07-03T21:32:51.296Z"
   },
   {
    "duration": 0,
    "start_time": "2023-07-03T21:32:51.297Z"
   },
   {
    "duration": 0,
    "start_time": "2023-07-03T21:32:51.298Z"
   },
   {
    "duration": 0,
    "start_time": "2023-07-03T21:32:51.299Z"
   },
   {
    "duration": 0,
    "start_time": "2023-07-03T21:32:51.301Z"
   },
   {
    "duration": 0,
    "start_time": "2023-07-03T21:32:51.302Z"
   },
   {
    "duration": 0,
    "start_time": "2023-07-03T21:32:51.303Z"
   },
   {
    "duration": 0,
    "start_time": "2023-07-03T21:32:51.304Z"
   },
   {
    "duration": 16,
    "start_time": "2023-07-03T21:34:58.907Z"
   },
   {
    "duration": 1435,
    "start_time": "2023-07-03T21:35:25.150Z"
   },
   {
    "duration": 42,
    "start_time": "2023-07-03T21:35:26.588Z"
   },
   {
    "duration": 19,
    "start_time": "2023-07-03T21:35:26.632Z"
   },
   {
    "duration": 14,
    "start_time": "2023-07-03T21:35:26.653Z"
   },
   {
    "duration": 24,
    "start_time": "2023-07-03T21:35:26.668Z"
   },
   {
    "duration": 24,
    "start_time": "2023-07-03T21:35:26.694Z"
   },
   {
    "duration": 50,
    "start_time": "2023-07-03T21:35:26.719Z"
   },
   {
    "duration": 3,
    "start_time": "2023-07-03T21:35:26.771Z"
   },
   {
    "duration": 30,
    "start_time": "2023-07-03T21:35:26.776Z"
   },
   {
    "duration": 9,
    "start_time": "2023-07-03T21:35:26.810Z"
   },
   {
    "duration": 19,
    "start_time": "2023-07-03T21:35:26.820Z"
   },
   {
    "duration": 9,
    "start_time": "2023-07-03T21:35:26.841Z"
   },
   {
    "duration": 17,
    "start_time": "2023-07-03T21:35:26.852Z"
   },
   {
    "duration": 23,
    "start_time": "2023-07-03T21:35:26.871Z"
   },
   {
    "duration": 104,
    "start_time": "2023-07-03T21:35:26.895Z"
   },
   {
    "duration": 5,
    "start_time": "2023-07-03T21:35:27.001Z"
   },
   {
    "duration": 21,
    "start_time": "2023-07-03T21:35:27.008Z"
   },
   {
    "duration": 9,
    "start_time": "2023-07-03T21:35:27.031Z"
   },
   {
    "duration": 8,
    "start_time": "2023-07-03T21:35:27.042Z"
   },
   {
    "duration": 16,
    "start_time": "2023-07-03T21:35:27.052Z"
   },
   {
    "duration": 33,
    "start_time": "2023-07-03T21:35:27.070Z"
   },
   {
    "duration": 16,
    "start_time": "2023-07-03T21:35:27.105Z"
   },
   {
    "duration": 17,
    "start_time": "2023-07-03T21:35:27.123Z"
   },
   {
    "duration": 7,
    "start_time": "2023-07-03T21:35:27.141Z"
   },
   {
    "duration": 14,
    "start_time": "2023-07-03T21:35:27.150Z"
   },
   {
    "duration": 20,
    "start_time": "2023-07-03T21:35:27.165Z"
   },
   {
    "duration": 5,
    "start_time": "2023-07-03T21:35:27.186Z"
   },
   {
    "duration": 13,
    "start_time": "2023-07-03T21:35:27.194Z"
   },
   {
    "duration": 15,
    "start_time": "2023-07-03T21:35:27.209Z"
   },
   {
    "duration": 20,
    "start_time": "2023-07-03T21:35:27.225Z"
   },
   {
    "duration": 115,
    "start_time": "2023-07-03T21:35:27.266Z"
   },
   {
    "duration": 0,
    "start_time": "2023-07-03T21:35:27.383Z"
   },
   {
    "duration": 0,
    "start_time": "2023-07-03T21:35:27.384Z"
   },
   {
    "duration": 0,
    "start_time": "2023-07-03T21:35:27.385Z"
   },
   {
    "duration": 0,
    "start_time": "2023-07-03T21:35:27.386Z"
   },
   {
    "duration": 0,
    "start_time": "2023-07-03T21:35:27.387Z"
   },
   {
    "duration": 0,
    "start_time": "2023-07-03T21:35:27.388Z"
   },
   {
    "duration": 0,
    "start_time": "2023-07-03T21:35:27.390Z"
   },
   {
    "duration": 0,
    "start_time": "2023-07-03T21:35:27.391Z"
   },
   {
    "duration": 0,
    "start_time": "2023-07-03T21:35:27.392Z"
   },
   {
    "duration": 0,
    "start_time": "2023-07-03T21:35:27.394Z"
   },
   {
    "duration": 0,
    "start_time": "2023-07-03T21:35:27.394Z"
   },
   {
    "duration": 0,
    "start_time": "2023-07-03T21:35:27.395Z"
   },
   {
    "duration": 0,
    "start_time": "2023-07-03T21:35:27.396Z"
   },
   {
    "duration": 0,
    "start_time": "2023-07-03T21:35:27.398Z"
   },
   {
    "duration": 0,
    "start_time": "2023-07-03T21:35:27.399Z"
   },
   {
    "duration": 0,
    "start_time": "2023-07-03T21:35:27.400Z"
   },
   {
    "duration": 0,
    "start_time": "2023-07-03T21:35:27.401Z"
   },
   {
    "duration": 0,
    "start_time": "2023-07-03T21:35:27.402Z"
   },
   {
    "duration": 0,
    "start_time": "2023-07-03T21:35:27.403Z"
   },
   {
    "duration": 0,
    "start_time": "2023-07-03T21:35:27.404Z"
   },
   {
    "duration": 0,
    "start_time": "2023-07-03T21:35:27.405Z"
   },
   {
    "duration": 0,
    "start_time": "2023-07-03T21:35:27.407Z"
   },
   {
    "duration": 13,
    "start_time": "2023-07-03T21:38:04.943Z"
   },
   {
    "duration": 12,
    "start_time": "2023-07-03T21:38:12.628Z"
   },
   {
    "duration": 17,
    "start_time": "2023-07-03T21:38:21.791Z"
   },
   {
    "duration": 1533,
    "start_time": "2023-07-03T21:38:41.678Z"
   },
   {
    "duration": 44,
    "start_time": "2023-07-03T21:38:43.213Z"
   },
   {
    "duration": 20,
    "start_time": "2023-07-03T21:38:43.259Z"
   },
   {
    "duration": 15,
    "start_time": "2023-07-03T21:38:43.282Z"
   },
   {
    "duration": 32,
    "start_time": "2023-07-03T21:38:43.299Z"
   },
   {
    "duration": 23,
    "start_time": "2023-07-03T21:38:43.333Z"
   },
   {
    "duration": 43,
    "start_time": "2023-07-03T21:38:43.358Z"
   },
   {
    "duration": 32,
    "start_time": "2023-07-03T21:38:43.403Z"
   },
   {
    "duration": 23,
    "start_time": "2023-07-03T21:38:43.437Z"
   },
   {
    "duration": 29,
    "start_time": "2023-07-03T21:38:43.463Z"
   },
   {
    "duration": 28,
    "start_time": "2023-07-03T21:38:43.494Z"
   },
   {
    "duration": 10,
    "start_time": "2023-07-03T21:38:43.523Z"
   },
   {
    "duration": 14,
    "start_time": "2023-07-03T21:38:43.535Z"
   },
   {
    "duration": 21,
    "start_time": "2023-07-03T21:38:43.550Z"
   },
   {
    "duration": 121,
    "start_time": "2023-07-03T21:38:43.573Z"
   },
   {
    "duration": 5,
    "start_time": "2023-07-03T21:38:43.696Z"
   },
   {
    "duration": 13,
    "start_time": "2023-07-03T21:38:43.703Z"
   },
   {
    "duration": 13,
    "start_time": "2023-07-03T21:38:43.718Z"
   },
   {
    "duration": 4,
    "start_time": "2023-07-03T21:38:43.734Z"
   },
   {
    "duration": 31,
    "start_time": "2023-07-03T21:38:43.740Z"
   },
   {
    "duration": 6,
    "start_time": "2023-07-03T21:38:43.773Z"
   },
   {
    "duration": 5,
    "start_time": "2023-07-03T21:38:43.780Z"
   },
   {
    "duration": 11,
    "start_time": "2023-07-03T21:38:43.787Z"
   },
   {
    "duration": 8,
    "start_time": "2023-07-03T21:38:43.800Z"
   },
   {
    "duration": 17,
    "start_time": "2023-07-03T21:38:43.810Z"
   },
   {
    "duration": 48,
    "start_time": "2023-07-03T21:38:43.829Z"
   },
   {
    "duration": 11,
    "start_time": "2023-07-03T21:38:43.879Z"
   },
   {
    "duration": 10,
    "start_time": "2023-07-03T21:38:43.894Z"
   },
   {
    "duration": 16,
    "start_time": "2023-07-03T21:38:43.906Z"
   },
   {
    "duration": 20,
    "start_time": "2023-07-03T21:38:43.924Z"
   },
   {
    "duration": 60,
    "start_time": "2023-07-03T21:38:43.946Z"
   },
   {
    "duration": 3,
    "start_time": "2023-07-03T21:38:44.008Z"
   },
   {
    "duration": 158,
    "start_time": "2023-07-03T21:38:44.013Z"
   },
   {
    "duration": 0,
    "start_time": "2023-07-03T21:38:44.173Z"
   },
   {
    "duration": 0,
    "start_time": "2023-07-03T21:38:44.174Z"
   },
   {
    "duration": 0,
    "start_time": "2023-07-03T21:38:44.175Z"
   },
   {
    "duration": 0,
    "start_time": "2023-07-03T21:38:44.177Z"
   },
   {
    "duration": 0,
    "start_time": "2023-07-03T21:38:44.178Z"
   },
   {
    "duration": 0,
    "start_time": "2023-07-03T21:38:44.179Z"
   },
   {
    "duration": 0,
    "start_time": "2023-07-03T21:38:44.181Z"
   },
   {
    "duration": 0,
    "start_time": "2023-07-03T21:38:44.183Z"
   },
   {
    "duration": 0,
    "start_time": "2023-07-03T21:38:44.184Z"
   },
   {
    "duration": 0,
    "start_time": "2023-07-03T21:38:44.185Z"
   },
   {
    "duration": 0,
    "start_time": "2023-07-03T21:38:44.187Z"
   },
   {
    "duration": 0,
    "start_time": "2023-07-03T21:38:44.188Z"
   },
   {
    "duration": 0,
    "start_time": "2023-07-03T21:38:44.190Z"
   },
   {
    "duration": 0,
    "start_time": "2023-07-03T21:38:44.190Z"
   },
   {
    "duration": 0,
    "start_time": "2023-07-03T21:38:44.192Z"
   },
   {
    "duration": 0,
    "start_time": "2023-07-03T21:38:44.194Z"
   },
   {
    "duration": 0,
    "start_time": "2023-07-03T21:38:44.195Z"
   },
   {
    "duration": 0,
    "start_time": "2023-07-03T21:38:44.197Z"
   },
   {
    "duration": 0,
    "start_time": "2023-07-03T21:38:44.198Z"
   },
   {
    "duration": 0,
    "start_time": "2023-07-03T21:38:44.200Z"
   },
   {
    "duration": 0,
    "start_time": "2023-07-03T21:38:44.202Z"
   },
   {
    "duration": 0,
    "start_time": "2023-07-03T21:38:44.204Z"
   },
   {
    "duration": 15,
    "start_time": "2023-07-03T21:40:04.214Z"
   },
   {
    "duration": 1575,
    "start_time": "2023-07-03T21:40:16.417Z"
   },
   {
    "duration": 44,
    "start_time": "2023-07-03T21:40:17.994Z"
   },
   {
    "duration": 20,
    "start_time": "2023-07-03T21:40:18.040Z"
   },
   {
    "duration": 5,
    "start_time": "2023-07-03T21:40:18.063Z"
   },
   {
    "duration": 32,
    "start_time": "2023-07-03T21:40:18.069Z"
   },
   {
    "duration": 25,
    "start_time": "2023-07-03T21:40:18.102Z"
   },
   {
    "duration": 49,
    "start_time": "2023-07-03T21:40:18.129Z"
   },
   {
    "duration": 4,
    "start_time": "2023-07-03T21:40:18.179Z"
   },
   {
    "duration": 35,
    "start_time": "2023-07-03T21:40:18.185Z"
   },
   {
    "duration": 7,
    "start_time": "2023-07-03T21:40:18.224Z"
   },
   {
    "duration": 21,
    "start_time": "2023-07-03T21:40:18.234Z"
   },
   {
    "duration": 15,
    "start_time": "2023-07-03T21:40:18.258Z"
   },
   {
    "duration": 13,
    "start_time": "2023-07-03T21:40:18.275Z"
   },
   {
    "duration": 18,
    "start_time": "2023-07-03T21:40:18.290Z"
   },
   {
    "duration": 114,
    "start_time": "2023-07-03T21:40:18.309Z"
   },
   {
    "duration": 6,
    "start_time": "2023-07-03T21:40:18.424Z"
   },
   {
    "duration": 11,
    "start_time": "2023-07-03T21:40:18.431Z"
   },
   {
    "duration": 27,
    "start_time": "2023-07-03T21:40:18.444Z"
   },
   {
    "duration": 4,
    "start_time": "2023-07-03T21:40:18.473Z"
   },
   {
    "duration": 18,
    "start_time": "2023-07-03T21:40:18.478Z"
   },
   {
    "duration": 5,
    "start_time": "2023-07-03T21:40:18.497Z"
   },
   {
    "duration": 20,
    "start_time": "2023-07-03T21:40:18.504Z"
   },
   {
    "duration": 17,
    "start_time": "2023-07-03T21:40:18.526Z"
   },
   {
    "duration": 7,
    "start_time": "2023-07-03T21:40:18.545Z"
   },
   {
    "duration": 11,
    "start_time": "2023-07-03T21:40:18.554Z"
   },
   {
    "duration": 19,
    "start_time": "2023-07-03T21:40:18.567Z"
   },
   {
    "duration": 4,
    "start_time": "2023-07-03T21:40:18.588Z"
   },
   {
    "duration": 26,
    "start_time": "2023-07-03T21:40:18.596Z"
   },
   {
    "duration": 21,
    "start_time": "2023-07-03T21:40:18.623Z"
   },
   {
    "duration": 31,
    "start_time": "2023-07-03T21:40:18.646Z"
   },
   {
    "duration": 29,
    "start_time": "2023-07-03T21:40:18.679Z"
   },
   {
    "duration": 172,
    "start_time": "2023-07-03T21:40:18.710Z"
   },
   {
    "duration": 0,
    "start_time": "2023-07-03T21:40:18.884Z"
   },
   {
    "duration": 0,
    "start_time": "2023-07-03T21:40:18.886Z"
   },
   {
    "duration": 0,
    "start_time": "2023-07-03T21:40:18.887Z"
   },
   {
    "duration": 0,
    "start_time": "2023-07-03T21:40:18.889Z"
   },
   {
    "duration": 1,
    "start_time": "2023-07-03T21:40:18.890Z"
   },
   {
    "duration": 0,
    "start_time": "2023-07-03T21:40:18.892Z"
   },
   {
    "duration": 0,
    "start_time": "2023-07-03T21:40:18.894Z"
   },
   {
    "duration": 0,
    "start_time": "2023-07-03T21:40:18.895Z"
   },
   {
    "duration": 0,
    "start_time": "2023-07-03T21:40:18.898Z"
   },
   {
    "duration": 0,
    "start_time": "2023-07-03T21:40:18.899Z"
   },
   {
    "duration": 0,
    "start_time": "2023-07-03T21:40:18.901Z"
   },
   {
    "duration": 0,
    "start_time": "2023-07-03T21:40:18.902Z"
   },
   {
    "duration": 0,
    "start_time": "2023-07-03T21:40:18.903Z"
   },
   {
    "duration": 0,
    "start_time": "2023-07-03T21:40:18.905Z"
   },
   {
    "duration": 0,
    "start_time": "2023-07-03T21:40:18.906Z"
   },
   {
    "duration": 0,
    "start_time": "2023-07-03T21:40:18.908Z"
   },
   {
    "duration": 0,
    "start_time": "2023-07-03T21:40:18.910Z"
   },
   {
    "duration": 0,
    "start_time": "2023-07-03T21:40:18.912Z"
   },
   {
    "duration": 0,
    "start_time": "2023-07-03T21:40:18.913Z"
   },
   {
    "duration": 0,
    "start_time": "2023-07-03T21:40:18.914Z"
   },
   {
    "duration": 0,
    "start_time": "2023-07-03T21:40:18.915Z"
   },
   {
    "duration": 0,
    "start_time": "2023-07-03T21:40:18.967Z"
   },
   {
    "duration": 0,
    "start_time": "2023-07-03T21:40:18.968Z"
   },
   {
    "duration": 30,
    "start_time": "2023-07-03T21:40:49.090Z"
   },
   {
    "duration": 8,
    "start_time": "2023-07-04T10:14:50.351Z"
   },
   {
    "duration": 3,
    "start_time": "2023-07-04T10:15:16.904Z"
   },
   {
    "duration": 49,
    "start_time": "2023-07-04T10:20:23.205Z"
   },
   {
    "duration": 6,
    "start_time": "2023-07-04T10:20:36.752Z"
   },
   {
    "duration": 8,
    "start_time": "2023-07-04T10:21:39.012Z"
   },
   {
    "duration": 1580,
    "start_time": "2023-07-04T10:21:56.018Z"
   },
   {
    "duration": 163,
    "start_time": "2023-07-04T10:21:57.600Z"
   },
   {
    "duration": 19,
    "start_time": "2023-07-04T10:21:57.765Z"
   },
   {
    "duration": 3,
    "start_time": "2023-07-04T10:21:57.785Z"
   },
   {
    "duration": 16,
    "start_time": "2023-07-04T10:21:57.789Z"
   },
   {
    "duration": 22,
    "start_time": "2023-07-04T10:21:57.806Z"
   },
   {
    "duration": 62,
    "start_time": "2023-07-04T10:21:57.829Z"
   },
   {
    "duration": 3,
    "start_time": "2023-07-04T10:21:57.893Z"
   },
   {
    "duration": 15,
    "start_time": "2023-07-04T10:21:57.898Z"
   },
   {
    "duration": 10,
    "start_time": "2023-07-04T10:21:57.916Z"
   },
   {
    "duration": 5,
    "start_time": "2023-07-04T10:21:57.928Z"
   },
   {
    "duration": 5,
    "start_time": "2023-07-04T10:21:57.934Z"
   },
   {
    "duration": 16,
    "start_time": "2023-07-04T10:21:57.940Z"
   },
   {
    "duration": 12,
    "start_time": "2023-07-04T10:21:57.958Z"
   },
   {
    "duration": 110,
    "start_time": "2023-07-04T10:21:57.971Z"
   },
   {
    "duration": 5,
    "start_time": "2023-07-04T10:21:58.082Z"
   },
   {
    "duration": 12,
    "start_time": "2023-07-04T10:21:58.089Z"
   },
   {
    "duration": 9,
    "start_time": "2023-07-04T10:21:58.103Z"
   },
   {
    "duration": 17,
    "start_time": "2023-07-04T10:21:58.114Z"
   },
   {
    "duration": 5,
    "start_time": "2023-07-04T10:21:58.132Z"
   },
   {
    "duration": 28,
    "start_time": "2023-07-04T10:21:58.139Z"
   },
   {
    "duration": 11,
    "start_time": "2023-07-04T10:21:58.169Z"
   },
   {
    "duration": 12,
    "start_time": "2023-07-04T10:21:58.182Z"
   },
   {
    "duration": 6,
    "start_time": "2023-07-04T10:21:58.196Z"
   },
   {
    "duration": 5,
    "start_time": "2023-07-04T10:21:58.204Z"
   },
   {
    "duration": 27,
    "start_time": "2023-07-04T10:21:58.211Z"
   },
   {
    "duration": 5,
    "start_time": "2023-07-04T10:21:58.240Z"
   },
   {
    "duration": 6,
    "start_time": "2023-07-04T10:21:58.258Z"
   },
   {
    "duration": 14,
    "start_time": "2023-07-04T10:21:58.266Z"
   },
   {
    "duration": 11,
    "start_time": "2023-07-04T10:21:58.282Z"
   },
   {
    "duration": 32,
    "start_time": "2023-07-04T10:21:58.294Z"
   },
   {
    "duration": 3,
    "start_time": "2023-07-04T10:21:58.328Z"
   },
   {
    "duration": 14,
    "start_time": "2023-07-04T10:21:58.333Z"
   },
   {
    "duration": 135,
    "start_time": "2023-07-04T10:21:58.349Z"
   },
   {
    "duration": 0,
    "start_time": "2023-07-04T10:21:58.486Z"
   },
   {
    "duration": 0,
    "start_time": "2023-07-04T10:21:58.487Z"
   },
   {
    "duration": 0,
    "start_time": "2023-07-04T10:21:58.489Z"
   },
   {
    "duration": 0,
    "start_time": "2023-07-04T10:21:58.490Z"
   },
   {
    "duration": 0,
    "start_time": "2023-07-04T10:21:58.491Z"
   },
   {
    "duration": 0,
    "start_time": "2023-07-04T10:21:58.493Z"
   },
   {
    "duration": 0,
    "start_time": "2023-07-04T10:21:58.494Z"
   },
   {
    "duration": 0,
    "start_time": "2023-07-04T10:21:58.496Z"
   },
   {
    "duration": 0,
    "start_time": "2023-07-04T10:21:58.497Z"
   },
   {
    "duration": 0,
    "start_time": "2023-07-04T10:21:58.499Z"
   },
   {
    "duration": 0,
    "start_time": "2023-07-04T10:21:58.500Z"
   },
   {
    "duration": 0,
    "start_time": "2023-07-04T10:21:58.501Z"
   },
   {
    "duration": 0,
    "start_time": "2023-07-04T10:21:58.503Z"
   },
   {
    "duration": 0,
    "start_time": "2023-07-04T10:21:58.504Z"
   },
   {
    "duration": 0,
    "start_time": "2023-07-04T10:21:58.506Z"
   },
   {
    "duration": 0,
    "start_time": "2023-07-04T10:21:58.508Z"
   },
   {
    "duration": 0,
    "start_time": "2023-07-04T10:21:58.509Z"
   },
   {
    "duration": 0,
    "start_time": "2023-07-04T10:21:58.511Z"
   },
   {
    "duration": 0,
    "start_time": "2023-07-04T10:21:58.512Z"
   },
   {
    "duration": 0,
    "start_time": "2023-07-04T10:21:58.513Z"
   },
   {
    "duration": 0,
    "start_time": "2023-07-04T10:21:58.515Z"
   },
   {
    "duration": 0,
    "start_time": "2023-07-04T10:21:58.516Z"
   },
   {
    "duration": 1,
    "start_time": "2023-07-04T10:21:58.557Z"
   },
   {
    "duration": 0,
    "start_time": "2023-07-04T10:21:58.559Z"
   },
   {
    "duration": 0,
    "start_time": "2023-07-04T10:21:58.560Z"
   },
   {
    "duration": 8,
    "start_time": "2023-07-04T10:22:26.321Z"
   },
   {
    "duration": 30,
    "start_time": "2023-07-04T10:22:28.999Z"
   },
   {
    "duration": 10,
    "start_time": "2023-07-04T10:22:48.123Z"
   },
   {
    "duration": 10,
    "start_time": "2023-07-04T10:22:49.747Z"
   },
   {
    "duration": 20,
    "start_time": "2023-07-04T10:23:17.407Z"
   },
   {
    "duration": 18,
    "start_time": "2023-07-04T10:23:29.896Z"
   },
   {
    "duration": 9,
    "start_time": "2023-07-04T10:23:33.296Z"
   },
   {
    "duration": 9,
    "start_time": "2023-07-04T10:23:36.112Z"
   },
   {
    "duration": 15,
    "start_time": "2023-07-04T10:23:39.046Z"
   },
   {
    "duration": 1380,
    "start_time": "2023-07-04T10:27:02.002Z"
   },
   {
    "duration": 41,
    "start_time": "2023-07-04T10:27:03.384Z"
   },
   {
    "duration": 19,
    "start_time": "2023-07-04T10:27:03.426Z"
   },
   {
    "duration": 9,
    "start_time": "2023-07-04T10:27:03.447Z"
   },
   {
    "duration": 24,
    "start_time": "2023-07-04T10:27:03.458Z"
   },
   {
    "duration": 20,
    "start_time": "2023-07-04T10:27:03.483Z"
   },
   {
    "duration": 39,
    "start_time": "2023-07-04T10:27:03.504Z"
   },
   {
    "duration": 12,
    "start_time": "2023-07-04T10:27:03.545Z"
   },
   {
    "duration": 17,
    "start_time": "2023-07-04T10:27:03.559Z"
   },
   {
    "duration": 16,
    "start_time": "2023-07-04T10:27:03.579Z"
   },
   {
    "duration": 16,
    "start_time": "2023-07-04T10:27:03.597Z"
   },
   {
    "duration": 6,
    "start_time": "2023-07-04T10:27:03.615Z"
   },
   {
    "duration": 6,
    "start_time": "2023-07-04T10:27:03.622Z"
   },
   {
    "duration": 26,
    "start_time": "2023-07-04T10:27:03.629Z"
   },
   {
    "duration": 101,
    "start_time": "2023-07-04T10:27:03.657Z"
   },
   {
    "duration": 4,
    "start_time": "2023-07-04T10:27:03.760Z"
   },
   {
    "duration": 24,
    "start_time": "2023-07-04T10:27:03.766Z"
   },
   {
    "duration": 11,
    "start_time": "2023-07-04T10:27:03.791Z"
   },
   {
    "duration": 7,
    "start_time": "2023-07-04T10:27:03.803Z"
   },
   {
    "duration": 27,
    "start_time": "2023-07-04T10:27:03.812Z"
   },
   {
    "duration": 5,
    "start_time": "2023-07-04T10:27:03.841Z"
   },
   {
    "duration": 26,
    "start_time": "2023-07-04T10:27:03.848Z"
   },
   {
    "duration": 15,
    "start_time": "2023-07-04T10:27:03.876Z"
   },
   {
    "duration": 12,
    "start_time": "2023-07-04T10:27:03.893Z"
   },
   {
    "duration": 5,
    "start_time": "2023-07-04T10:27:03.907Z"
   },
   {
    "duration": 10,
    "start_time": "2023-07-04T10:27:03.913Z"
   },
   {
    "duration": 12,
    "start_time": "2023-07-04T10:27:03.925Z"
   },
   {
    "duration": 21,
    "start_time": "2023-07-04T10:27:03.941Z"
   },
   {
    "duration": 20,
    "start_time": "2023-07-04T10:27:03.963Z"
   },
   {
    "duration": 10,
    "start_time": "2023-07-04T10:27:03.985Z"
   },
   {
    "duration": 26,
    "start_time": "2023-07-04T10:27:03.997Z"
   },
   {
    "duration": 7,
    "start_time": "2023-07-04T10:27:04.025Z"
   },
   {
    "duration": 66,
    "start_time": "2023-07-04T10:27:04.034Z"
   },
   {
    "duration": 11,
    "start_time": "2023-07-04T10:27:04.102Z"
   },
   {
    "duration": 11,
    "start_time": "2023-07-04T10:27:04.115Z"
   },
   {
    "duration": 9,
    "start_time": "2023-07-04T10:27:04.128Z"
   },
   {
    "duration": 8,
    "start_time": "2023-07-04T10:27:04.139Z"
   },
   {
    "duration": 86,
    "start_time": "2023-07-04T10:27:04.149Z"
   },
   {
    "duration": 0,
    "start_time": "2023-07-04T10:27:04.237Z"
   },
   {
    "duration": 0,
    "start_time": "2023-07-04T10:27:04.238Z"
   },
   {
    "duration": 0,
    "start_time": "2023-07-04T10:27:04.240Z"
   },
   {
    "duration": 0,
    "start_time": "2023-07-04T10:27:04.241Z"
   },
   {
    "duration": 0,
    "start_time": "2023-07-04T10:27:04.242Z"
   },
   {
    "duration": 0,
    "start_time": "2023-07-04T10:27:04.243Z"
   },
   {
    "duration": 0,
    "start_time": "2023-07-04T10:27:04.245Z"
   },
   {
    "duration": 0,
    "start_time": "2023-07-04T10:27:04.245Z"
   },
   {
    "duration": 0,
    "start_time": "2023-07-04T10:27:04.246Z"
   },
   {
    "duration": 0,
    "start_time": "2023-07-04T10:27:04.247Z"
   },
   {
    "duration": 0,
    "start_time": "2023-07-04T10:27:04.248Z"
   },
   {
    "duration": 0,
    "start_time": "2023-07-04T10:27:04.249Z"
   },
   {
    "duration": 0,
    "start_time": "2023-07-04T10:27:04.250Z"
   },
   {
    "duration": 0,
    "start_time": "2023-07-04T10:27:04.251Z"
   },
   {
    "duration": 0,
    "start_time": "2023-07-04T10:27:04.252Z"
   },
   {
    "duration": 0,
    "start_time": "2023-07-04T10:27:04.253Z"
   },
   {
    "duration": 0,
    "start_time": "2023-07-04T10:27:04.254Z"
   },
   {
    "duration": 0,
    "start_time": "2023-07-04T10:27:04.255Z"
   },
   {
    "duration": 0,
    "start_time": "2023-07-04T10:27:04.256Z"
   },
   {
    "duration": 0,
    "start_time": "2023-07-04T10:27:04.257Z"
   },
   {
    "duration": 0,
    "start_time": "2023-07-04T10:27:04.257Z"
   },
   {
    "duration": 0,
    "start_time": "2023-07-04T10:27:04.258Z"
   },
   {
    "duration": 62,
    "start_time": "2023-07-04T10:27:33.037Z"
   },
   {
    "duration": 105,
    "start_time": "2023-07-04T10:27:38.186Z"
   },
   {
    "duration": 2107,
    "start_time": "2023-07-04T10:27:58.362Z"
   },
   {
    "duration": 5,
    "start_time": "2023-07-04T10:28:11.569Z"
   },
   {
    "duration": 5,
    "start_time": "2023-07-04T10:28:34.055Z"
   },
   {
    "duration": 5,
    "start_time": "2023-07-04T10:28:55.766Z"
   },
   {
    "duration": 1422,
    "start_time": "2023-07-04T10:29:05.643Z"
   },
   {
    "duration": 42,
    "start_time": "2023-07-04T10:29:07.067Z"
   },
   {
    "duration": 18,
    "start_time": "2023-07-04T10:29:07.110Z"
   },
   {
    "duration": 3,
    "start_time": "2023-07-04T10:29:07.130Z"
   },
   {
    "duration": 14,
    "start_time": "2023-07-04T10:29:07.135Z"
   },
   {
    "duration": 24,
    "start_time": "2023-07-04T10:29:07.151Z"
   },
   {
    "duration": 56,
    "start_time": "2023-07-04T10:29:07.177Z"
   },
   {
    "duration": 5,
    "start_time": "2023-07-04T10:29:07.236Z"
   },
   {
    "duration": 19,
    "start_time": "2023-07-04T10:29:07.242Z"
   },
   {
    "duration": 15,
    "start_time": "2023-07-04T10:29:07.265Z"
   },
   {
    "duration": 25,
    "start_time": "2023-07-04T10:29:07.282Z"
   },
   {
    "duration": 12,
    "start_time": "2023-07-04T10:29:07.309Z"
   },
   {
    "duration": 11,
    "start_time": "2023-07-04T10:29:07.322Z"
   },
   {
    "duration": 20,
    "start_time": "2023-07-04T10:29:07.335Z"
   },
   {
    "duration": 115,
    "start_time": "2023-07-04T10:29:07.357Z"
   },
   {
    "duration": 5,
    "start_time": "2023-07-04T10:29:07.473Z"
   },
   {
    "duration": 20,
    "start_time": "2023-07-04T10:29:07.479Z"
   },
   {
    "duration": 10,
    "start_time": "2023-07-04T10:29:07.500Z"
   },
   {
    "duration": 8,
    "start_time": "2023-07-04T10:29:07.512Z"
   },
   {
    "duration": 5,
    "start_time": "2023-07-04T10:29:07.522Z"
   },
   {
    "duration": 4,
    "start_time": "2023-07-04T10:29:07.529Z"
   },
   {
    "duration": 21,
    "start_time": "2023-07-04T10:29:07.534Z"
   },
   {
    "duration": 18,
    "start_time": "2023-07-04T10:29:07.557Z"
   },
   {
    "duration": 6,
    "start_time": "2023-07-04T10:29:07.577Z"
   },
   {
    "duration": 12,
    "start_time": "2023-07-04T10:29:07.585Z"
   },
   {
    "duration": 13,
    "start_time": "2023-07-04T10:29:07.598Z"
   },
   {
    "duration": 38,
    "start_time": "2023-07-04T10:29:07.613Z"
   },
   {
    "duration": 12,
    "start_time": "2023-07-04T10:29:07.655Z"
   },
   {
    "duration": 30,
    "start_time": "2023-07-04T10:29:07.669Z"
   },
   {
    "duration": 10,
    "start_time": "2023-07-04T10:29:07.701Z"
   },
   {
    "duration": 14,
    "start_time": "2023-07-04T10:29:07.713Z"
   },
   {
    "duration": 21,
    "start_time": "2023-07-04T10:29:07.728Z"
   },
   {
    "duration": 9,
    "start_time": "2023-07-04T10:29:07.750Z"
   },
   {
    "duration": 20,
    "start_time": "2023-07-04T10:29:07.761Z"
   },
   {
    "duration": 18,
    "start_time": "2023-07-04T10:29:07.782Z"
   },
   {
    "duration": 9,
    "start_time": "2023-07-04T10:29:07.801Z"
   },
   {
    "duration": 40,
    "start_time": "2023-07-04T10:29:07.812Z"
   },
   {
    "duration": 22,
    "start_time": "2023-07-04T10:29:07.854Z"
   },
   {
    "duration": 10,
    "start_time": "2023-07-04T10:29:07.877Z"
   },
   {
    "duration": 146,
    "start_time": "2023-07-04T10:29:07.888Z"
   },
   {
    "duration": 275,
    "start_time": "2023-07-04T10:29:08.036Z"
   },
   {
    "duration": 50,
    "start_time": "2023-07-04T10:29:08.313Z"
   },
   {
    "duration": 36365,
    "start_time": "2023-07-04T10:29:08.364Z"
   },
   {
    "duration": 297,
    "start_time": "2023-07-04T10:29:44.731Z"
   },
   {
    "duration": 36,
    "start_time": "2023-07-04T10:29:45.030Z"
   },
   {
    "duration": 95,
    "start_time": "2023-07-04T10:29:45.068Z"
   },
   {
    "duration": 0,
    "start_time": "2023-07-04T10:29:45.165Z"
   },
   {
    "duration": 0,
    "start_time": "2023-07-04T10:29:45.166Z"
   },
   {
    "duration": 0,
    "start_time": "2023-07-04T10:29:45.167Z"
   },
   {
    "duration": 0,
    "start_time": "2023-07-04T10:29:45.167Z"
   },
   {
    "duration": 0,
    "start_time": "2023-07-04T10:29:45.257Z"
   },
   {
    "duration": 0,
    "start_time": "2023-07-04T10:29:45.258Z"
   },
   {
    "duration": 0,
    "start_time": "2023-07-04T10:29:45.259Z"
   },
   {
    "duration": 0,
    "start_time": "2023-07-04T10:29:45.260Z"
   },
   {
    "duration": 0,
    "start_time": "2023-07-04T10:29:45.261Z"
   },
   {
    "duration": 0,
    "start_time": "2023-07-04T10:29:45.262Z"
   },
   {
    "duration": 0,
    "start_time": "2023-07-04T10:29:45.263Z"
   },
   {
    "duration": 0,
    "start_time": "2023-07-04T10:29:45.264Z"
   },
   {
    "duration": 0,
    "start_time": "2023-07-04T10:29:45.265Z"
   },
   {
    "duration": 0,
    "start_time": "2023-07-04T10:29:45.266Z"
   },
   {
    "duration": 36889,
    "start_time": "2023-07-04T10:33:11.618Z"
   },
   {
    "duration": 4,
    "start_time": "2023-07-04T10:34:00.817Z"
   },
   {
    "duration": 18,
    "start_time": "2023-07-04T10:34:02.780Z"
   },
   {
    "duration": 700,
    "start_time": "2023-07-04T10:34:08.580Z"
   },
   {
    "duration": 148,
    "start_time": "2023-07-04T10:34:13.113Z"
   },
   {
    "duration": 95628,
    "start_time": "2023-07-04T10:34:15.082Z"
   },
   {
    "duration": 6,
    "start_time": "2023-07-04T10:36:30.528Z"
   },
   {
    "duration": 5,
    "start_time": "2023-07-04T10:36:31.588Z"
   },
   {
    "duration": 5,
    "start_time": "2023-07-04T10:36:41.678Z"
   },
   {
    "duration": 106,
    "start_time": "2023-07-04T10:36:42.919Z"
   },
   {
    "duration": 4,
    "start_time": "2023-07-04T10:37:16.239Z"
   },
   {
    "duration": 12,
    "start_time": "2023-07-04T10:37:17.359Z"
   },
   {
    "duration": 4,
    "start_time": "2023-07-04T10:37:53.735Z"
   },
   {
    "duration": 10,
    "start_time": "2023-07-04T10:37:55.574Z"
   },
   {
    "duration": 11,
    "start_time": "2023-07-04T10:38:02.104Z"
   },
   {
    "duration": 12,
    "start_time": "2023-07-04T10:38:33.744Z"
   },
   {
    "duration": 6,
    "start_time": "2023-07-04T10:38:42.034Z"
   },
   {
    "duration": 5,
    "start_time": "2023-07-04T10:38:56.811Z"
   },
   {
    "duration": 10,
    "start_time": "2023-07-04T10:39:20.848Z"
   },
   {
    "duration": 5,
    "start_time": "2023-07-04T10:39:28.813Z"
   },
   {
    "duration": 163,
    "start_time": "2023-07-04T10:39:50.737Z"
   },
   {
    "duration": 119,
    "start_time": "2023-07-04T10:39:58.247Z"
   },
   {
    "duration": 7,
    "start_time": "2023-07-04T10:40:06.146Z"
   },
   {
    "duration": 21949,
    "start_time": "2023-07-04T10:40:11.895Z"
   },
   {
    "duration": 12,
    "start_time": "2023-07-04T10:42:21.796Z"
   },
   {
    "duration": 36636,
    "start_time": "2023-07-04T10:42:27.504Z"
   },
   {
    "duration": 577,
    "start_time": "2023-07-04T10:43:04.142Z"
   },
   {
    "duration": 212,
    "start_time": "2023-07-04T10:43:28.495Z"
   },
   {
    "duration": 217,
    "start_time": "2023-07-04T10:44:39.239Z"
   },
   {
    "duration": 1543,
    "start_time": "2023-07-04T10:45:10.542Z"
   },
   {
    "duration": 42,
    "start_time": "2023-07-04T10:45:12.088Z"
   },
   {
    "duration": 26,
    "start_time": "2023-07-04T10:45:12.132Z"
   },
   {
    "duration": 5,
    "start_time": "2023-07-04T10:45:12.161Z"
   },
   {
    "duration": 17,
    "start_time": "2023-07-04T10:45:12.168Z"
   },
   {
    "duration": 30,
    "start_time": "2023-07-04T10:45:12.187Z"
   },
   {
    "duration": 51,
    "start_time": "2023-07-04T10:45:12.219Z"
   },
   {
    "duration": 4,
    "start_time": "2023-07-04T10:45:12.273Z"
   },
   {
    "duration": 24,
    "start_time": "2023-07-04T10:45:12.280Z"
   },
   {
    "duration": 10,
    "start_time": "2023-07-04T10:45:12.308Z"
   },
   {
    "duration": 16,
    "start_time": "2023-07-04T10:45:12.320Z"
   },
   {
    "duration": 15,
    "start_time": "2023-07-04T10:45:12.338Z"
   },
   {
    "duration": 17,
    "start_time": "2023-07-04T10:45:12.355Z"
   },
   {
    "duration": 19,
    "start_time": "2023-07-04T10:45:12.374Z"
   },
   {
    "duration": 104,
    "start_time": "2023-07-04T10:45:12.395Z"
   },
   {
    "duration": 4,
    "start_time": "2023-07-04T10:45:12.501Z"
   },
   {
    "duration": 11,
    "start_time": "2023-07-04T10:45:12.507Z"
   },
   {
    "duration": 8,
    "start_time": "2023-07-04T10:45:12.520Z"
   },
   {
    "duration": 5,
    "start_time": "2023-07-04T10:45:12.530Z"
   },
   {
    "duration": 44,
    "start_time": "2023-07-04T10:45:12.536Z"
   },
   {
    "duration": 39,
    "start_time": "2023-07-04T10:45:12.582Z"
   },
   {
    "duration": 9,
    "start_time": "2023-07-04T10:45:12.623Z"
   },
   {
    "duration": 14,
    "start_time": "2023-07-04T10:45:12.634Z"
   },
   {
    "duration": 24,
    "start_time": "2023-07-04T10:45:12.650Z"
   },
   {
    "duration": 12,
    "start_time": "2023-07-04T10:45:12.676Z"
   },
   {
    "duration": 16,
    "start_time": "2023-07-04T10:45:12.690Z"
   },
   {
    "duration": 9,
    "start_time": "2023-07-04T10:45:12.708Z"
   },
   {
    "duration": 12,
    "start_time": "2023-07-04T10:45:12.720Z"
   },
   {
    "duration": 18,
    "start_time": "2023-07-04T10:45:12.733Z"
   },
   {
    "duration": 12,
    "start_time": "2023-07-04T10:45:12.753Z"
   },
   {
    "duration": 16,
    "start_time": "2023-07-04T10:45:12.767Z"
   },
   {
    "duration": 7,
    "start_time": "2023-07-04T10:45:12.785Z"
   },
   {
    "duration": 6,
    "start_time": "2023-07-04T10:45:12.793Z"
   },
   {
    "duration": 17,
    "start_time": "2023-07-04T10:45:12.801Z"
   },
   {
    "duration": 20,
    "start_time": "2023-07-04T10:45:12.820Z"
   },
   {
    "duration": 8,
    "start_time": "2023-07-04T10:45:12.842Z"
   },
   {
    "duration": 20,
    "start_time": "2023-07-04T10:45:12.852Z"
   },
   {
    "duration": 9,
    "start_time": "2023-07-04T10:45:12.874Z"
   },
   {
    "duration": 17,
    "start_time": "2023-07-04T10:45:12.885Z"
   },
   {
    "duration": 160,
    "start_time": "2023-07-04T10:45:12.904Z"
   },
   {
    "duration": 311,
    "start_time": "2023-07-04T10:45:13.066Z"
   },
   {
    "duration": 82,
    "start_time": "2023-07-04T10:45:13.379Z"
   },
   {
    "duration": 36423,
    "start_time": "2023-07-04T10:45:13.462Z"
   },
   {
    "duration": 299,
    "start_time": "2023-07-04T10:45:49.886Z"
   },
   {
    "duration": 72,
    "start_time": "2023-07-04T10:45:50.187Z"
   },
   {
    "duration": 36289,
    "start_time": "2023-07-04T10:45:50.261Z"
   },
   {
    "duration": 4,
    "start_time": "2023-07-04T10:46:26.557Z"
   },
   {
    "duration": 23,
    "start_time": "2023-07-04T10:46:26.563Z"
   },
   {
    "duration": 660,
    "start_time": "2023-07-04T10:46:26.588Z"
   },
   {
    "duration": 118,
    "start_time": "2023-07-04T10:46:27.250Z"
   },
   {
    "duration": 95528,
    "start_time": "2023-07-04T10:46:27.457Z"
   },
   {
    "duration": 4,
    "start_time": "2023-07-04T10:48:02.987Z"
   },
   {
    "duration": 19,
    "start_time": "2023-07-04T10:48:02.993Z"
   },
   {
    "duration": 160,
    "start_time": "2023-07-04T10:48:03.013Z"
   },
   {
    "duration": 85,
    "start_time": "2023-07-04T10:48:03.175Z"
   },
   {
    "duration": 21880,
    "start_time": "2023-07-04T10:48:03.262Z"
   },
   {
    "duration": 20,
    "start_time": "2023-07-04T10:48:25.144Z"
   },
   {
    "duration": 37787,
    "start_time": "2023-07-04T10:48:25.166Z"
   },
   {
    "duration": 215,
    "start_time": "2023-07-04T10:49:02.957Z"
   },
   {
    "duration": 142,
    "start_time": "2023-07-04T10:49:03.174Z"
   },
   {
    "duration": 194,
    "start_time": "2023-07-04T10:49:21.872Z"
   },
   {
    "duration": 36366,
    "start_time": "2023-07-04T10:50:18.966Z"
   },
   {
    "duration": 217,
    "start_time": "2023-07-04T10:52:40.085Z"
   },
   {
    "duration": 237,
    "start_time": "2023-07-04T10:53:32.613Z"
   },
   {
    "duration": 243,
    "start_time": "2023-07-04T10:53:39.574Z"
   },
   {
    "duration": 265,
    "start_time": "2023-07-04T10:53:44.928Z"
   },
   {
    "duration": 162,
    "start_time": "2023-07-04T10:53:57.607Z"
   },
   {
    "duration": 180,
    "start_time": "2023-07-04T10:54:02.951Z"
   },
   {
    "duration": 199,
    "start_time": "2023-07-04T10:54:07.358Z"
   },
   {
    "duration": 68982,
    "start_time": "2023-07-04T10:54:20.964Z"
   },
   {
    "duration": 1419,
    "start_time": "2023-07-04T10:55:51.942Z"
   },
   {
    "duration": 42,
    "start_time": "2023-07-04T10:55:53.363Z"
   },
   {
    "duration": 20,
    "start_time": "2023-07-04T10:55:53.407Z"
   },
   {
    "duration": 3,
    "start_time": "2023-07-04T10:55:53.430Z"
   },
   {
    "duration": 14,
    "start_time": "2023-07-04T10:55:53.435Z"
   },
   {
    "duration": 19,
    "start_time": "2023-07-04T10:55:53.456Z"
   },
   {
    "duration": 41,
    "start_time": "2023-07-04T10:55:53.477Z"
   },
   {
    "duration": 4,
    "start_time": "2023-07-04T10:55:53.520Z"
   },
   {
    "duration": 37,
    "start_time": "2023-07-04T10:55:53.526Z"
   },
   {
    "duration": 10,
    "start_time": "2023-07-04T10:55:53.566Z"
   },
   {
    "duration": 4,
    "start_time": "2023-07-04T10:55:53.577Z"
   },
   {
    "duration": 8,
    "start_time": "2023-07-04T10:55:53.583Z"
   },
   {
    "duration": 5,
    "start_time": "2023-07-04T10:55:53.593Z"
   },
   {
    "duration": 12,
    "start_time": "2023-07-04T10:55:53.600Z"
   },
   {
    "duration": 118,
    "start_time": "2023-07-04T10:55:53.615Z"
   },
   {
    "duration": 4,
    "start_time": "2023-07-04T10:55:53.735Z"
   },
   {
    "duration": 23,
    "start_time": "2023-07-04T10:55:53.741Z"
   },
   {
    "duration": 8,
    "start_time": "2023-07-04T10:55:53.766Z"
   },
   {
    "duration": 4,
    "start_time": "2023-07-04T10:55:53.776Z"
   },
   {
    "duration": 28,
    "start_time": "2023-07-04T10:55:53.782Z"
   },
   {
    "duration": 7,
    "start_time": "2023-07-04T10:55:53.812Z"
   },
   {
    "duration": 8,
    "start_time": "2023-07-04T10:55:53.821Z"
   },
   {
    "duration": 15,
    "start_time": "2023-07-04T10:55:53.831Z"
   },
   {
    "duration": 7,
    "start_time": "2023-07-04T10:55:53.847Z"
   },
   {
    "duration": 5,
    "start_time": "2023-07-04T10:55:53.855Z"
   },
   {
    "duration": 5,
    "start_time": "2023-07-04T10:55:53.862Z"
   },
   {
    "duration": 5,
    "start_time": "2023-07-04T10:55:53.869Z"
   },
   {
    "duration": 8,
    "start_time": "2023-07-04T10:55:53.877Z"
   },
   {
    "duration": 14,
    "start_time": "2023-07-04T10:55:53.886Z"
   },
   {
    "duration": 10,
    "start_time": "2023-07-04T10:55:53.901Z"
   },
   {
    "duration": 45,
    "start_time": "2023-07-04T10:55:53.912Z"
   },
   {
    "duration": 2,
    "start_time": "2023-07-04T10:55:53.959Z"
   },
   {
    "duration": 13,
    "start_time": "2023-07-04T10:55:53.963Z"
   },
   {
    "duration": 16,
    "start_time": "2023-07-04T10:55:53.977Z"
   },
   {
    "duration": 17,
    "start_time": "2023-07-04T10:55:53.995Z"
   },
   {
    "duration": 12,
    "start_time": "2023-07-04T10:55:54.014Z"
   },
   {
    "duration": 28,
    "start_time": "2023-07-04T10:55:54.028Z"
   },
   {
    "duration": 5,
    "start_time": "2023-07-04T10:55:54.058Z"
   },
   {
    "duration": 22,
    "start_time": "2023-07-04T10:55:54.064Z"
   },
   {
    "duration": 164,
    "start_time": "2023-07-04T10:55:54.088Z"
   },
   {
    "duration": 291,
    "start_time": "2023-07-04T10:55:54.254Z"
   },
   {
    "duration": 33,
    "start_time": "2023-07-04T10:55:54.546Z"
   },
   {
    "duration": 36401,
    "start_time": "2023-07-04T10:55:54.659Z"
   },
   {
    "duration": 301,
    "start_time": "2023-07-04T10:56:31.062Z"
   },
   {
    "duration": 92,
    "start_time": "2023-07-04T10:56:31.365Z"
   },
   {
    "duration": 36142,
    "start_time": "2023-07-04T10:56:31.459Z"
   },
   {
    "duration": 4,
    "start_time": "2023-07-04T10:57:07.603Z"
   },
   {
    "duration": 30,
    "start_time": "2023-07-04T10:57:07.609Z"
   },
   {
    "duration": 638,
    "start_time": "2023-07-04T10:57:07.641Z"
   },
   {
    "duration": 82,
    "start_time": "2023-07-04T10:57:08.280Z"
   },
   {
    "duration": 95560,
    "start_time": "2023-07-04T10:57:08.455Z"
   },
   {
    "duration": 4,
    "start_time": "2023-07-04T10:58:44.017Z"
   },
   {
    "duration": 15,
    "start_time": "2023-07-04T10:58:44.023Z"
   },
   {
    "duration": 170,
    "start_time": "2023-07-04T10:58:44.040Z"
   },
   {
    "duration": 49,
    "start_time": "2023-07-04T10:58:44.213Z"
   },
   {
    "duration": 21557,
    "start_time": "2023-07-04T10:58:44.264Z"
   },
   {
    "duration": 12,
    "start_time": "2023-07-04T10:59:05.822Z"
   },
   {
    "duration": 69678,
    "start_time": "2023-07-04T10:59:05.836Z"
   },
   {
    "duration": 200,
    "start_time": "2023-07-04T11:00:15.516Z"
   },
   {
    "duration": 143,
    "start_time": "2023-07-04T11:00:15.718Z"
   },
   {
    "duration": 600,
    "start_time": "2023-07-04T11:00:37.920Z"
   },
   {
    "duration": 270,
    "start_time": "2023-07-04T11:02:09.007Z"
   },
   {
    "duration": 233,
    "start_time": "2023-07-04T11:02:16.441Z"
   },
   {
    "duration": 269,
    "start_time": "2023-07-04T11:02:25.296Z"
   },
   {
    "duration": 253,
    "start_time": "2023-07-04T11:02:30.049Z"
   },
   {
    "duration": 138,
    "start_time": "2023-07-04T11:03:24.137Z"
   },
   {
    "duration": 1370,
    "start_time": "2023-07-04T11:09:06.205Z"
   },
   {
    "duration": 42,
    "start_time": "2023-07-04T11:09:07.578Z"
   },
   {
    "duration": 19,
    "start_time": "2023-07-04T11:09:07.622Z"
   },
   {
    "duration": 3,
    "start_time": "2023-07-04T11:09:07.643Z"
   },
   {
    "duration": 17,
    "start_time": "2023-07-04T11:09:07.648Z"
   },
   {
    "duration": 20,
    "start_time": "2023-07-04T11:09:07.667Z"
   },
   {
    "duration": 42,
    "start_time": "2023-07-04T11:09:07.689Z"
   },
   {
    "duration": 25,
    "start_time": "2023-07-04T11:09:07.733Z"
   },
   {
    "duration": 16,
    "start_time": "2023-07-04T11:09:07.760Z"
   },
   {
    "duration": 7,
    "start_time": "2023-07-04T11:09:07.780Z"
   },
   {
    "duration": 18,
    "start_time": "2023-07-04T11:09:07.789Z"
   },
   {
    "duration": 5,
    "start_time": "2023-07-04T11:09:07.809Z"
   },
   {
    "duration": 7,
    "start_time": "2023-07-04T11:09:07.816Z"
   },
   {
    "duration": 14,
    "start_time": "2023-07-04T11:09:07.825Z"
   },
   {
    "duration": 105,
    "start_time": "2023-07-04T11:09:07.841Z"
   },
   {
    "duration": 10,
    "start_time": "2023-07-04T11:09:07.948Z"
   },
   {
    "duration": 13,
    "start_time": "2023-07-04T11:09:07.960Z"
   },
   {
    "duration": 7,
    "start_time": "2023-07-04T11:09:07.975Z"
   },
   {
    "duration": 9,
    "start_time": "2023-07-04T11:09:07.984Z"
   },
   {
    "duration": 14,
    "start_time": "2023-07-04T11:09:07.994Z"
   },
   {
    "duration": 17,
    "start_time": "2023-07-04T11:09:08.009Z"
   },
   {
    "duration": 12,
    "start_time": "2023-07-04T11:09:08.027Z"
   },
   {
    "duration": 15,
    "start_time": "2023-07-04T11:09:08.040Z"
   },
   {
    "duration": 7,
    "start_time": "2023-07-04T11:09:08.057Z"
   },
   {
    "duration": 14,
    "start_time": "2023-07-04T11:09:08.066Z"
   },
   {
    "duration": 9,
    "start_time": "2023-07-04T11:09:08.082Z"
   },
   {
    "duration": 6,
    "start_time": "2023-07-04T11:09:08.093Z"
   },
   {
    "duration": 7,
    "start_time": "2023-07-04T11:09:08.104Z"
   },
   {
    "duration": 16,
    "start_time": "2023-07-04T11:09:08.113Z"
   },
   {
    "duration": 31,
    "start_time": "2023-07-04T11:09:08.131Z"
   },
   {
    "duration": 18,
    "start_time": "2023-07-04T11:09:08.164Z"
   },
   {
    "duration": 10,
    "start_time": "2023-07-04T11:09:08.184Z"
   },
   {
    "duration": 6,
    "start_time": "2023-07-04T11:09:08.195Z"
   },
   {
    "duration": 16,
    "start_time": "2023-07-04T11:09:08.202Z"
   },
   {
    "duration": 12,
    "start_time": "2023-07-04T11:09:08.220Z"
   },
   {
    "duration": 9,
    "start_time": "2023-07-04T11:09:08.234Z"
   },
   {
    "duration": 30,
    "start_time": "2023-07-04T11:09:08.244Z"
   },
   {
    "duration": 5,
    "start_time": "2023-07-04T11:09:08.276Z"
   },
   {
    "duration": 23,
    "start_time": "2023-07-04T11:09:08.283Z"
   },
   {
    "duration": 162,
    "start_time": "2023-07-04T11:09:08.308Z"
   },
   {
    "duration": 289,
    "start_time": "2023-07-04T11:09:08.472Z"
   },
   {
    "duration": 94,
    "start_time": "2023-07-04T11:09:08.763Z"
   },
   {
    "duration": 36456,
    "start_time": "2023-07-04T11:09:08.859Z"
   },
   {
    "duration": 312,
    "start_time": "2023-07-04T11:09:45.317Z"
   },
   {
    "duration": 34,
    "start_time": "2023-07-04T11:09:45.631Z"
   },
   {
    "duration": 36272,
    "start_time": "2023-07-04T11:09:45.670Z"
   },
   {
    "duration": 4,
    "start_time": "2023-07-04T11:10:21.944Z"
   },
   {
    "duration": 18,
    "start_time": "2023-07-04T11:10:21.956Z"
   },
   {
    "duration": 632,
    "start_time": "2023-07-04T11:10:21.976Z"
   },
   {
    "duration": 65,
    "start_time": "2023-07-04T11:10:22.610Z"
   },
   {
    "duration": 95983,
    "start_time": "2023-07-04T11:10:22.677Z"
   },
   {
    "duration": 4,
    "start_time": "2023-07-04T11:11:58.662Z"
   },
   {
    "duration": 14,
    "start_time": "2023-07-04T11:11:58.668Z"
   },
   {
    "duration": 159,
    "start_time": "2023-07-04T11:11:58.684Z"
   },
   {
    "duration": 28,
    "start_time": "2023-07-04T11:11:58.846Z"
   },
   {
    "duration": 21954,
    "start_time": "2023-07-04T11:11:58.876Z"
   },
   {
    "duration": 12,
    "start_time": "2023-07-04T11:12:20.831Z"
   },
   {
    "duration": 68700,
    "start_time": "2023-07-04T11:12:20.856Z"
   },
   {
    "duration": 273,
    "start_time": "2023-07-04T11:13:29.558Z"
   },
   {
    "duration": 153,
    "start_time": "2023-07-04T11:13:29.833Z"
   },
   {
    "duration": 2205,
    "start_time": "2023-07-05T10:05:38.074Z"
   },
   {
    "duration": 83,
    "start_time": "2023-07-05T10:05:40.282Z"
   },
   {
    "duration": 29,
    "start_time": "2023-07-05T10:05:40.366Z"
   },
   {
    "duration": 5,
    "start_time": "2023-07-05T10:05:40.398Z"
   },
   {
    "duration": 15,
    "start_time": "2023-07-05T10:05:40.404Z"
   },
   {
    "duration": 21,
    "start_time": "2023-07-05T10:05:40.420Z"
   },
   {
    "duration": 73,
    "start_time": "2023-07-05T10:05:40.443Z"
   },
   {
    "duration": 3,
    "start_time": "2023-07-05T10:05:40.518Z"
   },
   {
    "duration": 14,
    "start_time": "2023-07-05T10:05:40.523Z"
   },
   {
    "duration": 24,
    "start_time": "2023-07-05T10:05:40.540Z"
   },
   {
    "duration": 9,
    "start_time": "2023-07-05T10:05:40.567Z"
   },
   {
    "duration": 23,
    "start_time": "2023-07-05T10:05:40.578Z"
   },
   {
    "duration": 10,
    "start_time": "2023-07-05T10:05:40.603Z"
   },
   {
    "duration": 17,
    "start_time": "2023-07-05T10:05:40.615Z"
   },
   {
    "duration": 98,
    "start_time": "2023-07-05T10:05:40.634Z"
   },
   {
    "duration": 5,
    "start_time": "2023-07-05T10:05:40.734Z"
   },
   {
    "duration": 14,
    "start_time": "2023-07-05T10:05:40.740Z"
   },
   {
    "duration": 24,
    "start_time": "2023-07-05T10:05:40.755Z"
   },
   {
    "duration": 12,
    "start_time": "2023-07-05T10:05:40.782Z"
   },
   {
    "duration": 12,
    "start_time": "2023-07-05T10:05:40.796Z"
   },
   {
    "duration": 9,
    "start_time": "2023-07-05T10:05:40.809Z"
   },
   {
    "duration": 6,
    "start_time": "2023-07-05T10:05:40.819Z"
   },
   {
    "duration": 11,
    "start_time": "2023-07-05T10:05:40.827Z"
   },
   {
    "duration": 6,
    "start_time": "2023-07-05T10:05:40.840Z"
   },
   {
    "duration": 7,
    "start_time": "2023-07-05T10:05:40.847Z"
   },
   {
    "duration": 5,
    "start_time": "2023-07-05T10:05:40.855Z"
   },
   {
    "duration": 31,
    "start_time": "2023-07-05T10:05:40.861Z"
   },
   {
    "duration": 11,
    "start_time": "2023-07-05T10:05:40.897Z"
   },
   {
    "duration": 120,
    "start_time": "2023-07-05T10:05:40.909Z"
   },
   {
    "duration": 0,
    "start_time": "2023-07-05T10:05:41.031Z"
   },
   {
    "duration": 0,
    "start_time": "2023-07-05T10:05:41.032Z"
   },
   {
    "duration": 0,
    "start_time": "2023-07-05T10:05:41.033Z"
   },
   {
    "duration": 0,
    "start_time": "2023-07-05T10:05:41.034Z"
   },
   {
    "duration": 0,
    "start_time": "2023-07-05T10:05:41.035Z"
   },
   {
    "duration": 0,
    "start_time": "2023-07-05T10:05:41.036Z"
   },
   {
    "duration": 0,
    "start_time": "2023-07-05T10:05:41.037Z"
   },
   {
    "duration": 0,
    "start_time": "2023-07-05T10:05:41.038Z"
   },
   {
    "duration": 0,
    "start_time": "2023-07-05T10:05:41.039Z"
   },
   {
    "duration": 0,
    "start_time": "2023-07-05T10:05:41.040Z"
   },
   {
    "duration": 0,
    "start_time": "2023-07-05T10:05:41.041Z"
   },
   {
    "duration": 0,
    "start_time": "2023-07-05T10:05:41.042Z"
   },
   {
    "duration": 0,
    "start_time": "2023-07-05T10:05:41.043Z"
   },
   {
    "duration": 0,
    "start_time": "2023-07-05T10:05:41.044Z"
   },
   {
    "duration": 0,
    "start_time": "2023-07-05T10:05:41.045Z"
   },
   {
    "duration": 0,
    "start_time": "2023-07-05T10:05:41.046Z"
   },
   {
    "duration": 0,
    "start_time": "2023-07-05T10:05:41.047Z"
   },
   {
    "duration": 0,
    "start_time": "2023-07-05T10:05:41.048Z"
   },
   {
    "duration": 0,
    "start_time": "2023-07-05T10:05:41.076Z"
   },
   {
    "duration": 0,
    "start_time": "2023-07-05T10:05:41.077Z"
   },
   {
    "duration": 0,
    "start_time": "2023-07-05T10:05:41.080Z"
   },
   {
    "duration": 0,
    "start_time": "2023-07-05T10:05:41.082Z"
   },
   {
    "duration": 0,
    "start_time": "2023-07-05T10:05:41.083Z"
   },
   {
    "duration": 0,
    "start_time": "2023-07-05T10:05:41.085Z"
   },
   {
    "duration": 0,
    "start_time": "2023-07-05T10:05:41.086Z"
   },
   {
    "duration": 0,
    "start_time": "2023-07-05T10:05:41.088Z"
   },
   {
    "duration": 0,
    "start_time": "2023-07-05T10:05:41.089Z"
   },
   {
    "duration": 0,
    "start_time": "2023-07-05T10:05:41.090Z"
   },
   {
    "duration": 0,
    "start_time": "2023-07-05T10:05:41.092Z"
   },
   {
    "duration": 0,
    "start_time": "2023-07-05T10:05:41.093Z"
   },
   {
    "duration": 0,
    "start_time": "2023-07-05T10:05:41.095Z"
   },
   {
    "duration": 16,
    "start_time": "2023-07-05T10:07:03.578Z"
   },
   {
    "duration": 4,
    "start_time": "2023-07-05T10:07:10.266Z"
   },
   {
    "duration": 1205,
    "start_time": "2023-07-05T10:07:21.413Z"
   },
   {
    "duration": 40,
    "start_time": "2023-07-05T10:07:22.620Z"
   },
   {
    "duration": 18,
    "start_time": "2023-07-05T10:07:22.662Z"
   },
   {
    "duration": 3,
    "start_time": "2023-07-05T10:07:22.682Z"
   },
   {
    "duration": 37,
    "start_time": "2023-07-05T10:07:22.687Z"
   },
   {
    "duration": 34,
    "start_time": "2023-07-05T10:07:22.726Z"
   },
   {
    "duration": 61,
    "start_time": "2023-07-05T10:07:22.761Z"
   },
   {
    "duration": 6,
    "start_time": "2023-07-05T10:07:22.824Z"
   },
   {
    "duration": 16,
    "start_time": "2023-07-05T10:07:22.832Z"
   },
   {
    "duration": 16,
    "start_time": "2023-07-05T10:07:22.851Z"
   },
   {
    "duration": 22,
    "start_time": "2023-07-05T10:07:22.869Z"
   },
   {
    "duration": 22,
    "start_time": "2023-07-05T10:07:22.892Z"
   },
   {
    "duration": 20,
    "start_time": "2023-07-05T10:07:22.916Z"
   },
   {
    "duration": 19,
    "start_time": "2023-07-05T10:07:22.938Z"
   },
   {
    "duration": 122,
    "start_time": "2023-07-05T10:07:22.959Z"
   },
   {
    "duration": 4,
    "start_time": "2023-07-05T10:07:23.083Z"
   },
   {
    "duration": 27,
    "start_time": "2023-07-05T10:07:23.089Z"
   },
   {
    "duration": 18,
    "start_time": "2023-07-05T10:07:23.118Z"
   },
   {
    "duration": 6,
    "start_time": "2023-07-05T10:07:23.138Z"
   },
   {
    "duration": 21,
    "start_time": "2023-07-05T10:07:23.146Z"
   },
   {
    "duration": 18,
    "start_time": "2023-07-05T10:07:23.169Z"
   },
   {
    "duration": 18,
    "start_time": "2023-07-05T10:07:23.189Z"
   },
   {
    "duration": 23,
    "start_time": "2023-07-05T10:07:23.210Z"
   },
   {
    "duration": 16,
    "start_time": "2023-07-05T10:07:23.236Z"
   },
   {
    "duration": 12,
    "start_time": "2023-07-05T10:07:23.253Z"
   },
   {
    "duration": 31,
    "start_time": "2023-07-05T10:07:23.268Z"
   },
   {
    "duration": 18,
    "start_time": "2023-07-05T10:07:23.301Z"
   },
   {
    "duration": 32,
    "start_time": "2023-07-05T10:07:23.326Z"
   },
   {
    "duration": 151,
    "start_time": "2023-07-05T10:07:23.360Z"
   },
   {
    "duration": 0,
    "start_time": "2023-07-05T10:07:23.513Z"
   },
   {
    "duration": 0,
    "start_time": "2023-07-05T10:07:23.515Z"
   },
   {
    "duration": 0,
    "start_time": "2023-07-05T10:07:23.516Z"
   },
   {
    "duration": 0,
    "start_time": "2023-07-05T10:07:23.517Z"
   },
   {
    "duration": 0,
    "start_time": "2023-07-05T10:07:23.518Z"
   },
   {
    "duration": 0,
    "start_time": "2023-07-05T10:07:23.520Z"
   },
   {
    "duration": 0,
    "start_time": "2023-07-05T10:07:23.522Z"
   },
   {
    "duration": 0,
    "start_time": "2023-07-05T10:07:23.523Z"
   },
   {
    "duration": 0,
    "start_time": "2023-07-05T10:07:23.524Z"
   },
   {
    "duration": 0,
    "start_time": "2023-07-05T10:07:23.527Z"
   },
   {
    "duration": 0,
    "start_time": "2023-07-05T10:07:23.528Z"
   },
   {
    "duration": 0,
    "start_time": "2023-07-05T10:07:23.529Z"
   },
   {
    "duration": 0,
    "start_time": "2023-07-05T10:07:23.531Z"
   },
   {
    "duration": 0,
    "start_time": "2023-07-05T10:07:23.532Z"
   },
   {
    "duration": 0,
    "start_time": "2023-07-05T10:07:23.534Z"
   },
   {
    "duration": 0,
    "start_time": "2023-07-05T10:07:23.535Z"
   },
   {
    "duration": 0,
    "start_time": "2023-07-05T10:07:23.576Z"
   },
   {
    "duration": 0,
    "start_time": "2023-07-05T10:07:23.578Z"
   },
   {
    "duration": 0,
    "start_time": "2023-07-05T10:07:23.580Z"
   },
   {
    "duration": 0,
    "start_time": "2023-07-05T10:07:23.581Z"
   },
   {
    "duration": 0,
    "start_time": "2023-07-05T10:07:23.582Z"
   },
   {
    "duration": 0,
    "start_time": "2023-07-05T10:07:23.586Z"
   },
   {
    "duration": 0,
    "start_time": "2023-07-05T10:07:23.588Z"
   },
   {
    "duration": 0,
    "start_time": "2023-07-05T10:07:23.589Z"
   },
   {
    "duration": 0,
    "start_time": "2023-07-05T10:07:23.593Z"
   },
   {
    "duration": 0,
    "start_time": "2023-07-05T10:07:23.594Z"
   },
   {
    "duration": 0,
    "start_time": "2023-07-05T10:07:23.595Z"
   },
   {
    "duration": 0,
    "start_time": "2023-07-05T10:07:23.597Z"
   },
   {
    "duration": 0,
    "start_time": "2023-07-05T10:07:23.599Z"
   },
   {
    "duration": 0,
    "start_time": "2023-07-05T10:07:23.600Z"
   },
   {
    "duration": 0,
    "start_time": "2023-07-05T10:07:23.601Z"
   },
   {
    "duration": 1246,
    "start_time": "2023-07-05T10:10:48.545Z"
   },
   {
    "duration": 41,
    "start_time": "2023-07-05T10:10:49.792Z"
   },
   {
    "duration": 18,
    "start_time": "2023-07-05T10:10:49.834Z"
   },
   {
    "duration": 3,
    "start_time": "2023-07-05T10:10:49.853Z"
   },
   {
    "duration": 16,
    "start_time": "2023-07-05T10:10:49.857Z"
   },
   {
    "duration": 18,
    "start_time": "2023-07-05T10:10:49.875Z"
   },
   {
    "duration": 38,
    "start_time": "2023-07-05T10:10:49.895Z"
   },
   {
    "duration": 3,
    "start_time": "2023-07-05T10:10:49.935Z"
   },
   {
    "duration": 15,
    "start_time": "2023-07-05T10:10:49.940Z"
   },
   {
    "duration": 3,
    "start_time": "2023-07-05T10:10:49.976Z"
   },
   {
    "duration": 4,
    "start_time": "2023-07-05T10:10:49.981Z"
   },
   {
    "duration": 10,
    "start_time": "2023-07-05T10:10:49.988Z"
   },
   {
    "duration": 18,
    "start_time": "2023-07-05T10:10:50.000Z"
   },
   {
    "duration": 23,
    "start_time": "2023-07-05T10:10:50.021Z"
   },
   {
    "duration": 109,
    "start_time": "2023-07-05T10:10:50.046Z"
   },
   {
    "duration": 5,
    "start_time": "2023-07-05T10:10:50.157Z"
   },
   {
    "duration": 17,
    "start_time": "2023-07-05T10:10:50.164Z"
   },
   {
    "duration": 16,
    "start_time": "2023-07-05T10:10:50.182Z"
   },
   {
    "duration": 42,
    "start_time": "2023-07-05T10:10:50.200Z"
   },
   {
    "duration": 50,
    "start_time": "2023-07-05T10:10:50.244Z"
   },
   {
    "duration": 13,
    "start_time": "2023-07-05T10:10:50.296Z"
   },
   {
    "duration": 37,
    "start_time": "2023-07-05T10:10:50.311Z"
   },
   {
    "duration": 17,
    "start_time": "2023-07-05T10:10:50.349Z"
   },
   {
    "duration": 9,
    "start_time": "2023-07-05T10:10:50.368Z"
   },
   {
    "duration": 14,
    "start_time": "2023-07-05T10:10:50.379Z"
   },
   {
    "duration": 26,
    "start_time": "2023-07-05T10:10:50.395Z"
   },
   {
    "duration": 8,
    "start_time": "2023-07-05T10:10:50.423Z"
   },
   {
    "duration": 18,
    "start_time": "2023-07-05T10:10:50.435Z"
   },
   {
    "duration": 18,
    "start_time": "2023-07-05T10:10:50.455Z"
   },
   {
    "duration": 22,
    "start_time": "2023-07-05T10:10:50.475Z"
   },
   {
    "duration": 16,
    "start_time": "2023-07-05T10:10:50.499Z"
   },
   {
    "duration": 3,
    "start_time": "2023-07-05T10:10:50.517Z"
   },
   {
    "duration": 9,
    "start_time": "2023-07-05T10:10:50.522Z"
   },
   {
    "duration": 12,
    "start_time": "2023-07-05T10:10:50.532Z"
   },
   {
    "duration": 12,
    "start_time": "2023-07-05T10:10:50.546Z"
   },
   {
    "duration": 16,
    "start_time": "2023-07-05T10:10:50.560Z"
   },
   {
    "duration": 9,
    "start_time": "2023-07-05T10:10:50.577Z"
   },
   {
    "duration": 24,
    "start_time": "2023-07-05T10:10:50.587Z"
   },
   {
    "duration": 12,
    "start_time": "2023-07-05T10:10:50.613Z"
   },
   {
    "duration": 152,
    "start_time": "2023-07-05T10:10:50.626Z"
   },
   {
    "duration": 341,
    "start_time": "2023-07-05T10:10:50.780Z"
   },
   {
    "duration": 62,
    "start_time": "2023-07-05T10:10:51.123Z"
   },
   {
    "duration": 44404,
    "start_time": "2023-07-05T10:10:51.278Z"
   },
   {
    "duration": 353,
    "start_time": "2023-07-05T10:11:35.687Z"
   },
   {
    "duration": 52,
    "start_time": "2023-07-05T10:11:36.041Z"
   },
   {
    "duration": 42652,
    "start_time": "2023-07-05T10:11:36.095Z"
   },
   {
    "duration": 4,
    "start_time": "2023-07-05T10:12:18.749Z"
   },
   {
    "duration": 63,
    "start_time": "2023-07-05T10:12:18.754Z"
   },
   {
    "duration": 733,
    "start_time": "2023-07-05T10:12:18.819Z"
   },
   {
    "duration": 128,
    "start_time": "2023-07-05T10:12:19.554Z"
   },
   {
    "duration": 108893,
    "start_time": "2023-07-05T10:12:19.684Z"
   },
   {
    "duration": 14,
    "start_time": "2023-07-05T10:14:08.582Z"
   },
   {
    "duration": 27,
    "start_time": "2023-07-05T10:14:08.604Z"
   },
   {
    "duration": 204,
    "start_time": "2023-07-05T10:14:08.632Z"
   },
   {
    "duration": 47,
    "start_time": "2023-07-05T10:14:08.837Z"
   },
   {
    "duration": 24248,
    "start_time": "2023-07-05T10:14:08.885Z"
   },
   {
    "duration": 11,
    "start_time": "2023-07-05T10:14:33.134Z"
   },
   {
    "duration": 78014,
    "start_time": "2023-07-05T10:14:33.146Z"
   },
   {
    "duration": 762,
    "start_time": "2023-07-05T10:15:51.162Z"
   },
   {
    "duration": 162,
    "start_time": "2023-07-05T10:15:51.925Z"
   },
   {
    "duration": 383,
    "start_time": "2023-07-05T10:18:22.354Z"
   },
   {
    "duration": 286,
    "start_time": "2023-07-05T10:18:35.194Z"
   },
   {
    "duration": 266,
    "start_time": "2023-07-05T10:19:05.164Z"
   },
   {
    "duration": 67,
    "start_time": "2023-07-05T10:40:51.832Z"
   },
   {
    "duration": 14,
    "start_time": "2023-07-05T10:40:59.676Z"
   },
   {
    "duration": 9,
    "start_time": "2023-07-05T10:41:00.736Z"
   },
   {
    "duration": 1810,
    "start_time": "2023-07-05T10:41:18.443Z"
   },
   {
    "duration": 94,
    "start_time": "2023-07-05T10:41:20.255Z"
   },
   {
    "duration": 23,
    "start_time": "2023-07-05T10:41:20.351Z"
   },
   {
    "duration": 50,
    "start_time": "2023-07-05T10:41:20.377Z"
   },
   {
    "duration": 77,
    "start_time": "2023-07-05T10:41:20.429Z"
   },
   {
    "duration": 61,
    "start_time": "2023-07-05T10:41:20.508Z"
   },
   {
    "duration": 66,
    "start_time": "2023-07-05T10:41:20.573Z"
   },
   {
    "duration": 5,
    "start_time": "2023-07-05T10:41:20.642Z"
   },
   {
    "duration": 46,
    "start_time": "2023-07-05T10:41:20.649Z"
   },
   {
    "duration": 86,
    "start_time": "2023-07-05T10:41:20.698Z"
   },
   {
    "duration": 36,
    "start_time": "2023-07-05T10:41:20.786Z"
   },
   {
    "duration": 75,
    "start_time": "2023-07-05T10:41:20.824Z"
   },
   {
    "duration": 45,
    "start_time": "2023-07-05T10:41:20.901Z"
   },
   {
    "duration": 61,
    "start_time": "2023-07-05T10:41:20.948Z"
   },
   {
    "duration": 155,
    "start_time": "2023-07-05T10:41:21.013Z"
   },
   {
    "duration": 5,
    "start_time": "2023-07-05T10:41:21.170Z"
   },
   {
    "duration": 50,
    "start_time": "2023-07-05T10:41:21.177Z"
   },
   {
    "duration": 41,
    "start_time": "2023-07-05T10:41:21.229Z"
   },
   {
    "duration": 38,
    "start_time": "2023-07-05T10:41:21.272Z"
   },
   {
    "duration": 33,
    "start_time": "2023-07-05T10:41:21.312Z"
   },
   {
    "duration": 46,
    "start_time": "2023-07-05T10:41:21.347Z"
   },
   {
    "duration": 29,
    "start_time": "2023-07-05T10:41:21.395Z"
   },
   {
    "duration": 36,
    "start_time": "2023-07-05T10:41:21.427Z"
   },
   {
    "duration": 25,
    "start_time": "2023-07-05T10:41:21.465Z"
   },
   {
    "duration": 43,
    "start_time": "2023-07-05T10:41:21.492Z"
   },
   {
    "duration": 40,
    "start_time": "2023-07-05T10:41:21.537Z"
   },
   {
    "duration": 78,
    "start_time": "2023-07-05T10:41:21.579Z"
   },
   {
    "duration": 32,
    "start_time": "2023-07-05T10:41:21.661Z"
   },
   {
    "duration": 140,
    "start_time": "2023-07-05T10:41:21.695Z"
   },
   {
    "duration": 0,
    "start_time": "2023-07-05T10:41:21.837Z"
   },
   {
    "duration": 0,
    "start_time": "2023-07-05T10:41:21.839Z"
   },
   {
    "duration": 0,
    "start_time": "2023-07-05T10:41:21.840Z"
   },
   {
    "duration": 0,
    "start_time": "2023-07-05T10:41:21.841Z"
   },
   {
    "duration": 0,
    "start_time": "2023-07-05T10:41:21.842Z"
   },
   {
    "duration": 0,
    "start_time": "2023-07-05T10:41:21.843Z"
   },
   {
    "duration": 0,
    "start_time": "2023-07-05T10:41:21.844Z"
   },
   {
    "duration": 0,
    "start_time": "2023-07-05T10:41:21.845Z"
   },
   {
    "duration": 0,
    "start_time": "2023-07-05T10:41:21.846Z"
   },
   {
    "duration": 0,
    "start_time": "2023-07-05T10:41:21.847Z"
   },
   {
    "duration": 0,
    "start_time": "2023-07-05T10:41:21.848Z"
   },
   {
    "duration": 0,
    "start_time": "2023-07-05T10:41:21.849Z"
   },
   {
    "duration": 0,
    "start_time": "2023-07-05T10:41:21.850Z"
   },
   {
    "duration": 0,
    "start_time": "2023-07-05T10:41:21.851Z"
   },
   {
    "duration": 0,
    "start_time": "2023-07-05T10:41:21.851Z"
   },
   {
    "duration": 0,
    "start_time": "2023-07-05T10:41:21.852Z"
   },
   {
    "duration": 0,
    "start_time": "2023-07-05T10:41:21.853Z"
   },
   {
    "duration": 0,
    "start_time": "2023-07-05T10:41:21.855Z"
   },
   {
    "duration": 0,
    "start_time": "2023-07-05T10:41:21.856Z"
   },
   {
    "duration": 0,
    "start_time": "2023-07-05T10:41:21.857Z"
   },
   {
    "duration": 0,
    "start_time": "2023-07-05T10:41:21.858Z"
   },
   {
    "duration": 0,
    "start_time": "2023-07-05T10:41:21.859Z"
   },
   {
    "duration": 0,
    "start_time": "2023-07-05T10:41:21.860Z"
   },
   {
    "duration": 0,
    "start_time": "2023-07-05T10:41:21.861Z"
   },
   {
    "duration": 0,
    "start_time": "2023-07-05T10:41:21.910Z"
   },
   {
    "duration": 0,
    "start_time": "2023-07-05T10:41:21.911Z"
   },
   {
    "duration": 0,
    "start_time": "2023-07-05T10:41:21.913Z"
   },
   {
    "duration": 0,
    "start_time": "2023-07-05T10:41:21.914Z"
   },
   {
    "duration": 0,
    "start_time": "2023-07-05T10:41:21.917Z"
   },
   {
    "duration": 0,
    "start_time": "2023-07-05T10:41:21.918Z"
   },
   {
    "duration": 0,
    "start_time": "2023-07-05T10:41:21.919Z"
   },
   {
    "duration": 9,
    "start_time": "2023-07-05T11:03:27.333Z"
   },
   {
    "duration": 4,
    "start_time": "2023-07-05T11:06:56.937Z"
   },
   {
    "duration": 13,
    "start_time": "2023-07-05T11:07:02.422Z"
   },
   {
    "duration": 6,
    "start_time": "2023-07-05T11:07:32.650Z"
   },
   {
    "duration": 5,
    "start_time": "2023-07-05T11:07:35.864Z"
   },
   {
    "duration": 11,
    "start_time": "2023-07-05T11:07:53.614Z"
   },
   {
    "duration": 10,
    "start_time": "2023-07-05T11:07:58.181Z"
   },
   {
    "duration": 5,
    "start_time": "2023-07-05T11:08:25.444Z"
   },
   {
    "duration": 1546,
    "start_time": "2023-07-05T13:09:52.340Z"
   },
   {
    "duration": 44,
    "start_time": "2023-07-05T13:09:53.888Z"
   },
   {
    "duration": 21,
    "start_time": "2023-07-05T13:09:53.934Z"
   },
   {
    "duration": 38,
    "start_time": "2023-07-05T13:09:53.957Z"
   },
   {
    "duration": 49,
    "start_time": "2023-07-05T13:09:53.997Z"
   },
   {
    "duration": 63,
    "start_time": "2023-07-05T13:09:54.048Z"
   },
   {
    "duration": 90,
    "start_time": "2023-07-05T13:09:54.112Z"
   },
   {
    "duration": 9,
    "start_time": "2023-07-05T13:09:54.204Z"
   },
   {
    "duration": 32,
    "start_time": "2023-07-05T13:09:54.215Z"
   },
   {
    "duration": 15,
    "start_time": "2023-07-05T13:09:54.251Z"
   },
   {
    "duration": 55,
    "start_time": "2023-07-05T13:09:54.269Z"
   },
   {
    "duration": 108,
    "start_time": "2023-07-05T13:09:54.326Z"
   },
   {
    "duration": 54,
    "start_time": "2023-07-05T13:09:54.436Z"
   },
   {
    "duration": 68,
    "start_time": "2023-07-05T13:09:54.492Z"
   },
   {
    "duration": 132,
    "start_time": "2023-07-05T13:09:54.562Z"
   },
   {
    "duration": 12,
    "start_time": "2023-07-05T13:09:54.696Z"
   },
   {
    "duration": 10,
    "start_time": "2023-07-05T13:09:54.710Z"
   },
   {
    "duration": 13,
    "start_time": "2023-07-05T13:09:54.722Z"
   },
   {
    "duration": 19,
    "start_time": "2023-07-05T13:09:54.737Z"
   },
   {
    "duration": 42,
    "start_time": "2023-07-05T13:09:54.758Z"
   },
   {
    "duration": 22,
    "start_time": "2023-07-05T13:09:54.802Z"
   },
   {
    "duration": 18,
    "start_time": "2023-07-05T13:09:54.826Z"
   },
   {
    "duration": 43,
    "start_time": "2023-07-05T13:09:54.846Z"
   },
   {
    "duration": 37,
    "start_time": "2023-07-05T13:09:54.891Z"
   },
   {
    "duration": 22,
    "start_time": "2023-07-05T13:09:54.929Z"
   },
   {
    "duration": 22,
    "start_time": "2023-07-05T13:09:54.953Z"
   },
   {
    "duration": 32,
    "start_time": "2023-07-05T13:09:54.977Z"
   },
   {
    "duration": 26,
    "start_time": "2023-07-05T13:09:55.014Z"
   },
   {
    "duration": 57,
    "start_time": "2023-07-05T13:09:55.042Z"
   },
   {
    "duration": 72,
    "start_time": "2023-07-05T13:09:55.101Z"
   },
   {
    "duration": 0,
    "start_time": "2023-07-05T13:09:55.174Z"
   },
   {
    "duration": 0,
    "start_time": "2023-07-05T13:09:55.176Z"
   },
   {
    "duration": 0,
    "start_time": "2023-07-05T13:09:55.177Z"
   },
   {
    "duration": 0,
    "start_time": "2023-07-05T13:09:55.178Z"
   },
   {
    "duration": 0,
    "start_time": "2023-07-05T13:09:55.179Z"
   },
   {
    "duration": 0,
    "start_time": "2023-07-05T13:09:55.180Z"
   },
   {
    "duration": 0,
    "start_time": "2023-07-05T13:09:55.181Z"
   },
   {
    "duration": 0,
    "start_time": "2023-07-05T13:09:55.182Z"
   },
   {
    "duration": 0,
    "start_time": "2023-07-05T13:09:55.184Z"
   },
   {
    "duration": 0,
    "start_time": "2023-07-05T13:09:55.186Z"
   },
   {
    "duration": 0,
    "start_time": "2023-07-05T13:09:55.187Z"
   },
   {
    "duration": 0,
    "start_time": "2023-07-05T13:09:55.189Z"
   },
   {
    "duration": 0,
    "start_time": "2023-07-05T13:09:55.190Z"
   },
   {
    "duration": 0,
    "start_time": "2023-07-05T13:09:55.191Z"
   },
   {
    "duration": 0,
    "start_time": "2023-07-05T13:09:55.193Z"
   },
   {
    "duration": 0,
    "start_time": "2023-07-05T13:09:55.194Z"
   },
   {
    "duration": 0,
    "start_time": "2023-07-05T13:09:55.195Z"
   },
   {
    "duration": 0,
    "start_time": "2023-07-05T13:09:55.196Z"
   },
   {
    "duration": 0,
    "start_time": "2023-07-05T13:09:55.198Z"
   },
   {
    "duration": 0,
    "start_time": "2023-07-05T13:09:55.199Z"
   },
   {
    "duration": 0,
    "start_time": "2023-07-05T13:09:55.200Z"
   },
   {
    "duration": 0,
    "start_time": "2023-07-05T13:09:55.202Z"
   },
   {
    "duration": 0,
    "start_time": "2023-07-05T13:09:55.203Z"
   },
   {
    "duration": 0,
    "start_time": "2023-07-05T13:09:55.204Z"
   },
   {
    "duration": 0,
    "start_time": "2023-07-05T13:09:55.205Z"
   },
   {
    "duration": 0,
    "start_time": "2023-07-05T13:09:55.206Z"
   },
   {
    "duration": 0,
    "start_time": "2023-07-05T13:09:55.207Z"
   },
   {
    "duration": 0,
    "start_time": "2023-07-05T13:09:55.209Z"
   },
   {
    "duration": 0,
    "start_time": "2023-07-05T13:09:55.210Z"
   },
   {
    "duration": 0,
    "start_time": "2023-07-05T13:09:55.211Z"
   },
   {
    "duration": 0,
    "start_time": "2023-07-05T13:09:55.212Z"
   },
   {
    "duration": 0,
    "start_time": "2023-07-05T13:09:55.213Z"
   },
   {
    "duration": 1249,
    "start_time": "2023-07-05T13:10:01.930Z"
   },
   {
    "duration": 77,
    "start_time": "2023-07-05T20:00:23.783Z"
   },
   {
    "duration": 2108,
    "start_time": "2023-07-05T20:00:30.872Z"
   },
   {
    "duration": 652,
    "start_time": "2023-07-05T20:00:32.989Z"
   },
   {
    "duration": 30,
    "start_time": "2023-07-05T20:00:33.643Z"
   },
   {
    "duration": 5,
    "start_time": "2023-07-05T20:00:33.676Z"
   },
   {
    "duration": 19,
    "start_time": "2023-07-05T20:00:33.685Z"
   },
   {
    "duration": 50,
    "start_time": "2023-07-05T20:00:33.706Z"
   },
   {
    "duration": 54,
    "start_time": "2023-07-05T20:00:33.763Z"
   },
   {
    "duration": 5,
    "start_time": "2023-07-05T20:00:33.820Z"
   },
   {
    "duration": 31,
    "start_time": "2023-07-05T20:00:33.827Z"
   },
   {
    "duration": 4,
    "start_time": "2023-07-05T20:00:33.866Z"
   },
   {
    "duration": 3,
    "start_time": "2023-07-05T20:00:33.873Z"
   },
   {
    "duration": 13,
    "start_time": "2023-07-05T20:00:33.882Z"
   },
   {
    "duration": 8,
    "start_time": "2023-07-05T20:00:33.897Z"
   },
   {
    "duration": 58,
    "start_time": "2023-07-05T20:00:33.907Z"
   },
   {
    "duration": 138,
    "start_time": "2023-07-05T20:00:33.980Z"
   },
   {
    "duration": 10,
    "start_time": "2023-07-05T20:00:34.120Z"
   },
   {
    "duration": 10,
    "start_time": "2023-07-05T20:00:34.131Z"
   },
   {
    "duration": 16,
    "start_time": "2023-07-05T20:00:34.143Z"
   },
   {
    "duration": 10,
    "start_time": "2023-07-05T20:00:34.161Z"
   },
   {
    "duration": 21,
    "start_time": "2023-07-05T20:00:34.174Z"
   },
   {
    "duration": 16,
    "start_time": "2023-07-05T20:00:34.197Z"
   },
   {
    "duration": 18,
    "start_time": "2023-07-05T20:00:34.215Z"
   },
   {
    "duration": 18,
    "start_time": "2023-07-05T20:00:34.239Z"
   },
   {
    "duration": 14,
    "start_time": "2023-07-05T20:00:34.259Z"
   },
   {
    "duration": 13,
    "start_time": "2023-07-05T20:00:34.280Z"
   },
   {
    "duration": 4,
    "start_time": "2023-07-05T20:00:34.295Z"
   },
   {
    "duration": 17,
    "start_time": "2023-07-05T20:00:34.301Z"
   },
   {
    "duration": 12,
    "start_time": "2023-07-05T20:00:34.324Z"
   },
   {
    "duration": 27,
    "start_time": "2023-07-05T20:00:34.340Z"
   },
   {
    "duration": 1512,
    "start_time": "2023-07-05T20:00:34.372Z"
   },
   {
    "duration": 192,
    "start_time": "2023-07-05T20:00:35.886Z"
   },
   {
    "duration": 0,
    "start_time": "2023-07-05T20:00:36.080Z"
   },
   {
    "duration": 0,
    "start_time": "2023-07-05T20:00:36.082Z"
   },
   {
    "duration": 0,
    "start_time": "2023-07-05T20:00:36.083Z"
   },
   {
    "duration": 0,
    "start_time": "2023-07-05T20:00:36.084Z"
   },
   {
    "duration": 0,
    "start_time": "2023-07-05T20:00:36.086Z"
   },
   {
    "duration": 0,
    "start_time": "2023-07-05T20:00:36.087Z"
   },
   {
    "duration": 0,
    "start_time": "2023-07-05T20:00:36.088Z"
   },
   {
    "duration": 0,
    "start_time": "2023-07-05T20:00:36.090Z"
   },
   {
    "duration": 0,
    "start_time": "2023-07-05T20:00:36.091Z"
   },
   {
    "duration": 0,
    "start_time": "2023-07-05T20:00:36.092Z"
   },
   {
    "duration": 0,
    "start_time": "2023-07-05T20:00:36.093Z"
   },
   {
    "duration": 0,
    "start_time": "2023-07-05T20:00:36.094Z"
   },
   {
    "duration": 0,
    "start_time": "2023-07-05T20:00:36.096Z"
   },
   {
    "duration": 0,
    "start_time": "2023-07-05T20:00:36.097Z"
   },
   {
    "duration": 0,
    "start_time": "2023-07-05T20:00:36.098Z"
   },
   {
    "duration": 0,
    "start_time": "2023-07-05T20:00:36.113Z"
   },
   {
    "duration": 0,
    "start_time": "2023-07-05T20:00:36.114Z"
   },
   {
    "duration": 0,
    "start_time": "2023-07-05T20:00:36.121Z"
   },
   {
    "duration": 0,
    "start_time": "2023-07-05T20:00:36.124Z"
   },
   {
    "duration": 0,
    "start_time": "2023-07-05T20:00:36.125Z"
   },
   {
    "duration": 0,
    "start_time": "2023-07-05T20:00:36.126Z"
   },
   {
    "duration": 0,
    "start_time": "2023-07-05T20:00:36.128Z"
   },
   {
    "duration": 0,
    "start_time": "2023-07-05T20:00:36.128Z"
   },
   {
    "duration": 0,
    "start_time": "2023-07-05T20:00:36.130Z"
   },
   {
    "duration": 0,
    "start_time": "2023-07-05T20:00:36.131Z"
   },
   {
    "duration": 0,
    "start_time": "2023-07-05T20:00:36.132Z"
   },
   {
    "duration": 0,
    "start_time": "2023-07-05T20:00:36.134Z"
   },
   {
    "duration": 0,
    "start_time": "2023-07-05T20:00:36.135Z"
   },
   {
    "duration": 0,
    "start_time": "2023-07-05T20:00:36.136Z"
   },
   {
    "duration": 0,
    "start_time": "2023-07-05T20:00:36.137Z"
   },
   {
    "duration": 0,
    "start_time": "2023-07-05T20:00:36.139Z"
   },
   {
    "duration": 1805,
    "start_time": "2023-07-05T20:15:39.486Z"
   },
   {
    "duration": 79,
    "start_time": "2023-07-05T20:15:41.293Z"
   },
   {
    "duration": 21,
    "start_time": "2023-07-05T20:15:41.380Z"
   },
   {
    "duration": 5,
    "start_time": "2023-07-05T20:15:41.402Z"
   },
   {
    "duration": 39,
    "start_time": "2023-07-05T20:15:41.409Z"
   },
   {
    "duration": 30,
    "start_time": "2023-07-05T20:15:41.454Z"
   },
   {
    "duration": 62,
    "start_time": "2023-07-05T20:15:41.486Z"
   },
   {
    "duration": 6,
    "start_time": "2023-07-05T20:15:41.550Z"
   },
   {
    "duration": 17,
    "start_time": "2023-07-05T20:15:41.565Z"
   },
   {
    "duration": 3,
    "start_time": "2023-07-05T20:15:41.586Z"
   },
   {
    "duration": 5,
    "start_time": "2023-07-05T20:15:41.590Z"
   },
   {
    "duration": 5,
    "start_time": "2023-07-05T20:15:41.596Z"
   },
   {
    "duration": 5,
    "start_time": "2023-07-05T20:15:41.603Z"
   },
   {
    "duration": 32,
    "start_time": "2023-07-05T20:15:41.621Z"
   },
   {
    "duration": 139,
    "start_time": "2023-07-05T20:15:41.655Z"
   },
   {
    "duration": 5,
    "start_time": "2023-07-05T20:15:41.795Z"
   },
   {
    "duration": 26,
    "start_time": "2023-07-05T20:15:41.802Z"
   },
   {
    "duration": 17,
    "start_time": "2023-07-05T20:15:41.832Z"
   },
   {
    "duration": 9,
    "start_time": "2023-07-05T20:15:41.854Z"
   },
   {
    "duration": 17,
    "start_time": "2023-07-05T20:15:41.865Z"
   },
   {
    "duration": 3,
    "start_time": "2023-07-05T20:15:41.887Z"
   },
   {
    "duration": 7,
    "start_time": "2023-07-05T20:15:41.892Z"
   },
   {
    "duration": 38,
    "start_time": "2023-07-05T20:15:41.901Z"
   },
   {
    "duration": 8,
    "start_time": "2023-07-05T20:15:41.943Z"
   },
   {
    "duration": 7,
    "start_time": "2023-07-05T20:15:41.953Z"
   },
   {
    "duration": 8,
    "start_time": "2023-07-05T20:15:41.962Z"
   },
   {
    "duration": 6,
    "start_time": "2023-07-05T20:15:41.972Z"
   },
   {
    "duration": 15,
    "start_time": "2023-07-05T20:15:41.980Z"
   },
   {
    "duration": 14,
    "start_time": "2023-07-05T20:15:41.996Z"
   },
   {
    "duration": 215,
    "start_time": "2023-07-05T20:15:42.012Z"
   },
   {
    "duration": 0,
    "start_time": "2023-07-05T20:15:42.230Z"
   },
   {
    "duration": 0,
    "start_time": "2023-07-05T20:15:42.232Z"
   },
   {
    "duration": 0,
    "start_time": "2023-07-05T20:15:42.235Z"
   },
   {
    "duration": 0,
    "start_time": "2023-07-05T20:15:42.236Z"
   },
   {
    "duration": 0,
    "start_time": "2023-07-05T20:15:42.237Z"
   },
   {
    "duration": 0,
    "start_time": "2023-07-05T20:15:42.238Z"
   },
   {
    "duration": 0,
    "start_time": "2023-07-05T20:15:42.240Z"
   },
   {
    "duration": 0,
    "start_time": "2023-07-05T20:15:42.240Z"
   },
   {
    "duration": 0,
    "start_time": "2023-07-05T20:15:42.241Z"
   },
   {
    "duration": 0,
    "start_time": "2023-07-05T20:15:42.242Z"
   },
   {
    "duration": 0,
    "start_time": "2023-07-05T20:15:42.244Z"
   },
   {
    "duration": 0,
    "start_time": "2023-07-05T20:15:42.247Z"
   },
   {
    "duration": 0,
    "start_time": "2023-07-05T20:15:42.248Z"
   },
   {
    "duration": 0,
    "start_time": "2023-07-05T20:15:42.249Z"
   },
   {
    "duration": 0,
    "start_time": "2023-07-05T20:15:42.250Z"
   },
   {
    "duration": 0,
    "start_time": "2023-07-05T20:15:42.251Z"
   },
   {
    "duration": 0,
    "start_time": "2023-07-05T20:15:42.251Z"
   },
   {
    "duration": 0,
    "start_time": "2023-07-05T20:15:42.252Z"
   },
   {
    "duration": 0,
    "start_time": "2023-07-05T20:15:42.253Z"
   },
   {
    "duration": 0,
    "start_time": "2023-07-05T20:15:42.255Z"
   },
   {
    "duration": 0,
    "start_time": "2023-07-05T20:15:42.256Z"
   },
   {
    "duration": 0,
    "start_time": "2023-07-05T20:15:42.257Z"
   },
   {
    "duration": 1,
    "start_time": "2023-07-05T20:15:42.257Z"
   },
   {
    "duration": 0,
    "start_time": "2023-07-05T20:15:42.258Z"
   },
   {
    "duration": 0,
    "start_time": "2023-07-05T20:15:42.266Z"
   },
   {
    "duration": 0,
    "start_time": "2023-07-05T20:15:42.267Z"
   },
   {
    "duration": 0,
    "start_time": "2023-07-05T20:15:42.268Z"
   },
   {
    "duration": 0,
    "start_time": "2023-07-05T20:15:42.269Z"
   },
   {
    "duration": 0,
    "start_time": "2023-07-05T20:15:42.274Z"
   },
   {
    "duration": 0,
    "start_time": "2023-07-05T20:15:42.275Z"
   },
   {
    "duration": 0,
    "start_time": "2023-07-05T20:15:42.276Z"
   },
   {
    "duration": 1610,
    "start_time": "2023-07-14T12:31:58.087Z"
   },
   {
    "duration": 150,
    "start_time": "2023-07-14T12:31:59.699Z"
   },
   {
    "duration": 19,
    "start_time": "2023-07-14T12:31:59.851Z"
   },
   {
    "duration": 3,
    "start_time": "2023-07-14T12:31:59.871Z"
   },
   {
    "duration": 21,
    "start_time": "2023-07-14T12:31:59.876Z"
   },
   {
    "duration": 20,
    "start_time": "2023-07-14T12:31:59.899Z"
   },
   {
    "duration": 65,
    "start_time": "2023-07-14T12:31:59.921Z"
   },
   {
    "duration": 4,
    "start_time": "2023-07-14T12:31:59.988Z"
   },
   {
    "duration": 37,
    "start_time": "2023-07-14T12:31:59.994Z"
   },
   {
    "duration": 20,
    "start_time": "2023-07-14T12:32:00.032Z"
   },
   {
    "duration": 25,
    "start_time": "2023-07-14T12:32:00.053Z"
   },
   {
    "duration": 37,
    "start_time": "2023-07-14T12:32:00.080Z"
   },
   {
    "duration": 38,
    "start_time": "2023-07-14T12:32:00.119Z"
   },
   {
    "duration": 62,
    "start_time": "2023-07-14T12:32:00.160Z"
   },
   {
    "duration": 151,
    "start_time": "2023-07-14T12:32:00.224Z"
   },
   {
    "duration": 5,
    "start_time": "2023-07-14T12:32:00.377Z"
   },
   {
    "duration": 206,
    "start_time": "2023-07-14T12:32:00.383Z"
   },
   {
    "duration": 197,
    "start_time": "2023-07-14T12:32:00.591Z"
   },
   {
    "duration": 113,
    "start_time": "2023-07-14T12:32:00.789Z"
   },
   {
    "duration": 90,
    "start_time": "2023-07-14T12:32:00.904Z"
   },
   {
    "duration": 49,
    "start_time": "2023-07-14T12:32:00.996Z"
   },
   {
    "duration": 66,
    "start_time": "2023-07-14T12:32:01.047Z"
   },
   {
    "duration": 75,
    "start_time": "2023-07-14T12:32:01.115Z"
   },
   {
    "duration": 56,
    "start_time": "2023-07-14T12:32:01.192Z"
   },
   {
    "duration": 89,
    "start_time": "2023-07-14T12:32:01.250Z"
   },
   {
    "duration": 90,
    "start_time": "2023-07-14T12:32:01.341Z"
   },
   {
    "duration": 43,
    "start_time": "2023-07-14T12:32:01.433Z"
   },
   {
    "duration": 60,
    "start_time": "2023-07-14T12:32:01.478Z"
   },
   {
    "duration": 35,
    "start_time": "2023-07-14T12:32:01.540Z"
   },
   {
    "duration": 45,
    "start_time": "2023-07-14T12:32:01.576Z"
   },
   {
    "duration": 32,
    "start_time": "2023-07-14T12:32:01.623Z"
   },
   {
    "duration": 63,
    "start_time": "2023-07-14T12:32:01.657Z"
   },
   {
    "duration": 40,
    "start_time": "2023-07-14T12:32:01.722Z"
   },
   {
    "duration": 26,
    "start_time": "2023-07-14T12:32:01.764Z"
   },
   {
    "duration": 52,
    "start_time": "2023-07-14T12:32:01.792Z"
   },
   {
    "duration": 49,
    "start_time": "2023-07-14T12:32:01.845Z"
   },
   {
    "duration": 24,
    "start_time": "2023-07-14T12:32:01.896Z"
   },
   {
    "duration": 74,
    "start_time": "2023-07-14T12:32:01.922Z"
   },
   {
    "duration": 34,
    "start_time": "2023-07-14T12:32:01.997Z"
   },
   {
    "duration": 21,
    "start_time": "2023-07-14T12:32:02.033Z"
   },
   {
    "duration": 169,
    "start_time": "2023-07-14T12:32:02.059Z"
   },
   {
    "duration": 320,
    "start_time": "2023-07-14T12:32:02.230Z"
   },
   {
    "duration": 102,
    "start_time": "2023-07-14T12:32:02.556Z"
   },
   {
    "duration": 37225,
    "start_time": "2023-07-14T12:32:02.660Z"
   },
   {
    "duration": 287,
    "start_time": "2023-07-14T12:32:39.887Z"
   },
   {
    "duration": 95,
    "start_time": "2023-07-14T12:32:40.176Z"
   },
   {
    "duration": 35785,
    "start_time": "2023-07-14T12:32:40.358Z"
   },
   {
    "duration": 11,
    "start_time": "2023-07-14T12:33:16.145Z"
   },
   {
    "duration": 16,
    "start_time": "2023-07-14T12:33:16.158Z"
   },
   {
    "duration": 617,
    "start_time": "2023-07-14T12:33:16.176Z"
   },
   {
    "duration": 167,
    "start_time": "2023-07-14T12:33:16.795Z"
   },
   {
    "duration": 94219,
    "start_time": "2023-07-14T12:33:16.964Z"
   },
   {
    "duration": 5,
    "start_time": "2023-07-14T12:34:51.185Z"
   },
   {
    "duration": 42,
    "start_time": "2023-07-14T12:34:51.192Z"
   },
   {
    "duration": 160,
    "start_time": "2023-07-14T12:34:51.236Z"
   },
   {
    "duration": 62,
    "start_time": "2023-07-14T12:34:51.397Z"
   },
   {
    "duration": 21593,
    "start_time": "2023-07-14T12:34:51.464Z"
   },
   {
    "duration": 13,
    "start_time": "2023-07-14T12:35:13.059Z"
   },
   {
    "duration": 68462,
    "start_time": "2023-07-14T12:35:13.073Z"
   },
   {
    "duration": 319,
    "start_time": "2023-07-14T12:36:21.537Z"
   },
   {
    "duration": 139,
    "start_time": "2023-07-14T12:36:21.858Z"
   },
   {
    "duration": 54,
    "start_time": "2023-07-14T20:17:58.298Z"
   },
   {
    "duration": 7,
    "start_time": "2023-07-14T20:18:30.993Z"
   },
   {
    "duration": 1577,
    "start_time": "2023-07-14T21:18:34.945Z"
   },
   {
    "duration": 163,
    "start_time": "2023-07-14T21:18:36.525Z"
   },
   {
    "duration": 19,
    "start_time": "2023-07-14T21:18:36.689Z"
   },
   {
    "duration": 3,
    "start_time": "2023-07-14T21:18:36.711Z"
   },
   {
    "duration": 29,
    "start_time": "2023-07-14T21:18:36.715Z"
   },
   {
    "duration": 22,
    "start_time": "2023-07-14T21:18:36.746Z"
   },
   {
    "duration": 48,
    "start_time": "2023-07-14T21:18:36.770Z"
   },
   {
    "duration": 4,
    "start_time": "2023-07-14T21:18:36.819Z"
   },
   {
    "duration": 60,
    "start_time": "2023-07-14T21:18:36.825Z"
   },
   {
    "duration": 2,
    "start_time": "2023-07-14T21:18:36.888Z"
   },
   {
    "duration": 8,
    "start_time": "2023-07-14T21:18:36.892Z"
   },
   {
    "duration": 8,
    "start_time": "2023-07-14T21:18:36.902Z"
   },
   {
    "duration": 15,
    "start_time": "2023-07-14T21:18:36.911Z"
   },
   {
    "duration": 17,
    "start_time": "2023-07-14T21:18:36.928Z"
   },
   {
    "duration": 118,
    "start_time": "2023-07-14T21:18:36.946Z"
   },
   {
    "duration": 5,
    "start_time": "2023-07-14T21:18:37.065Z"
   },
   {
    "duration": 15,
    "start_time": "2023-07-14T21:18:37.072Z"
   },
   {
    "duration": 8,
    "start_time": "2023-07-14T21:18:37.088Z"
   },
   {
    "duration": 18,
    "start_time": "2023-07-14T21:18:37.097Z"
   },
   {
    "duration": 8,
    "start_time": "2023-07-14T21:18:37.116Z"
   },
   {
    "duration": 11,
    "start_time": "2023-07-14T21:18:37.126Z"
   },
   {
    "duration": 8,
    "start_time": "2023-07-14T21:18:37.138Z"
   },
   {
    "duration": 27,
    "start_time": "2023-07-14T21:18:37.148Z"
   },
   {
    "duration": 11,
    "start_time": "2023-07-14T21:18:37.177Z"
   },
   {
    "duration": 5,
    "start_time": "2023-07-14T21:18:37.190Z"
   },
   {
    "duration": 8,
    "start_time": "2023-07-14T21:18:37.196Z"
   },
   {
    "duration": 6,
    "start_time": "2023-07-14T21:18:37.206Z"
   },
   {
    "duration": 6,
    "start_time": "2023-07-14T21:18:37.216Z"
   },
   {
    "duration": 8,
    "start_time": "2023-07-14T21:18:37.224Z"
   },
   {
    "duration": 17,
    "start_time": "2023-07-14T21:18:37.233Z"
   },
   {
    "duration": 10,
    "start_time": "2023-07-14T21:18:37.252Z"
   },
   {
    "duration": 10,
    "start_time": "2023-07-14T21:18:37.264Z"
   },
   {
    "duration": 8,
    "start_time": "2023-07-14T21:18:37.275Z"
   },
   {
    "duration": 5,
    "start_time": "2023-07-14T21:18:37.284Z"
   },
   {
    "duration": 29,
    "start_time": "2023-07-14T21:18:37.291Z"
   },
   {
    "duration": 42,
    "start_time": "2023-07-14T21:18:37.321Z"
   },
   {
    "duration": 9,
    "start_time": "2023-07-14T21:18:37.365Z"
   },
   {
    "duration": 15,
    "start_time": "2023-07-14T21:18:37.376Z"
   },
   {
    "duration": 4,
    "start_time": "2023-07-14T21:18:37.393Z"
   },
   {
    "duration": 5,
    "start_time": "2023-07-14T21:18:37.399Z"
   },
   {
    "duration": 163,
    "start_time": "2023-07-14T21:18:37.405Z"
   },
   {
    "duration": 307,
    "start_time": "2023-07-14T21:18:37.570Z"
   },
   {
    "duration": 42,
    "start_time": "2023-07-14T21:18:37.879Z"
   },
   {
    "duration": 38033,
    "start_time": "2023-07-14T21:18:37.923Z"
   },
   {
    "duration": 303,
    "start_time": "2023-07-14T21:19:15.958Z"
   },
   {
    "duration": 59,
    "start_time": "2023-07-14T21:19:16.262Z"
   },
   {
    "duration": 37920,
    "start_time": "2023-07-14T21:19:16.323Z"
   },
   {
    "duration": 4,
    "start_time": "2023-07-14T21:19:54.244Z"
   },
   {
    "duration": 33,
    "start_time": "2023-07-14T21:19:54.250Z"
   },
   {
    "duration": 640,
    "start_time": "2023-07-14T21:19:54.285Z"
   },
   {
    "duration": 90,
    "start_time": "2023-07-14T21:19:54.927Z"
   },
   {
    "duration": 99627,
    "start_time": "2023-07-14T21:19:55.019Z"
   },
   {
    "duration": 6,
    "start_time": "2023-07-14T21:21:34.648Z"
   },
   {
    "duration": 30,
    "start_time": "2023-07-14T21:21:34.656Z"
   },
   {
    "duration": 178,
    "start_time": "2023-07-14T21:21:34.688Z"
   },
   {
    "duration": 51,
    "start_time": "2023-07-14T21:21:34.868Z"
   },
   {
    "duration": 22898,
    "start_time": "2023-07-14T21:21:34.921Z"
   },
   {
    "duration": 12,
    "start_time": "2023-07-14T21:21:57.821Z"
   },
   {
    "duration": 71301,
    "start_time": "2023-07-14T21:21:57.834Z"
   },
   {
    "duration": 634,
    "start_time": "2023-07-14T21:23:09.137Z"
   },
   {
    "duration": 143,
    "start_time": "2023-07-14T21:23:09.772Z"
   },
   {
    "duration": 1524,
    "start_time": "2023-08-10T17:02:07.721Z"
   },
   {
    "duration": 161,
    "start_time": "2023-08-10T17:02:09.247Z"
   },
   {
    "duration": 80,
    "start_time": "2023-08-10T17:02:09.410Z"
   },
   {
    "duration": 130,
    "start_time": "2023-08-10T17:02:09.502Z"
   },
   {
    "duration": 22,
    "start_time": "2023-08-10T17:02:09.634Z"
   },
   {
    "duration": 32,
    "start_time": "2023-08-10T17:02:09.658Z"
   },
   {
    "duration": 54,
    "start_time": "2023-08-10T17:02:09.692Z"
   },
   {
    "duration": 5,
    "start_time": "2023-08-10T17:02:09.758Z"
   },
   {
    "duration": 24,
    "start_time": "2023-08-10T17:02:09.765Z"
   },
   {
    "duration": 15,
    "start_time": "2023-08-10T17:02:09.794Z"
   },
   {
    "duration": 7,
    "start_time": "2023-08-10T17:02:09.812Z"
   },
   {
    "duration": 10,
    "start_time": "2023-08-10T17:02:09.821Z"
   },
   {
    "duration": 13,
    "start_time": "2023-08-10T17:02:09.833Z"
   },
   {
    "duration": 19,
    "start_time": "2023-08-10T17:02:09.849Z"
   },
   {
    "duration": 118,
    "start_time": "2023-08-10T17:02:09.870Z"
   },
   {
    "duration": 6,
    "start_time": "2023-08-10T17:02:09.990Z"
   },
   {
    "duration": 12,
    "start_time": "2023-08-10T17:02:09.997Z"
   },
   {
    "duration": 29,
    "start_time": "2023-08-10T17:02:10.011Z"
   },
   {
    "duration": 3,
    "start_time": "2023-08-10T17:02:10.043Z"
   },
   {
    "duration": 5,
    "start_time": "2023-08-10T17:02:10.059Z"
   },
   {
    "duration": 6,
    "start_time": "2023-08-10T17:02:10.066Z"
   },
   {
    "duration": 10,
    "start_time": "2023-08-10T17:02:10.073Z"
   },
   {
    "duration": 17,
    "start_time": "2023-08-10T17:02:10.085Z"
   },
   {
    "duration": 6,
    "start_time": "2023-08-10T17:02:10.104Z"
   },
   {
    "duration": 5,
    "start_time": "2023-08-10T17:02:10.112Z"
   },
   {
    "duration": 7,
    "start_time": "2023-08-10T17:02:10.118Z"
   },
   {
    "duration": 5,
    "start_time": "2023-08-10T17:02:10.127Z"
   },
   {
    "duration": 7,
    "start_time": "2023-08-10T17:02:10.160Z"
   },
   {
    "duration": 5,
    "start_time": "2023-08-10T17:02:10.169Z"
   },
   {
    "duration": 30,
    "start_time": "2023-08-10T17:02:10.175Z"
   },
   {
    "duration": 13,
    "start_time": "2023-08-10T17:02:10.206Z"
   },
   {
    "duration": 11,
    "start_time": "2023-08-10T17:02:10.221Z"
   },
   {
    "duration": 35,
    "start_time": "2023-08-10T17:02:10.234Z"
   },
   {
    "duration": 4,
    "start_time": "2023-08-10T17:02:10.271Z"
   },
   {
    "duration": 20,
    "start_time": "2023-08-10T17:02:10.277Z"
   },
   {
    "duration": 20,
    "start_time": "2023-08-10T17:02:10.299Z"
   },
   {
    "duration": 13,
    "start_time": "2023-08-10T17:02:10.321Z"
   },
   {
    "duration": 9,
    "start_time": "2023-08-10T17:02:10.336Z"
   },
   {
    "duration": 20,
    "start_time": "2023-08-10T17:02:10.346Z"
   },
   {
    "duration": 19,
    "start_time": "2023-08-10T17:02:10.368Z"
   },
   {
    "duration": 10,
    "start_time": "2023-08-10T17:02:10.389Z"
   },
   {
    "duration": 148,
    "start_time": "2023-08-10T17:02:10.401Z"
   },
   {
    "duration": 291,
    "start_time": "2023-08-10T17:02:10.551Z"
   },
   {
    "duration": 116,
    "start_time": "2023-08-10T17:02:10.844Z"
   },
   {
    "duration": 38635,
    "start_time": "2023-08-10T17:02:10.962Z"
   },
   {
    "duration": 306,
    "start_time": "2023-08-10T17:02:49.600Z"
   },
   {
    "duration": 154,
    "start_time": "2023-08-10T17:02:49.908Z"
   },
   {
    "duration": 37803,
    "start_time": "2023-08-10T17:02:50.064Z"
   },
   {
    "duration": 5,
    "start_time": "2023-08-10T17:03:27.869Z"
   },
   {
    "duration": 40,
    "start_time": "2023-08-10T17:03:27.876Z"
   },
   {
    "duration": 692,
    "start_time": "2023-08-10T17:03:27.918Z"
   },
   {
    "duration": 157,
    "start_time": "2023-08-10T17:03:28.613Z"
   },
   {
    "duration": 102539,
    "start_time": "2023-08-10T17:03:28.771Z"
   },
   {
    "duration": 4,
    "start_time": "2023-08-10T17:05:11.312Z"
   },
   {
    "duration": 25,
    "start_time": "2023-08-10T17:05:11.318Z"
   },
   {
    "duration": 169,
    "start_time": "2023-08-10T17:05:11.345Z"
   },
   {
    "duration": 48,
    "start_time": "2023-08-10T17:05:11.516Z"
   },
   {
    "duration": 22885,
    "start_time": "2023-08-10T17:05:11.565Z"
   },
   {
    "duration": 15,
    "start_time": "2023-08-10T17:05:34.452Z"
   },
   {
    "duration": 70719,
    "start_time": "2023-08-10T17:05:34.469Z"
   },
   {
    "duration": 606,
    "start_time": "2023-08-10T17:06:45.190Z"
   },
   {
    "duration": 144,
    "start_time": "2023-08-10T17:06:45.798Z"
   },
   {
    "duration": 25,
    "start_time": "2023-08-10T17:09:41.744Z"
   }
  ],
  "kernelspec": {
   "display_name": "Python 3 (ipykernel)",
   "language": "python",
   "name": "python3"
  },
  "language_info": {
   "codemirror_mode": {
    "name": "ipython",
    "version": 3
   },
   "file_extension": ".py",
   "mimetype": "text/x-python",
   "name": "python",
   "nbconvert_exporter": "python",
   "pygments_lexer": "ipython3",
   "version": "3.9.16"
  },
  "toc": {
   "base_numbering": 1,
   "nav_menu": {},
   "number_sections": true,
   "sideBar": true,
   "skip_h1_title": true,
   "title_cell": "Содержание",
   "title_sidebar": "Contents",
   "toc_cell": true,
   "toc_position": {},
   "toc_section_display": true,
   "toc_window_display": true
  }
 },
 "nbformat": 4,
 "nbformat_minor": 2
}
